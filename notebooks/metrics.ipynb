{
 "cells": [
  {
   "cell_type": "code",
   "execution_count": 20,
   "metadata": {
    "collapsed": true
   },
   "outputs": [
    {
     "name": "stdout",
     "output_type": "stream",
     "text": [
      "The autoreload extension is already loaded. To reload it, use:\n",
      "  %reload_ext autoreload\n"
     ]
    }
   ],
   "source": [
    "%load_ext autoreload\n",
    "%autoreload 2\n",
    "import sys\n",
    "sys.path.append(\"../\")\n",
    "from pathlib import Path\n",
    "import matplotlib.pyplot as plt\n",
    "import pandas as pd\n",
    "from src.dataloaders import PointOnlyDataloader, RootDataLoader\n",
    "from src.filters import filter_df_by_quantile\n"
   ]
  },
  {
   "cell_type": "code",
   "execution_count": 21,
   "metadata": {},
   "outputs": [],
   "source": [
    "dataset_dir = Path('../dataset')\n",
    "root_file = \"farichsim_pi-pi-_45-360deg_1200.0k_ideal_2020-12-24_rndm.root\"\n",
    "root_path = dataset_dir / root_file"
   ]
  },
  {
   "cell_type": "code",
   "execution_count": 21,
   "metadata": {},
   "outputs": [],
   "source": []
  },
  {
   "cell_type": "code",
   "execution_count": 22,
   "metadata": {
    "collapsed": false
   },
   "outputs": [
    {
     "name": "stdout",
     "output_type": "stream",
     "text": [
      "nevents: 1200000\n",
      "zdis: 1.0\n",
      "nlayers: 4\n",
      "array_size: 26.68\n",
      "array_gap: 1.0\n",
      "pixel_size: 3.16\n",
      "pixel_gap: 0.2\n",
      "pixel_numx: 8\n",
      "nxarrays: 30\n",
      "nyarrays: 30\n",
      "distance: 200.0\n",
      "trg_window_ns: 20.0\n",
      "W: 35.0\n",
      "n_mean: 1.0453999999999999\n",
      "n_max: 1.05\n",
      "Processing ROOT file ../dataset/farichsim_pi-pi-_45-360deg_1200.0k_ideal_2020-12-24_rndm.root with 1200000 simulated events...\n"
     ]
    }
   ],
   "source": [
    "dl = RootDataLoader(root_path=root_path)"
   ]
  },
  {
   "cell_type": "code",
   "execution_count": 24,
   "outputs": [
    {
     "name": "stdout",
     "output_type": "stream",
     "text": [
      "\n",
      "  Processing next chunk...\n",
      "    1 entries with 18 hits to process\n",
      "\n",
      "  Processing next chunk...\n",
      "    1 entries with 22 hits to process\n",
      "\n",
      "  Processing next chunk...\n",
      "    1 entries with 7 hits to process\n",
      "\n",
      "  Processing next chunk...\n",
      "    1 entries with 22 hits to process\n",
      "\n",
      "  Processing next chunk...\n",
      "    1 entries with 41 hits to process\n",
      "\n",
      "  Processing next chunk...\n",
      "    1 entries with 49 hits to process\n",
      "\n",
      "  Processing next chunk...\n",
      "    1 entries with 7 hits to process\n",
      "\n",
      "  Processing next chunk...\n",
      "    1 entries with 36 hits to process\n",
      "\n",
      "  Processing next chunk...\n",
      "    1 entries with 55 hits to process\n",
      "\n",
      "  Processing next chunk...\n",
      "    1 entries with 6 hits to process\n",
      "\n",
      "  Processing next chunk...\n",
      "    1 entries with 57 hits to process\n",
      "\n",
      "  Processing next chunk...\n",
      "    1 entries with 42 hits to process\n"
     ]
    }
   ],
   "source": [
    "for idx, df in enumerate(dl):\n",
    "    # df_before = df.copy()\n",
    "    # df = filter_df_by_quantile(df, quantile=0.95, columns=['t_c'])\n",
    "    # df = filter_df_by_quantile(df, quantile=0.98, columns=['x_c'])\n",
    "    # df = filter_df_by_quantile(df, quantile=0.98, columns=['y_c'])\n",
    "    # dl.plot_xy_solution(df)\n",
    "    # dl.plot_xy_solution(df_before)\n",
    "    # plt.show()\n",
    "    if idx > 10:\n",
    "        break"
   ],
   "metadata": {
    "collapsed": false
   }
  },
  {
   "cell_type": "code",
   "execution_count": 25,
   "metadata": {},
   "outputs": [
    {
     "data": {
      "text/plain": "                       x_c         y_c         z_c       t_c  nhits       x_p  \\\nentry subentry                                                                  \n11    0        -233.600006 -292.320007  201.050003  1.469112     42  0.831637   \n      1        -184.960007 -184.960007  201.050003  1.253769     42  0.831637   \n      2        -174.880005  326.720001  201.050003  1.435717     42  0.831637   \n      3        -150.559998 -132.960007  201.050003  1.082119     42  0.831637   \n      4        -119.519997   12.160000  201.050003  0.786020     42  0.831637   \n      5        -119.519997   12.160000  201.050003  0.787436     42  0.831637   \n      6        -126.239998   18.879999  201.050003  0.799049     42  0.831637   \n      7        -112.800003    5.440000  201.050003  0.779378     42  0.831637   \n      8        -119.519997    5.440000  201.050003  0.787294     42  0.831637   \n      9        -126.239998   15.520000  201.050003  0.799900     42  0.831637   \n      10       -136.320007   29.760000  201.050003  0.823191     42  0.831637   \n      11       -132.960007   64.160004  201.050003  0.841818     42  0.831637   \n      12       -126.239998   80.959999  201.050003  0.844790     42  0.831637   \n      13       -136.320007   60.799999  201.050003  0.846027     42  0.831637   \n      14       -112.800003   85.120003  201.050003  0.830769     42  0.831637   \n      15       -116.160004   88.480003  201.050003  0.835758     42  0.831637   \n      16        -91.839996   -5.440000  201.050003  0.746759     42  0.831637   \n      17        -85.120003   -5.440000  201.050003  0.734782     42  0.831637   \n      18       -101.919998   88.480003  201.050003  0.818756     42  0.831637   \n      19        -88.480003   91.839996  201.050003  0.802193     42  0.831637   \n      20        -64.160004   -5.440000  201.050003  0.711338     42  0.831637   \n      21        -80.959999   -5.440000  201.050003  0.729313     42  0.831637   \n      22        -70.879997   -5.440000  201.050003  0.717986     42  0.831637   \n      23        -74.239998   91.839996  201.050003  0.784056     42  0.831637   \n      24        -64.160004   88.480003  201.050003  0.770115     42  0.831637   \n      25        -39.840000   15.520000  201.050003  0.691707     42  0.831637   \n      26        -33.119999   22.240000  201.050003  0.690391     42  0.831637   \n      27        -46.560001    5.440000  201.050003  0.694944     42  0.831637   \n      28        -33.119999   43.200001  201.050003  0.699872     42  0.831637   \n      29        -33.119999   29.760000  201.050003  2.020643     42  0.831637   \n      30        -33.119999   53.279999  201.050003  0.708327     42  0.831637   \n      31        -33.119999   39.840000  201.050003  0.697241     42  0.831637   \n      32        -36.480000   53.279999  201.050003  0.709871     42  0.831637   \n      33        -33.119999   49.919998  201.050003  0.706457     42  0.831637   \n      34        -53.279999   80.959999  201.050003  0.753847     42  0.831637   \n      35        -46.560001   74.239998  201.050003  0.738932     42  0.831637   \n      36        -46.560001   74.239998  201.050003  0.739360     42  0.831637   \n      37        -33.119999   88.480003  201.050003  0.748402     42  0.831637   \n      38          5.440000  -57.439999  201.050003  1.135528     42  0.831637   \n      39         15.520000   -5.440000  201.050003  0.690418     42  0.831637   \n      40         22.240000  191.679993  201.050003  2.057024     42  0.831637   \n      41        288.959991  226.880005  201.050003  1.922922     42  0.831637   \n\n                     y_p  z_p     nx_p      ny_p      nz_p     beta   theta_p  \\\nentry subentry                                                                  \n11    0         0.328404  0.0 -0.34962  0.178083  0.919811  0.98213  0.403198   \n      1         0.328404  0.0 -0.34962  0.178083  0.919811  0.98213  0.403198   \n      2         0.328404  0.0 -0.34962  0.178083  0.919811  0.98213  0.403198   \n      3         0.328404  0.0 -0.34962  0.178083  0.919811  0.98213  0.403198   \n      4         0.328404  0.0 -0.34962  0.178083  0.919811  0.98213  0.403198   \n      5         0.328404  0.0 -0.34962  0.178083  0.919811  0.98213  0.403198   \n      6         0.328404  0.0 -0.34962  0.178083  0.919811  0.98213  0.403198   \n      7         0.328404  0.0 -0.34962  0.178083  0.919811  0.98213  0.403198   \n      8         0.328404  0.0 -0.34962  0.178083  0.919811  0.98213  0.403198   \n      9         0.328404  0.0 -0.34962  0.178083  0.919811  0.98213  0.403198   \n      10        0.328404  0.0 -0.34962  0.178083  0.919811  0.98213  0.403198   \n      11        0.328404  0.0 -0.34962  0.178083  0.919811  0.98213  0.403198   \n      12        0.328404  0.0 -0.34962  0.178083  0.919811  0.98213  0.403198   \n      13        0.328404  0.0 -0.34962  0.178083  0.919811  0.98213  0.403198   \n      14        0.328404  0.0 -0.34962  0.178083  0.919811  0.98213  0.403198   \n      15        0.328404  0.0 -0.34962  0.178083  0.919811  0.98213  0.403198   \n      16        0.328404  0.0 -0.34962  0.178083  0.919811  0.98213  0.403198   \n      17        0.328404  0.0 -0.34962  0.178083  0.919811  0.98213  0.403198   \n      18        0.328404  0.0 -0.34962  0.178083  0.919811  0.98213  0.403198   \n      19        0.328404  0.0 -0.34962  0.178083  0.919811  0.98213  0.403198   \n      20        0.328404  0.0 -0.34962  0.178083  0.919811  0.98213  0.403198   \n      21        0.328404  0.0 -0.34962  0.178083  0.919811  0.98213  0.403198   \n      22        0.328404  0.0 -0.34962  0.178083  0.919811  0.98213  0.403198   \n      23        0.328404  0.0 -0.34962  0.178083  0.919811  0.98213  0.403198   \n      24        0.328404  0.0 -0.34962  0.178083  0.919811  0.98213  0.403198   \n      25        0.328404  0.0 -0.34962  0.178083  0.919811  0.98213  0.403198   \n      26        0.328404  0.0 -0.34962  0.178083  0.919811  0.98213  0.403198   \n      27        0.328404  0.0 -0.34962  0.178083  0.919811  0.98213  0.403198   \n      28        0.328404  0.0 -0.34962  0.178083  0.919811  0.98213  0.403198   \n      29        0.328404  0.0 -0.34962  0.178083  0.919811  0.98213  0.403198   \n      30        0.328404  0.0 -0.34962  0.178083  0.919811  0.98213  0.403198   \n      31        0.328404  0.0 -0.34962  0.178083  0.919811  0.98213  0.403198   \n      32        0.328404  0.0 -0.34962  0.178083  0.919811  0.98213  0.403198   \n      33        0.328404  0.0 -0.34962  0.178083  0.919811  0.98213  0.403198   \n      34        0.328404  0.0 -0.34962  0.178083  0.919811  0.98213  0.403198   \n      35        0.328404  0.0 -0.34962  0.178083  0.919811  0.98213  0.403198   \n      36        0.328404  0.0 -0.34962  0.178083  0.919811  0.98213  0.403198   \n      37        0.328404  0.0 -0.34962  0.178083  0.919811  0.98213  0.403198   \n      38        0.328404  0.0 -0.34962  0.178083  0.919811  0.98213  0.403198   \n      39        0.328404  0.0 -0.34962  0.178083  0.919811  0.98213  0.403198   \n      40        0.328404  0.0 -0.34962  0.178083  0.919811  0.98213  0.403198   \n      41        0.328404  0.0 -0.34962  0.178083  0.919811  0.98213  0.403198   \n\n                   phi_p    momentum  \nentry subentry                        \n11    0         2.670484  728.344666  \n      1         2.670484  728.344666  \n      2         2.670484  728.344666  \n      3         2.670484  728.344666  \n      4         2.670484  728.344666  \n      5         2.670484  728.344666  \n      6         2.670484  728.344666  \n      7         2.670484  728.344666  \n      8         2.670484  728.344666  \n      9         2.670484  728.344666  \n      10        2.670484  728.344666  \n      11        2.670484  728.344666  \n      12        2.670484  728.344666  \n      13        2.670484  728.344666  \n      14        2.670484  728.344666  \n      15        2.670484  728.344666  \n      16        2.670484  728.344666  \n      17        2.670484  728.344666  \n      18        2.670484  728.344666  \n      19        2.670484  728.344666  \n      20        2.670484  728.344666  \n      21        2.670484  728.344666  \n      22        2.670484  728.344666  \n      23        2.670484  728.344666  \n      24        2.670484  728.344666  \n      25        2.670484  728.344666  \n      26        2.670484  728.344666  \n      27        2.670484  728.344666  \n      28        2.670484  728.344666  \n      29        2.670484  728.344666  \n      30        2.670484  728.344666  \n      31        2.670484  728.344666  \n      32        2.670484  728.344666  \n      33        2.670484  728.344666  \n      34        2.670484  728.344666  \n      35        2.670484  728.344666  \n      36        2.670484  728.344666  \n      37        2.670484  728.344666  \n      38        2.670484  728.344666  \n      39        2.670484  728.344666  \n      40        2.670484  728.344666  \n      41        2.670484  728.344666  ",
      "text/html": "<div>\n<style scoped>\n    .dataframe tbody tr th:only-of-type {\n        vertical-align: middle;\n    }\n\n    .dataframe tbody tr th {\n        vertical-align: top;\n    }\n\n    .dataframe thead th {\n        text-align: right;\n    }\n</style>\n<table border=\"1\" class=\"dataframe\">\n  <thead>\n    <tr style=\"text-align: right;\">\n      <th></th>\n      <th></th>\n      <th>x_c</th>\n      <th>y_c</th>\n      <th>z_c</th>\n      <th>t_c</th>\n      <th>nhits</th>\n      <th>x_p</th>\n      <th>y_p</th>\n      <th>z_p</th>\n      <th>nx_p</th>\n      <th>ny_p</th>\n      <th>nz_p</th>\n      <th>beta</th>\n      <th>theta_p</th>\n      <th>phi_p</th>\n      <th>momentum</th>\n    </tr>\n    <tr>\n      <th>entry</th>\n      <th>subentry</th>\n      <th></th>\n      <th></th>\n      <th></th>\n      <th></th>\n      <th></th>\n      <th></th>\n      <th></th>\n      <th></th>\n      <th></th>\n      <th></th>\n      <th></th>\n      <th></th>\n      <th></th>\n      <th></th>\n      <th></th>\n    </tr>\n  </thead>\n  <tbody>\n    <tr>\n      <th rowspan=\"42\" valign=\"top\">11</th>\n      <th>0</th>\n      <td>-233.600006</td>\n      <td>-292.320007</td>\n      <td>201.050003</td>\n      <td>1.469112</td>\n      <td>42</td>\n      <td>0.831637</td>\n      <td>0.328404</td>\n      <td>0.0</td>\n      <td>-0.34962</td>\n      <td>0.178083</td>\n      <td>0.919811</td>\n      <td>0.98213</td>\n      <td>0.403198</td>\n      <td>2.670484</td>\n      <td>728.344666</td>\n    </tr>\n    <tr>\n      <th>1</th>\n      <td>-184.960007</td>\n      <td>-184.960007</td>\n      <td>201.050003</td>\n      <td>1.253769</td>\n      <td>42</td>\n      <td>0.831637</td>\n      <td>0.328404</td>\n      <td>0.0</td>\n      <td>-0.34962</td>\n      <td>0.178083</td>\n      <td>0.919811</td>\n      <td>0.98213</td>\n      <td>0.403198</td>\n      <td>2.670484</td>\n      <td>728.344666</td>\n    </tr>\n    <tr>\n      <th>2</th>\n      <td>-174.880005</td>\n      <td>326.720001</td>\n      <td>201.050003</td>\n      <td>1.435717</td>\n      <td>42</td>\n      <td>0.831637</td>\n      <td>0.328404</td>\n      <td>0.0</td>\n      <td>-0.34962</td>\n      <td>0.178083</td>\n      <td>0.919811</td>\n      <td>0.98213</td>\n      <td>0.403198</td>\n      <td>2.670484</td>\n      <td>728.344666</td>\n    </tr>\n    <tr>\n      <th>3</th>\n      <td>-150.559998</td>\n      <td>-132.960007</td>\n      <td>201.050003</td>\n      <td>1.082119</td>\n      <td>42</td>\n      <td>0.831637</td>\n      <td>0.328404</td>\n      <td>0.0</td>\n      <td>-0.34962</td>\n      <td>0.178083</td>\n      <td>0.919811</td>\n      <td>0.98213</td>\n      <td>0.403198</td>\n      <td>2.670484</td>\n      <td>728.344666</td>\n    </tr>\n    <tr>\n      <th>4</th>\n      <td>-119.519997</td>\n      <td>12.160000</td>\n      <td>201.050003</td>\n      <td>0.786020</td>\n      <td>42</td>\n      <td>0.831637</td>\n      <td>0.328404</td>\n      <td>0.0</td>\n      <td>-0.34962</td>\n      <td>0.178083</td>\n      <td>0.919811</td>\n      <td>0.98213</td>\n      <td>0.403198</td>\n      <td>2.670484</td>\n      <td>728.344666</td>\n    </tr>\n    <tr>\n      <th>5</th>\n      <td>-119.519997</td>\n      <td>12.160000</td>\n      <td>201.050003</td>\n      <td>0.787436</td>\n      <td>42</td>\n      <td>0.831637</td>\n      <td>0.328404</td>\n      <td>0.0</td>\n      <td>-0.34962</td>\n      <td>0.178083</td>\n      <td>0.919811</td>\n      <td>0.98213</td>\n      <td>0.403198</td>\n      <td>2.670484</td>\n      <td>728.344666</td>\n    </tr>\n    <tr>\n      <th>6</th>\n      <td>-126.239998</td>\n      <td>18.879999</td>\n      <td>201.050003</td>\n      <td>0.799049</td>\n      <td>42</td>\n      <td>0.831637</td>\n      <td>0.328404</td>\n      <td>0.0</td>\n      <td>-0.34962</td>\n      <td>0.178083</td>\n      <td>0.919811</td>\n      <td>0.98213</td>\n      <td>0.403198</td>\n      <td>2.670484</td>\n      <td>728.344666</td>\n    </tr>\n    <tr>\n      <th>7</th>\n      <td>-112.800003</td>\n      <td>5.440000</td>\n      <td>201.050003</td>\n      <td>0.779378</td>\n      <td>42</td>\n      <td>0.831637</td>\n      <td>0.328404</td>\n      <td>0.0</td>\n      <td>-0.34962</td>\n      <td>0.178083</td>\n      <td>0.919811</td>\n      <td>0.98213</td>\n      <td>0.403198</td>\n      <td>2.670484</td>\n      <td>728.344666</td>\n    </tr>\n    <tr>\n      <th>8</th>\n      <td>-119.519997</td>\n      <td>5.440000</td>\n      <td>201.050003</td>\n      <td>0.787294</td>\n      <td>42</td>\n      <td>0.831637</td>\n      <td>0.328404</td>\n      <td>0.0</td>\n      <td>-0.34962</td>\n      <td>0.178083</td>\n      <td>0.919811</td>\n      <td>0.98213</td>\n      <td>0.403198</td>\n      <td>2.670484</td>\n      <td>728.344666</td>\n    </tr>\n    <tr>\n      <th>9</th>\n      <td>-126.239998</td>\n      <td>15.520000</td>\n      <td>201.050003</td>\n      <td>0.799900</td>\n      <td>42</td>\n      <td>0.831637</td>\n      <td>0.328404</td>\n      <td>0.0</td>\n      <td>-0.34962</td>\n      <td>0.178083</td>\n      <td>0.919811</td>\n      <td>0.98213</td>\n      <td>0.403198</td>\n      <td>2.670484</td>\n      <td>728.344666</td>\n    </tr>\n    <tr>\n      <th>10</th>\n      <td>-136.320007</td>\n      <td>29.760000</td>\n      <td>201.050003</td>\n      <td>0.823191</td>\n      <td>42</td>\n      <td>0.831637</td>\n      <td>0.328404</td>\n      <td>0.0</td>\n      <td>-0.34962</td>\n      <td>0.178083</td>\n      <td>0.919811</td>\n      <td>0.98213</td>\n      <td>0.403198</td>\n      <td>2.670484</td>\n      <td>728.344666</td>\n    </tr>\n    <tr>\n      <th>11</th>\n      <td>-132.960007</td>\n      <td>64.160004</td>\n      <td>201.050003</td>\n      <td>0.841818</td>\n      <td>42</td>\n      <td>0.831637</td>\n      <td>0.328404</td>\n      <td>0.0</td>\n      <td>-0.34962</td>\n      <td>0.178083</td>\n      <td>0.919811</td>\n      <td>0.98213</td>\n      <td>0.403198</td>\n      <td>2.670484</td>\n      <td>728.344666</td>\n    </tr>\n    <tr>\n      <th>12</th>\n      <td>-126.239998</td>\n      <td>80.959999</td>\n      <td>201.050003</td>\n      <td>0.844790</td>\n      <td>42</td>\n      <td>0.831637</td>\n      <td>0.328404</td>\n      <td>0.0</td>\n      <td>-0.34962</td>\n      <td>0.178083</td>\n      <td>0.919811</td>\n      <td>0.98213</td>\n      <td>0.403198</td>\n      <td>2.670484</td>\n      <td>728.344666</td>\n    </tr>\n    <tr>\n      <th>13</th>\n      <td>-136.320007</td>\n      <td>60.799999</td>\n      <td>201.050003</td>\n      <td>0.846027</td>\n      <td>42</td>\n      <td>0.831637</td>\n      <td>0.328404</td>\n      <td>0.0</td>\n      <td>-0.34962</td>\n      <td>0.178083</td>\n      <td>0.919811</td>\n      <td>0.98213</td>\n      <td>0.403198</td>\n      <td>2.670484</td>\n      <td>728.344666</td>\n    </tr>\n    <tr>\n      <th>14</th>\n      <td>-112.800003</td>\n      <td>85.120003</td>\n      <td>201.050003</td>\n      <td>0.830769</td>\n      <td>42</td>\n      <td>0.831637</td>\n      <td>0.328404</td>\n      <td>0.0</td>\n      <td>-0.34962</td>\n      <td>0.178083</td>\n      <td>0.919811</td>\n      <td>0.98213</td>\n      <td>0.403198</td>\n      <td>2.670484</td>\n      <td>728.344666</td>\n    </tr>\n    <tr>\n      <th>15</th>\n      <td>-116.160004</td>\n      <td>88.480003</td>\n      <td>201.050003</td>\n      <td>0.835758</td>\n      <td>42</td>\n      <td>0.831637</td>\n      <td>0.328404</td>\n      <td>0.0</td>\n      <td>-0.34962</td>\n      <td>0.178083</td>\n      <td>0.919811</td>\n      <td>0.98213</td>\n      <td>0.403198</td>\n      <td>2.670484</td>\n      <td>728.344666</td>\n    </tr>\n    <tr>\n      <th>16</th>\n      <td>-91.839996</td>\n      <td>-5.440000</td>\n      <td>201.050003</td>\n      <td>0.746759</td>\n      <td>42</td>\n      <td>0.831637</td>\n      <td>0.328404</td>\n      <td>0.0</td>\n      <td>-0.34962</td>\n      <td>0.178083</td>\n      <td>0.919811</td>\n      <td>0.98213</td>\n      <td>0.403198</td>\n      <td>2.670484</td>\n      <td>728.344666</td>\n    </tr>\n    <tr>\n      <th>17</th>\n      <td>-85.120003</td>\n      <td>-5.440000</td>\n      <td>201.050003</td>\n      <td>0.734782</td>\n      <td>42</td>\n      <td>0.831637</td>\n      <td>0.328404</td>\n      <td>0.0</td>\n      <td>-0.34962</td>\n      <td>0.178083</td>\n      <td>0.919811</td>\n      <td>0.98213</td>\n      <td>0.403198</td>\n      <td>2.670484</td>\n      <td>728.344666</td>\n    </tr>\n    <tr>\n      <th>18</th>\n      <td>-101.919998</td>\n      <td>88.480003</td>\n      <td>201.050003</td>\n      <td>0.818756</td>\n      <td>42</td>\n      <td>0.831637</td>\n      <td>0.328404</td>\n      <td>0.0</td>\n      <td>-0.34962</td>\n      <td>0.178083</td>\n      <td>0.919811</td>\n      <td>0.98213</td>\n      <td>0.403198</td>\n      <td>2.670484</td>\n      <td>728.344666</td>\n    </tr>\n    <tr>\n      <th>19</th>\n      <td>-88.480003</td>\n      <td>91.839996</td>\n      <td>201.050003</td>\n      <td>0.802193</td>\n      <td>42</td>\n      <td>0.831637</td>\n      <td>0.328404</td>\n      <td>0.0</td>\n      <td>-0.34962</td>\n      <td>0.178083</td>\n      <td>0.919811</td>\n      <td>0.98213</td>\n      <td>0.403198</td>\n      <td>2.670484</td>\n      <td>728.344666</td>\n    </tr>\n    <tr>\n      <th>20</th>\n      <td>-64.160004</td>\n      <td>-5.440000</td>\n      <td>201.050003</td>\n      <td>0.711338</td>\n      <td>42</td>\n      <td>0.831637</td>\n      <td>0.328404</td>\n      <td>0.0</td>\n      <td>-0.34962</td>\n      <td>0.178083</td>\n      <td>0.919811</td>\n      <td>0.98213</td>\n      <td>0.403198</td>\n      <td>2.670484</td>\n      <td>728.344666</td>\n    </tr>\n    <tr>\n      <th>21</th>\n      <td>-80.959999</td>\n      <td>-5.440000</td>\n      <td>201.050003</td>\n      <td>0.729313</td>\n      <td>42</td>\n      <td>0.831637</td>\n      <td>0.328404</td>\n      <td>0.0</td>\n      <td>-0.34962</td>\n      <td>0.178083</td>\n      <td>0.919811</td>\n      <td>0.98213</td>\n      <td>0.403198</td>\n      <td>2.670484</td>\n      <td>728.344666</td>\n    </tr>\n    <tr>\n      <th>22</th>\n      <td>-70.879997</td>\n      <td>-5.440000</td>\n      <td>201.050003</td>\n      <td>0.717986</td>\n      <td>42</td>\n      <td>0.831637</td>\n      <td>0.328404</td>\n      <td>0.0</td>\n      <td>-0.34962</td>\n      <td>0.178083</td>\n      <td>0.919811</td>\n      <td>0.98213</td>\n      <td>0.403198</td>\n      <td>2.670484</td>\n      <td>728.344666</td>\n    </tr>\n    <tr>\n      <th>23</th>\n      <td>-74.239998</td>\n      <td>91.839996</td>\n      <td>201.050003</td>\n      <td>0.784056</td>\n      <td>42</td>\n      <td>0.831637</td>\n      <td>0.328404</td>\n      <td>0.0</td>\n      <td>-0.34962</td>\n      <td>0.178083</td>\n      <td>0.919811</td>\n      <td>0.98213</td>\n      <td>0.403198</td>\n      <td>2.670484</td>\n      <td>728.344666</td>\n    </tr>\n    <tr>\n      <th>24</th>\n      <td>-64.160004</td>\n      <td>88.480003</td>\n      <td>201.050003</td>\n      <td>0.770115</td>\n      <td>42</td>\n      <td>0.831637</td>\n      <td>0.328404</td>\n      <td>0.0</td>\n      <td>-0.34962</td>\n      <td>0.178083</td>\n      <td>0.919811</td>\n      <td>0.98213</td>\n      <td>0.403198</td>\n      <td>2.670484</td>\n      <td>728.344666</td>\n    </tr>\n    <tr>\n      <th>25</th>\n      <td>-39.840000</td>\n      <td>15.520000</td>\n      <td>201.050003</td>\n      <td>0.691707</td>\n      <td>42</td>\n      <td>0.831637</td>\n      <td>0.328404</td>\n      <td>0.0</td>\n      <td>-0.34962</td>\n      <td>0.178083</td>\n      <td>0.919811</td>\n      <td>0.98213</td>\n      <td>0.403198</td>\n      <td>2.670484</td>\n      <td>728.344666</td>\n    </tr>\n    <tr>\n      <th>26</th>\n      <td>-33.119999</td>\n      <td>22.240000</td>\n      <td>201.050003</td>\n      <td>0.690391</td>\n      <td>42</td>\n      <td>0.831637</td>\n      <td>0.328404</td>\n      <td>0.0</td>\n      <td>-0.34962</td>\n      <td>0.178083</td>\n      <td>0.919811</td>\n      <td>0.98213</td>\n      <td>0.403198</td>\n      <td>2.670484</td>\n      <td>728.344666</td>\n    </tr>\n    <tr>\n      <th>27</th>\n      <td>-46.560001</td>\n      <td>5.440000</td>\n      <td>201.050003</td>\n      <td>0.694944</td>\n      <td>42</td>\n      <td>0.831637</td>\n      <td>0.328404</td>\n      <td>0.0</td>\n      <td>-0.34962</td>\n      <td>0.178083</td>\n      <td>0.919811</td>\n      <td>0.98213</td>\n      <td>0.403198</td>\n      <td>2.670484</td>\n      <td>728.344666</td>\n    </tr>\n    <tr>\n      <th>28</th>\n      <td>-33.119999</td>\n      <td>43.200001</td>\n      <td>201.050003</td>\n      <td>0.699872</td>\n      <td>42</td>\n      <td>0.831637</td>\n      <td>0.328404</td>\n      <td>0.0</td>\n      <td>-0.34962</td>\n      <td>0.178083</td>\n      <td>0.919811</td>\n      <td>0.98213</td>\n      <td>0.403198</td>\n      <td>2.670484</td>\n      <td>728.344666</td>\n    </tr>\n    <tr>\n      <th>29</th>\n      <td>-33.119999</td>\n      <td>29.760000</td>\n      <td>201.050003</td>\n      <td>2.020643</td>\n      <td>42</td>\n      <td>0.831637</td>\n      <td>0.328404</td>\n      <td>0.0</td>\n      <td>-0.34962</td>\n      <td>0.178083</td>\n      <td>0.919811</td>\n      <td>0.98213</td>\n      <td>0.403198</td>\n      <td>2.670484</td>\n      <td>728.344666</td>\n    </tr>\n    <tr>\n      <th>30</th>\n      <td>-33.119999</td>\n      <td>53.279999</td>\n      <td>201.050003</td>\n      <td>0.708327</td>\n      <td>42</td>\n      <td>0.831637</td>\n      <td>0.328404</td>\n      <td>0.0</td>\n      <td>-0.34962</td>\n      <td>0.178083</td>\n      <td>0.919811</td>\n      <td>0.98213</td>\n      <td>0.403198</td>\n      <td>2.670484</td>\n      <td>728.344666</td>\n    </tr>\n    <tr>\n      <th>31</th>\n      <td>-33.119999</td>\n      <td>39.840000</td>\n      <td>201.050003</td>\n      <td>0.697241</td>\n      <td>42</td>\n      <td>0.831637</td>\n      <td>0.328404</td>\n      <td>0.0</td>\n      <td>-0.34962</td>\n      <td>0.178083</td>\n      <td>0.919811</td>\n      <td>0.98213</td>\n      <td>0.403198</td>\n      <td>2.670484</td>\n      <td>728.344666</td>\n    </tr>\n    <tr>\n      <th>32</th>\n      <td>-36.480000</td>\n      <td>53.279999</td>\n      <td>201.050003</td>\n      <td>0.709871</td>\n      <td>42</td>\n      <td>0.831637</td>\n      <td>0.328404</td>\n      <td>0.0</td>\n      <td>-0.34962</td>\n      <td>0.178083</td>\n      <td>0.919811</td>\n      <td>0.98213</td>\n      <td>0.403198</td>\n      <td>2.670484</td>\n      <td>728.344666</td>\n    </tr>\n    <tr>\n      <th>33</th>\n      <td>-33.119999</td>\n      <td>49.919998</td>\n      <td>201.050003</td>\n      <td>0.706457</td>\n      <td>42</td>\n      <td>0.831637</td>\n      <td>0.328404</td>\n      <td>0.0</td>\n      <td>-0.34962</td>\n      <td>0.178083</td>\n      <td>0.919811</td>\n      <td>0.98213</td>\n      <td>0.403198</td>\n      <td>2.670484</td>\n      <td>728.344666</td>\n    </tr>\n    <tr>\n      <th>34</th>\n      <td>-53.279999</td>\n      <td>80.959999</td>\n      <td>201.050003</td>\n      <td>0.753847</td>\n      <td>42</td>\n      <td>0.831637</td>\n      <td>0.328404</td>\n      <td>0.0</td>\n      <td>-0.34962</td>\n      <td>0.178083</td>\n      <td>0.919811</td>\n      <td>0.98213</td>\n      <td>0.403198</td>\n      <td>2.670484</td>\n      <td>728.344666</td>\n    </tr>\n    <tr>\n      <th>35</th>\n      <td>-46.560001</td>\n      <td>74.239998</td>\n      <td>201.050003</td>\n      <td>0.738932</td>\n      <td>42</td>\n      <td>0.831637</td>\n      <td>0.328404</td>\n      <td>0.0</td>\n      <td>-0.34962</td>\n      <td>0.178083</td>\n      <td>0.919811</td>\n      <td>0.98213</td>\n      <td>0.403198</td>\n      <td>2.670484</td>\n      <td>728.344666</td>\n    </tr>\n    <tr>\n      <th>36</th>\n      <td>-46.560001</td>\n      <td>74.239998</td>\n      <td>201.050003</td>\n      <td>0.739360</td>\n      <td>42</td>\n      <td>0.831637</td>\n      <td>0.328404</td>\n      <td>0.0</td>\n      <td>-0.34962</td>\n      <td>0.178083</td>\n      <td>0.919811</td>\n      <td>0.98213</td>\n      <td>0.403198</td>\n      <td>2.670484</td>\n      <td>728.344666</td>\n    </tr>\n    <tr>\n      <th>37</th>\n      <td>-33.119999</td>\n      <td>88.480003</td>\n      <td>201.050003</td>\n      <td>0.748402</td>\n      <td>42</td>\n      <td>0.831637</td>\n      <td>0.328404</td>\n      <td>0.0</td>\n      <td>-0.34962</td>\n      <td>0.178083</td>\n      <td>0.919811</td>\n      <td>0.98213</td>\n      <td>0.403198</td>\n      <td>2.670484</td>\n      <td>728.344666</td>\n    </tr>\n    <tr>\n      <th>38</th>\n      <td>5.440000</td>\n      <td>-57.439999</td>\n      <td>201.050003</td>\n      <td>1.135528</td>\n      <td>42</td>\n      <td>0.831637</td>\n      <td>0.328404</td>\n      <td>0.0</td>\n      <td>-0.34962</td>\n      <td>0.178083</td>\n      <td>0.919811</td>\n      <td>0.98213</td>\n      <td>0.403198</td>\n      <td>2.670484</td>\n      <td>728.344666</td>\n    </tr>\n    <tr>\n      <th>39</th>\n      <td>15.520000</td>\n      <td>-5.440000</td>\n      <td>201.050003</td>\n      <td>0.690418</td>\n      <td>42</td>\n      <td>0.831637</td>\n      <td>0.328404</td>\n      <td>0.0</td>\n      <td>-0.34962</td>\n      <td>0.178083</td>\n      <td>0.919811</td>\n      <td>0.98213</td>\n      <td>0.403198</td>\n      <td>2.670484</td>\n      <td>728.344666</td>\n    </tr>\n    <tr>\n      <th>40</th>\n      <td>22.240000</td>\n      <td>191.679993</td>\n      <td>201.050003</td>\n      <td>2.057024</td>\n      <td>42</td>\n      <td>0.831637</td>\n      <td>0.328404</td>\n      <td>0.0</td>\n      <td>-0.34962</td>\n      <td>0.178083</td>\n      <td>0.919811</td>\n      <td>0.98213</td>\n      <td>0.403198</td>\n      <td>2.670484</td>\n      <td>728.344666</td>\n    </tr>\n    <tr>\n      <th>41</th>\n      <td>288.959991</td>\n      <td>226.880005</td>\n      <td>201.050003</td>\n      <td>1.922922</td>\n      <td>42</td>\n      <td>0.831637</td>\n      <td>0.328404</td>\n      <td>0.0</td>\n      <td>-0.34962</td>\n      <td>0.178083</td>\n      <td>0.919811</td>\n      <td>0.98213</td>\n      <td>0.403198</td>\n      <td>2.670484</td>\n      <td>728.344666</td>\n    </tr>\n  </tbody>\n</table>\n</div>"
     },
     "execution_count": 25,
     "metadata": {},
     "output_type": "execute_result"
    }
   ],
   "source": [
    "df"
   ]
  },
  {
   "cell_type": "code",
   "execution_count": null,
   "metadata": {},
   "outputs": [],
   "source": [
    "ax =  dl.plot_solution(df)\n",
    "plt.show()"
   ]
  },
  {
   "cell_type": "code",
   "execution_count": null,
   "metadata": {},
   "outputs": [],
   "source": [
    "df['t_c'].describe()"
   ]
  },
  {
   "cell_type": "code",
   "execution_count": null,
   "outputs": [],
   "source": [
    "mean_t = df['t_c'].mean()\n",
    "quant_25 = df['t_c'].quantile(.75)"
   ],
   "metadata": {
    "collapsed": false
   }
  },
  {
   "cell_type": "code",
   "execution_count": null,
   "outputs": [],
   "source": [
    "mean_t"
   ],
   "metadata": {
    "collapsed": false
   }
  },
  {
   "cell_type": "code",
   "execution_count": null,
   "outputs": [],
   "source": [
    "quant_25"
   ],
   "metadata": {
    "collapsed": false
   }
  },
  {
   "cell_type": "code",
   "execution_count": null,
   "outputs": [],
   "source": [
    "mean_x = df['x_c'].mean()\n",
    "quant_75_x = df['x_c'].quantile(.80)"
   ],
   "metadata": {
    "collapsed": false
   }
  },
  {
   "cell_type": "code",
   "execution_count": null,
   "outputs": [],
   "source": [
    "mean_y = df['y_c'].mean()\n",
    "quant_75_y = df['y_c'].quantile(.80)"
   ],
   "metadata": {
    "collapsed": false
   }
  },
  {
   "cell_type": "code",
   "execution_count": null,
   "outputs": [],
   "source": [
    "mean_t = df['t_c'].mean()\n",
    "quant_75_t = df['t_c'].quantile(.80)"
   ],
   "metadata": {
    "collapsed": false
   }
  },
  {
   "cell_type": "code",
   "execution_count": null,
   "outputs": [],
   "source": [
    "2*mean_t - quant_75_t"
   ],
   "metadata": {
    "collapsed": false
   }
  },
  {
   "cell_type": "code",
   "execution_count": null,
   "outputs": [],
   "source": [
    "df[(df['t_c'] <= quant_75_t) ]"
   ],
   "metadata": {
    "collapsed": false
   }
  },
  {
   "cell_type": "code",
   "execution_count": null,
   "outputs": [],
   "source": [
    "df['x_c']"
   ],
   "metadata": {
    "collapsed": false
   }
  },
  {
   "cell_type": "code",
   "execution_count": null,
   "outputs": [],
   "source": [
    "mean_x - quant_75_x"
   ],
   "metadata": {
    "collapsed": false
   }
  },
  {
   "cell_type": "code",
   "execution_count": null,
   "outputs": [],
   "source": [
    "df[(df['x_c'] <=  quant_75_x)&(df['y_c'] <= quant_75_y)]"
   ],
   "metadata": {
    "collapsed": false
   }
  },
  {
   "cell_type": "code",
   "execution_count": null,
   "outputs": [],
   "source": [
    "ax =  dl.plot_solution(df)\n",
    "plt.show()"
   ],
   "metadata": {
    "collapsed": false
   }
  },
  {
   "cell_type": "code",
   "execution_count": null,
   "outputs": [],
   "source": [
    "ax =  dl.plot_solution(df[(df['t_c'] <= quant_75_t)  & (df['x_c'] <=  quant_75_x)&(df['y_c'] <= quant_75_y)&(df['y_c'] >= 2*mean_y - quant_75_y)])\n",
    "plt.show()"
   ],
   "metadata": {
    "collapsed": false
   }
  },
  {
   "cell_type": "code",
   "execution_count": null,
   "outputs": [],
   "source": [
    "ax =  dl.plot_solution(df[])\n",
    "plt.show()"
   ],
   "metadata": {
    "collapsed": false
   }
  },
  {
   "cell_type": "code",
   "execution_count": null,
   "metadata": {},
   "outputs": [],
   "source": [
    "plt.boxplot(df['x_c'])"
   ]
  },
  {
   "cell_type": "code",
   "execution_count": null,
   "metadata": {},
   "outputs": [],
   "source": [
    "df['x_c'].quantile(.5)"
   ]
  },
  {
   "cell_type": "code",
   "execution_count": null,
   "metadata": {},
   "outputs": [],
   "source": [
    "pd.qcut(df['x_c'], q=10)"
   ]
  },
  {
   "cell_type": "code",
   "execution_count": null,
   "metadata": {},
   "outputs": [],
   "source": []
  }
 ],
 "metadata": {
  "kernelspec": {
   "display_name": ".venv",
   "language": "python",
   "name": "python3"
  },
  "language_info": {
   "codemirror_mode": {
    "name": "ipython",
    "version": 3
   },
   "file_extension": ".py",
   "mimetype": "text/x-python",
   "name": "python",
   "nbconvert_exporter": "python",
   "pygments_lexer": "ipython3",
   "version": "3.9.6"
  },
  "vscode": {
   "interpreter": {
    "hash": "ed862fceb84cd3b82c7b9f094285d4a9764b5d7e32361fd75406b118b303b8fe"
   }
  }
 },
 "nbformat": 4,
 "nbformat_minor": 0
}
