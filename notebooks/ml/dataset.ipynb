{
 "cells": [
  {
   "cell_type": "code",
   "execution_count": 51,
   "metadata": {
    "collapsed": true
   },
   "outputs": [
    {
     "name": "stdout",
     "output_type": "stream",
     "text": [
      "The autoreload extension is already loaded. To reload it, use:\n",
      "  %reload_ext autoreload\n"
     ]
    }
   ],
   "source": [
    "import os\n",
    "%load_ext autoreload\n",
    "%autoreload 2\n",
    "import sys\n",
    "sys.path.append(\"../../\")\n",
    "from pathlib import Path\n",
    "import numpy as np\n",
    "import pandas as pd\n",
    "from tqdm import tqdm\n",
    "from matplotlib import pyplot as plt\n",
    "# from src.dataloaders import PointOnlyDataloader, NoiseDataLoader\n",
    "from src.utils.graphs import split_df_to_graphs\n",
    "\n",
    "from sklearn.model_selection import train_test_split"
   ]
  },
  {
   "cell_type": "code",
   "execution_count": 42,
   "metadata": {
    "collapsed": false
   },
   "outputs": [],
   "source": [
    "dataset_dir = Path('../../dataset')\n",
    "root_file = \"farichsim_pi-pi-_45-360deg_1200.0k_ideal_2020-12-24_rndm.root\"\n",
    "root_path = dataset_dir / root_file\n",
    "\n",
    "dataset = \"dataset_100000_with_noise_2e5.csv\"\n"
   ]
  },
  {
   "cell_type": "code",
   "execution_count": 43,
   "metadata": {
    "collapsed": false
   },
   "outputs": [],
   "source": [
    "df = pd.read_csv(dataset_dir / dataset)"
   ]
  },
  {
   "cell_type": "code",
   "execution_count": 33,
   "metadata": {},
   "outputs": [
    {
     "data": {
      "text/html": [
       "<div>\n",
       "<style scoped>\n",
       "    .dataframe tbody tr th:only-of-type {\n",
       "        vertical-align: middle;\n",
       "    }\n",
       "\n",
       "    .dataframe tbody tr th {\n",
       "        vertical-align: top;\n",
       "    }\n",
       "\n",
       "    .dataframe thead th {\n",
       "        text-align: right;\n",
       "    }\n",
       "</style>\n",
       "<table border=\"1\" class=\"dataframe\">\n",
       "  <thead>\n",
       "    <tr style=\"text-align: right;\">\n",
       "      <th></th>\n",
       "      <th>entry</th>\n",
       "      <th>subentry</th>\n",
       "      <th>x_c</th>\n",
       "      <th>y_c</th>\n",
       "      <th>z_c</th>\n",
       "      <th>t_c</th>\n",
       "      <th>signal</th>\n",
       "    </tr>\n",
       "  </thead>\n",
       "  <tbody>\n",
       "    <tr>\n",
       "      <th>0</th>\n",
       "      <td>0</td>\n",
       "      <td>0</td>\n",
       "      <td>100</td>\n",
       "      <td>55</td>\n",
       "      <td>201.05</td>\n",
       "      <td>2.956575</td>\n",
       "      <td>True</td>\n",
       "    </tr>\n",
       "    <tr>\n",
       "      <th>1</th>\n",
       "      <td>0</td>\n",
       "      <td>1</td>\n",
       "      <td>105</td>\n",
       "      <td>31</td>\n",
       "      <td>201.05</td>\n",
       "      <td>3.164390</td>\n",
       "      <td>True</td>\n",
       "    </tr>\n",
       "    <tr>\n",
       "      <th>2</th>\n",
       "      <td>0</td>\n",
       "      <td>2</td>\n",
       "      <td>110</td>\n",
       "      <td>32</td>\n",
       "      <td>201.05</td>\n",
       "      <td>3.150230</td>\n",
       "      <td>True</td>\n",
       "    </tr>\n",
       "    <tr>\n",
       "      <th>3</th>\n",
       "      <td>0</td>\n",
       "      <td>3</td>\n",
       "      <td>106</td>\n",
       "      <td>67</td>\n",
       "      <td>201.05</td>\n",
       "      <td>2.841400</td>\n",
       "      <td>True</td>\n",
       "    </tr>\n",
       "    <tr>\n",
       "      <th>4</th>\n",
       "      <td>0</td>\n",
       "      <td>4</td>\n",
       "      <td>117</td>\n",
       "      <td>37</td>\n",
       "      <td>201.05</td>\n",
       "      <td>3.094911</td>\n",
       "      <td>True</td>\n",
       "    </tr>\n",
       "    <tr>\n",
       "      <th>...</th>\n",
       "      <td>...</td>\n",
       "      <td>...</td>\n",
       "      <td>...</td>\n",
       "      <td>...</td>\n",
       "      <td>...</td>\n",
       "      <td>...</td>\n",
       "      <td>...</td>\n",
       "    </tr>\n",
       "    <tr>\n",
       "      <th>83645212</th>\n",
       "      <td>99999</td>\n",
       "      <td>799</td>\n",
       "      <td>108</td>\n",
       "      <td>148</td>\n",
       "      <td>201.05</td>\n",
       "      <td>2.433213</td>\n",
       "      <td>False</td>\n",
       "    </tr>\n",
       "    <tr>\n",
       "      <th>83645213</th>\n",
       "      <td>99999</td>\n",
       "      <td>800</td>\n",
       "      <td>162</td>\n",
       "      <td>32</td>\n",
       "      <td>201.05</td>\n",
       "      <td>4.979479</td>\n",
       "      <td>False</td>\n",
       "    </tr>\n",
       "    <tr>\n",
       "      <th>83645214</th>\n",
       "      <td>99999</td>\n",
       "      <td>801</td>\n",
       "      <td>25</td>\n",
       "      <td>95</td>\n",
       "      <td>201.05</td>\n",
       "      <td>6.684005</td>\n",
       "      <td>False</td>\n",
       "    </tr>\n",
       "    <tr>\n",
       "      <th>83645215</th>\n",
       "      <td>99999</td>\n",
       "      <td>802</td>\n",
       "      <td>47</td>\n",
       "      <td>12</td>\n",
       "      <td>201.05</td>\n",
       "      <td>6.480466</td>\n",
       "      <td>False</td>\n",
       "    </tr>\n",
       "    <tr>\n",
       "      <th>83645216</th>\n",
       "      <td>99999</td>\n",
       "      <td>803</td>\n",
       "      <td>49</td>\n",
       "      <td>225</td>\n",
       "      <td>201.05</td>\n",
       "      <td>2.273886</td>\n",
       "      <td>False</td>\n",
       "    </tr>\n",
       "  </tbody>\n",
       "</table>\n",
       "<p>83645217 rows × 7 columns</p>\n",
       "</div>"
      ],
      "text/plain": [
       "          entry  subentry  x_c  y_c     z_c       t_c  signal\n",
       "0             0         0  100   55  201.05  2.956575    True\n",
       "1             0         1  105   31  201.05  3.164390    True\n",
       "2             0         2  110   32  201.05  3.150230    True\n",
       "3             0         3  106   67  201.05  2.841400    True\n",
       "4             0         4  117   37  201.05  3.094911    True\n",
       "...         ...       ...  ...  ...     ...       ...     ...\n",
       "83645212  99999       799  108  148  201.05  2.433213   False\n",
       "83645213  99999       800  162   32  201.05  4.979479   False\n",
       "83645214  99999       801   25   95  201.05  6.684005   False\n",
       "83645215  99999       802   47   12  201.05  6.480466   False\n",
       "83645216  99999       803   49  225  201.05  2.273886   False\n",
       "\n",
       "[83645217 rows x 7 columns]"
      ]
     },
     "execution_count": 33,
     "metadata": {},
     "output_type": "execute_result"
    }
   ],
   "source": [
    "df"
   ]
  },
  {
   "cell_type": "code",
   "execution_count": 46,
   "metadata": {},
   "outputs": [
    {
     "name": "stdout",
     "output_type": "stream",
     "text": [
      "48.8 ms ± 239 µs per loop (mean ± std. dev. of 7 runs, 10 loops each)\n"
     ]
    }
   ],
   "source": [
    "%%timeit\n",
    "entry_df = df[df.entry == 0]\n"
   ]
  },
  {
   "cell_type": "code",
   "execution_count": 52,
   "metadata": {},
   "outputs": [
    {
     "name": "stdout",
     "output_type": "stream",
     "text": [
      "Unexpected exception formatting exception. Falling back to standard exception\n"
     ]
    },
    {
     "name": "stderr",
     "output_type": "stream",
     "text": [
      "Traceback (most recent call last):\n",
      "  File \"/home/djkostya/projects/farich-detector/.venv/lib/python3.10/site-packages/IPython/core/interactiveshell.py\", line 3460, in run_code\n",
      "    exec(code_obj, self.user_global_ns, self.user_ns)\n",
      "  File \"/tmp/ipykernel_2735447/1571367414.py\", line 1, in <module>\n",
      "    split_df_to_graphs(entry_df)\n",
      "  File \"/home/djkostya/projects/farich-detector/notebooks/ml/../../src/utils/graphs/creater.py\", line 8, in split_df_to_graphs\n",
      "    graphs = []\n",
      "  File \"/home/djkostya/projects/farich-detector/.venv/lib/python3.10/site-packages/pandas/core/generic.py\", line 11797, in sum\n",
      "    return NDFrame.sum(\n",
      "  File \"/home/djkostya/projects/farich-detector/.venv/lib/python3.10/site-packages/pandas/core/generic.py\", line 11501, in sum\n",
      "    return self._min_count_stat_function(\n",
      "  File \"/home/djkostya/projects/farich-detector/.venv/lib/python3.10/site-packages/pandas/core/generic.py\", line 11483, in _min_count_stat_function\n",
      "    return self._reduce(\n",
      "  File \"/home/djkostya/projects/farich-detector/.venv/lib/python3.10/site-packages/pandas/core/series.py\", line 4815, in _reduce\n",
      "    with np.errstate(all=\"ignore\"):\n",
      "  File \"/home/djkostya/projects/farich-detector/.venv/lib/python3.10/site-packages/numpy/core/_ufunc_config.py\", line 433, in __enter__\n",
      "  File \"/home/djkostya/projects/farich-detector/.venv/lib/python3.10/site-packages/numpy/core/_ufunc_config.py\", line 305, in seterrcall\n",
      "    raise ValueError(\"Only callable can be used as callback\")\n",
      "ValueError: Only callable can be used as callback\n",
      "\n",
      "During handling of the above exception, another exception occurred:\n",
      "\n",
      "Traceback (most recent call last):\n",
      "  File \"/home/djkostya/projects/farich-detector/.venv/lib/python3.10/site-packages/IPython/core/interactiveshell.py\", line 2057, in showtraceback\n",
      "    stb = self.InteractiveTB.structured_traceback(\n",
      "  File \"/home/djkostya/projects/farich-detector/.venv/lib/python3.10/site-packages/IPython/core/ultratb.py\", line 1288, in structured_traceback\n",
      "    return FormattedTB.structured_traceback(\n",
      "  File \"/home/djkostya/projects/farich-detector/.venv/lib/python3.10/site-packages/IPython/core/ultratb.py\", line 1177, in structured_traceback\n",
      "    return VerboseTB.structured_traceback(\n",
      "  File \"/home/djkostya/projects/farich-detector/.venv/lib/python3.10/site-packages/IPython/core/ultratb.py\", line 1030, in structured_traceback\n",
      "    formatted_exception = self.format_exception_as_a_whole(etype, evalue, etb, number_of_lines_of_context,\n",
      "  File \"/home/djkostya/projects/farich-detector/.venv/lib/python3.10/site-packages/IPython/core/ultratb.py\", line 960, in format_exception_as_a_whole\n",
      "    frames.append(self.format_record(record))\n",
      "  File \"/home/djkostya/projects/farich-detector/.venv/lib/python3.10/site-packages/IPython/core/ultratb.py\", line 870, in format_record\n",
      "    frame_info.lines, Colors, self.has_colors, lvals\n",
      "  File \"/home/djkostya/projects/farich-detector/.venv/lib/python3.10/site-packages/IPython/core/ultratb.py\", line 704, in lines\n",
      "    return self._sd.lines\n",
      "  File \"/home/djkostya/projects/farich-detector/.venv/lib/python3.10/site-packages/stack_data/utils.py\", line 144, in cached_property_wrapper\n",
      "    value = obj.__dict__[self.func.__name__] = self.func(obj)\n",
      "  File \"/home/djkostya/projects/farich-detector/.venv/lib/python3.10/site-packages/stack_data/core.py\", line 734, in lines\n",
      "    pieces = self.included_pieces\n",
      "  File \"/home/djkostya/projects/farich-detector/.venv/lib/python3.10/site-packages/stack_data/utils.py\", line 144, in cached_property_wrapper\n",
      "    value = obj.__dict__[self.func.__name__] = self.func(obj)\n",
      "  File \"/home/djkostya/projects/farich-detector/.venv/lib/python3.10/site-packages/stack_data/core.py\", line 681, in included_pieces\n",
      "    pos = scope_pieces.index(self.executing_piece)\n",
      "  File \"/home/djkostya/projects/farich-detector/.venv/lib/python3.10/site-packages/stack_data/utils.py\", line 144, in cached_property_wrapper\n",
      "    value = obj.__dict__[self.func.__name__] = self.func(obj)\n",
      "  File \"/home/djkostya/projects/farich-detector/.venv/lib/python3.10/site-packages/stack_data/core.py\", line 660, in executing_piece\n",
      "    return only(\n",
      "  File \"/home/djkostya/projects/farich-detector/.venv/lib/python3.10/site-packages/executing/executing.py\", line 190, in only\n",
      "    raise NotOneValueFound('Expected one value, found 0')\n",
      "executing.executing.NotOneValueFound: Expected one value, found 0\n"
     ]
    }
   ],
   "source": [
    "split_df_to_graphs(entry_df)"
   ]
  },
  {
   "cell_type": "code",
   "execution_count": null,
   "metadata": {},
   "outputs": [],
   "source": []
  },
  {
   "cell_type": "code",
   "execution_count": null,
   "metadata": {},
   "outputs": [],
   "source": []
  },
  {
   "cell_type": "code",
   "execution_count": 35,
   "metadata": {
    "collapsed": false
   },
   "outputs": [],
   "source": [
    "entry_df = df[df.entry == 0][['x_c','y_c', 't_c', 'signal']]"
   ]
  },
  {
   "cell_type": "code",
   "execution_count": 39,
   "metadata": {},
   "outputs": [
    {
     "name": "stderr",
     "output_type": "stream",
     "text": [
      "/tmp/ipykernel_2735447/4278031266.py:1: UserWarning: Boolean Series key will be reindexed to match DataFrame index.\n",
      "  entry_df[(df.t_c >= 0) & (df.t_c <= 5)].reset_index(drop=True)\n"
     ]
    },
    {
     "data": {
      "text/html": [
       "<div>\n",
       "<style scoped>\n",
       "    .dataframe tbody tr th:only-of-type {\n",
       "        vertical-align: middle;\n",
       "    }\n",
       "\n",
       "    .dataframe tbody tr th {\n",
       "        vertical-align: top;\n",
       "    }\n",
       "\n",
       "    .dataframe thead th {\n",
       "        text-align: right;\n",
       "    }\n",
       "</style>\n",
       "<table border=\"1\" class=\"dataframe\">\n",
       "  <thead>\n",
       "    <tr style=\"text-align: right;\">\n",
       "      <th></th>\n",
       "      <th>x_c</th>\n",
       "      <th>y_c</th>\n",
       "      <th>t_c</th>\n",
       "      <th>signal</th>\n",
       "    </tr>\n",
       "  </thead>\n",
       "  <tbody>\n",
       "    <tr>\n",
       "      <th>0</th>\n",
       "      <td>100</td>\n",
       "      <td>55</td>\n",
       "      <td>2.956575</td>\n",
       "      <td>True</td>\n",
       "    </tr>\n",
       "    <tr>\n",
       "      <th>1</th>\n",
       "      <td>105</td>\n",
       "      <td>31</td>\n",
       "      <td>3.164390</td>\n",
       "      <td>True</td>\n",
       "    </tr>\n",
       "    <tr>\n",
       "      <th>2</th>\n",
       "      <td>110</td>\n",
       "      <td>32</td>\n",
       "      <td>3.150230</td>\n",
       "      <td>True</td>\n",
       "    </tr>\n",
       "    <tr>\n",
       "      <th>3</th>\n",
       "      <td>106</td>\n",
       "      <td>67</td>\n",
       "      <td>2.841400</td>\n",
       "      <td>True</td>\n",
       "    </tr>\n",
       "    <tr>\n",
       "      <th>4</th>\n",
       "      <td>117</td>\n",
       "      <td>37</td>\n",
       "      <td>3.094911</td>\n",
       "      <td>True</td>\n",
       "    </tr>\n",
       "    <tr>\n",
       "      <th>...</th>\n",
       "      <td>...</td>\n",
       "      <td>...</td>\n",
       "      <td>...</td>\n",
       "      <td>...</td>\n",
       "    </tr>\n",
       "    <tr>\n",
       "      <th>561</th>\n",
       "      <td>47</td>\n",
       "      <td>170</td>\n",
       "      <td>2.521595</td>\n",
       "      <td>False</td>\n",
       "    </tr>\n",
       "    <tr>\n",
       "      <th>562</th>\n",
       "      <td>1</td>\n",
       "      <td>167</td>\n",
       "      <td>0.650147</td>\n",
       "      <td>False</td>\n",
       "    </tr>\n",
       "    <tr>\n",
       "      <th>563</th>\n",
       "      <td>83</td>\n",
       "      <td>96</td>\n",
       "      <td>4.902512</td>\n",
       "      <td>False</td>\n",
       "    </tr>\n",
       "    <tr>\n",
       "      <th>564</th>\n",
       "      <td>24</td>\n",
       "      <td>153</td>\n",
       "      <td>2.674867</td>\n",
       "      <td>False</td>\n",
       "    </tr>\n",
       "    <tr>\n",
       "      <th>565</th>\n",
       "      <td>86</td>\n",
       "      <td>29</td>\n",
       "      <td>4.297562</td>\n",
       "      <td>False</td>\n",
       "    </tr>\n",
       "  </tbody>\n",
       "</table>\n",
       "<p>566 rows × 4 columns</p>\n",
       "</div>"
      ],
      "text/plain": [
       "     x_c  y_c       t_c  signal\n",
       "0    100   55  2.956575    True\n",
       "1    105   31  3.164390    True\n",
       "2    110   32  3.150230    True\n",
       "3    106   67  2.841400    True\n",
       "4    117   37  3.094911    True\n",
       "..   ...  ...       ...     ...\n",
       "561   47  170  2.521595   False\n",
       "562    1  167  0.650147   False\n",
       "563   83   96  4.902512   False\n",
       "564   24  153  2.674867   False\n",
       "565   86   29  4.297562   False\n",
       "\n",
       "[566 rows x 4 columns]"
      ]
     },
     "execution_count": 39,
     "metadata": {},
     "output_type": "execute_result"
    }
   ],
   "source": [
    "entry_df[(df.t_c >= 0) & (df.t_c <= 5)].reset_index(drop=True)"
   ]
  },
  {
   "cell_type": "code",
   "execution_count": 7,
   "metadata": {
    "collapsed": false
   },
   "outputs": [],
   "source": [
    "entry_df['join']=0\n",
    "entry_df['index'] = entry_df.index\n",
    "\n"
   ]
  },
  {
   "cell_type": "code",
   "execution_count": 8,
   "metadata": {
    "collapsed": false
   },
   "outputs": [
    {
     "data": {
      "text/html": [
       "<div>\n",
       "<style scoped>\n",
       "    .dataframe tbody tr th:only-of-type {\n",
       "        vertical-align: middle;\n",
       "    }\n",
       "\n",
       "    .dataframe tbody tr th {\n",
       "        vertical-align: top;\n",
       "    }\n",
       "\n",
       "    .dataframe thead th {\n",
       "        text-align: right;\n",
       "    }\n",
       "</style>\n",
       "<table border=\"1\" class=\"dataframe\">\n",
       "  <thead>\n",
       "    <tr style=\"text-align: right;\">\n",
       "      <th></th>\n",
       "      <th>x_c</th>\n",
       "      <th>y_c</th>\n",
       "      <th>t_c</th>\n",
       "      <th>signal</th>\n",
       "      <th>join</th>\n",
       "      <th>index</th>\n",
       "    </tr>\n",
       "  </thead>\n",
       "  <tbody>\n",
       "    <tr>\n",
       "      <th>0</th>\n",
       "      <td>100</td>\n",
       "      <td>55</td>\n",
       "      <td>2.956575</td>\n",
       "      <td>True</td>\n",
       "      <td>0</td>\n",
       "      <td>0</td>\n",
       "    </tr>\n",
       "    <tr>\n",
       "      <th>1</th>\n",
       "      <td>105</td>\n",
       "      <td>31</td>\n",
       "      <td>3.164390</td>\n",
       "      <td>True</td>\n",
       "      <td>0</td>\n",
       "      <td>1</td>\n",
       "    </tr>\n",
       "    <tr>\n",
       "      <th>2</th>\n",
       "      <td>110</td>\n",
       "      <td>32</td>\n",
       "      <td>3.150230</td>\n",
       "      <td>True</td>\n",
       "      <td>0</td>\n",
       "      <td>2</td>\n",
       "    </tr>\n",
       "    <tr>\n",
       "      <th>3</th>\n",
       "      <td>106</td>\n",
       "      <td>67</td>\n",
       "      <td>2.841400</td>\n",
       "      <td>True</td>\n",
       "      <td>0</td>\n",
       "      <td>3</td>\n",
       "    </tr>\n",
       "    <tr>\n",
       "      <th>4</th>\n",
       "      <td>117</td>\n",
       "      <td>37</td>\n",
       "      <td>3.094911</td>\n",
       "      <td>True</td>\n",
       "      <td>0</td>\n",
       "      <td>4</td>\n",
       "    </tr>\n",
       "    <tr>\n",
       "      <th>...</th>\n",
       "      <td>...</td>\n",
       "      <td>...</td>\n",
       "      <td>...</td>\n",
       "      <td>...</td>\n",
       "      <td>...</td>\n",
       "      <td>...</td>\n",
       "    </tr>\n",
       "    <tr>\n",
       "      <th>794</th>\n",
       "      <td>131</td>\n",
       "      <td>202</td>\n",
       "      <td>6.078539</td>\n",
       "      <td>False</td>\n",
       "      <td>0</td>\n",
       "      <td>794</td>\n",
       "    </tr>\n",
       "    <tr>\n",
       "      <th>795</th>\n",
       "      <td>168</td>\n",
       "      <td>101</td>\n",
       "      <td>5.509062</td>\n",
       "      <td>False</td>\n",
       "      <td>0</td>\n",
       "      <td>795</td>\n",
       "    </tr>\n",
       "    <tr>\n",
       "      <th>796</th>\n",
       "      <td>83</td>\n",
       "      <td>96</td>\n",
       "      <td>4.902512</td>\n",
       "      <td>False</td>\n",
       "      <td>0</td>\n",
       "      <td>796</td>\n",
       "    </tr>\n",
       "    <tr>\n",
       "      <th>797</th>\n",
       "      <td>24</td>\n",
       "      <td>153</td>\n",
       "      <td>2.674867</td>\n",
       "      <td>False</td>\n",
       "      <td>0</td>\n",
       "      <td>797</td>\n",
       "    </tr>\n",
       "    <tr>\n",
       "      <th>798</th>\n",
       "      <td>86</td>\n",
       "      <td>29</td>\n",
       "      <td>4.297562</td>\n",
       "      <td>False</td>\n",
       "      <td>0</td>\n",
       "      <td>798</td>\n",
       "    </tr>\n",
       "  </tbody>\n",
       "</table>\n",
       "<p>799 rows × 6 columns</p>\n",
       "</div>"
      ],
      "text/plain": [
       "     x_c  y_c       t_c  signal  join  index\n",
       "0    100   55  2.956575    True     0      0\n",
       "1    105   31  3.164390    True     0      1\n",
       "2    110   32  3.150230    True     0      2\n",
       "3    106   67  2.841400    True     0      3\n",
       "4    117   37  3.094911    True     0      4\n",
       "..   ...  ...       ...     ...   ...    ...\n",
       "794  131  202  6.078539   False     0    794\n",
       "795  168  101  5.509062   False     0    795\n",
       "796   83   96  4.902512   False     0    796\n",
       "797   24  153  2.674867   False     0    797\n",
       "798   86   29  4.297562   False     0    798\n",
       "\n",
       "[799 rows x 6 columns]"
      ]
     },
     "execution_count": 8,
     "metadata": {},
     "output_type": "execute_result"
    }
   ],
   "source": [
    "entry_df"
   ]
  },
  {
   "cell_type": "code",
   "execution_count": 9,
   "metadata": {
    "collapsed": false
   },
   "outputs": [],
   "source": [
    "joined_df = entry_df.merge(entry_df, on='join', how='outer')"
   ]
  },
  {
   "cell_type": "code",
   "execution_count": 10,
   "metadata": {
    "collapsed": false
   },
   "outputs": [],
   "source": [
    "joined_df['distance'] = joined_df.apply(lambda x: np.sqrt((x.x_c_x - x.x_c_y)**2 + (x.y_c_x - x.y_c_y)**2 + (x.t_c_x - x.t_c_y)**2), axis=1)"
   ]
  },
  {
   "cell_type": "code",
   "execution_count": 14,
   "metadata": {
    "collapsed": false
   },
   "outputs": [],
   "source": [
    "joined_df_with_distance = joined_df[(joined_df.distance > 0) & (joined_df.t_c_x < 5) & (joined_df.t_c_y < 5) & (joined_df.distance < 36)]"
   ]
  },
  {
   "cell_type": "code",
   "execution_count": 15,
   "metadata": {},
   "outputs": [
    {
     "data": {
      "text/html": [
       "<div>\n",
       "<style scoped>\n",
       "    .dataframe tbody tr th:only-of-type {\n",
       "        vertical-align: middle;\n",
       "    }\n",
       "\n",
       "    .dataframe tbody tr th {\n",
       "        vertical-align: top;\n",
       "    }\n",
       "\n",
       "    .dataframe thead th {\n",
       "        text-align: right;\n",
       "    }\n",
       "</style>\n",
       "<table border=\"1\" class=\"dataframe\">\n",
       "  <thead>\n",
       "    <tr style=\"text-align: right;\">\n",
       "      <th></th>\n",
       "      <th>x_c_x</th>\n",
       "      <th>y_c_x</th>\n",
       "      <th>t_c_x</th>\n",
       "      <th>signal_x</th>\n",
       "      <th>join</th>\n",
       "      <th>index_x</th>\n",
       "      <th>x_c_y</th>\n",
       "      <th>y_c_y</th>\n",
       "      <th>t_c_y</th>\n",
       "      <th>signal_y</th>\n",
       "      <th>index_y</th>\n",
       "      <th>distance</th>\n",
       "    </tr>\n",
       "  </thead>\n",
       "  <tbody>\n",
       "    <tr>\n",
       "      <th>1</th>\n",
       "      <td>100</td>\n",
       "      <td>55</td>\n",
       "      <td>2.956575</td>\n",
       "      <td>True</td>\n",
       "      <td>0</td>\n",
       "      <td>0</td>\n",
       "      <td>105</td>\n",
       "      <td>31</td>\n",
       "      <td>3.164390</td>\n",
       "      <td>True</td>\n",
       "      <td>1</td>\n",
       "      <td>24.516182</td>\n",
       "    </tr>\n",
       "    <tr>\n",
       "      <th>2</th>\n",
       "      <td>100</td>\n",
       "      <td>55</td>\n",
       "      <td>2.956575</td>\n",
       "      <td>True</td>\n",
       "      <td>0</td>\n",
       "      <td>0</td>\n",
       "      <td>110</td>\n",
       "      <td>32</td>\n",
       "      <td>3.150230</td>\n",
       "      <td>True</td>\n",
       "      <td>2</td>\n",
       "      <td>25.080620</td>\n",
       "    </tr>\n",
       "    <tr>\n",
       "      <th>3</th>\n",
       "      <td>100</td>\n",
       "      <td>55</td>\n",
       "      <td>2.956575</td>\n",
       "      <td>True</td>\n",
       "      <td>0</td>\n",
       "      <td>0</td>\n",
       "      <td>106</td>\n",
       "      <td>67</td>\n",
       "      <td>2.841400</td>\n",
       "      <td>True</td>\n",
       "      <td>3</td>\n",
       "      <td>13.416902</td>\n",
       "    </tr>\n",
       "    <tr>\n",
       "      <th>4</th>\n",
       "      <td>100</td>\n",
       "      <td>55</td>\n",
       "      <td>2.956575</td>\n",
       "      <td>True</td>\n",
       "      <td>0</td>\n",
       "      <td>0</td>\n",
       "      <td>117</td>\n",
       "      <td>37</td>\n",
       "      <td>3.094911</td>\n",
       "      <td>True</td>\n",
       "      <td>4</td>\n",
       "      <td>24.759223</td>\n",
       "    </tr>\n",
       "    <tr>\n",
       "      <th>5</th>\n",
       "      <td>100</td>\n",
       "      <td>55</td>\n",
       "      <td>2.956575</td>\n",
       "      <td>True</td>\n",
       "      <td>0</td>\n",
       "      <td>0</td>\n",
       "      <td>117</td>\n",
       "      <td>33</td>\n",
       "      <td>3.132797</td>\n",
       "      <td>True</td>\n",
       "      <td>5</td>\n",
       "      <td>27.803436</td>\n",
       "    </tr>\n",
       "    <tr>\n",
       "      <th>...</th>\n",
       "      <td>...</td>\n",
       "      <td>...</td>\n",
       "      <td>...</td>\n",
       "      <td>...</td>\n",
       "      <td>...</td>\n",
       "      <td>...</td>\n",
       "      <td>...</td>\n",
       "      <td>...</td>\n",
       "      <td>...</td>\n",
       "      <td>...</td>\n",
       "      <td>...</td>\n",
       "      <td>...</td>\n",
       "    </tr>\n",
       "    <tr>\n",
       "      <th>638247</th>\n",
       "      <td>86</td>\n",
       "      <td>29</td>\n",
       "      <td>4.297562</td>\n",
       "      <td>False</td>\n",
       "      <td>0</td>\n",
       "      <td>798</td>\n",
       "      <td>114</td>\n",
       "      <td>27</td>\n",
       "      <td>3.247158</td>\n",
       "      <td>False</td>\n",
       "      <td>645</td>\n",
       "      <td>28.090983</td>\n",
       "    </tr>\n",
       "    <tr>\n",
       "      <th>638262</th>\n",
       "      <td>86</td>\n",
       "      <td>29</td>\n",
       "      <td>4.297562</td>\n",
       "      <td>False</td>\n",
       "      <td>0</td>\n",
       "      <td>798</td>\n",
       "      <td>111</td>\n",
       "      <td>52</td>\n",
       "      <td>4.135098</td>\n",
       "      <td>False</td>\n",
       "      <td>660</td>\n",
       "      <td>33.970964</td>\n",
       "    </tr>\n",
       "    <tr>\n",
       "      <th>638299</th>\n",
       "      <td>86</td>\n",
       "      <td>29</td>\n",
       "      <td>4.297562</td>\n",
       "      <td>False</td>\n",
       "      <td>0</td>\n",
       "      <td>798</td>\n",
       "      <td>114</td>\n",
       "      <td>10</td>\n",
       "      <td>0.393297</td>\n",
       "      <td>False</td>\n",
       "      <td>697</td>\n",
       "      <td>34.062344</td>\n",
       "    </tr>\n",
       "    <tr>\n",
       "      <th>638312</th>\n",
       "      <td>86</td>\n",
       "      <td>29</td>\n",
       "      <td>4.297562</td>\n",
       "      <td>False</td>\n",
       "      <td>0</td>\n",
       "      <td>798</td>\n",
       "      <td>100</td>\n",
       "      <td>23</td>\n",
       "      <td>2.433674</td>\n",
       "      <td>False</td>\n",
       "      <td>710</td>\n",
       "      <td>15.345165</td>\n",
       "    </tr>\n",
       "    <tr>\n",
       "      <th>638328</th>\n",
       "      <td>86</td>\n",
       "      <td>29</td>\n",
       "      <td>4.297562</td>\n",
       "      <td>False</td>\n",
       "      <td>0</td>\n",
       "      <td>798</td>\n",
       "      <td>112</td>\n",
       "      <td>28</td>\n",
       "      <td>4.431098</td>\n",
       "      <td>False</td>\n",
       "      <td>726</td>\n",
       "      <td>26.019566</td>\n",
       "    </tr>\n",
       "  </tbody>\n",
       "</table>\n",
       "<p>19618 rows × 12 columns</p>\n",
       "</div>"
      ],
      "text/plain": [
       "        x_c_x  y_c_x     t_c_x  signal_x  join  index_x  x_c_y  y_c_y  \\\n",
       "1         100     55  2.956575      True     0        0    105     31   \n",
       "2         100     55  2.956575      True     0        0    110     32   \n",
       "3         100     55  2.956575      True     0        0    106     67   \n",
       "4         100     55  2.956575      True     0        0    117     37   \n",
       "5         100     55  2.956575      True     0        0    117     33   \n",
       "...       ...    ...       ...       ...   ...      ...    ...    ...   \n",
       "638247     86     29  4.297562     False     0      798    114     27   \n",
       "638262     86     29  4.297562     False     0      798    111     52   \n",
       "638299     86     29  4.297562     False     0      798    114     10   \n",
       "638312     86     29  4.297562     False     0      798    100     23   \n",
       "638328     86     29  4.297562     False     0      798    112     28   \n",
       "\n",
       "           t_c_y  signal_y  index_y   distance  \n",
       "1       3.164390      True        1  24.516182  \n",
       "2       3.150230      True        2  25.080620  \n",
       "3       2.841400      True        3  13.416902  \n",
       "4       3.094911      True        4  24.759223  \n",
       "5       3.132797      True        5  27.803436  \n",
       "...          ...       ...      ...        ...  \n",
       "638247  3.247158     False      645  28.090983  \n",
       "638262  4.135098     False      660  33.970964  \n",
       "638299  0.393297     False      697  34.062344  \n",
       "638312  2.433674     False      710  15.345165  \n",
       "638328  4.431098     False      726  26.019566  \n",
       "\n",
       "[19618 rows x 12 columns]"
      ]
     },
     "execution_count": 15,
     "metadata": {},
     "output_type": "execute_result"
    }
   ],
   "source": [
    "joined_df_with_distance\n"
   ]
  },
  {
   "cell_type": "code",
   "execution_count": 13,
   "metadata": {
    "collapsed": false
   },
   "outputs": [
    {
     "data": {
      "text/html": [
       "<div>\n",
       "<style scoped>\n",
       "    .dataframe tbody tr th:only-of-type {\n",
       "        vertical-align: middle;\n",
       "    }\n",
       "\n",
       "    .dataframe tbody tr th {\n",
       "        vertical-align: top;\n",
       "    }\n",
       "\n",
       "    .dataframe thead th {\n",
       "        text-align: right;\n",
       "    }\n",
       "</style>\n",
       "<table border=\"1\" class=\"dataframe\">\n",
       "  <thead>\n",
       "    <tr style=\"text-align: right;\">\n",
       "      <th></th>\n",
       "      <th>x_c_x</th>\n",
       "      <th>y_c_x</th>\n",
       "      <th>t_c_x</th>\n",
       "      <th>join</th>\n",
       "      <th>index_x</th>\n",
       "      <th>x_c_y</th>\n",
       "      <th>y_c_y</th>\n",
       "      <th>t_c_y</th>\n",
       "      <th>index_y</th>\n",
       "      <th>distance</th>\n",
       "    </tr>\n",
       "  </thead>\n",
       "  <tbody>\n",
       "    <tr>\n",
       "      <th>count</th>\n",
       "      <td>324.000000</td>\n",
       "      <td>324.000000</td>\n",
       "      <td>324.000000</td>\n",
       "      <td>324.0</td>\n",
       "      <td>324.000000</td>\n",
       "      <td>324.000000</td>\n",
       "      <td>324.000000</td>\n",
       "      <td>324.000000</td>\n",
       "      <td>324.000000</td>\n",
       "      <td>324.000000</td>\n",
       "    </tr>\n",
       "    <tr>\n",
       "      <th>mean</th>\n",
       "      <td>124.500000</td>\n",
       "      <td>73.555556</td>\n",
       "      <td>3.021098</td>\n",
       "      <td>0.0</td>\n",
       "      <td>8.500000</td>\n",
       "      <td>124.500000</td>\n",
       "      <td>73.555556</td>\n",
       "      <td>3.021098</td>\n",
       "      <td>8.500000</td>\n",
       "      <td>52.747142</td>\n",
       "    </tr>\n",
       "    <tr>\n",
       "      <th>std</th>\n",
       "      <td>18.621619</td>\n",
       "      <td>49.155468</td>\n",
       "      <td>0.262489</td>\n",
       "      <td>0.0</td>\n",
       "      <td>5.196152</td>\n",
       "      <td>18.621619</td>\n",
       "      <td>49.155468</td>\n",
       "      <td>0.262489</td>\n",
       "      <td>5.196152</td>\n",
       "      <td>52.300215</td>\n",
       "    </tr>\n",
       "    <tr>\n",
       "      <th>min</th>\n",
       "      <td>100.000000</td>\n",
       "      <td>31.000000</td>\n",
       "      <td>2.773486</td>\n",
       "      <td>0.0</td>\n",
       "      <td>0.000000</td>\n",
       "      <td>100.000000</td>\n",
       "      <td>31.000000</td>\n",
       "      <td>2.773486</td>\n",
       "      <td>0.000000</td>\n",
       "      <td>0.000000</td>\n",
       "    </tr>\n",
       "    <tr>\n",
       "      <th>25%</th>\n",
       "      <td>114.000000</td>\n",
       "      <td>37.000000</td>\n",
       "      <td>2.828560</td>\n",
       "      <td>0.0</td>\n",
       "      <td>4.000000</td>\n",
       "      <td>114.000000</td>\n",
       "      <td>37.000000</td>\n",
       "      <td>2.828560</td>\n",
       "      <td>4.000000</td>\n",
       "      <td>17.720127</td>\n",
       "    </tr>\n",
       "    <tr>\n",
       "      <th>50%</th>\n",
       "      <td>120.500000</td>\n",
       "      <td>63.500000</td>\n",
       "      <td>2.963475</td>\n",
       "      <td>0.0</td>\n",
       "      <td>8.500000</td>\n",
       "      <td>120.500000</td>\n",
       "      <td>63.500000</td>\n",
       "      <td>2.963475</td>\n",
       "      <td>8.500000</td>\n",
       "      <td>33.778996</td>\n",
       "    </tr>\n",
       "    <tr>\n",
       "      <th>75%</th>\n",
       "      <td>128.000000</td>\n",
       "      <td>74.000000</td>\n",
       "      <td>3.132797</td>\n",
       "      <td>0.0</td>\n",
       "      <td>13.000000</td>\n",
       "      <td>128.000000</td>\n",
       "      <td>74.000000</td>\n",
       "      <td>3.132797</td>\n",
       "      <td>13.000000</td>\n",
       "      <td>69.771088</td>\n",
       "    </tr>\n",
       "    <tr>\n",
       "      <th>max</th>\n",
       "      <td>181.000000</td>\n",
       "      <td>231.000000</td>\n",
       "      <td>3.896714</td>\n",
       "      <td>0.0</td>\n",
       "      <td>17.000000</td>\n",
       "      <td>181.000000</td>\n",
       "      <td>231.000000</td>\n",
       "      <td>3.896714</td>\n",
       "      <td>17.000000</td>\n",
       "      <td>203.962095</td>\n",
       "    </tr>\n",
       "  </tbody>\n",
       "</table>\n",
       "</div>"
      ],
      "text/plain": [
       "            x_c_x       y_c_x       t_c_x   join     index_x       x_c_y  \\\n",
       "count  324.000000  324.000000  324.000000  324.0  324.000000  324.000000   \n",
       "mean   124.500000   73.555556    3.021098    0.0    8.500000  124.500000   \n",
       "std     18.621619   49.155468    0.262489    0.0    5.196152   18.621619   \n",
       "min    100.000000   31.000000    2.773486    0.0    0.000000  100.000000   \n",
       "25%    114.000000   37.000000    2.828560    0.0    4.000000  114.000000   \n",
       "50%    120.500000   63.500000    2.963475    0.0    8.500000  120.500000   \n",
       "75%    128.000000   74.000000    3.132797    0.0   13.000000  128.000000   \n",
       "max    181.000000  231.000000    3.896714    0.0   17.000000  181.000000   \n",
       "\n",
       "            y_c_y       t_c_y     index_y    distance  \n",
       "count  324.000000  324.000000  324.000000  324.000000  \n",
       "mean    73.555556    3.021098    8.500000   52.747142  \n",
       "std     49.155468    0.262489    5.196152   52.300215  \n",
       "min     31.000000    2.773486    0.000000    0.000000  \n",
       "25%     37.000000    2.828560    4.000000   17.720127  \n",
       "50%     63.500000    2.963475    8.500000   33.778996  \n",
       "75%     74.000000    3.132797   13.000000   69.771088  \n",
       "max    231.000000    3.896714   17.000000  203.962095  "
      ]
     },
     "execution_count": 13,
     "metadata": {},
     "output_type": "execute_result"
    }
   ],
   "source": [
    "joined_df[joined_df.signal_x & joined_df.signal_y].describe()"
   ]
  },
  {
   "cell_type": "code",
   "execution_count": 16,
   "metadata": {
    "collapsed": false
   },
   "outputs": [],
   "source": [
    "edjes = pd.DataFrame([joined_df_with_distance.index_x, joined_df_with_distance.index_y])"
   ]
  },
  {
   "cell_type": "code",
   "execution_count": 18,
   "metadata": {},
   "outputs": [],
   "source": [
    "edjes_array = edjes.to_numpy().T"
   ]
  },
  {
   "cell_type": "markdown",
   "metadata": {},
   "source": []
  },
  {
   "cell_type": "code",
   "execution_count": 21,
   "metadata": {
    "collapsed": false
   },
   "outputs": [
    {
     "data": {
      "text/plain": [
       "(19618, 2)"
      ]
     },
     "execution_count": 21,
     "metadata": {},
     "output_type": "execute_result"
    }
   ],
   "source": [
    "edjes_array.shape"
   ]
  },
  {
   "cell_type": "code",
   "execution_count": 22,
   "metadata": {
    "collapsed": false
   },
   "outputs": [],
   "source": [
    "nodes = entry_df[entry_df.t_c<5][['x_c', 'y_c', 't_c']]"
   ]
  },
  {
   "cell_type": "code",
   "execution_count": 24,
   "metadata": {
    "collapsed": false
   },
   "outputs": [],
   "source": [
    "x = nodes.to_numpy()"
   ]
  },
  {
   "cell_type": "code",
   "execution_count": 25,
   "metadata": {
    "collapsed": false
   },
   "outputs": [
    {
     "name": "stderr",
     "output_type": "stream",
     "text": [
      "/home/djkostya/projects/farich-detector/.venv/lib/python3.10/site-packages/tqdm/auto.py:21: TqdmWarning: IProgress not found. Please update jupyter and ipywidgets. See https://ipywidgets.readthedocs.io/en/stable/user_install.html\n",
      "  from .autonotebook import tqdm as notebook_tqdm\n"
     ]
    }
   ],
   "source": [
    "from torch_geometric.data import Data"
   ]
  },
  {
   "cell_type": "code",
   "execution_count": 27,
   "metadata": {},
   "outputs": [],
   "source": [
    "graph = Data(x=x, edge_index=edjes)"
   ]
  },
  {
   "cell_type": "code",
   "execution_count": null,
   "metadata": {},
   "outputs": [],
   "source": []
  },
  {
   "cell_type": "code",
   "execution_count": 6,
   "metadata": {
    "collapsed": false
   },
   "outputs": [
    {
     "data": {
      "text/html": [
       "<div>\n",
       "<style scoped>\n",
       "    .dataframe tbody tr th:only-of-type {\n",
       "        vertical-align: middle;\n",
       "    }\n",
       "\n",
       "    .dataframe tbody tr th {\n",
       "        vertical-align: top;\n",
       "    }\n",
       "\n",
       "    .dataframe thead th {\n",
       "        text-align: right;\n",
       "    }\n",
       "</style>\n",
       "<table border=\"1\" class=\"dataframe\">\n",
       "  <thead>\n",
       "    <tr style=\"text-align: right;\">\n",
       "      <th></th>\n",
       "      <th>entry</th>\n",
       "      <th>subentry</th>\n",
       "      <th>x_c</th>\n",
       "      <th>y_c</th>\n",
       "      <th>z_c</th>\n",
       "      <th>t_c</th>\n",
       "      <th>signal</th>\n",
       "    </tr>\n",
       "  </thead>\n",
       "  <tbody>\n",
       "    <tr>\n",
       "      <th>0</th>\n",
       "      <td>0</td>\n",
       "      <td>0</td>\n",
       "      <td>100</td>\n",
       "      <td>55</td>\n",
       "      <td>201.05</td>\n",
       "      <td>2.956575</td>\n",
       "      <td>True</td>\n",
       "    </tr>\n",
       "    <tr>\n",
       "      <th>1</th>\n",
       "      <td>0</td>\n",
       "      <td>1</td>\n",
       "      <td>105</td>\n",
       "      <td>31</td>\n",
       "      <td>201.05</td>\n",
       "      <td>3.164390</td>\n",
       "      <td>True</td>\n",
       "    </tr>\n",
       "    <tr>\n",
       "      <th>2</th>\n",
       "      <td>0</td>\n",
       "      <td>2</td>\n",
       "      <td>110</td>\n",
       "      <td>32</td>\n",
       "      <td>201.05</td>\n",
       "      <td>3.150230</td>\n",
       "      <td>True</td>\n",
       "    </tr>\n",
       "    <tr>\n",
       "      <th>3</th>\n",
       "      <td>0</td>\n",
       "      <td>3</td>\n",
       "      <td>106</td>\n",
       "      <td>67</td>\n",
       "      <td>201.05</td>\n",
       "      <td>2.841400</td>\n",
       "      <td>True</td>\n",
       "    </tr>\n",
       "    <tr>\n",
       "      <th>4</th>\n",
       "      <td>0</td>\n",
       "      <td>4</td>\n",
       "      <td>117</td>\n",
       "      <td>37</td>\n",
       "      <td>201.05</td>\n",
       "      <td>3.094911</td>\n",
       "      <td>True</td>\n",
       "    </tr>\n",
       "    <tr>\n",
       "      <th>...</th>\n",
       "      <td>...</td>\n",
       "      <td>...</td>\n",
       "      <td>...</td>\n",
       "      <td>...</td>\n",
       "      <td>...</td>\n",
       "      <td>...</td>\n",
       "      <td>...</td>\n",
       "    </tr>\n",
       "    <tr>\n",
       "      <th>791</th>\n",
       "      <td>0</td>\n",
       "      <td>791</td>\n",
       "      <td>47</td>\n",
       "      <td>170</td>\n",
       "      <td>201.05</td>\n",
       "      <td>2.521595</td>\n",
       "      <td>False</td>\n",
       "    </tr>\n",
       "    <tr>\n",
       "      <th>793</th>\n",
       "      <td>0</td>\n",
       "      <td>793</td>\n",
       "      <td>1</td>\n",
       "      <td>167</td>\n",
       "      <td>201.05</td>\n",
       "      <td>0.650147</td>\n",
       "      <td>False</td>\n",
       "    </tr>\n",
       "    <tr>\n",
       "      <th>796</th>\n",
       "      <td>0</td>\n",
       "      <td>796</td>\n",
       "      <td>83</td>\n",
       "      <td>96</td>\n",
       "      <td>201.05</td>\n",
       "      <td>4.902512</td>\n",
       "      <td>False</td>\n",
       "    </tr>\n",
       "    <tr>\n",
       "      <th>797</th>\n",
       "      <td>0</td>\n",
       "      <td>797</td>\n",
       "      <td>24</td>\n",
       "      <td>153</td>\n",
       "      <td>201.05</td>\n",
       "      <td>2.674867</td>\n",
       "      <td>False</td>\n",
       "    </tr>\n",
       "    <tr>\n",
       "      <th>798</th>\n",
       "      <td>0</td>\n",
       "      <td>798</td>\n",
       "      <td>86</td>\n",
       "      <td>29</td>\n",
       "      <td>201.05</td>\n",
       "      <td>4.297562</td>\n",
       "      <td>False</td>\n",
       "    </tr>\n",
       "  </tbody>\n",
       "</table>\n",
       "<p>566 rows × 7 columns</p>\n",
       "</div>"
      ],
      "text/plain": [
       "     entry  subentry  x_c  y_c     z_c       t_c  signal\n",
       "0        0         0  100   55  201.05  2.956575    True\n",
       "1        0         1  105   31  201.05  3.164390    True\n",
       "2        0         2  110   32  201.05  3.150230    True\n",
       "3        0         3  106   67  201.05  2.841400    True\n",
       "4        0         4  117   37  201.05  3.094911    True\n",
       "..     ...       ...  ...  ...     ...       ...     ...\n",
       "791      0       791   47  170  201.05  2.521595   False\n",
       "793      0       793    1  167  201.05  0.650147   False\n",
       "796      0       796   83   96  201.05  4.902512   False\n",
       "797      0       797   24  153  201.05  2.674867   False\n",
       "798      0       798   86   29  201.05  4.297562   False\n",
       "\n",
       "[566 rows x 7 columns]"
      ]
     },
     "execution_count": 6,
     "metadata": {},
     "output_type": "execute_result"
    }
   ],
   "source": [
    "entry_df[entry_df.t_c<=5]"
   ]
  },
  {
   "cell_type": "code",
   "execution_count": 85,
   "metadata": {
    "collapsed": false
   },
   "outputs": [
    {
     "data": {
      "text/html": [
       "<div>\n",
       "<style scoped>\n",
       "    .dataframe tbody tr th:only-of-type {\n",
       "        vertical-align: middle;\n",
       "    }\n",
       "\n",
       "    .dataframe tbody tr th {\n",
       "        vertical-align: top;\n",
       "    }\n",
       "\n",
       "    .dataframe thead th {\n",
       "        text-align: right;\n",
       "    }\n",
       "</style>\n",
       "<table border=\"1\" class=\"dataframe\">\n",
       "  <thead>\n",
       "    <tr style=\"text-align: right;\">\n",
       "      <th></th>\n",
       "      <th>entry</th>\n",
       "      <th>subentry</th>\n",
       "      <th>x_c</th>\n",
       "      <th>y_c</th>\n",
       "      <th>z_c</th>\n",
       "      <th>t_c</th>\n",
       "      <th>signal</th>\n",
       "    </tr>\n",
       "  </thead>\n",
       "  <tbody>\n",
       "    <tr>\n",
       "      <th>0</th>\n",
       "      <td>0</td>\n",
       "      <td>0</td>\n",
       "      <td>100</td>\n",
       "      <td>55</td>\n",
       "      <td>201.05</td>\n",
       "      <td>2.956575</td>\n",
       "      <td>True</td>\n",
       "    </tr>\n",
       "    <tr>\n",
       "      <th>1</th>\n",
       "      <td>0</td>\n",
       "      <td>1</td>\n",
       "      <td>105</td>\n",
       "      <td>31</td>\n",
       "      <td>201.05</td>\n",
       "      <td>3.164390</td>\n",
       "      <td>True</td>\n",
       "    </tr>\n",
       "    <tr>\n",
       "      <th>2</th>\n",
       "      <td>0</td>\n",
       "      <td>2</td>\n",
       "      <td>110</td>\n",
       "      <td>32</td>\n",
       "      <td>201.05</td>\n",
       "      <td>3.150230</td>\n",
       "      <td>True</td>\n",
       "    </tr>\n",
       "    <tr>\n",
       "      <th>3</th>\n",
       "      <td>0</td>\n",
       "      <td>3</td>\n",
       "      <td>106</td>\n",
       "      <td>67</td>\n",
       "      <td>201.05</td>\n",
       "      <td>2.841400</td>\n",
       "      <td>True</td>\n",
       "    </tr>\n",
       "    <tr>\n",
       "      <th>4</th>\n",
       "      <td>0</td>\n",
       "      <td>4</td>\n",
       "      <td>117</td>\n",
       "      <td>37</td>\n",
       "      <td>201.05</td>\n",
       "      <td>3.094911</td>\n",
       "      <td>True</td>\n",
       "    </tr>\n",
       "    <tr>\n",
       "      <th>...</th>\n",
       "      <td>...</td>\n",
       "      <td>...</td>\n",
       "      <td>...</td>\n",
       "      <td>...</td>\n",
       "      <td>...</td>\n",
       "      <td>...</td>\n",
       "      <td>...</td>\n",
       "    </tr>\n",
       "    <tr>\n",
       "      <th>83645212</th>\n",
       "      <td>99999</td>\n",
       "      <td>799</td>\n",
       "      <td>108</td>\n",
       "      <td>148</td>\n",
       "      <td>201.05</td>\n",
       "      <td>2.433213</td>\n",
       "      <td>False</td>\n",
       "    </tr>\n",
       "    <tr>\n",
       "      <th>83645213</th>\n",
       "      <td>99999</td>\n",
       "      <td>800</td>\n",
       "      <td>162</td>\n",
       "      <td>32</td>\n",
       "      <td>201.05</td>\n",
       "      <td>4.979479</td>\n",
       "      <td>False</td>\n",
       "    </tr>\n",
       "    <tr>\n",
       "      <th>83645214</th>\n",
       "      <td>99999</td>\n",
       "      <td>801</td>\n",
       "      <td>25</td>\n",
       "      <td>95</td>\n",
       "      <td>201.05</td>\n",
       "      <td>6.684005</td>\n",
       "      <td>False</td>\n",
       "    </tr>\n",
       "    <tr>\n",
       "      <th>83645215</th>\n",
       "      <td>99999</td>\n",
       "      <td>802</td>\n",
       "      <td>47</td>\n",
       "      <td>12</td>\n",
       "      <td>201.05</td>\n",
       "      <td>6.480466</td>\n",
       "      <td>False</td>\n",
       "    </tr>\n",
       "    <tr>\n",
       "      <th>83645216</th>\n",
       "      <td>99999</td>\n",
       "      <td>803</td>\n",
       "      <td>49</td>\n",
       "      <td>225</td>\n",
       "      <td>201.05</td>\n",
       "      <td>2.273886</td>\n",
       "      <td>False</td>\n",
       "    </tr>\n",
       "  </tbody>\n",
       "</table>\n",
       "<p>83645217 rows × 7 columns</p>\n",
       "</div>"
      ],
      "text/plain": [
       "          entry  subentry  x_c  y_c     z_c       t_c  signal\n",
       "0             0         0  100   55  201.05  2.956575    True\n",
       "1             0         1  105   31  201.05  3.164390    True\n",
       "2             0         2  110   32  201.05  3.150230    True\n",
       "3             0         3  106   67  201.05  2.841400    True\n",
       "4             0         4  117   37  201.05  3.094911    True\n",
       "...         ...       ...  ...  ...     ...       ...     ...\n",
       "83645212  99999       799  108  148  201.05  2.433213   False\n",
       "83645213  99999       800  162   32  201.05  4.979479   False\n",
       "83645214  99999       801   25   95  201.05  6.684005   False\n",
       "83645215  99999       802   47   12  201.05  6.480466   False\n",
       "83645216  99999       803   49  225  201.05  2.273886   False\n",
       "\n",
       "[83645217 rows x 7 columns]"
      ]
     },
     "execution_count": 85,
     "metadata": {},
     "output_type": "execute_result"
    }
   ],
   "source": [
    "df"
   ]
  },
  {
   "cell_type": "code",
   "execution_count": 5,
   "metadata": {
    "collapsed": false
   },
   "outputs": [],
   "source": [
    "entities = df.entry.unique()"
   ]
  },
  {
   "cell_type": "code",
   "execution_count": 6,
   "metadata": {
    "collapsed": false
   },
   "outputs": [],
   "source": [
    "train, test = train_test_split(entities, test_size=0.4, random_state=42, shuffle=True)"
   ]
  },
  {
   "cell_type": "code",
   "execution_count": 7,
   "metadata": {
    "collapsed": false
   },
   "outputs": [],
   "source": [
    "df.t_c = df.t_c.round(2)"
   ]
  },
  {
   "cell_type": "code",
   "execution_count": 33,
   "metadata": {
    "collapsed": false
   },
   "outputs": [],
   "source": [
    "import time"
   ]
  },
  {
   "cell_type": "code",
   "execution_count": 35,
   "metadata": {
    "collapsed": false
   },
   "outputs": [
    {
     "name": "stdout",
     "output_type": "stream",
     "text": [
      "0.11068010330200195\n"
     ]
    }
   ],
   "source": [
    "start = time.time()\n",
    "get_matrix_from_entry(df, 1)\n",
    "print(time.time() - start)"
   ]
  },
  {
   "cell_type": "code",
   "execution_count": null,
   "metadata": {
    "collapsed": false
   },
   "outputs": [],
   "source": []
  },
  {
   "cell_type": "code",
   "execution_count": 38,
   "metadata": {
    "collapsed": false
   },
   "outputs": [
    {
     "name": "stderr",
     "output_type": "stream",
     "text": [
      "  0%|          | 8/60000 [00:10<22:23:59,  1.34s/it]\n"
     ]
    },
    {
     "ename": "KeyboardInterrupt",
     "evalue": "",
     "output_type": "error",
     "traceback": [
      "\u001b[0;31m---------------------------------------------------------------------------\u001b[0m",
      "\u001b[0;31mKeyboardInterrupt\u001b[0m                         Traceback (most recent call last)",
      "Cell \u001b[0;32mIn[38], line 13\u001b[0m\n\u001b[1;32m     11\u001b[0m filename \u001b[38;5;241m=\u001b[39m \u001b[38;5;124mf\u001b[39m\u001b[38;5;124m'\u001b[39m\u001b[38;5;132;01m{\u001b[39;00mtrain_id\u001b[38;5;132;01m}\u001b[39;00m\u001b[38;5;124m_\u001b[39m\u001b[38;5;132;01m{\u001b[39;00mmatrixe_idx\u001b[38;5;132;01m}\u001b[39;00m\u001b[38;5;124m_matrix.npy\u001b[39m\u001b[38;5;124m'\u001b[39m\n\u001b[1;32m     12\u001b[0m \u001b[38;5;28;01mwith\u001b[39;00m \u001b[38;5;28mopen\u001b[39m(matrixes_dir\u001b[38;5;241m/\u001b[39mfilename, \u001b[38;5;124m'\u001b[39m\u001b[38;5;124mwb\u001b[39m\u001b[38;5;124m'\u001b[39m) \u001b[38;5;28;01mas\u001b[39;00m f:\n\u001b[0;32m---> 13\u001b[0m     \u001b[43mnp\u001b[49m\u001b[38;5;241;43m.\u001b[39;49m\u001b[43msave\u001b[49m\u001b[43m(\u001b[49m\u001b[43mf\u001b[49m\u001b[43m,\u001b[49m\u001b[43m \u001b[49m\u001b[43mm\u001b[49m\u001b[43m[\u001b[49m\u001b[38;5;241;43m0\u001b[39;49m\u001b[43m]\u001b[49m\u001b[43m)\u001b[49m\n\u001b[1;32m     14\u001b[0m result\u001b[38;5;241m.\u001b[39mappend((\u001b[38;5;28mstr\u001b[39m((matrixes_dir\u001b[38;5;241m/\u001b[39mfilename)), m[\u001b[38;5;241m1\u001b[39m]))\n",
      "File \u001b[0;32m<__array_function__ internals>:200\u001b[0m, in \u001b[0;36msave\u001b[0;34m(*args, **kwargs)\u001b[0m\n",
      "File \u001b[0;32m~/projects/NSU/farich-detector/.venv/lib/python3.9/site-packages/numpy/lib/npyio.py:522\u001b[0m, in \u001b[0;36msave\u001b[0;34m(file, arr, allow_pickle, fix_imports)\u001b[0m\n\u001b[1;32m    520\u001b[0m \u001b[38;5;28;01mwith\u001b[39;00m file_ctx \u001b[38;5;28;01mas\u001b[39;00m fid:\n\u001b[1;32m    521\u001b[0m     arr \u001b[38;5;241m=\u001b[39m np\u001b[38;5;241m.\u001b[39masanyarray(arr)\n\u001b[0;32m--> 522\u001b[0m     \u001b[38;5;28;43mformat\u001b[39;49m\u001b[38;5;241;43m.\u001b[39;49m\u001b[43mwrite_array\u001b[49m\u001b[43m(\u001b[49m\u001b[43mfid\u001b[49m\u001b[43m,\u001b[49m\u001b[43m \u001b[49m\u001b[43marr\u001b[49m\u001b[43m,\u001b[49m\u001b[43m \u001b[49m\u001b[43mallow_pickle\u001b[49m\u001b[38;5;241;43m=\u001b[39;49m\u001b[43mallow_pickle\u001b[49m\u001b[43m,\u001b[49m\n\u001b[1;32m    523\u001b[0m \u001b[43m                       \u001b[49m\u001b[43mpickle_kwargs\u001b[49m\u001b[38;5;241;43m=\u001b[39;49m\u001b[38;5;28;43mdict\u001b[39;49m\u001b[43m(\u001b[49m\u001b[43mfix_imports\u001b[49m\u001b[38;5;241;43m=\u001b[39;49m\u001b[43mfix_imports\u001b[49m\u001b[43m)\u001b[49m\u001b[43m)\u001b[49m\n",
      "File \u001b[0;32m~/projects/NSU/farich-detector/.venv/lib/python3.9/site-packages/numpy/lib/format.py:722\u001b[0m, in \u001b[0;36mwrite_array\u001b[0;34m(fp, array, version, allow_pickle, pickle_kwargs)\u001b[0m\n\u001b[1;32m    720\u001b[0m \u001b[38;5;28;01melse\u001b[39;00m:\n\u001b[1;32m    721\u001b[0m     \u001b[38;5;28;01mif\u001b[39;00m isfileobj(fp):\n\u001b[0;32m--> 722\u001b[0m         \u001b[43marray\u001b[49m\u001b[38;5;241;43m.\u001b[39;49m\u001b[43mtofile\u001b[49m\u001b[43m(\u001b[49m\u001b[43mfp\u001b[49m\u001b[43m)\u001b[49m\n\u001b[1;32m    723\u001b[0m     \u001b[38;5;28;01melse\u001b[39;00m:\n\u001b[1;32m    724\u001b[0m         \u001b[38;5;28;01mfor\u001b[39;00m chunk \u001b[38;5;129;01min\u001b[39;00m numpy\u001b[38;5;241m.\u001b[39mnditer(\n\u001b[1;32m    725\u001b[0m                 array, flags\u001b[38;5;241m=\u001b[39m[\u001b[38;5;124m'\u001b[39m\u001b[38;5;124mexternal_loop\u001b[39m\u001b[38;5;124m'\u001b[39m, \u001b[38;5;124m'\u001b[39m\u001b[38;5;124mbuffered\u001b[39m\u001b[38;5;124m'\u001b[39m, \u001b[38;5;124m'\u001b[39m\u001b[38;5;124mzerosize_ok\u001b[39m\u001b[38;5;124m'\u001b[39m],\n\u001b[1;32m    726\u001b[0m                 buffersize\u001b[38;5;241m=\u001b[39mbuffersize, order\u001b[38;5;241m=\u001b[39m\u001b[38;5;124m'\u001b[39m\u001b[38;5;124mC\u001b[39m\u001b[38;5;124m'\u001b[39m):\n",
      "\u001b[0;31mKeyboardInterrupt\u001b[0m: "
     ]
    }
   ],
   "source": [
    "result = []\n",
    "\n",
    "matrixes_dir = dataset_dir / 'matrixes'\n",
    "\n",
    "matrixes_dir.mkdir(exist_ok=True, parents=True)\n",
    "matrixes_dir = matrixes_dir.absolute().resolve()\n",
    "\n",
    "for train_id, i in tqdm(enumerate(train), total=len(train)):\n",
    "    matrixes = get_matrix_from_entry(df, i)\n",
    "    for matrixe_idx, m in enumerate(matrixes):\n",
    "        filename = f'{train_id}_{matrixe_idx}_matrix.npy'\n",
    "        with open(matrixes_dir/filename, 'wb') as f:\n",
    "            np.save(f, m[0])\n",
    "        result.append((str((matrixes_dir/filename)), m[1]))\n"
   ]
  },
  {
   "cell_type": "code",
   "execution_count": 27,
   "metadata": {
    "collapsed": false
   },
   "outputs": [],
   "source": [
    "matrixes = get_matrix_from_entry(df, 1)"
   ]
  },
  {
   "cell_type": "code",
   "execution_count": 29,
   "metadata": {
    "collapsed": false
   },
   "outputs": [
    {
     "data": {
      "text/plain": [
       "(array([[[0., 0., 0., ..., 0., 0., 0.],\n",
       "         [0., 0., 0., ..., 0., 0., 0.],\n",
       "         [0., 0., 0., ..., 0., 0., 0.],\n",
       "         ...,\n",
       "         [0., 0., 0., ..., 0., 0., 0.],\n",
       "         [0., 0., 0., ..., 0., 0., 0.],\n",
       "         [0., 0., 0., ..., 0., 0., 0.]],\n",
       " \n",
       "        [[0., 0., 0., ..., 0., 0., 0.],\n",
       "         [0., 0., 0., ..., 0., 0., 0.],\n",
       "         [0., 0., 0., ..., 0., 0., 0.],\n",
       "         ...,\n",
       "         [0., 0., 0., ..., 0., 0., 0.],\n",
       "         [0., 0., 0., ..., 0., 0., 0.],\n",
       "         [0., 0., 0., ..., 0., 0., 0.]],\n",
       " \n",
       "        [[0., 0., 0., ..., 0., 0., 0.],\n",
       "         [0., 0., 0., ..., 0., 0., 0.],\n",
       "         [0., 0., 0., ..., 0., 0., 0.],\n",
       "         ...,\n",
       "         [0., 0., 0., ..., 0., 0., 0.],\n",
       "         [0., 0., 0., ..., 0., 0., 0.],\n",
       "         [0., 0., 0., ..., 0., 0., 0.]],\n",
       " \n",
       "        ...,\n",
       " \n",
       "        [[0., 0., 0., ..., 0., 0., 0.],\n",
       "         [0., 0., 0., ..., 0., 0., 0.],\n",
       "         [0., 0., 0., ..., 0., 0., 0.],\n",
       "         ...,\n",
       "         [0., 0., 0., ..., 0., 0., 0.],\n",
       "         [0., 0., 0., ..., 0., 0., 0.],\n",
       "         [0., 0., 0., ..., 0., 0., 0.]],\n",
       " \n",
       "        [[0., 0., 0., ..., 0., 0., 0.],\n",
       "         [0., 0., 0., ..., 0., 0., 0.],\n",
       "         [0., 0., 0., ..., 0., 0., 0.],\n",
       "         ...,\n",
       "         [0., 0., 0., ..., 0., 0., 0.],\n",
       "         [0., 0., 0., ..., 0., 0., 0.],\n",
       "         [0., 0., 0., ..., 0., 0., 0.]],\n",
       " \n",
       "        [[0., 0., 0., ..., 0., 0., 0.],\n",
       "         [0., 0., 0., ..., 0., 0., 0.],\n",
       "         [0., 0., 0., ..., 0., 0., 0.],\n",
       "         ...,\n",
       "         [0., 0., 0., ..., 0., 0., 0.],\n",
       "         [0., 0., 0., ..., 0., 0., 0.],\n",
       "         [0., 0., 0., ..., 0., 0., 0.]]]),\n",
       " 0.9090909090909091)"
      ]
     },
     "execution_count": 29,
     "metadata": {},
     "output_type": "execute_result"
    }
   ],
   "source": []
  },
  {
   "cell_type": "code",
   "execution_count": null,
   "metadata": {
    "collapsed": false
   },
   "outputs": [],
   "source": [
    "result"
   ]
  },
  {
   "cell_type": "code",
   "execution_count": 17,
   "metadata": {
    "collapsed": false
   },
   "outputs": [],
   "source": [
    "matrix_df = pd.DataFrame(result, columns=['matrix_pth', 'ratio'])"
   ]
  },
  {
   "cell_type": "code",
   "execution_count": 19,
   "metadata": {
    "collapsed": false
   },
   "outputs": [],
   "source": [
    "matrix_df.matrix_pth = matrix_df.matrix_pth.apply(lambda x: Path(x).resolve().__str__())"
   ]
  },
  {
   "cell_type": "code",
   "execution_count": 20,
   "metadata": {
    "collapsed": false
   },
   "outputs": [],
   "source": [
    "matrix_df.to_csv(dataset_dir/\"matrix.csv\", index=False)"
   ]
  },
  {
   "cell_type": "markdown",
   "metadata": {
    "collapsed": false
   },
   "source": []
  },
  {
   "cell_type": "code",
   "execution_count": 162,
   "metadata": {
    "collapsed": false
   },
   "outputs": [
    {
     "name": "stderr",
     "output_type": "stream",
     "text": [
      "\n",
      "  0%|          | 0/60000 [00:00<?, ?it/s]\u001b[A\n",
      "  0%|          | 1/60000 [00:01<17:21:46,  1.04s/it]\u001b[A\n",
      "  0%|          | 3/60000 [00:01<5:17:13,  3.15it/s] \u001b[A\n",
      "  0%|          | 5/60000 [00:01<3:05:19,  5.40it/s]\u001b[A\n",
      "  0%|          | 7/60000 [00:01<2:12:29,  7.55it/s]\u001b[A\n",
      "  0%|          | 9/60000 [00:01<1:45:44,  9.46it/s]\u001b[A\n",
      "  0%|          | 11/60000 [00:01<1:29:41, 11.15it/s]\u001b[A\n",
      "  0%|          | 13/60000 [00:01<1:20:29, 12.42it/s]\u001b[A\n",
      "  0%|          | 15/60000 [00:01<1:13:41, 13.57it/s]\u001b[A\n",
      "  0%|          | 17/60000 [00:02<1:09:55, 14.30it/s]\u001b[A\n",
      "  0%|          | 19/60000 [00:02<1:06:46, 14.97it/s]\u001b[A\n",
      "  0%|          | 21/60000 [00:02<1:05:19, 15.30it/s]\u001b[A\n",
      "  0%|          | 23/60000 [00:02<1:04:11, 15.57it/s]\u001b[A\n",
      "  0%|          | 25/60000 [00:02<1:03:00, 15.86it/s]\u001b[A\n",
      "  0%|          | 27/60000 [00:02<1:02:13, 16.06it/s]\u001b[A\n",
      "  0%|          | 29/60000 [00:02<1:01:39, 16.21it/s]\u001b[A\n",
      "  0%|          | 31/60000 [00:02<1:01:49, 16.17it/s]\u001b[A\n",
      "  0%|          | 33/60000 [00:02<1:01:25, 16.27it/s]\u001b[A/var/folders/2h/pvzr32ss6hd_92k0r59f4k940000gn/T/ipykernel_72088/367963849.py:14: RuntimeWarning: invalid value encountered in scalar divide\n",
      "  matrixes.append((matrix, current_signal/total_signal))\n",
      "\n",
      "  0%|          | 35/60000 [00:03<1:01:06, 16.35it/s]\u001b[A\n",
      "  0%|          | 37/60000 [00:03<1:00:17, 16.57it/s]\u001b[A\n",
      "  0%|          | 39/60000 [00:03<1:00:39, 16.47it/s]\u001b[A\n",
      "  0%|          | 41/60000 [00:03<1:01:05, 16.36it/s]\u001b[A\n",
      "  0%|          | 43/60000 [00:03<1:01:24, 16.27it/s]\u001b[A\n",
      "  0%|          | 45/60000 [00:03<1:01:03, 16.36it/s]\u001b[A\n",
      "  0%|          | 47/60000 [00:03<1:00:36, 16.49it/s]\u001b[A/var/folders/2h/pvzr32ss6hd_92k0r59f4k940000gn/T/ipykernel_72088/367963849.py:14: RuntimeWarning: invalid value encountered in scalar divide\n",
      "  matrixes.append((matrix, current_signal/total_signal))\n",
      "\n",
      "  0%|          | 49/60000 [00:03<1:01:15, 16.31it/s]\u001b[A\n",
      "  0%|          | 51/60000 [00:04<1:00:30, 16.51it/s]\u001b[A\n",
      "  0%|          | 53/60000 [00:04<1:00:40, 16.47it/s]\u001b[A\n",
      "  0%|          | 55/60000 [00:04<1:01:16, 16.30it/s]\u001b[A\n",
      "  0%|          | 57/60000 [00:04<1:01:02, 16.37it/s]\u001b[A\n",
      "  0%|          | 59/60000 [00:04<1:01:04, 16.36it/s]\u001b[A\n",
      "  0%|          | 61/60000 [00:04<1:02:16, 16.04it/s]\u001b[A\n",
      "  0%|          | 63/60000 [00:04<1:01:56, 16.13it/s]\u001b[A\n",
      "  0%|          | 65/60000 [00:04<1:02:13, 16.05it/s]\u001b[A\n",
      "  0%|          | 67/60000 [00:05<1:01:20, 16.28it/s]\u001b[A\n",
      "  0%|          | 69/60000 [00:05<1:01:05, 16.35it/s]\u001b[A\n",
      "  0%|          | 71/60000 [00:05<1:01:21, 16.28it/s]\u001b[A\n",
      "  0%|          | 73/60000 [00:05<1:00:54, 16.40it/s]\u001b[A\n",
      "  0%|          | 75/60000 [00:05<1:00:43, 16.45it/s]\u001b[A\n",
      "  0%|          | 77/60000 [00:05<1:01:15, 16.30it/s]\u001b[A\n",
      "  0%|          | 79/60000 [00:05<1:00:52, 16.40it/s]\u001b[A\n",
      "  0%|          | 81/60000 [00:05<1:01:07, 16.34it/s]\u001b[A\n",
      "  0%|          | 83/60000 [00:06<1:00:03, 16.63it/s]\u001b[A\n",
      "  0%|          | 85/60000 [00:06<1:00:21, 16.55it/s]\u001b[A\n",
      "  0%|          | 87/60000 [00:06<1:00:36, 16.48it/s]\u001b[A\n",
      "  0%|          | 89/60000 [00:06<1:00:54, 16.39it/s]\u001b[A\n",
      "  0%|          | 91/60000 [00:06<1:00:57, 16.38it/s]\u001b[A\n",
      "  0%|          | 93/60000 [00:06<1:13:30, 13.58it/s]\u001b[A\n",
      "  0%|          | 95/60000 [00:06<1:10:57, 14.07it/s]\u001b[A\n",
      "  0%|          | 97/60000 [00:07<1:10:12, 14.22it/s]\u001b[A\n",
      "  0%|          | 99/60000 [00:07<1:07:56, 14.70it/s]\u001b[A\n",
      "  0%|          | 101/60000 [00:07<1:10:54, 14.08it/s]\u001b[A\n",
      "  0%|          | 103/60000 [00:07<1:08:38, 14.54it/s]\u001b[A\n",
      "  0%|          | 105/60000 [00:07<1:06:08, 15.09it/s]\u001b[A\n",
      "  0%|          | 107/60000 [00:07<1:05:18, 15.29it/s]\u001b[A/var/folders/2h/pvzr32ss6hd_92k0r59f4k940000gn/T/ipykernel_72088/367963849.py:14: RuntimeWarning: invalid value encountered in scalar divide\n",
      "  matrixes.append((matrix, current_signal/total_signal))\n",
      "\n",
      "  0%|          | 109/60000 [00:07<1:03:40, 15.68it/s]\u001b[A\n",
      "  0%|          | 111/60000 [00:07<1:03:31, 15.71it/s]\u001b[A\n",
      "  0%|          | 113/60000 [00:08<1:02:15, 16.03it/s]\u001b[A\n",
      "  0%|          | 115/60000 [00:08<1:02:35, 15.95it/s]\u001b[A\n",
      "  0%|          | 117/60000 [00:08<1:03:57, 15.60it/s]\u001b[A\n",
      "  0%|          | 119/60000 [00:08<1:04:05, 15.57it/s]\u001b[A\n",
      "  0%|          | 121/60000 [00:08<1:03:39, 15.68it/s]\u001b[A\n",
      "  0%|          | 123/60000 [00:08<1:03:06, 15.81it/s]\u001b[A\n",
      "  0%|          | 125/60000 [00:08<1:03:42, 15.66it/s]\u001b[A\n",
      "  0%|          | 127/60000 [00:08<1:03:33, 15.70it/s]\u001b[A\n",
      "  0%|          | 129/60000 [00:09<1:02:56, 15.85it/s]\u001b[A\n",
      "  0%|          | 131/60000 [00:09<1:02:45, 15.90it/s]\u001b[A\n",
      "  0%|          | 133/60000 [00:09<1:01:57, 16.11it/s]\u001b[A\n",
      "  0%|          | 135/60000 [00:09<1:01:50, 16.13it/s]\u001b[A\n",
      "  0%|          | 137/60000 [00:09<1:02:06, 16.06it/s]\u001b[A\n",
      "  0%|          | 139/60000 [00:09<1:01:55, 16.11it/s]\u001b[A\n",
      "  0%|          | 141/60000 [00:09<1:01:30, 16.22it/s]\u001b[A\n",
      "  0%|          | 143/60000 [00:09<1:02:07, 16.06it/s]\u001b[A\n",
      "  0%|          | 145/60000 [00:10<1:03:07, 15.81it/s]\u001b[A\n",
      "  0%|          | 147/60000 [00:10<1:02:00, 16.09it/s]\u001b[A\n",
      "  0%|          | 149/60000 [00:10<1:01:57, 16.10it/s]\u001b[A\n",
      "  0%|          | 151/60000 [00:10<1:02:14, 16.03it/s]\u001b[A\n",
      "  0%|          | 153/60000 [00:10<1:01:27, 16.23it/s]\u001b[A\n",
      "  0%|          | 155/60000 [00:10<1:01:28, 16.22it/s]\u001b[A\n",
      "  0%|          | 157/60000 [00:10<1:01:56, 16.10it/s]\u001b[A\n",
      "  0%|          | 159/60000 [00:10<1:01:26, 16.23it/s]\u001b[A\n",
      "  0%|          | 161/60000 [00:11<1:01:39, 16.18it/s]\u001b[A\n",
      "  0%|          | 163/60000 [00:11<1:01:47, 16.14it/s]\u001b[A\n",
      "  0%|          | 165/60000 [00:11<1:02:29, 15.96it/s]\u001b[A\n",
      "  0%|          | 167/60000 [00:11<1:02:45, 15.89it/s]\u001b[A\n",
      "  0%|          | 169/60000 [00:11<1:02:43, 15.90it/s]\u001b[A\n",
      "  0%|          | 171/60000 [00:11<1:03:15, 15.76it/s]\u001b[A\n",
      "  0%|          | 173/60000 [00:11<1:04:24, 15.48it/s]\u001b[A\n",
      "  0%|          | 175/60000 [00:11<1:03:59, 15.58it/s]\u001b[A\n",
      "  0%|          | 177/60000 [00:12<1:04:06, 15.55it/s]\u001b[A\n",
      "  0%|          | 179/60000 [00:12<1:03:16, 15.76it/s]\u001b[A\n",
      "  0%|          | 181/60000 [00:12<1:03:31, 15.69it/s]\u001b[A\n",
      "  0%|          | 183/60000 [00:12<1:02:46, 15.88it/s]\u001b[A\n",
      "  0%|          | 185/60000 [00:12<1:01:52, 16.11it/s]\u001b[A\n",
      "  0%|          | 187/60000 [00:12<1:02:26, 15.97it/s]\u001b[A\n",
      "  0%|          | 189/60000 [00:12<1:02:26, 15.96it/s]\u001b[A\n",
      "  0%|          | 191/60000 [00:12<1:03:31, 15.69it/s]\u001b[A\n",
      "  0%|          | 193/60000 [00:13<1:03:47, 15.62it/s]\u001b[A\n",
      "  0%|          | 195/60000 [00:13<1:03:23, 15.72it/s]\u001b[A\n",
      "  0%|          | 197/60000 [00:13<1:02:39, 15.91it/s]\u001b[A\n",
      "  0%|          | 199/60000 [00:13<1:02:30, 15.95it/s]\u001b[A\n",
      "  0%|          | 201/60000 [00:13<1:03:19, 15.74it/s]\u001b[A/var/folders/2h/pvzr32ss6hd_92k0r59f4k940000gn/T/ipykernel_72088/367963849.py:14: RuntimeWarning: invalid value encountered in scalar divide\n",
      "  matrixes.append((matrix, current_signal/total_signal))\n",
      "\n",
      "  0%|          | 203/60000 [00:13<1:02:30, 15.95it/s]\u001b[A\n",
      "  0%|          | 205/60000 [00:13<1:03:13, 15.76it/s]\u001b[A\n",
      "  0%|          | 207/60000 [00:13<1:03:01, 15.81it/s]\u001b[A\n",
      "  0%|          | 209/60000 [00:14<1:02:15, 16.01it/s]\u001b[A\n",
      "  0%|          | 211/60000 [00:14<1:01:24, 16.23it/s]\u001b[A\n",
      "  0%|          | 213/60000 [00:14<1:01:06, 16.30it/s]\u001b[A\n",
      "  0%|          | 215/60000 [00:14<1:00:45, 16.40it/s]\u001b[A\n",
      "  0%|          | 217/60000 [00:14<1:00:19, 16.52it/s]\u001b[A\n",
      "  0%|          | 219/60000 [00:14<1:00:23, 16.50it/s]\u001b[A\n",
      "  0%|          | 221/60000 [00:14<1:01:20, 16.24it/s]\u001b[A\n",
      "  0%|          | 223/60000 [00:14<1:01:36, 16.17it/s]\u001b[A\n",
      "  0%|          | 225/60000 [00:15<1:01:56, 16.08it/s]\u001b[A\n",
      "  0%|          | 227/60000 [00:15<1:00:44, 16.40it/s]\u001b[A\n",
      "  0%|          | 229/60000 [00:15<1:00:02, 16.59it/s]\u001b[A\n",
      "  0%|          | 231/60000 [00:15<1:00:42, 16.41it/s]\u001b[A\n",
      "  0%|          | 233/60000 [00:15<1:00:54, 16.35it/s]\u001b[A\n",
      "  0%|          | 235/60000 [00:15<1:00:57, 16.34it/s]\u001b[A\n",
      "  0%|          | 237/60000 [00:15<1:01:14, 16.26it/s]\u001b[A\n",
      "  0%|          | 239/60000 [00:15<1:01:13, 16.27it/s]\u001b[A\n",
      "  0%|          | 241/60000 [00:16<1:00:52, 16.36it/s]\u001b[A\n",
      "  0%|          | 243/60000 [00:16<1:01:26, 16.21it/s]\u001b[A\n",
      "  0%|          | 245/60000 [00:16<1:01:43, 16.13it/s]\u001b[A\n",
      "  0%|          | 247/60000 [00:16<1:01:42, 16.14it/s]\u001b[A\n",
      "  0%|          | 249/60000 [00:16<1:01:42, 16.14it/s]\u001b[A\n",
      "  0%|          | 251/60000 [00:16<1:01:59, 16.06it/s]\u001b[A\n",
      "  0%|          | 253/60000 [00:16<1:01:53, 16.09it/s]\u001b[A\n",
      "  0%|          | 255/60000 [00:16<1:01:52, 16.09it/s]\u001b[A\n",
      "  0%|          | 257/60000 [00:17<1:01:39, 16.15it/s]\u001b[A\n",
      "  0%|          | 259/60000 [00:17<1:01:48, 16.11it/s]\u001b[A\n",
      "  0%|          | 261/60000 [00:17<1:01:25, 16.21it/s]\u001b[A\n",
      "  0%|          | 263/60000 [00:17<1:01:29, 16.19it/s]\u001b[A\n",
      "  0%|          | 265/60000 [00:17<1:01:44, 16.13it/s]\u001b[A\n",
      "  0%|          | 267/60000 [00:17<1:01:50, 16.10it/s]\u001b[A\n",
      "  0%|          | 269/60000 [00:17<1:01:30, 16.19it/s]\u001b[A\n",
      "  0%|          | 271/60000 [00:17<1:01:52, 16.09it/s]\u001b[A\n",
      "  0%|          | 273/60000 [00:18<1:01:45, 16.12it/s]\u001b[A\n",
      "  0%|          | 275/60000 [00:18<1:02:20, 15.97it/s]\u001b[A\n",
      "  0%|          | 277/60000 [00:18<1:01:29, 16.19it/s]\u001b[A\n",
      "  0%|          | 279/60000 [00:18<1:01:29, 16.19it/s]\u001b[A\n",
      "  0%|          | 281/60000 [00:18<1:00:41, 16.40it/s]\u001b[A\n",
      "  0%|          | 283/60000 [00:18<1:01:21, 16.22it/s]\u001b[A\n",
      "  0%|          | 285/60000 [00:18<1:00:56, 16.33it/s]\u001b[A\n",
      "  0%|          | 287/60000 [00:18<1:01:38, 16.15it/s]\u001b[A\n",
      "  0%|          | 289/60000 [00:18<1:01:02, 16.30it/s]\u001b[A\n",
      "  0%|          | 291/60000 [00:19<1:01:46, 16.11it/s]\u001b[A\n",
      "  0%|          | 293/60000 [00:19<1:01:30, 16.18it/s]\u001b[A\n",
      "  0%|          | 295/60000 [00:19<1:02:03, 16.04it/s]\u001b[A\n",
      "  0%|          | 297/60000 [00:19<1:02:22, 15.95it/s]\u001b[A\n",
      "  0%|          | 299/60000 [00:19<1:01:41, 16.13it/s]\u001b[A\n",
      "  1%|          | 301/60000 [00:19<1:01:14, 16.25it/s]\u001b[A\n",
      "  1%|          | 303/60000 [00:19<1:00:45, 16.38it/s]\u001b[A\n",
      "  1%|          | 305/60000 [00:19<1:01:02, 16.30it/s]\u001b[A\n",
      "  1%|          | 307/60000 [00:20<1:01:27, 16.19it/s]\u001b[A\n",
      "  1%|          | 309/60000 [00:20<1:01:34, 16.16it/s]\u001b[A\n",
      "  1%|          | 311/60000 [00:20<1:01:26, 16.19it/s]\u001b[A\n",
      "  1%|          | 313/60000 [00:20<1:01:48, 16.10it/s]\u001b[A\n",
      "  1%|          | 315/60000 [00:20<1:01:34, 16.16it/s]\u001b[A\n",
      "  1%|          | 317/60000 [00:20<1:00:53, 16.34it/s]\u001b[A\n",
      "  1%|          | 319/60000 [00:20<1:00:22, 16.47it/s]\u001b[A\n",
      "  1%|          | 321/60000 [00:20<1:00:46, 16.36it/s]\u001b[A\n",
      "  1%|          | 323/60000 [00:21<1:00:00, 16.58it/s]\u001b[A\n",
      "  1%|          | 325/60000 [00:21<1:00:23, 16.47it/s]\u001b[A\n",
      "  1%|          | 327/60000 [00:21<59:49, 16.62it/s]  \u001b[A\n",
      "  1%|          | 329/60000 [00:21<1:00:35, 16.41it/s]\u001b[A\n",
      "  1%|          | 331/60000 [00:21<1:01:18, 16.22it/s]\u001b[A\n",
      "  1%|          | 333/60000 [00:21<1:01:56, 16.05it/s]\u001b[A\n",
      "  1%|          | 335/60000 [00:21<1:01:45, 16.10it/s]\u001b[A\n",
      "  1%|          | 337/60000 [00:21<1:02:20, 15.95it/s]\u001b[A\n",
      "  1%|          | 339/60000 [00:22<1:02:37, 15.88it/s]\u001b[A\n",
      "  1%|          | 341/60000 [00:22<1:02:37, 15.88it/s]\u001b[A\n",
      "  1%|          | 343/60000 [00:22<1:02:33, 15.89it/s]\u001b[A\n",
      "  1%|          | 345/60000 [00:22<1:02:31, 15.90it/s]\u001b[A\n",
      "  1%|          | 347/60000 [00:22<1:02:29, 15.91it/s]\u001b[A\n",
      "  1%|          | 349/60000 [00:22<1:01:27, 16.18it/s]\u001b[A\n",
      "  1%|          | 351/60000 [00:22<1:01:59, 16.04it/s]\u001b[A\n",
      "  1%|          | 353/60000 [00:22<1:03:47, 15.58it/s]\u001b[A\n",
      "  1%|          | 355/60000 [00:23<1:02:44, 15.85it/s]\u001b[A\n",
      "  1%|          | 357/60000 [00:23<1:02:43, 15.85it/s]\u001b[A\n",
      "  1%|          | 359/60000 [00:23<1:02:05, 16.01it/s]\u001b[A\n",
      "  1%|          | 361/60000 [00:23<1:02:07, 16.00it/s]\u001b[A\n",
      "  1%|          | 363/60000 [00:23<1:01:34, 16.14it/s]\u001b[A\n",
      "  1%|          | 365/60000 [00:23<1:01:52, 16.07it/s]\u001b[A\n",
      "  1%|          | 367/60000 [00:23<1:01:50, 16.07it/s]\u001b[A\n",
      "  1%|          | 369/60000 [00:23<1:02:08, 15.99it/s]\u001b[A\n",
      "  1%|          | 371/60000 [00:24<1:02:02, 16.02it/s]\u001b[A\n",
      "  1%|          | 373/60000 [00:24<1:03:07, 15.74it/s]\u001b[A\n",
      "  1%|          | 375/60000 [00:24<1:02:28, 15.90it/s]\u001b[A\n",
      "  1%|          | 377/60000 [00:24<1:01:37, 16.13it/s]\u001b[A"
     ]
    },
    {
     "ename": "KeyboardInterrupt",
     "evalue": "",
     "output_type": "error",
     "traceback": [
      "\u001b[0;31m---------------------------------------------------------------------------\u001b[0m",
      "\u001b[0;31mKeyboardInterrupt\u001b[0m                         Traceback (most recent call last)",
      "Cell \u001b[0;32mIn[162], line 1\u001b[0m\n\u001b[0;32m----> 1\u001b[0m train_df \u001b[38;5;241m=\u001b[39m pd\u001b[38;5;241m.\u001b[39mconcat([get_matrix_from_entry(df, i) \u001b[38;5;28;01mfor\u001b[39;00m i \u001b[38;5;129;01min\u001b[39;00m tqdm(train)])\n",
      "Cell \u001b[0;32mIn[162], line 1\u001b[0m, in \u001b[0;36m<listcomp>\u001b[0;34m(.0)\u001b[0m\n\u001b[0;32m----> 1\u001b[0m train_df \u001b[38;5;241m=\u001b[39m pd\u001b[38;5;241m.\u001b[39mconcat([\u001b[43mget_matrix_from_entry\u001b[49m\u001b[43m(\u001b[49m\u001b[43mdf\u001b[49m\u001b[43m,\u001b[49m\u001b[43m \u001b[49m\u001b[43mi\u001b[49m\u001b[43m)\u001b[49m \u001b[38;5;28;01mfor\u001b[39;00m i \u001b[38;5;129;01min\u001b[39;00m tqdm(train)])\n",
      "Cell \u001b[0;32mIn[161], line 2\u001b[0m, in \u001b[0;36mget_matrix_from_entry\u001b[0;34m(df, entry)\u001b[0m\n\u001b[1;32m      1\u001b[0m \u001b[38;5;28;01mdef\u001b[39;00m \u001b[38;5;21mget_matrix_from_entry\u001b[39m(df, entry):\n\u001b[0;32m----> 2\u001b[0m     entry_df \u001b[38;5;241m=\u001b[39m \u001b[43mdf\u001b[49m\u001b[43m[\u001b[49m\u001b[43mdf\u001b[49m\u001b[38;5;241;43m.\u001b[39;49m\u001b[43mentry\u001b[49m\u001b[43m \u001b[49m\u001b[38;5;241;43m==\u001b[39;49m\u001b[43m \u001b[49m\u001b[43mentry\u001b[49m\u001b[43m]\u001b[49m\n\u001b[1;32m      4\u001b[0m     \u001b[38;5;28;01mreturn\u001b[39;00m get_matrix_from_df(entry_df)\n",
      "File \u001b[0;32m~/projects/NSU/farich-detector/.venv/lib/python3.9/site-packages/pandas/core/frame.py:3798\u001b[0m, in \u001b[0;36mDataFrame.__getitem__\u001b[0;34m(self, key)\u001b[0m\n\u001b[1;32m   3796\u001b[0m \u001b[38;5;66;03m# Do we have a (boolean) 1d indexer?\u001b[39;00m\n\u001b[1;32m   3797\u001b[0m \u001b[38;5;28;01mif\u001b[39;00m com\u001b[38;5;241m.\u001b[39mis_bool_indexer(key):\n\u001b[0;32m-> 3798\u001b[0m     \u001b[38;5;28;01mreturn\u001b[39;00m \u001b[38;5;28;43mself\u001b[39;49m\u001b[38;5;241;43m.\u001b[39;49m\u001b[43m_getitem_bool_array\u001b[49m\u001b[43m(\u001b[49m\u001b[43mkey\u001b[49m\u001b[43m)\u001b[49m\n\u001b[1;32m   3800\u001b[0m \u001b[38;5;66;03m# We are left with two options: a single key, and a collection of keys,\u001b[39;00m\n\u001b[1;32m   3801\u001b[0m \u001b[38;5;66;03m# We interpret tuples as collections only for non-MultiIndex\u001b[39;00m\n\u001b[1;32m   3802\u001b[0m is_single_key \u001b[38;5;241m=\u001b[39m \u001b[38;5;28misinstance\u001b[39m(key, \u001b[38;5;28mtuple\u001b[39m) \u001b[38;5;129;01mor\u001b[39;00m \u001b[38;5;129;01mnot\u001b[39;00m is_list_like(key)\n",
      "File \u001b[0;32m~/projects/NSU/farich-detector/.venv/lib/python3.9/site-packages/pandas/core/frame.py:3852\u001b[0m, in \u001b[0;36mDataFrame._getitem_bool_array\u001b[0;34m(self, key)\u001b[0m\n\u001b[1;32m   3849\u001b[0m \u001b[38;5;66;03m# check_bool_indexer will throw exception if Series key cannot\u001b[39;00m\n\u001b[1;32m   3850\u001b[0m \u001b[38;5;66;03m# be reindexed to match DataFrame rows\u001b[39;00m\n\u001b[1;32m   3851\u001b[0m key \u001b[38;5;241m=\u001b[39m check_bool_indexer(\u001b[38;5;28mself\u001b[39m\u001b[38;5;241m.\u001b[39mindex, key)\n\u001b[0;32m-> 3852\u001b[0m indexer \u001b[38;5;241m=\u001b[39m \u001b[43mkey\u001b[49m\u001b[38;5;241;43m.\u001b[39;49m\u001b[43mnonzero\u001b[49m\u001b[43m(\u001b[49m\u001b[43m)\u001b[49m[\u001b[38;5;241m0\u001b[39m]\n\u001b[1;32m   3853\u001b[0m \u001b[38;5;28;01mreturn\u001b[39;00m \u001b[38;5;28mself\u001b[39m\u001b[38;5;241m.\u001b[39m_take_with_is_copy(indexer, axis\u001b[38;5;241m=\u001b[39m\u001b[38;5;241m0\u001b[39m)\n",
      "\u001b[0;31mKeyboardInterrupt\u001b[0m: "
     ]
    }
   ],
   "source": [
    "train_df = pd.concat(m)"
   ]
  },
  {
   "cell_type": "code",
   "execution_count": 25,
   "metadata": {
    "collapsed": false
   },
   "outputs": [],
   "source": [
    "def get_matrix_from_entry(df, entry):\n",
    "    entry_df = df[df.entry == entry]\n",
    "\n",
    "    return get_matrix_from_df(entry_df)"
   ]
  },
  {
   "cell_type": "code",
   "execution_count": 26,
   "metadata": {
    "collapsed": false
   },
   "outputs": [],
   "source": [
    "def get_matrix_from_df(entry_df, window_size=500):\n",
    "    matrixes = []\n",
    "    total_signal = entry_df.signal.sum()\n",
    "    if total_signal == 0:\n",
    "        return matrixes\n",
    "    times = np.arange(0, 13, 0.01)\n",
    "    windows = rolling_window(times, window_size, 200)\n",
    "    for idxs in windows:\n",
    "        idx2val = {val: idx for idx, val in enumerate(idxs)}\n",
    "        matrix = np.zeros((window_size, 240, 240))\n",
    "        entries_for_idx = entry_df[entry_df.t_c.isin(idxs)]\n",
    "        current_signal = entries_for_idx.signal.sum()\n",
    "        for idx, row in entries_for_idx.iterrows():\n",
    "            matrix[idx2val[row['t_c']], row['x_c']-1, row['y_c']-1] = 1\n",
    "\n",
    "        matrixes.append((matrix, current_signal/total_signal))\n",
    "    return matrixes\n"
   ]
  },
  {
   "cell_type": "code",
   "execution_count": 152,
   "metadata": {
    "collapsed": false
   },
   "outputs": [
    {
     "name": "stderr",
     "output_type": "stream",
     "text": [
      "/var/folders/2h/pvzr32ss6hd_92k0r59f4k940000gn/T/ipykernel_72088/1409683054.py:2: SettingWithCopyWarning: \n",
      "A value is trying to be set on a copy of a slice from a DataFrame.\n",
      "Try using .loc[row_indexer,col_indexer] = value instead\n",
      "\n",
      "See the caveats in the documentation: https://pandas.pydata.org/pandas-docs/stable/user_guide/indexing.html#returning-a-view-versus-a-copy\n",
      "  first_entry.t_c = first_entry.t_c.round(2)\n"
     ]
    },
    {
     "data": {
      "text/html": [
       "<div>\n",
       "<style scoped>\n",
       "    .dataframe tbody tr th:only-of-type {\n",
       "        vertical-align: middle;\n",
       "    }\n",
       "\n",
       "    .dataframe tbody tr th {\n",
       "        vertical-align: top;\n",
       "    }\n",
       "\n",
       "    .dataframe thead th {\n",
       "        text-align: right;\n",
       "    }\n",
       "</style>\n",
       "<table border=\"1\" class=\"dataframe\">\n",
       "  <thead>\n",
       "    <tr style=\"text-align: right;\">\n",
       "      <th></th>\n",
       "      <th>Matrix</th>\n",
       "      <th>target_acc</th>\n",
       "    </tr>\n",
       "  </thead>\n",
       "  <tbody>\n",
       "    <tr>\n",
       "      <th>0</th>\n",
       "      <td>[[[0.0, 0.0, 0.0, 0.0, 0.0, 0.0, 0.0, 0.0, 0.0...</td>\n",
       "      <td>0.000000</td>\n",
       "    </tr>\n",
       "    <tr>\n",
       "      <th>1</th>\n",
       "      <td>[[[0.0, 0.0, 0.0, 0.0, 0.0, 0.0, 0.0, 0.0, 0.0...</td>\n",
       "      <td>0.859649</td>\n",
       "    </tr>\n",
       "    <tr>\n",
       "      <th>2</th>\n",
       "      <td>[[[0.0, 0.0, 0.0, 0.0, 0.0, 0.0, 0.0, 0.0, 0.0...</td>\n",
       "      <td>0.859649</td>\n",
       "    </tr>\n",
       "    <tr>\n",
       "      <th>3</th>\n",
       "      <td>[[[0.0, 0.0, 0.0, 0.0, 0.0, 0.0, 0.0, 0.0, 0.0...</td>\n",
       "      <td>0.017544</td>\n",
       "    </tr>\n",
       "  </tbody>\n",
       "</table>\n",
       "</div>"
      ],
      "text/plain": [
       "                                              Matrix  target_acc\n",
       "0  [[[0.0, 0.0, 0.0, 0.0, 0.0, 0.0, 0.0, 0.0, 0.0...    0.000000\n",
       "1  [[[0.0, 0.0, 0.0, 0.0, 0.0, 0.0, 0.0, 0.0, 0.0...    0.859649\n",
       "2  [[[0.0, 0.0, 0.0, 0.0, 0.0, 0.0, 0.0, 0.0, 0.0...    0.859649\n",
       "3  [[[0.0, 0.0, 0.0, 0.0, 0.0, 0.0, 0.0, 0.0, 0.0...    0.017544"
      ]
     },
     "execution_count": 152,
     "metadata": {},
     "output_type": "execute_result"
    }
   ],
   "source": [
    "first_entry = df[df.entry == 10]\n",
    "first_entry.t_c = first_entry.t_c.round(2)\n",
    "get_matrix_from_df(first_entry)"
   ]
  },
  {
   "cell_type": "code",
   "execution_count": 88,
   "metadata": {
    "collapsed": false
   },
   "outputs": [],
   "source": []
  },
  {
   "cell_type": "code",
   "execution_count": 89,
   "metadata": {
    "collapsed": false
   },
   "outputs": [
    {
     "name": "stderr",
     "output_type": "stream",
     "text": [
      "/var/folders/2h/pvzr32ss6hd_92k0r59f4k940000gn/T/ipykernel_72088/459580876.py:1: SettingWithCopyWarning: \n",
      "A value is trying to be set on a copy of a slice from a DataFrame.\n",
      "Try using .loc[row_indexer,col_indexer] = value instead\n",
      "\n",
      "See the caveats in the documentation: https://pandas.pydata.org/pandas-docs/stable/user_guide/indexing.html#returning-a-view-versus-a-copy\n",
      "  first_entry.t_c = first_entry.t_c.round(2)\n"
     ]
    }
   ],
   "source": []
  },
  {
   "cell_type": "code",
   "execution_count": 90,
   "metadata": {
    "collapsed": false
   },
   "outputs": [
    {
     "data": {
      "text/plain": [
       "7.0"
      ]
     },
     "execution_count": 90,
     "metadata": {},
     "output_type": "execute_result"
    }
   ],
   "source": [
    "first_entry.t_c.max()"
   ]
  },
  {
   "cell_type": "code",
   "execution_count": 91,
   "metadata": {
    "collapsed": false
   },
   "outputs": [],
   "source": [
    "times = np.arange(0, 10, 0.01)"
   ]
  },
  {
   "cell_type": "code",
   "execution_count": 92,
   "metadata": {
    "collapsed": false
   },
   "outputs": [
    {
     "data": {
      "text/plain": [
       "array([0.  , 0.01, 0.02, 0.03, 0.04, 0.05, 0.06, 0.07, 0.08, 0.09, 0.1 ,\n",
       "       0.11, 0.12, 0.13, 0.14, 0.15, 0.16, 0.17, 0.18, 0.19, 0.2 , 0.21,\n",
       "       0.22, 0.23, 0.24, 0.25, 0.26, 0.27, 0.28, 0.29, 0.3 , 0.31, 0.32,\n",
       "       0.33, 0.34, 0.35, 0.36, 0.37, 0.38, 0.39, 0.4 , 0.41, 0.42, 0.43,\n",
       "       0.44, 0.45, 0.46, 0.47, 0.48, 0.49, 0.5 , 0.51, 0.52, 0.53, 0.54,\n",
       "       0.55, 0.56, 0.57, 0.58, 0.59, 0.6 , 0.61, 0.62, 0.63, 0.64, 0.65,\n",
       "       0.66, 0.67, 0.68, 0.69, 0.7 , 0.71, 0.72, 0.73, 0.74, 0.75, 0.76,\n",
       "       0.77, 0.78, 0.79, 0.8 , 0.81, 0.82, 0.83, 0.84, 0.85, 0.86, 0.87,\n",
       "       0.88, 0.89, 0.9 , 0.91, 0.92, 0.93, 0.94, 0.95, 0.96, 0.97, 0.98,\n",
       "       0.99, 1.  , 1.01, 1.02, 1.03, 1.04, 1.05, 1.06, 1.07, 1.08, 1.09,\n",
       "       1.1 , 1.11, 1.12, 1.13, 1.14, 1.15, 1.16, 1.17, 1.18, 1.19, 1.2 ,\n",
       "       1.21, 1.22, 1.23, 1.24, 1.25, 1.26, 1.27, 1.28, 1.29, 1.3 , 1.31,\n",
       "       1.32, 1.33, 1.34, 1.35, 1.36, 1.37, 1.38, 1.39, 1.4 , 1.41, 1.42,\n",
       "       1.43, 1.44, 1.45, 1.46, 1.47, 1.48, 1.49, 1.5 , 1.51, 1.52, 1.53,\n",
       "       1.54, 1.55, 1.56, 1.57, 1.58, 1.59, 1.6 , 1.61, 1.62, 1.63, 1.64,\n",
       "       1.65, 1.66, 1.67, 1.68, 1.69, 1.7 , 1.71, 1.72, 1.73, 1.74, 1.75,\n",
       "       1.76, 1.77, 1.78, 1.79, 1.8 , 1.81, 1.82, 1.83, 1.84, 1.85, 1.86,\n",
       "       1.87, 1.88, 1.89, 1.9 , 1.91, 1.92, 1.93, 1.94, 1.95, 1.96, 1.97,\n",
       "       1.98, 1.99, 2.  , 2.01, 2.02, 2.03, 2.04, 2.05, 2.06, 2.07, 2.08,\n",
       "       2.09, 2.1 , 2.11, 2.12, 2.13, 2.14, 2.15, 2.16, 2.17, 2.18, 2.19,\n",
       "       2.2 , 2.21, 2.22, 2.23, 2.24, 2.25, 2.26, 2.27, 2.28, 2.29, 2.3 ,\n",
       "       2.31, 2.32, 2.33, 2.34, 2.35, 2.36, 2.37, 2.38, 2.39, 2.4 , 2.41,\n",
       "       2.42, 2.43, 2.44, 2.45, 2.46, 2.47, 2.48, 2.49, 2.5 , 2.51, 2.52,\n",
       "       2.53, 2.54, 2.55, 2.56, 2.57, 2.58, 2.59, 2.6 , 2.61, 2.62, 2.63,\n",
       "       2.64, 2.65, 2.66, 2.67, 2.68, 2.69, 2.7 , 2.71, 2.72, 2.73, 2.74,\n",
       "       2.75, 2.76, 2.77, 2.78, 2.79, 2.8 , 2.81, 2.82, 2.83, 2.84, 2.85,\n",
       "       2.86, 2.87, 2.88, 2.89, 2.9 , 2.91, 2.92, 2.93, 2.94, 2.95, 2.96,\n",
       "       2.97, 2.98, 2.99, 3.  , 3.01, 3.02, 3.03, 3.04, 3.05, 3.06, 3.07,\n",
       "       3.08, 3.09, 3.1 , 3.11, 3.12, 3.13, 3.14, 3.15, 3.16, 3.17, 3.18,\n",
       "       3.19, 3.2 , 3.21, 3.22, 3.23, 3.24, 3.25, 3.26, 3.27, 3.28, 3.29,\n",
       "       3.3 , 3.31, 3.32, 3.33, 3.34, 3.35, 3.36, 3.37, 3.38, 3.39, 3.4 ,\n",
       "       3.41, 3.42, 3.43, 3.44, 3.45, 3.46, 3.47, 3.48, 3.49, 3.5 , 3.51,\n",
       "       3.52, 3.53, 3.54, 3.55, 3.56, 3.57, 3.58, 3.59, 3.6 , 3.61, 3.62,\n",
       "       3.63, 3.64, 3.65, 3.66, 3.67, 3.68, 3.69, 3.7 , 3.71, 3.72, 3.73,\n",
       "       3.74, 3.75, 3.76, 3.77, 3.78, 3.79, 3.8 , 3.81, 3.82, 3.83, 3.84,\n",
       "       3.85, 3.86, 3.87, 3.88, 3.89, 3.9 , 3.91, 3.92, 3.93, 3.94, 3.95,\n",
       "       3.96, 3.97, 3.98, 3.99, 4.  , 4.01, 4.02, 4.03, 4.04, 4.05, 4.06,\n",
       "       4.07, 4.08, 4.09, 4.1 , 4.11, 4.12, 4.13, 4.14, 4.15, 4.16, 4.17,\n",
       "       4.18, 4.19, 4.2 , 4.21, 4.22, 4.23, 4.24, 4.25, 4.26, 4.27, 4.28,\n",
       "       4.29, 4.3 , 4.31, 4.32, 4.33, 4.34, 4.35, 4.36, 4.37, 4.38, 4.39,\n",
       "       4.4 , 4.41, 4.42, 4.43, 4.44, 4.45, 4.46, 4.47, 4.48, 4.49, 4.5 ,\n",
       "       4.51, 4.52, 4.53, 4.54, 4.55, 4.56, 4.57, 4.58, 4.59, 4.6 , 4.61,\n",
       "       4.62, 4.63, 4.64, 4.65, 4.66, 4.67, 4.68, 4.69, 4.7 , 4.71, 4.72,\n",
       "       4.73, 4.74, 4.75, 4.76, 4.77, 4.78, 4.79, 4.8 , 4.81, 4.82, 4.83,\n",
       "       4.84, 4.85, 4.86, 4.87, 4.88, 4.89, 4.9 , 4.91, 4.92, 4.93, 4.94,\n",
       "       4.95, 4.96, 4.97, 4.98, 4.99, 5.  , 5.01, 5.02, 5.03, 5.04, 5.05,\n",
       "       5.06, 5.07, 5.08, 5.09, 5.1 , 5.11, 5.12, 5.13, 5.14, 5.15, 5.16,\n",
       "       5.17, 5.18, 5.19, 5.2 , 5.21, 5.22, 5.23, 5.24, 5.25, 5.26, 5.27,\n",
       "       5.28, 5.29, 5.3 , 5.31, 5.32, 5.33, 5.34, 5.35, 5.36, 5.37, 5.38,\n",
       "       5.39, 5.4 , 5.41, 5.42, 5.43, 5.44, 5.45, 5.46, 5.47, 5.48, 5.49,\n",
       "       5.5 , 5.51, 5.52, 5.53, 5.54, 5.55, 5.56, 5.57, 5.58, 5.59, 5.6 ,\n",
       "       5.61, 5.62, 5.63, 5.64, 5.65, 5.66, 5.67, 5.68, 5.69, 5.7 , 5.71,\n",
       "       5.72, 5.73, 5.74, 5.75, 5.76, 5.77, 5.78, 5.79, 5.8 , 5.81, 5.82,\n",
       "       5.83, 5.84, 5.85, 5.86, 5.87, 5.88, 5.89, 5.9 , 5.91, 5.92, 5.93,\n",
       "       5.94, 5.95, 5.96, 5.97, 5.98, 5.99, 6.  , 6.01, 6.02, 6.03, 6.04,\n",
       "       6.05, 6.06, 6.07, 6.08, 6.09, 6.1 , 6.11, 6.12, 6.13, 6.14, 6.15,\n",
       "       6.16, 6.17, 6.18, 6.19, 6.2 , 6.21, 6.22, 6.23, 6.24, 6.25, 6.26,\n",
       "       6.27, 6.28, 6.29, 6.3 , 6.31, 6.32, 6.33, 6.34, 6.35, 6.36, 6.37,\n",
       "       6.38, 6.39, 6.4 , 6.41, 6.42, 6.43, 6.44, 6.45, 6.46, 6.47, 6.48,\n",
       "       6.49, 6.5 , 6.51, 6.52, 6.53, 6.54, 6.55, 6.56, 6.57, 6.58, 6.59,\n",
       "       6.6 , 6.61, 6.62, 6.63, 6.64, 6.65, 6.66, 6.67, 6.68, 6.69, 6.7 ,\n",
       "       6.71, 6.72, 6.73, 6.74, 6.75, 6.76, 6.77, 6.78, 6.79, 6.8 , 6.81,\n",
       "       6.82, 6.83, 6.84, 6.85, 6.86, 6.87, 6.88, 6.89, 6.9 , 6.91, 6.92,\n",
       "       6.93, 6.94, 6.95, 6.96, 6.97, 6.98, 6.99, 7.  , 7.01, 7.02, 7.03,\n",
       "       7.04, 7.05, 7.06, 7.07, 7.08, 7.09, 7.1 , 7.11, 7.12, 7.13, 7.14,\n",
       "       7.15, 7.16, 7.17, 7.18, 7.19, 7.2 , 7.21, 7.22, 7.23, 7.24, 7.25,\n",
       "       7.26, 7.27, 7.28, 7.29, 7.3 , 7.31, 7.32, 7.33, 7.34, 7.35, 7.36,\n",
       "       7.37, 7.38, 7.39, 7.4 , 7.41, 7.42, 7.43, 7.44, 7.45, 7.46, 7.47,\n",
       "       7.48, 7.49, 7.5 , 7.51, 7.52, 7.53, 7.54, 7.55, 7.56, 7.57, 7.58,\n",
       "       7.59, 7.6 , 7.61, 7.62, 7.63, 7.64, 7.65, 7.66, 7.67, 7.68, 7.69,\n",
       "       7.7 , 7.71, 7.72, 7.73, 7.74, 7.75, 7.76, 7.77, 7.78, 7.79, 7.8 ,\n",
       "       7.81, 7.82, 7.83, 7.84, 7.85, 7.86, 7.87, 7.88, 7.89, 7.9 , 7.91,\n",
       "       7.92, 7.93, 7.94, 7.95, 7.96, 7.97, 7.98, 7.99, 8.  , 8.01, 8.02,\n",
       "       8.03, 8.04, 8.05, 8.06, 8.07, 8.08, 8.09, 8.1 , 8.11, 8.12, 8.13,\n",
       "       8.14, 8.15, 8.16, 8.17, 8.18, 8.19, 8.2 , 8.21, 8.22, 8.23, 8.24,\n",
       "       8.25, 8.26, 8.27, 8.28, 8.29, 8.3 , 8.31, 8.32, 8.33, 8.34, 8.35,\n",
       "       8.36, 8.37, 8.38, 8.39, 8.4 , 8.41, 8.42, 8.43, 8.44, 8.45, 8.46,\n",
       "       8.47, 8.48, 8.49, 8.5 , 8.51, 8.52, 8.53, 8.54, 8.55, 8.56, 8.57,\n",
       "       8.58, 8.59, 8.6 , 8.61, 8.62, 8.63, 8.64, 8.65, 8.66, 8.67, 8.68,\n",
       "       8.69, 8.7 , 8.71, 8.72, 8.73, 8.74, 8.75, 8.76, 8.77, 8.78, 8.79,\n",
       "       8.8 , 8.81, 8.82, 8.83, 8.84, 8.85, 8.86, 8.87, 8.88, 8.89, 8.9 ,\n",
       "       8.91, 8.92, 8.93, 8.94, 8.95, 8.96, 8.97, 8.98, 8.99, 9.  , 9.01,\n",
       "       9.02, 9.03, 9.04, 9.05, 9.06, 9.07, 9.08, 9.09, 9.1 , 9.11, 9.12,\n",
       "       9.13, 9.14, 9.15, 9.16, 9.17, 9.18, 9.19, 9.2 , 9.21, 9.22, 9.23,\n",
       "       9.24, 9.25, 9.26, 9.27, 9.28, 9.29, 9.3 , 9.31, 9.32, 9.33, 9.34,\n",
       "       9.35, 9.36, 9.37, 9.38, 9.39, 9.4 , 9.41, 9.42, 9.43, 9.44, 9.45,\n",
       "       9.46, 9.47, 9.48, 9.49, 9.5 , 9.51, 9.52, 9.53, 9.54, 9.55, 9.56,\n",
       "       9.57, 9.58, 9.59, 9.6 , 9.61, 9.62, 9.63, 9.64, 9.65, 9.66, 9.67,\n",
       "       9.68, 9.69, 9.7 , 9.71, 9.72, 9.73, 9.74, 9.75, 9.76, 9.77, 9.78,\n",
       "       9.79, 9.8 , 9.81, 9.82, 9.83, 9.84, 9.85, 9.86, 9.87, 9.88, 9.89,\n",
       "       9.9 , 9.91, 9.92, 9.93, 9.94, 9.95, 9.96, 9.97, 9.98, 9.99])"
      ]
     },
     "execution_count": 92,
     "metadata": {},
     "output_type": "execute_result"
    }
   ],
   "source": [
    "times"
   ]
  },
  {
   "cell_type": "code",
   "execution_count": 93,
   "metadata": {
    "collapsed": false
   },
   "outputs": [],
   "source": [
    "times.strides\n",
    "window_size = 500"
   ]
  },
  {
   "cell_type": "code",
   "execution_count": 94,
   "metadata": {
    "collapsed": false
   },
   "outputs": [],
   "source": [
    "from numpy.lib.stride_tricks import sliding_window_view\n",
    "\n",
    "x = sliding_window_view(times, window_size)"
   ]
  },
  {
   "cell_type": "code",
   "execution_count": 95,
   "metadata": {
    "collapsed": false
   },
   "outputs": [
    {
     "data": {
      "text/plain": [
       "array([[0.  , 0.01, 0.02, ..., 4.97, 4.98, 4.99],\n",
       "       [0.01, 0.02, 0.03, ..., 4.98, 4.99, 5.  ],\n",
       "       [0.02, 0.03, 0.04, ..., 4.99, 5.  , 5.01],\n",
       "       ...,\n",
       "       [4.98, 4.99, 5.  , ..., 9.95, 9.96, 9.97],\n",
       "       [4.99, 5.  , 5.01, ..., 9.96, 9.97, 9.98],\n",
       "       [5.  , 5.01, 5.02, ..., 9.97, 9.98, 9.99]])"
      ]
     },
     "execution_count": 95,
     "metadata": {},
     "output_type": "execute_result"
    }
   ],
   "source": [
    "x"
   ]
  },
  {
   "cell_type": "code",
   "execution_count": 10,
   "metadata": {
    "collapsed": false
   },
   "outputs": [],
   "source": [
    "def rolling_window(a, window, step):\n",
    "    shape = a.shape[:-1] + ((a.shape[-1] - window + 1)//step, window)\n",
    "    strides = (a.strides[0] * step,) + (a.strides[-1],)\n",
    "    return np.lib.stride_tricks.as_strided(a, shape=shape, strides=strides)"
   ]
  },
  {
   "cell_type": "code",
   "execution_count": 97,
   "metadata": {
    "collapsed": false
   },
   "outputs": [],
   "source": [
    "windows = rolling_window(times, 400, 50)"
   ]
  },
  {
   "cell_type": "code",
   "execution_count": 98,
   "metadata": {
    "collapsed": false
   },
   "outputs": [],
   "source": [
    "total_signal = first_entry.signal.sum()"
   ]
  },
  {
   "cell_type": "code",
   "execution_count": 115,
   "metadata": {
    "collapsed": false
   },
   "outputs": [
    {
     "name": "stdout",
     "output_type": "stream",
     "text": [
      "0.9444444444444444\n"
     ]
    }
   ],
   "source": [
    "for idxs in windows:\n",
    "    idx2val = {val: idx for idx, val in enumerate(idxs)}\n",
    "    matrix = np.zeros((400, 240, 240))\n",
    "    entries_for_idx = first_entry[first_entry.t_c.isin(idxs)]\n",
    "    current = entries_for_idx.signal.sum()\n",
    "    for idx, row in entries_for_idx.iterrows():\n",
    "        matrix[idx2val[row['t_c']], row['x_c']-1, row['y_c']-1] = 1\n"
   ]
  },
  {
   "cell_type": "code",
   "execution_count": 116,
   "metadata": {
    "collapsed": false
   },
   "outputs": [
    {
     "data": {
      "text/plain": [
       "296"
      ]
     },
     "execution_count": 116,
     "metadata": {},
     "output_type": "execute_result"
    }
   ],
   "source": [
    "idx2val[2.96]"
   ]
  },
  {
   "cell_type": "code",
   "execution_count": 121,
   "metadata": {
    "collapsed": false
   },
   "outputs": [
    {
     "data": {
      "text/plain": [
       "(240, 240)"
      ]
     },
     "execution_count": 121,
     "metadata": {},
     "output_type": "execute_result"
    }
   ],
   "source": [
    "matrix[296].shape"
   ]
  },
  {
   "cell_type": "code",
   "execution_count": 118,
   "metadata": {
    "collapsed": false
   },
   "outputs": [
    {
     "data": {
      "text/plain": [
       "(array([  0,   2,   2,   2,   3,   3,   3,   3,   4,   4,   8,   9,  11,\n",
       "         11,  12,  12,  14,  15,  16,  18,  18,  18,  19,  19,  21,  23,\n",
       "         24,  25,  26,  29,  30,  30,  31,  32,  34,  36,  38,  38,  39,\n",
       "         39,  39,  39,  42,  42,  43,  46,  49,  49,  49,  50,  50,  52,\n",
       "         55,  55,  58,  58,  62,  63,  64,  65,  65,  66,  67,  68,  71,\n",
       "         72,  73,  73,  73,  74,  75,  76,  76,  77,  78,  78,  86,  86,\n",
       "         86,  87,  88,  88,  88,  89,  89,  89,  92,  93,  93,  97,  98,\n",
       "         98,  98, 100, 100, 101, 101, 102, 102, 104, 104, 105, 106, 106,\n",
       "        106, 108, 110, 111, 111, 116, 116, 117, 117, 118, 119, 120, 120,\n",
       "        120, 121, 122, 122, 123, 124, 125, 125, 125, 126, 126, 127, 128,\n",
       "        132, 135, 135, 136, 136, 136, 141, 141, 142, 145, 145, 145, 146,\n",
       "        146, 147, 147, 147, 150, 150, 150, 150, 150, 151, 152, 153, 154,\n",
       "        155, 155, 155, 155, 157, 159, 159, 159, 159, 160, 160, 162, 162,\n",
       "        167, 168, 169, 171, 172, 172, 172, 174, 176, 176, 177, 177, 177,\n",
       "        178, 178, 179, 179, 180, 180, 181, 183, 183, 183, 184, 185, 186,\n",
       "        192, 192, 193, 194, 194, 195, 195, 196, 196, 196, 198, 198, 198,\n",
       "        199, 200, 200, 202, 205, 206, 207, 208, 208, 209, 210, 211, 211,\n",
       "        218, 218, 219, 220, 221, 221, 222, 223, 223, 223, 224, 224, 224,\n",
       "        225, 227, 229, 232, 233, 233, 234, 235, 236, 237, 238, 238, 239,\n",
       "        240, 240, 241, 241, 241, 242, 242, 242, 243, 243, 245, 245, 246,\n",
       "        248, 248, 249, 250, 250, 252, 252, 254, 256, 257, 258, 259, 260,\n",
       "        260, 260, 263, 263, 264, 264, 264, 265, 266, 266, 267, 269, 270,\n",
       "        271, 271, 271, 271, 273, 274, 274, 274, 274, 275, 277, 277, 279,\n",
       "        279, 279, 282, 283, 283, 284, 284, 286, 287, 287, 287, 287, 288,\n",
       "        289, 289, 290, 290, 291, 293, 293, 293, 295, 295, 296, 296, 297,\n",
       "        299, 304, 309, 309, 309, 309, 309, 310, 313, 314, 315, 315, 315,\n",
       "        316, 317, 318, 318, 319, 319, 320, 321, 322, 323, 323, 323, 324,\n",
       "        325, 325, 325, 325, 327, 329, 333, 334, 335, 335, 336, 337, 338,\n",
       "        338, 340, 341, 341, 342, 344, 345, 346, 346, 349, 350, 352, 356,\n",
       "        358, 358, 358, 359, 360, 362, 363, 363, 363, 364, 365, 367, 367,\n",
       "        367, 373, 374, 374, 377, 381, 383, 383, 385, 385, 385, 386, 388,\n",
       "        388, 389, 390, 392, 394, 395, 395, 396, 397, 397, 398, 399]),\n",
       " array([ 15,  19,  29, 173,  28,  73, 138, 140,  82, 137, 228, 130, 120,\n",
       "        172,  38, 215,  67,  49, 125,  89, 169, 225, 140, 143, 167, 159,\n",
       "        123, 197,  68, 215,  21, 116,  17, 164,  92,  19,  13, 163,  11,\n",
       "         49, 113, 162,   7, 156,  21,  33,  66, 118, 161, 158, 208,  86,\n",
       "         85, 231,  81, 234,   9, 138,  44,   0,  61, 185, 173, 213,  89,\n",
       "        186,  75, 202, 232, 229, 158, 185, 230,  29,  79,  94,  23,  43,\n",
       "         46, 152,  77, 105, 164,  25,  99, 119,  19, 175, 217,  43, 132,\n",
       "        157, 201,  79, 124, 121, 159, 100, 114,  31, 216,  92,   8, 121,\n",
       "        204, 196,  12,  12,  16, 208, 237, 107, 239, 133,  55, 166, 180,\n",
       "        192, 217,  35, 173,  95,  98, 114, 156, 208,   6,  49, 167, 192,\n",
       "        236,  68, 139,  33,  38, 183,  95, 178, 149,  43,  52, 127,  76,\n",
       "        122,  36, 175, 229,  62,  78, 154, 200, 229, 180, 188, 175, 216,\n",
       "        102, 142, 162, 186,  18, 101, 163, 187, 215, 142, 223,  83, 220,\n",
       "        199,  55,  66, 133,   5,  60, 218,  39, 108, 231,  22,  25,  71,\n",
       "         27, 225,  19,  78, 221, 225,   0,  96, 138, 203,  59, 127,  73,\n",
       "         13, 161, 220, 112, 125,  26, 239,  32, 118, 148, 140, 161, 214,\n",
       "         23,  35, 103,  80, 162, 226,  72, 131, 189,   0, 175, 113, 202,\n",
       "         14, 108,  78, 239, 178, 221,  27,  47, 171, 200,  15,  20, 182,\n",
       "        234, 110, 221, 155,  60, 188, 177, 209,  42,  69,  45, 159,  51,\n",
       "        113, 214, 107, 173, 225,  13, 133, 225,  99, 145, 169, 228,  22,\n",
       "        123, 155, 150,  41,  86,  46, 100, 156, 167, 154,   4,  67,  63,\n",
       "         68, 132,  96, 192,  73, 123, 195, 124,  24, 177,  23,  46, 163,\n",
       "         40,  82,  94, 115,  36,  49,  68, 148, 182, 196,  97, 132, 119,\n",
       "        122, 236,   3, 124, 212, 105, 207,  39,  22,  57, 163, 228, 129,\n",
       "        125, 239, 127, 139,  74,  25,  55, 117,  81,  91,  99, 236, 118,\n",
       "        198, 180,  27,  70, 116, 120, 132,  88, 116,  91,  27, 109, 215,\n",
       "        104, 229, 141, 174, 196, 197, 147,  38,  94,  37, 140, 216,  23,\n",
       "         84, 113, 122, 224,   2, 150, 215,  76,  51, 103, 173, 164,  29,\n",
       "        197,  98, 169, 221, 149,  83, 140,  74, 142,  53, 113, 112, 213,\n",
       "         48, 107, 184,  67, 165, 165,   4,  29,  78, 108, 199,  76, 127,\n",
       "        170, 214, 104, 182, 109,  21,  53, 223,  59,  98, 237,   8,  34,\n",
       "        237,  32, 144, 122,  12, 122, 188,  13, 117, 160, 180,  97]),\n",
       " array([ 90, 210, 223, 118, 216, 238, 210, 212, 112,  52, 175, 107, 108,\n",
       "        184, 220, 150, 236,  91,  12,  83,  71, 154, 139, 163,  30, 213,\n",
       "        226, 104, 104, 227, 133,  91,  95, 228, 141,  62, 203,  72, 147,\n",
       "        163,   9, 190,   3,  17, 108,  53,  31, 228, 103, 129, 181, 157,\n",
       "         87,  60, 160, 181, 138, 186, 236, 166, 229,  22,  25, 169,  24,\n",
       "        209, 172,  32, 221, 160, 167,  66,  41, 199,   6, 218,  91, 130,\n",
       "         13,  38, 134, 109,  60, 146, 208, 103,  20,  29, 202,   7,  49,\n",
       "        177, 162,  46, 136,  77, 152, 170, 105, 202, 145, 150,  51,  25,\n",
       "        130, 143, 159,  49, 124, 173, 174, 234, 102,  33,  37, 172, 137,\n",
       "        186, 157, 114,  23,  87,  16, 134, 160, 212, 231,  32, 236, 122,\n",
       "          0, 108,  35, 163,  61,   1, 209, 202, 120,  35, 210,  34,  93,\n",
       "        210, 102,  39, 206,  14, 124, 136,  16,  26,  88,  11,  60,  97,\n",
       "        114, 158, 138, 200,  27, 142, 124, 132, 228, 117,  23,  33, 148,\n",
       "         90,  70, 176, 187, 218, 102, 113,  87,  41, 170, 184,  84, 203,\n",
       "         12, 117, 127, 217,  43, 151, 233, 196,  10, 194, 238,  89, 169,\n",
       "         24,  28,   1,  78,  27, 202, 210, 156,  95,  17, 215, 166, 131,\n",
       "        216, 140, 117, 112,  70,  65, 113, 231,  72, 147,  95, 184, 199,\n",
       "         33,  12, 195,  68, 162, 208,  12, 102,  56, 235,  33, 104,  88,\n",
       "        231, 136, 117, 214,  62, 223, 100,  15, 103, 116,  63, 213, 144,\n",
       "        132,  93,  24,  79, 120,   2, 133, 124,  22,  78, 111, 119,  24,\n",
       "        153, 114, 129, 190, 219, 169, 161,  46, 186,  57,  96, 230,  14,\n",
       "         58, 138,  74,   7, 234, 148, 221, 151, 220,  22, 152,  27,  41,\n",
       "         68, 111, 177,  83, 234,  46,  29,  36, 194,   5,  50,  96,  70,\n",
       "         71, 161, 176,  66, 165,  66, 143, 114,   8,  48, 217,  71, 198,\n",
       "         59, 239,  58, 100,  98, 193, 211, 218,  35, 196,  54, 150,  50,\n",
       "        156,  82,  30, 139,  36,  36, 143,   4,  32, 189, 214,  31,   7,\n",
       "         30, 117, 197, 181, 132,  24, 140, 192,  23, 213, 189,  67, 102,\n",
       "         55,  26,  10, 206, 134, 166, 121, 225,  52,   9, 173,  81, 143,\n",
       "        222, 185,  69,  28,  55,  70,  31, 164,  24,  72, 130,  11, 199,\n",
       "        104, 231, 129,  66,  46,  59, 194, 236, 225, 208, 134, 150, 233,\n",
       "         60, 195, 229, 153, 213, 103, 110, 102, 215, 238,  97, 204, 112,\n",
       "         84, 141, 230,  79, 135, 106,  47, 100,  42, 112, 203, 173]))"
      ]
     },
     "execution_count": 118,
     "metadata": {},
     "output_type": "execute_result"
    }
   ],
   "source": [
    "np.where(matrix == 1)"
   ]
  },
  {
   "cell_type": "code",
   "execution_count": 104,
   "metadata": {
    "collapsed": false
   },
   "outputs": [
    {
     "data": {
      "text/html": [
       "<div>\n",
       "<style scoped>\n",
       "    .dataframe tbody tr th:only-of-type {\n",
       "        vertical-align: middle;\n",
       "    }\n",
       "\n",
       "    .dataframe tbody tr th {\n",
       "        vertical-align: top;\n",
       "    }\n",
       "\n",
       "    .dataframe thead th {\n",
       "        text-align: right;\n",
       "    }\n",
       "</style>\n",
       "<table border=\"1\" class=\"dataframe\">\n",
       "  <thead>\n",
       "    <tr style=\"text-align: right;\">\n",
       "      <th></th>\n",
       "      <th>entry</th>\n",
       "      <th>subentry</th>\n",
       "      <th>x_c</th>\n",
       "      <th>y_c</th>\n",
       "      <th>z_c</th>\n",
       "      <th>t_c</th>\n",
       "      <th>signal</th>\n",
       "    </tr>\n",
       "  </thead>\n",
       "  <tbody>\n",
       "    <tr>\n",
       "      <th>0</th>\n",
       "      <td>0</td>\n",
       "      <td>0</td>\n",
       "      <td>100</td>\n",
       "      <td>55</td>\n",
       "      <td>201.05</td>\n",
       "      <td>2.96</td>\n",
       "      <td>True</td>\n",
       "    </tr>\n",
       "    <tr>\n",
       "      <th>1</th>\n",
       "      <td>0</td>\n",
       "      <td>1</td>\n",
       "      <td>105</td>\n",
       "      <td>31</td>\n",
       "      <td>201.05</td>\n",
       "      <td>3.16</td>\n",
       "      <td>True</td>\n",
       "    </tr>\n",
       "    <tr>\n",
       "      <th>2</th>\n",
       "      <td>0</td>\n",
       "      <td>2</td>\n",
       "      <td>110</td>\n",
       "      <td>32</td>\n",
       "      <td>201.05</td>\n",
       "      <td>3.15</td>\n",
       "      <td>True</td>\n",
       "    </tr>\n",
       "    <tr>\n",
       "      <th>3</th>\n",
       "      <td>0</td>\n",
       "      <td>3</td>\n",
       "      <td>106</td>\n",
       "      <td>67</td>\n",
       "      <td>201.05</td>\n",
       "      <td>2.84</td>\n",
       "      <td>True</td>\n",
       "    </tr>\n",
       "    <tr>\n",
       "      <th>4</th>\n",
       "      <td>0</td>\n",
       "      <td>4</td>\n",
       "      <td>117</td>\n",
       "      <td>37</td>\n",
       "      <td>201.05</td>\n",
       "      <td>3.09</td>\n",
       "      <td>True</td>\n",
       "    </tr>\n",
       "    <tr>\n",
       "      <th>...</th>\n",
       "      <td>...</td>\n",
       "      <td>...</td>\n",
       "      <td>...</td>\n",
       "      <td>...</td>\n",
       "      <td>...</td>\n",
       "      <td>...</td>\n",
       "      <td>...</td>\n",
       "    </tr>\n",
       "    <tr>\n",
       "      <th>794</th>\n",
       "      <td>0</td>\n",
       "      <td>794</td>\n",
       "      <td>131</td>\n",
       "      <td>202</td>\n",
       "      <td>201.05</td>\n",
       "      <td>6.08</td>\n",
       "      <td>False</td>\n",
       "    </tr>\n",
       "    <tr>\n",
       "      <th>795</th>\n",
       "      <td>0</td>\n",
       "      <td>795</td>\n",
       "      <td>168</td>\n",
       "      <td>101</td>\n",
       "      <td>201.05</td>\n",
       "      <td>5.51</td>\n",
       "      <td>False</td>\n",
       "    </tr>\n",
       "    <tr>\n",
       "      <th>796</th>\n",
       "      <td>0</td>\n",
       "      <td>796</td>\n",
       "      <td>83</td>\n",
       "      <td>96</td>\n",
       "      <td>201.05</td>\n",
       "      <td>4.90</td>\n",
       "      <td>False</td>\n",
       "    </tr>\n",
       "    <tr>\n",
       "      <th>797</th>\n",
       "      <td>0</td>\n",
       "      <td>797</td>\n",
       "      <td>24</td>\n",
       "      <td>153</td>\n",
       "      <td>201.05</td>\n",
       "      <td>2.67</td>\n",
       "      <td>False</td>\n",
       "    </tr>\n",
       "    <tr>\n",
       "      <th>798</th>\n",
       "      <td>0</td>\n",
       "      <td>798</td>\n",
       "      <td>86</td>\n",
       "      <td>29</td>\n",
       "      <td>201.05</td>\n",
       "      <td>4.30</td>\n",
       "      <td>False</td>\n",
       "    </tr>\n",
       "  </tbody>\n",
       "</table>\n",
       "<p>799 rows × 7 columns</p>\n",
       "</div>"
      ],
      "text/plain": [
       "     entry  subentry  x_c  y_c     z_c   t_c  signal\n",
       "0        0         0  100   55  201.05  2.96    True\n",
       "1        0         1  105   31  201.05  3.16    True\n",
       "2        0         2  110   32  201.05  3.15    True\n",
       "3        0         3  106   67  201.05  2.84    True\n",
       "4        0         4  117   37  201.05  3.09    True\n",
       "..     ...       ...  ...  ...     ...   ...     ...\n",
       "794      0       794  131  202  201.05  6.08   False\n",
       "795      0       795  168  101  201.05  5.51   False\n",
       "796      0       796   83   96  201.05  4.90   False\n",
       "797      0       797   24  153  201.05  2.67   False\n",
       "798      0       798   86   29  201.05  4.30   False\n",
       "\n",
       "[799 rows x 7 columns]"
      ]
     },
     "execution_count": 104,
     "metadata": {},
     "output_type": "execute_result"
    }
   ],
   "source": [
    "first_entry"
   ]
  },
  {
   "cell_type": "code",
   "execution_count": null,
   "metadata": {
    "collapsed": false
   },
   "outputs": [],
   "source": []
  }
 ],
 "metadata": {
  "kernelspec": {
   "display_name": ".venv",
   "language": "python",
   "name": "python3"
  },
  "language_info": {
   "codemirror_mode": {
    "name": "ipython",
    "version": 3
   },
   "file_extension": ".py",
   "mimetype": "text/x-python",
   "name": "python",
   "nbconvert_exporter": "python",
   "pygments_lexer": "ipython3",
   "version": "3.10.6 (main, Nov 14 2022, 16:10:14) [GCC 11.3.0]"
  },
  "vscode": {
   "interpreter": {
    "hash": "c3510467a57a46f916bd71a6dbcb67cc3cf0957d65e6047b4721d9976b4c17d0"
   }
  }
 },
 "nbformat": 4,
 "nbformat_minor": 0
}
