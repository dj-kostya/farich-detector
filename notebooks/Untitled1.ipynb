{
 "cells": [
  {
   "cell_type": "code",
   "execution_count": 8,
   "id": "twenty-dress",
   "metadata": {},
   "outputs": [],
   "source": [
    "import numpy as np\n",
    "import matplotlib.pyplot as plt"
   ]
  },
  {
   "cell_type": "code",
   "execution_count": 199,
   "id": "found-negotiation",
   "metadata": {},
   "outputs": [],
   "source": [
    "def ellipse22(t, a, b):\n",
    "    return a*np.cos(t), b*np.sin(t)"
   ]
  },
  {
   "cell_type": "code",
   "execution_count": 200,
   "id": "cheap-arrow",
   "metadata": {},
   "outputs": [],
   "source": [
    "from numpy.linalg import eig, inv\n",
    "def fit_ellipse(x, y):\n",
    "\n",
    "    x = x[:, np.newaxis]\n",
    "    y = y[:, np.newaxis]\n",
    "    D =  np.column_stack((x**2, x*y, y**2, x, y, np.ones_like(x)))\n",
    "    S = np.dot(D.T, D)\n",
    "    C = np.zeros([6,6])\n",
    "    C[0, 2] = C[2, 0] = 2\n",
    "    C[1, 1] = -1\n",
    "    E, V = np.linalg.eig(np.dot(np.linalg.inv(S), C))\n",
    "    n = np.argmax(np.abs(E))\n",
    "    return V[:, n]\n",
    "\n",
    "\n",
    "def fit_ellipse_v2(x, y):\n",
    "    D =  np.column_stack((x**2, x*y, y**2, x, y))\n",
    "    C = np.ones_like(x)\n",
    "    return inv(D.T.dot(D)).dot(D.T).dot(C) # МНК для СЛАУ http://aco.ifmo.ru/el_books/numerical_methods/lectures/glava4.html"
   ]
  },
  {
   "cell_type": "code",
   "execution_count": 223,
   "id": "authorized-bankruptcy",
   "metadata": {},
   "outputs": [],
   "source": [
    "def get_a_b_from_x_y(x,y):\n",
    "    A, B, C, D, E = fit_ellipse_v2(x, y)\n",
    "    print(A, B, C, D, E)\n",
    "    x0 = (2*C*D - E*B) / (B*B-4*A*C)\n",
    "    y0 = (2*A*E - B*D) / (B*B-4*A*C)\n",
    "    centr = [x0, y0]\n",
    "    Form = np.array([[A, B/2],[B/2, C]])\n",
    "    I3 = np.linalg.det(np.array([[A, B/2, D/2], [B/2, C, E/2], [D/2, E/2, -1]]))\n",
    "    I2 = np.linalg.det(Form)\n",
    "    (alpha1, alpha2), (v1, v2) = np.linalg.eigh(Form, UPLO='U')\n",
    "    \n",
    "    a=np.sqrt(-I3/(alpha1*I2))\n",
    "    b=np.sqrt(-I3/(alpha2*I2))\n",
    "\n",
    "\n",
    "    v1_norm = (v_not_1 * a) / np.linalg.norm(v1)\n",
    "    v2_norm = (v_not_2 * b) / np.linalg.norm(v2)\n",
    "    return [x0, y0, 0], (A, B, C, D, E), (v1_norm+centr, v2_norm+centr)\n"
   ]
  },
  {
   "cell_type": "code",
   "execution_count": 221,
   "id": "genetic-tuesday",
   "metadata": {},
   "outputs": [
    {
     "name": "stdout",
     "output_type": "stream",
     "text": [
      "0.08510638297872022 -1.1136924715771102e-15 0.11583924349881497 -0.8510638297872021 -0.6950354609928835\n"
     ]
    }
   ],
   "source": [
    "tt = np.linspace(0, 2*np.pi, 6)\n",
    "t = np.linspace(0, 2*np.pi, 100)\n",
    "a=7\n",
    "b=6\n",
    "xt, yt = ellipse22(tt, a, b)\n",
    "xt += 5;\n",
    "yt += 3\n",
    "\n",
    "(x0, y0, _), (A, B, C, D, E, F), (v1, v2) = get_a_b_from_x_y(xt, yt)\n",
    "\n",
    "\n",
    "x, y = ellipse22(t, a0, b0)"
   ]
  },
  {
   "cell_type": "code",
   "execution_count": 203,
   "id": "aware-bandwidth",
   "metadata": {},
   "outputs": [],
   "source": [
    "Form = np.array([[A, B/2],[B/2, C]])\n",
    "I3 = np.linalg.det(np.array([[A, B/2, D/2], [B/2, C, E/2], [D/2, E/2, -1]]))\n",
    "I2 = np.linalg.det(Form)"
   ]
  },
  {
   "cell_type": "code",
   "execution_count": 204,
   "id": "excessive-restriction",
   "metadata": {},
   "outputs": [],
   "source": [
    "(alpha1, alpha2), (v1, v2) = np.linalg.eigh(Form, UPLO='U')"
   ]
  },
  {
   "cell_type": "code",
   "execution_count": 205,
   "id": "first-context",
   "metadata": {},
   "outputs": [],
   "source": [
    "a=np.sqrt(-I3/(alpha1*I2))\n",
    "b=np.sqrt(-I3/(alpha2*I2))"
   ]
  },
  {
   "cell_type": "code",
   "execution_count": 206,
   "id": "industrial-composite",
   "metadata": {},
   "outputs": [
    {
     "data": {
      "text/plain": [
       "(7.000000000000042, 6.000000000000001)"
      ]
     },
     "execution_count": 206,
     "metadata": {},
     "output_type": "execute_result"
    }
   ],
   "source": [
    "a, b"
   ]
  },
  {
   "cell_type": "code",
   "execution_count": 207,
   "id": "leading-syndicate",
   "metadata": {},
   "outputs": [
    {
     "data": {
      "text/plain": [
       "(0.08510638297872022,\n",
       " -1.1136924715771102e-15,\n",
       " 0.11583924349881497,\n",
       " -0.8510638297872021,\n",
       " -0.6950354609928835,\n",
       " -0.998731199489181,\n",
       " (5.000000000000018, 2.9999999999999964))"
      ]
     },
     "execution_count": 207,
     "metadata": {},
     "output_type": "execute_result"
    },
    {
     "data": {
      "image/png": "[encoded data removed]",
      "text/plain": [
       "<Figure size 640x480 with 1 Axes>"
      ]
     },
     "metadata": {},
     "output_type": "display_data"
    }
   ],
   "source": [
    "plt.scatter(xt,yt)\n",
    "plt.scatter(x,y)\n",
    "plt.scatter(x0, y0)\n",
    "A, B, C, D, E, F, (x0,y0)"
   ]
  },
  {
   "cell_type": "code",
   "execution_count": 208,
   "id": "soviet-jurisdiction",
   "metadata": {},
   "outputs": [],
   "source": [
    "def func(A, B, C, D, E):\n",
    "    return lambda x,y: A*x*x+B*x*y+C*y*y+D*x+E*y-1"
   ]
  },
  {
   "cell_type": "code",
   "execution_count": 215,
   "id": "immediate-announcement",
   "metadata": {},
   "outputs": [],
   "source": [
    "v_not_1 =  v1\n",
    "v_not_2 =  v2\n",
    "\n",
    "v1_norm = (v_not_1 * a) / np.linalg.norm(v_not_1)\n",
    "v2_norm = (v_not_2 * b) / np.linalg.norm(v_not_2)"
   ]
  },
  {
   "cell_type": "code",
   "execution_count": 216,
   "id": "absent-persian",
   "metadata": {},
   "outputs": [
    {
     "data": {
      "text/plain": [
       "(array([-1.00000000e+00, -1.81189198e-14]),\n",
       " array([-1.81189198e-14,  1.00000000e+00]),\n",
       " array([-1.00000000e+00, -1.81189198e-14]))"
      ]
     },
     "execution_count": 216,
     "metadata": {},
     "output_type": "execute_result"
    }
   ],
   "source": [
    "v1, v2, v_not_1"
   ]
  },
  {
   "cell_type": "code",
   "execution_count": 222,
   "id": "developmental-chick",
   "metadata": {},
   "outputs": [
    {
     "data": {
      "text/plain": [
       "<matplotlib.collections.PathCollection at 0x126b28c70>"
      ]
     },
     "execution_count": 222,
     "metadata": {},
     "output_type": "execute_result"
    },
    {
     "data": {
      "image/png": "[encoded data removed]",
      "text/plain": [
       "<Figure size 640x480 with 1 Axes>"
      ]
     },
     "metadata": {},
     "output_type": "display_data"
    }
   ],
   "source": [
    "x = np.arange(-10.0,20.0,0.1)\n",
    "y = np.arange(-10.0,20.0,0.1)\n",
    "X, Y = np.meshgrid(x,y)\n",
    "plt.scatter(xt,yt)\n",
    "\n",
    "plt.contour(x, y, func(A, B, C, D, E)(X, Y), [0]);\n",
    "\n",
    "plt.plot([x0, v1[0]], [y0, v1[1]])\n",
    "plt.plot([x0, v2[0]], [y0, v2[1]])\n",
    "plt.scatter(x0, y0)"
   ]
  },
  {
   "cell_type": "code",
   "execution_count": 122,
   "id": "explicit-labor",
   "metadata": {},
   "outputs": [
    {
     "data": {
      "text/plain": [
       "True"
      ]
     },
     "execution_count": 122,
     "metadata": {},
     "output_type": "execute_result"
    }
   ],
   "source": [
    "B**2 - 4*A*C < 0 #elipse"
   ]
  },
  {
   "cell_type": "code",
   "execution_count": null,
   "id": "opposed-narrow",
   "metadata": {},
   "outputs": [],
   "source": []
  }
 ],
 "metadata": {
  "kernelspec": {
   "display_name": "farich",
   "language": "python",
   "name": "farich"
  },
  "language_info": {
   "codemirror_mode": {
    "name": "ipython",
    "version": 3
   },
   "file_extension": ".py",
   "mimetype": "text/x-python",
   "name": "python",
   "nbconvert_exporter": "python",
   "pygments_lexer": "ipython3",
   "version": "3.8.15"
  }
 },
 "nbformat": 4,
 "nbformat_minor": 5
}
