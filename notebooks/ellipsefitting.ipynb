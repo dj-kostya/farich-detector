{
 "cells": [
  {
   "cell_type": "code",
   "execution_count": 1,
   "metadata": {
    "collapsed": true,
    "ExecuteTime": {
     "start_time": "2023-04-02T19:26:24.399510Z",
     "end_time": "2023-04-02T19:26:25.300666Z"
    }
   },
   "outputs": [],
   "source": [
    "%load_ext autoreload\n",
    "%autoreload 2\n",
    "import sys\n",
    "\n",
    "sys.path.append(\"../\")\n",
    "from pathlib import Path\n",
    "import numpy as np\n",
    "import pandas as pd\n",
    "from tqdm import tqdm\n",
    "from matplotlib import pyplot as plt\n",
    "from src.dataloaders import PointOnlyDataloader, NoiseDataLoader, IDataloader\n",
    "from src.solutions import EllipseDataFitting\n",
    "\n",
    "dataset_dir = Path('../dataset')\n",
    "root_file = \"farichsim_pi-pi-_45-360deg_1200.0k_ideal_2020-12-24_rndm.root\"\n",
    "root_path = dataset_dir / root_file"
   ]
  },
  {
   "cell_type": "code",
   "execution_count": 10,
   "outputs": [
    {
     "ename": "ParserError",
     "evalue": "Error tokenizing data. C error: Calling read(nbytes) on source failed. Try engine='python'.",
     "output_type": "error",
     "traceback": [
      "\u001B[0;31m---------------------------------------------------------------------------\u001B[0m",
      "\u001B[0;31mParserError\u001B[0m                               Traceback (most recent call last)",
      "Cell \u001B[0;32mIn[10], line 1\u001B[0m\n\u001B[0;32m----> 1\u001B[0m df \u001B[38;5;241m=\u001B[39m \u001B[43mpd\u001B[49m\u001B[38;5;241;43m.\u001B[39;49m\u001B[43mread_csv\u001B[49m\u001B[43m(\u001B[49m\u001B[38;5;124;43m'\u001B[39;49m\u001B[38;5;124;43mres.csv\u001B[39;49m\u001B[38;5;124;43m'\u001B[39;49m\u001B[43m)\u001B[49m\n",
      "File \u001B[0;32m~/projects/NSU/farich-detector/.venv/lib/python3.9/site-packages/pandas/util/_decorators.py:211\u001B[0m, in \u001B[0;36mdeprecate_kwarg.<locals>._deprecate_kwarg.<locals>.wrapper\u001B[0;34m(*args, **kwargs)\u001B[0m\n\u001B[1;32m    209\u001B[0m     \u001B[38;5;28;01melse\u001B[39;00m:\n\u001B[1;32m    210\u001B[0m         kwargs[new_arg_name] \u001B[38;5;241m=\u001B[39m new_arg_value\n\u001B[0;32m--> 211\u001B[0m \u001B[38;5;28;01mreturn\u001B[39;00m \u001B[43mfunc\u001B[49m\u001B[43m(\u001B[49m\u001B[38;5;241;43m*\u001B[39;49m\u001B[43margs\u001B[49m\u001B[43m,\u001B[49m\u001B[43m \u001B[49m\u001B[38;5;241;43m*\u001B[39;49m\u001B[38;5;241;43m*\u001B[39;49m\u001B[43mkwargs\u001B[49m\u001B[43m)\u001B[49m\n",
      "File \u001B[0;32m~/projects/NSU/farich-detector/.venv/lib/python3.9/site-packages/pandas/util/_decorators.py:331\u001B[0m, in \u001B[0;36mdeprecate_nonkeyword_arguments.<locals>.decorate.<locals>.wrapper\u001B[0;34m(*args, **kwargs)\u001B[0m\n\u001B[1;32m    325\u001B[0m \u001B[38;5;28;01mif\u001B[39;00m \u001B[38;5;28mlen\u001B[39m(args) \u001B[38;5;241m>\u001B[39m num_allow_args:\n\u001B[1;32m    326\u001B[0m     warnings\u001B[38;5;241m.\u001B[39mwarn(\n\u001B[1;32m    327\u001B[0m         msg\u001B[38;5;241m.\u001B[39mformat(arguments\u001B[38;5;241m=\u001B[39m_format_argument_list(allow_args)),\n\u001B[1;32m    328\u001B[0m         \u001B[38;5;167;01mFutureWarning\u001B[39;00m,\n\u001B[1;32m    329\u001B[0m         stacklevel\u001B[38;5;241m=\u001B[39mfind_stack_level(),\n\u001B[1;32m    330\u001B[0m     )\n\u001B[0;32m--> 331\u001B[0m \u001B[38;5;28;01mreturn\u001B[39;00m \u001B[43mfunc\u001B[49m\u001B[43m(\u001B[49m\u001B[38;5;241;43m*\u001B[39;49m\u001B[43margs\u001B[49m\u001B[43m,\u001B[49m\u001B[43m \u001B[49m\u001B[38;5;241;43m*\u001B[39;49m\u001B[38;5;241;43m*\u001B[39;49m\u001B[43mkwargs\u001B[49m\u001B[43m)\u001B[49m\n",
      "File \u001B[0;32m~/projects/NSU/farich-detector/.venv/lib/python3.9/site-packages/pandas/io/parsers/readers.py:950\u001B[0m, in \u001B[0;36mread_csv\u001B[0;34m(filepath_or_buffer, sep, delimiter, header, names, index_col, usecols, squeeze, prefix, mangle_dupe_cols, dtype, engine, converters, true_values, false_values, skipinitialspace, skiprows, skipfooter, nrows, na_values, keep_default_na, na_filter, verbose, skip_blank_lines, parse_dates, infer_datetime_format, keep_date_col, date_parser, dayfirst, cache_dates, iterator, chunksize, compression, thousands, decimal, lineterminator, quotechar, quoting, doublequote, escapechar, comment, encoding, encoding_errors, dialect, error_bad_lines, warn_bad_lines, on_bad_lines, delim_whitespace, low_memory, memory_map, float_precision, storage_options)\u001B[0m\n\u001B[1;32m    935\u001B[0m kwds_defaults \u001B[38;5;241m=\u001B[39m _refine_defaults_read(\n\u001B[1;32m    936\u001B[0m     dialect,\n\u001B[1;32m    937\u001B[0m     delimiter,\n\u001B[0;32m   (...)\u001B[0m\n\u001B[1;32m    946\u001B[0m     defaults\u001B[38;5;241m=\u001B[39m{\u001B[38;5;124m\"\u001B[39m\u001B[38;5;124mdelimiter\u001B[39m\u001B[38;5;124m\"\u001B[39m: \u001B[38;5;124m\"\u001B[39m\u001B[38;5;124m,\u001B[39m\u001B[38;5;124m\"\u001B[39m},\n\u001B[1;32m    947\u001B[0m )\n\u001B[1;32m    948\u001B[0m kwds\u001B[38;5;241m.\u001B[39mupdate(kwds_defaults)\n\u001B[0;32m--> 950\u001B[0m \u001B[38;5;28;01mreturn\u001B[39;00m \u001B[43m_read\u001B[49m\u001B[43m(\u001B[49m\u001B[43mfilepath_or_buffer\u001B[49m\u001B[43m,\u001B[49m\u001B[43m \u001B[49m\u001B[43mkwds\u001B[49m\u001B[43m)\u001B[49m\n",
      "File \u001B[0;32m~/projects/NSU/farich-detector/.venv/lib/python3.9/site-packages/pandas/io/parsers/readers.py:611\u001B[0m, in \u001B[0;36m_read\u001B[0;34m(filepath_or_buffer, kwds)\u001B[0m\n\u001B[1;32m    608\u001B[0m     \u001B[38;5;28;01mreturn\u001B[39;00m parser\n\u001B[1;32m    610\u001B[0m \u001B[38;5;28;01mwith\u001B[39;00m parser:\n\u001B[0;32m--> 611\u001B[0m     \u001B[38;5;28;01mreturn\u001B[39;00m \u001B[43mparser\u001B[49m\u001B[38;5;241;43m.\u001B[39;49m\u001B[43mread\u001B[49m\u001B[43m(\u001B[49m\u001B[43mnrows\u001B[49m\u001B[43m)\u001B[49m\n",
      "File \u001B[0;32m~/projects/NSU/farich-detector/.venv/lib/python3.9/site-packages/pandas/io/parsers/readers.py:1778\u001B[0m, in \u001B[0;36mTextFileReader.read\u001B[0;34m(self, nrows)\u001B[0m\n\u001B[1;32m   1771\u001B[0m nrows \u001B[38;5;241m=\u001B[39m validate_integer(\u001B[38;5;124m\"\u001B[39m\u001B[38;5;124mnrows\u001B[39m\u001B[38;5;124m\"\u001B[39m, nrows)\n\u001B[1;32m   1772\u001B[0m \u001B[38;5;28;01mtry\u001B[39;00m:\n\u001B[1;32m   1773\u001B[0m     \u001B[38;5;66;03m# error: \"ParserBase\" has no attribute \"read\"\u001B[39;00m\n\u001B[1;32m   1774\u001B[0m     (\n\u001B[1;32m   1775\u001B[0m         index,\n\u001B[1;32m   1776\u001B[0m         columns,\n\u001B[1;32m   1777\u001B[0m         col_dict,\n\u001B[0;32m-> 1778\u001B[0m     ) \u001B[38;5;241m=\u001B[39m \u001B[38;5;28;43mself\u001B[39;49m\u001B[38;5;241;43m.\u001B[39;49m\u001B[43m_engine\u001B[49m\u001B[38;5;241;43m.\u001B[39;49m\u001B[43mread\u001B[49m\u001B[43m(\u001B[49m\u001B[43m  \u001B[49m\u001B[38;5;66;43;03m# type: ignore[attr-defined]\u001B[39;49;00m\n\u001B[1;32m   1779\u001B[0m \u001B[43m        \u001B[49m\u001B[43mnrows\u001B[49m\n\u001B[1;32m   1780\u001B[0m \u001B[43m    \u001B[49m\u001B[43m)\u001B[49m\n\u001B[1;32m   1781\u001B[0m \u001B[38;5;28;01mexcept\u001B[39;00m \u001B[38;5;167;01mException\u001B[39;00m:\n\u001B[1;32m   1782\u001B[0m     \u001B[38;5;28mself\u001B[39m\u001B[38;5;241m.\u001B[39mclose()\n",
      "File \u001B[0;32m~/projects/NSU/farich-detector/.venv/lib/python3.9/site-packages/pandas/io/parsers/c_parser_wrapper.py:230\u001B[0m, in \u001B[0;36mCParserWrapper.read\u001B[0;34m(self, nrows)\u001B[0m\n\u001B[1;32m    228\u001B[0m \u001B[38;5;28;01mtry\u001B[39;00m:\n\u001B[1;32m    229\u001B[0m     \u001B[38;5;28;01mif\u001B[39;00m \u001B[38;5;28mself\u001B[39m\u001B[38;5;241m.\u001B[39mlow_memory:\n\u001B[0;32m--> 230\u001B[0m         chunks \u001B[38;5;241m=\u001B[39m \u001B[38;5;28;43mself\u001B[39;49m\u001B[38;5;241;43m.\u001B[39;49m\u001B[43m_reader\u001B[49m\u001B[38;5;241;43m.\u001B[39;49m\u001B[43mread_low_memory\u001B[49m\u001B[43m(\u001B[49m\u001B[43mnrows\u001B[49m\u001B[43m)\u001B[49m\n\u001B[1;32m    231\u001B[0m         \u001B[38;5;66;03m# destructive to chunks\u001B[39;00m\n\u001B[1;32m    232\u001B[0m         data \u001B[38;5;241m=\u001B[39m _concatenate_chunks(chunks)\n",
      "File \u001B[0;32m~/projects/NSU/farich-detector/.venv/lib/python3.9/site-packages/pandas/_libs/parsers.pyx:808\u001B[0m, in \u001B[0;36mpandas._libs.parsers.TextReader.read_low_memory\u001B[0;34m()\u001B[0m\n",
      "File \u001B[0;32m~/projects/NSU/farich-detector/.venv/lib/python3.9/site-packages/pandas/_libs/parsers.pyx:866\u001B[0m, in \u001B[0;36mpandas._libs.parsers.TextReader._read_rows\u001B[0;34m()\u001B[0m\n",
      "File \u001B[0;32m~/projects/NSU/farich-detector/.venv/lib/python3.9/site-packages/pandas/_libs/parsers.pyx:852\u001B[0m, in \u001B[0;36mpandas._libs.parsers.TextReader._tokenize_rows\u001B[0;34m()\u001B[0m\n",
      "File \u001B[0;32m~/projects/NSU/farich-detector/.venv/lib/python3.9/site-packages/pandas/_libs/parsers.pyx:1973\u001B[0m, in \u001B[0;36mpandas._libs.parsers.raise_parser_error\u001B[0;34m()\u001B[0m\n",
      "\u001B[0;31mParserError\u001B[0m: Error tokenizing data. C error: Calling read(nbytes) on source failed. Try engine='python'."
     ]
    }
   ],
   "source": [
    "df = pd.read_csv('res.csv')"
   ],
   "metadata": {
    "collapsed": false
   }
  },
  {
   "cell_type": "code",
   "execution_count": 4,
   "outputs": [
    {
     "data": {
      "text/plain": "Index              128\nentry        252263168\nsubentry     252263168\nx_c          252263168\ny_c          252263168\nz_c          252263168\nt_c0         252263168\n0            252263168\n100          252263168\n55           252263168\n201.05       252263168\n1.0519133    252263168\ndtype: int64"
     },
     "execution_count": 4,
     "metadata": {},
     "output_type": "execute_result"
    }
   ],
   "source": [
    "df.memory_usage()"
   ],
   "metadata": {
    "collapsed": false
   }
  },
  {
   "cell_type": "code",
   "execution_count": 8,
   "outputs": [],
   "source": [
    "dl = PointOnlyDataloader(root_path, verbose=False)\n",
    "alg = EllipseDataFitting(save_graphics=True)\n",
    "\n"
   ],
   "metadata": {
    "collapsed": false
   }
  },
  {
   "cell_type": "code",
   "execution_count": 16,
   "outputs": [
    {
     "name": "stderr",
     "output_type": "stream",
     "text": [
      "  0%|          | 0/60.0 [00:00<?, ?it/s]\n"
     ]
    },
    {
     "ename": "TypeError",
     "evalue": "super(type, obj): obj must be an instance or subtype of type",
     "output_type": "error",
     "traceback": [
      "\u001B[0;31m---------------------------------------------------------------------------\u001B[0m",
      "\u001B[0;31mTypeError\u001B[0m                                 Traceback (most recent call last)",
      "Cell \u001B[0;32mIn[16], line 3\u001B[0m\n\u001B[1;32m      1\u001B[0m dl \u001B[38;5;241m=\u001B[39m NoiseDataLoader(root_path, verbose\u001B[38;5;241m=\u001B[39m\u001B[38;5;28;01mFalse\u001B[39;00m, noise_freq_per_sqmm\u001B[38;5;241m=\u001B[39m\u001B[38;5;241m2e5\u001B[39m)\n\u001B[1;32m      2\u001B[0m max_delta \u001B[38;5;241m=\u001B[39m \u001B[38;5;241m0\u001B[39m\n\u001B[0;32m----> 3\u001B[0m \u001B[38;5;28;01mfor\u001B[39;00m df, _ \u001B[38;5;129;01min\u001B[39;00m tqdm(dl\u001B[38;5;241m.\u001B[39mgenChunkFromRoot(event_chunk_size\u001B[38;5;241m=\u001B[39m\u001B[38;5;241m20000\u001B[39m), total\u001B[38;5;241m=\u001B[39mdl\u001B[38;5;241m.\u001B[39mget_total_cnt()\u001B[38;5;241m/\u001B[39m\u001B[38;5;241m20000\u001B[39m):\n\u001B[1;32m      4\u001B[0m     df\u001B[38;5;241m.\u001B[39mto_csv(\u001B[38;5;124m'\u001B[39m\u001B[38;5;124mdataset_with_noise_2e5.csv\u001B[39m\u001B[38;5;124m'\u001B[39m, mode\u001B[38;5;241m=\u001B[39m\u001B[38;5;124m'\u001B[39m\u001B[38;5;124ma\u001B[39m\u001B[38;5;124m'\u001B[39m, header\u001B[38;5;241m=\u001B[39m\u001B[38;5;28;01mNone\u001B[39;00m)\n\u001B[1;32m      5\u001B[0m     \u001B[38;5;28;01mbreak\u001B[39;00m\n",
      "File \u001B[0;32m~/projects/NSU/farich-detector/.venv/lib/python3.9/site-packages/tqdm/std.py:1195\u001B[0m, in \u001B[0;36mtqdm.__iter__\u001B[0;34m(self)\u001B[0m\n\u001B[1;32m   1192\u001B[0m time \u001B[38;5;241m=\u001B[39m \u001B[38;5;28mself\u001B[39m\u001B[38;5;241m.\u001B[39m_time\n\u001B[1;32m   1194\u001B[0m \u001B[38;5;28;01mtry\u001B[39;00m:\n\u001B[0;32m-> 1195\u001B[0m     \u001B[38;5;28;01mfor\u001B[39;00m obj \u001B[38;5;129;01min\u001B[39;00m iterable:\n\u001B[1;32m   1196\u001B[0m         \u001B[38;5;28;01myield\u001B[39;00m obj\n\u001B[1;32m   1197\u001B[0m         \u001B[38;5;66;03m# Update and possibly print the progressbar.\u001B[39;00m\n\u001B[1;32m   1198\u001B[0m         \u001B[38;5;66;03m# Note: does not call self.update(1) for speed optimisation.\u001B[39;00m\n",
      "File \u001B[0;32m~/projects/NSU/farich-detector/notebooks/../src/dataloaders/noise.py:105\u001B[0m, in \u001B[0;36mNoiseDataLoader.genChunkFromRoot\u001B[0;34m(self, event_chunk_size)\u001B[0m\n\u001B[1;32m    104\u001B[0m \u001B[38;5;28;01mdef\u001B[39;00m \u001B[38;5;21mgenChunkFromRoot\u001B[39m(\u001B[38;5;28mself\u001B[39m, event_chunk_size\u001B[38;5;241m=\u001B[39m\u001B[38;5;241m2000\u001B[39m):\n\u001B[0;32m--> 105\u001B[0m     \u001B[38;5;28;01mfor\u001B[39;00m hit_df, part_df \u001B[38;5;129;01min\u001B[39;00m \u001B[38;5;28;43msuper\u001B[39;49m\u001B[43m(\u001B[49m\u001B[43m)\u001B[49m\u001B[38;5;241m.\u001B[39mgenChunkFromRoot(event_chunk_size\u001B[38;5;241m=\u001B[39m\u001B[38;5;241m2000\u001B[39m):\n\u001B[1;32m    106\u001B[0m         hit_df \u001B[38;5;241m=\u001B[39m \u001B[38;5;28mself\u001B[39m\u001B[38;5;241m.\u001B[39m_add_noise(part_df, hit_df)\n\u001B[1;32m    107\u001B[0m         \u001B[38;5;28;01mif\u001B[39;00m \u001B[38;5;28mself\u001B[39m\u001B[38;5;241m.\u001B[39monly_hits:\n",
      "\u001B[0;31mTypeError\u001B[0m: super(type, obj): obj must be an instance or subtype of type"
     ]
    }
   ],
   "source": [
    "dl = NoiseDataLoader(root_path, verbose=False, noise_freq_per_sqmm=2e5)\n",
    "max_delta = 0\n",
    "for df in tqdm(dl.genChunkFromRoot(event_chunk_size=20000), total=dl.get_total_cnt() / 20000):\n",
    "    df.to_csv('dataset_with_noise_2e5.csv', mode='a', header=None)\n",
    "    break\n",
    "    # max_delta = max(df['t_c'].max() - df['t_c'].min(), max_delta)"
   ],
   "metadata": {
    "collapsed": false
   }
  },
  {
   "cell_type": "code",
   "execution_count": 22,
   "outputs": [
    {
     "data": {
      "text/plain": "2.3193755"
     },
     "execution_count": 22,
     "metadata": {},
     "output_type": "execute_result"
    }
   ],
   "source": [
    " max_delta"
   ],
   "metadata": {
    "collapsed": false
   }
  },
  {
   "cell_type": "code",
   "execution_count": 3,
   "outputs": [
    {
     "name": "stderr",
     "output_type": "stream",
     "text": [
      "  4%|▍         | 2/47 [00:38<14:24, 19.22s/it]\n"
     ]
    }
   ],
   "source": [
    "centers, vectors, normals, point1, point2, point3 = alg.run(df)\n"
   ],
   "metadata": {
    "collapsed": false
   }
  },
  {
   "cell_type": "code",
   "execution_count": 4,
   "outputs": [],
   "source": [
    "centers = pd.DataFrame(np.array(centers), columns=['x_center', 'y_center', 't_center'])"
   ],
   "metadata": {
    "collapsed": false
   }
  },
  {
   "cell_type": "code",
   "execution_count": 5,
   "outputs": [
    {
     "data": {
      "text/plain": "    x_center   y_center  t_center\n0 -50.042775 -14.714778  0.721234",
      "text/html": "<div>\n<style scoped>\n    .dataframe tbody tr th:only-of-type {\n        vertical-align: middle;\n    }\n\n    .dataframe tbody tr th {\n        vertical-align: top;\n    }\n\n    .dataframe thead th {\n        text-align: right;\n    }\n</style>\n<table border=\"1\" class=\"dataframe\">\n  <thead>\n    <tr style=\"text-align: right;\">\n      <th></th>\n      <th>x_center</th>\n      <th>y_center</th>\n      <th>t_center</th>\n    </tr>\n  </thead>\n  <tbody>\n    <tr>\n      <th>0</th>\n      <td>-50.042775</td>\n      <td>-14.714778</td>\n      <td>0.721234</td>\n    </tr>\n  </tbody>\n</table>\n</div>"
     },
     "execution_count": 5,
     "metadata": {},
     "output_type": "execute_result"
    }
   ],
   "source": [
    "centers"
   ],
   "metadata": {
    "collapsed": false
   }
  },
  {
   "cell_type": "code",
   "execution_count": 8,
   "outputs": [],
   "source": [
    "normals = pd.DataFrame(np.array(normals), columns=['x_normal', 'y_normal', 't_normal'])"
   ],
   "metadata": {
    "collapsed": false
   }
  },
  {
   "cell_type": "code",
   "execution_count": 9,
   "outputs": [],
   "source": [
    "points1 = pd.DataFrame(np.array(point1), columns=['x_p1', 'y_p1', 't_p1'])"
   ],
   "metadata": {
    "collapsed": false
   }
  },
  {
   "cell_type": "code",
   "execution_count": 10,
   "outputs": [
    {
     "data": {
      "text/plain": "         x_p1   y_p1      t_p1\n0 -105.279999 -29.76  0.766782",
      "text/html": "<div>\n<style scoped>\n    .dataframe tbody tr th:only-of-type {\n        vertical-align: middle;\n    }\n\n    .dataframe tbody tr th {\n        vertical-align: top;\n    }\n\n    .dataframe thead th {\n        text-align: right;\n    }\n</style>\n<table border=\"1\" class=\"dataframe\">\n  <thead>\n    <tr style=\"text-align: right;\">\n      <th></th>\n      <th>x_p1</th>\n      <th>y_p1</th>\n      <th>t_p1</th>\n    </tr>\n  </thead>\n  <tbody>\n    <tr>\n      <th>0</th>\n      <td>-105.279999</td>\n      <td>-29.76</td>\n      <td>0.766782</td>\n    </tr>\n  </tbody>\n</table>\n</div>"
     },
     "execution_count": 10,
     "metadata": {},
     "output_type": "execute_result"
    }
   ],
   "source": [
    "points1"
   ],
   "metadata": {
    "collapsed": false
   }
  },
  {
   "cell_type": "code",
   "execution_count": 11,
   "outputs": [
    {
     "data": {
      "text/plain": "                       x_c         y_c         z_c       t_c\nentry subentry                                              \n5     0        -351.040009  399.679993  201.050003  2.387565\n      1         -85.120003  -80.959999  201.050003  0.870651\n      2        -105.279999  -29.760000  201.050003  0.766782\n      3        -105.279999  -25.600000  201.050003  0.767961\n      4        -108.639999   -8.800000  201.050003  0.767712\n      5         -98.559998   15.520000  201.050003  0.754884\n      6        -101.919998    5.440000  201.050003  0.756660\n      7        -105.279999    5.440000  201.050003  0.761616\n      8         -98.559998   18.879999  201.050003  0.753252\n      9         -88.480003   29.760000  201.050003  0.745859\n      10        -70.879997 -178.240005  201.050003  1.189885\n      11        -64.160004  -67.519997  201.050003  0.743735\n      12        -74.239998  -64.160004  201.050003  0.750375\n      13        -80.959999  -64.160004  201.050003  0.759340\n      14        -67.519997  -57.439999  201.050003  0.740059\n      15        -57.439999   22.240000  201.050003  1.134990\n      16        -74.239998   33.119999  201.050003  0.730597\n      17        -77.599998   36.480000  201.050003  0.732978\n      18        -74.239998   36.480000  201.050003  0.730177\n      19        -70.879997   36.480000  201.050003  0.725091\n      20        -74.239998  219.360001  201.050003  1.580266\n      21        -43.200001  -67.519997  201.050003  0.729207\n      22        -53.279999  -70.879997  201.050003  0.736687\n      23        -33.119999  -67.519997  201.050003  0.721118\n      24        -53.279999  -70.879997  201.050003  0.738963\n      25        -43.200001   43.200001  201.050003  0.706602\n      26        -49.919998   43.200001  201.050003  0.709753\n      27        -49.919998   39.840000  201.050003  0.708978\n      28        -12.160000 -205.919998  201.050003  1.162304\n      29        -22.240000  -60.799999  201.050003  0.709096\n      30         -2.080000  -46.560001  201.050003  0.693336\n      31         -5.440000  -49.919998  201.050003  0.695881\n      32         -5.440000   22.240000  201.050003  0.679680\n      33         -5.440000   18.879999  201.050003  0.679365\n      34        -22.240000   33.119999  201.050003  0.689608\n      35          8.800000  -22.240000  201.050003  0.680270\n      36          8.800000    2.080000  201.050003  0.677087\n      37          2.080000    8.800000  201.050003  0.677228\n      38          5.440000    8.800000  201.050003  0.677986\n      39          2.080000    8.800000  201.050003  0.676161\n      40         15.520000   88.480003  201.050003  0.832270\n      41         46.560001 -108.639999  201.050003  0.802872\n      42         43.200001  -64.160004  201.050003  0.735939\n      43         36.480000  -57.439999  201.050003  0.738325\n      44         29.760000   80.959999  201.050003  0.886469\n      45        122.879997  -60.799999  201.050003  0.866539\n      46        164.000000 -223.520004  201.050003  1.455103\n      47        153.919998  -22.240000  201.050003  0.902340\n      48        188.320007  -74.239998  201.050003  0.973741",
      "text/html": "<div>\n<style scoped>\n    .dataframe tbody tr th:only-of-type {\n        vertical-align: middle;\n    }\n\n    .dataframe tbody tr th {\n        vertical-align: top;\n    }\n\n    .dataframe thead th {\n        text-align: right;\n    }\n</style>\n<table border=\"1\" class=\"dataframe\">\n  <thead>\n    <tr style=\"text-align: right;\">\n      <th></th>\n      <th></th>\n      <th>x_c</th>\n      <th>y_c</th>\n      <th>z_c</th>\n      <th>t_c</th>\n    </tr>\n    <tr>\n      <th>entry</th>\n      <th>subentry</th>\n      <th></th>\n      <th></th>\n      <th></th>\n      <th></th>\n    </tr>\n  </thead>\n  <tbody>\n    <tr>\n      <th rowspan=\"49\" valign=\"top\">5</th>\n      <th>0</th>\n      <td>-351.040009</td>\n      <td>399.679993</td>\n      <td>201.050003</td>\n      <td>2.387565</td>\n    </tr>\n    <tr>\n      <th>1</th>\n      <td>-85.120003</td>\n      <td>-80.959999</td>\n      <td>201.050003</td>\n      <td>0.870651</td>\n    </tr>\n    <tr>\n      <th>2</th>\n      <td>-105.279999</td>\n      <td>-29.760000</td>\n      <td>201.050003</td>\n      <td>0.766782</td>\n    </tr>\n    <tr>\n      <th>3</th>\n      <td>-105.279999</td>\n      <td>-25.600000</td>\n      <td>201.050003</td>\n      <td>0.767961</td>\n    </tr>\n    <tr>\n      <th>4</th>\n      <td>-108.639999</td>\n      <td>-8.800000</td>\n      <td>201.050003</td>\n      <td>0.767712</td>\n    </tr>\n    <tr>\n      <th>5</th>\n      <td>-98.559998</td>\n      <td>15.520000</td>\n      <td>201.050003</td>\n      <td>0.754884</td>\n    </tr>\n    <tr>\n      <th>6</th>\n      <td>-101.919998</td>\n      <td>5.440000</td>\n      <td>201.050003</td>\n      <td>0.756660</td>\n    </tr>\n    <tr>\n      <th>7</th>\n      <td>-105.279999</td>\n      <td>5.440000</td>\n      <td>201.050003</td>\n      <td>0.761616</td>\n    </tr>\n    <tr>\n      <th>8</th>\n      <td>-98.559998</td>\n      <td>18.879999</td>\n      <td>201.050003</td>\n      <td>0.753252</td>\n    </tr>\n    <tr>\n      <th>9</th>\n      <td>-88.480003</td>\n      <td>29.760000</td>\n      <td>201.050003</td>\n      <td>0.745859</td>\n    </tr>\n    <tr>\n      <th>10</th>\n      <td>-70.879997</td>\n      <td>-178.240005</td>\n      <td>201.050003</td>\n      <td>1.189885</td>\n    </tr>\n    <tr>\n      <th>11</th>\n      <td>-64.160004</td>\n      <td>-67.519997</td>\n      <td>201.050003</td>\n      <td>0.743735</td>\n    </tr>\n    <tr>\n      <th>12</th>\n      <td>-74.239998</td>\n      <td>-64.160004</td>\n      <td>201.050003</td>\n      <td>0.750375</td>\n    </tr>\n    <tr>\n      <th>13</th>\n      <td>-80.959999</td>\n      <td>-64.160004</td>\n      <td>201.050003</td>\n      <td>0.759340</td>\n    </tr>\n    <tr>\n      <th>14</th>\n      <td>-67.519997</td>\n      <td>-57.439999</td>\n      <td>201.050003</td>\n      <td>0.740059</td>\n    </tr>\n    <tr>\n      <th>15</th>\n      <td>-57.439999</td>\n      <td>22.240000</td>\n      <td>201.050003</td>\n      <td>1.134990</td>\n    </tr>\n    <tr>\n      <th>16</th>\n      <td>-74.239998</td>\n      <td>33.119999</td>\n      <td>201.050003</td>\n      <td>0.730597</td>\n    </tr>\n    <tr>\n      <th>17</th>\n      <td>-77.599998</td>\n      <td>36.480000</td>\n      <td>201.050003</td>\n      <td>0.732978</td>\n    </tr>\n    <tr>\n      <th>18</th>\n      <td>-74.239998</td>\n      <td>36.480000</td>\n      <td>201.050003</td>\n      <td>0.730177</td>\n    </tr>\n    <tr>\n      <th>19</th>\n      <td>-70.879997</td>\n      <td>36.480000</td>\n      <td>201.050003</td>\n      <td>0.725091</td>\n    </tr>\n    <tr>\n      <th>20</th>\n      <td>-74.239998</td>\n      <td>219.360001</td>\n      <td>201.050003</td>\n      <td>1.580266</td>\n    </tr>\n    <tr>\n      <th>21</th>\n      <td>-43.200001</td>\n      <td>-67.519997</td>\n      <td>201.050003</td>\n      <td>0.729207</td>\n    </tr>\n    <tr>\n      <th>22</th>\n      <td>-53.279999</td>\n      <td>-70.879997</td>\n      <td>201.050003</td>\n      <td>0.736687</td>\n    </tr>\n    <tr>\n      <th>23</th>\n      <td>-33.119999</td>\n      <td>-67.519997</td>\n      <td>201.050003</td>\n      <td>0.721118</td>\n    </tr>\n    <tr>\n      <th>24</th>\n      <td>-53.279999</td>\n      <td>-70.879997</td>\n      <td>201.050003</td>\n      <td>0.738963</td>\n    </tr>\n    <tr>\n      <th>25</th>\n      <td>-43.200001</td>\n      <td>43.200001</td>\n      <td>201.050003</td>\n      <td>0.706602</td>\n    </tr>\n    <tr>\n      <th>26</th>\n      <td>-49.919998</td>\n      <td>43.200001</td>\n      <td>201.050003</td>\n      <td>0.709753</td>\n    </tr>\n    <tr>\n      <th>27</th>\n      <td>-49.919998</td>\n      <td>39.840000</td>\n      <td>201.050003</td>\n      <td>0.708978</td>\n    </tr>\n    <tr>\n      <th>28</th>\n      <td>-12.160000</td>\n      <td>-205.919998</td>\n      <td>201.050003</td>\n      <td>1.162304</td>\n    </tr>\n    <tr>\n      <th>29</th>\n      <td>-22.240000</td>\n      <td>-60.799999</td>\n      <td>201.050003</td>\n      <td>0.709096</td>\n    </tr>\n    <tr>\n      <th>30</th>\n      <td>-2.080000</td>\n      <td>-46.560001</td>\n      <td>201.050003</td>\n      <td>0.693336</td>\n    </tr>\n    <tr>\n      <th>31</th>\n      <td>-5.440000</td>\n      <td>-49.919998</td>\n      <td>201.050003</td>\n      <td>0.695881</td>\n    </tr>\n    <tr>\n      <th>32</th>\n      <td>-5.440000</td>\n      <td>22.240000</td>\n      <td>201.050003</td>\n      <td>0.679680</td>\n    </tr>\n    <tr>\n      <th>33</th>\n      <td>-5.440000</td>\n      <td>18.879999</td>\n      <td>201.050003</td>\n      <td>0.679365</td>\n    </tr>\n    <tr>\n      <th>34</th>\n      <td>-22.240000</td>\n      <td>33.119999</td>\n      <td>201.050003</td>\n      <td>0.689608</td>\n    </tr>\n    <tr>\n      <th>35</th>\n      <td>8.800000</td>\n      <td>-22.240000</td>\n      <td>201.050003</td>\n      <td>0.680270</td>\n    </tr>\n    <tr>\n      <th>36</th>\n      <td>8.800000</td>\n      <td>2.080000</td>\n      <td>201.050003</td>\n      <td>0.677087</td>\n    </tr>\n    <tr>\n      <th>37</th>\n      <td>2.080000</td>\n      <td>8.800000</td>\n      <td>201.050003</td>\n      <td>0.677228</td>\n    </tr>\n    <tr>\n      <th>38</th>\n      <td>5.440000</td>\n      <td>8.800000</td>\n      <td>201.050003</td>\n      <td>0.677986</td>\n    </tr>\n    <tr>\n      <th>39</th>\n      <td>2.080000</td>\n      <td>8.800000</td>\n      <td>201.050003</td>\n      <td>0.676161</td>\n    </tr>\n    <tr>\n      <th>40</th>\n      <td>15.520000</td>\n      <td>88.480003</td>\n      <td>201.050003</td>\n      <td>0.832270</td>\n    </tr>\n    <tr>\n      <th>41</th>\n      <td>46.560001</td>\n      <td>-108.639999</td>\n      <td>201.050003</td>\n      <td>0.802872</td>\n    </tr>\n    <tr>\n      <th>42</th>\n      <td>43.200001</td>\n      <td>-64.160004</td>\n      <td>201.050003</td>\n      <td>0.735939</td>\n    </tr>\n    <tr>\n      <th>43</th>\n      <td>36.480000</td>\n      <td>-57.439999</td>\n      <td>201.050003</td>\n      <td>0.738325</td>\n    </tr>\n    <tr>\n      <th>44</th>\n      <td>29.760000</td>\n      <td>80.959999</td>\n      <td>201.050003</td>\n      <td>0.886469</td>\n    </tr>\n    <tr>\n      <th>45</th>\n      <td>122.879997</td>\n      <td>-60.799999</td>\n      <td>201.050003</td>\n      <td>0.866539</td>\n    </tr>\n    <tr>\n      <th>46</th>\n      <td>164.000000</td>\n      <td>-223.520004</td>\n      <td>201.050003</td>\n      <td>1.455103</td>\n    </tr>\n    <tr>\n      <th>47</th>\n      <td>153.919998</td>\n      <td>-22.240000</td>\n      <td>201.050003</td>\n      <td>0.902340</td>\n    </tr>\n    <tr>\n      <th>48</th>\n      <td>188.320007</td>\n      <td>-74.239998</td>\n      <td>201.050003</td>\n      <td>0.973741</td>\n    </tr>\n  </tbody>\n</table>\n</div>"
     },
     "execution_count": 11,
     "metadata": {},
     "output_type": "execute_result"
    }
   ],
   "source": [
    "df"
   ],
   "metadata": {
    "collapsed": false
   }
  },
  {
   "cell_type": "code",
   "execution_count": 6,
   "outputs": [],
   "source": [
    "vec_1 = pd.DataFrame(np.array([i[0] for i in vectors]), columns=['x_v_1', 'y_v_1', 't_v_1'])"
   ],
   "metadata": {
    "collapsed": false
   }
  },
  {
   "cell_type": "code",
   "execution_count": 7,
   "outputs": [
    {
     "data": {
      "text/plain": "        x_v_1      y_v_1     t_v_1\n0 -105.870569 -27.304654  0.766708",
      "text/html": "<div>\n<style scoped>\n    .dataframe tbody tr th:only-of-type {\n        vertical-align: middle;\n    }\n\n    .dataframe tbody tr th {\n        vertical-align: top;\n    }\n\n    .dataframe thead th {\n        text-align: right;\n    }\n</style>\n<table border=\"1\" class=\"dataframe\">\n  <thead>\n    <tr style=\"text-align: right;\">\n      <th></th>\n      <th>x_v_1</th>\n      <th>y_v_1</th>\n      <th>t_v_1</th>\n    </tr>\n  </thead>\n  <tbody>\n    <tr>\n      <th>0</th>\n      <td>-105.870569</td>\n      <td>-27.304654</td>\n      <td>0.766708</td>\n    </tr>\n  </tbody>\n</table>\n</div>"
     },
     "execution_count": 7,
     "metadata": {},
     "output_type": "execute_result"
    }
   ],
   "source": [
    "vec_1"
   ],
   "metadata": {
    "collapsed": false
   }
  },
  {
   "cell_type": "code",
   "execution_count": 14,
   "outputs": [
    {
     "data": {
      "text/plain": "[Point([-105.28     ,  -29.76     ,    0.7667816], dtype=float32)]"
     },
     "execution_count": 14,
     "metadata": {},
     "output_type": "execute_result"
    }
   ],
   "source": [
    "point1"
   ],
   "metadata": {
    "collapsed": false
   }
  },
  {
   "cell_type": "code",
   "execution_count": 1,
   "outputs": [
    {
     "ename": "NameError",
     "evalue": "name 'dl' is not defined",
     "output_type": "error",
     "traceback": [
      "\u001B[0;31m---------------------------------------------------------------------------\u001B[0m",
      "\u001B[0;31mNameError\u001B[0m                                 Traceback (most recent call last)",
      "Cell \u001B[0;32mIn [1], line 1\u001B[0m\n\u001B[0;32m----> 1\u001B[0m ax \u001B[38;5;241m=\u001B[39m \u001B[43mdl\u001B[49m\u001B[38;5;241m.\u001B[39mplot_solution(df)\n\u001B[1;32m      3\u001B[0m \u001B[38;5;28;01mfor\u001B[39;00m norm, point11, point22, point33 \u001B[38;5;129;01min\u001B[39;00m \u001B[38;5;28mzip\u001B[39m(normals, point1, point2, point3):\n\u001B[1;32m      4\u001B[0m     \u001B[38;5;66;03m# print(norm, point)\u001B[39;00m\n\u001B[1;32m      5\u001B[0m     \u001B[38;5;66;03m# norm = norm / np.linalg.norm(norm)\u001B[39;00m\n\u001B[1;32m      6\u001B[0m     ax\u001B[38;5;241m.\u001B[39mplot([vec_1[\u001B[38;5;124m'\u001B[39m\u001B[38;5;124mt_v_1\u001B[39m\u001B[38;5;124m'\u001B[39m][\u001B[38;5;241m0\u001B[39m], centers[\u001B[38;5;124m'\u001B[39m\u001B[38;5;124mt_center\u001B[39m\u001B[38;5;124m'\u001B[39m][\u001B[38;5;241m0\u001B[39m]],\n\u001B[1;32m      7\u001B[0m              [ vec_1[\u001B[38;5;124m'\u001B[39m\u001B[38;5;124mx_v_1\u001B[39m\u001B[38;5;124m'\u001B[39m][\u001B[38;5;241m0\u001B[39m], centers[\u001B[38;5;124m'\u001B[39m\u001B[38;5;124mx_center\u001B[39m\u001B[38;5;124m'\u001B[39m][\u001B[38;5;241m0\u001B[39m]],\n\u001B[1;32m      8\u001B[0m              [vec_1[\u001B[38;5;124m'\u001B[39m\u001B[38;5;124mx_v_1\u001B[39m\u001B[38;5;124m'\u001B[39m][\u001B[38;5;241m0\u001B[39m], centers[\u001B[38;5;124m'\u001B[39m\u001B[38;5;124my_center\u001B[39m\u001B[38;5;124m'\u001B[39m][\u001B[38;5;241m0\u001B[39m]],\n\u001B[1;32m      9\u001B[0m              label\u001B[38;5;241m=\u001B[39m\u001B[38;5;124m'\u001B[39m\u001B[38;5;124mVec_1\u001B[39m\u001B[38;5;124m'\u001B[39m)\n",
      "\u001B[0;31mNameError\u001B[0m: name 'dl' is not defined"
     ]
    }
   ],
   "source": [
    "ax = dl.plot_solution(df)\n",
    "\n",
    "for norm, point11, point22, point33 in zip(normals, point1, point2, point3):\n",
    "    # print(norm, point)\n",
    "    # norm = norm / np.linalg.norm(norm)\n",
    "    ax.plot([vec_1['t_v_1'][0], centers['t_center'][0]],\n",
    "            [vec_1['x_v_1'][0], centers['x_center'][0]],\n",
    "            [vec_1['x_v_1'][0], centers['y_center'][0]],\n",
    "            label='Vec_1')\n",
    "    ax.scatter3D(centers['t_center'][0], centers['x_center'][0], centers['y_center'][0], 'g.', label='Centers')\n",
    "    ax.scatter3D(point11[2], point11[0], point11[1], 'y.', label='Point1')\n",
    "    break\n",
    "\n",
    "plt.legend()\n",
    "plt.show()\n",
    "# plt.savefig(\"tmp/exampl.png\")"
   ],
   "metadata": {
    "collapsed": false
   }
  },
  {
   "cell_type": "code",
   "execution_count": 8,
   "outputs": [],
   "source": [
    "x = np.array([0.00000, 45.77594, -0.00000, -5.24599, 5.89959])\n",
    "y = np.array([0.00000, 0.00000, 55.82716, 43.18748, 69.42272])"
   ],
   "metadata": {
    "collapsed": false
   }
  },
  {
   "cell_type": "code",
   "execution_count": 9,
   "outputs": [
    {
     "ename": "LinAlgError",
     "evalue": "Singular matrix",
     "output_type": "error",
     "traceback": [
      "\u001B[0;31m---------------------------------------------------------------------------\u001B[0m",
      "\u001B[0;31mLinAlgError\u001B[0m                               Traceback (most recent call last)",
      "Cell \u001B[0;32mIn [9], line 2\u001B[0m\n\u001B[1;32m      1\u001B[0m \u001B[38;5;28;01mfrom\u001B[39;00m \u001B[38;5;21;01msrc\u001B[39;00m\u001B[38;5;21;01m.\u001B[39;00m\u001B[38;5;21;01mutils\u001B[39;00m\u001B[38;5;21;01m.\u001B[39;00m\u001B[38;5;21;01mgeometry\u001B[39;00m \u001B[38;5;28;01mimport\u001B[39;00m get_ellipse_from_points\n\u001B[0;32m----> 2\u001B[0m centr, params, vectors \u001B[38;5;241m=\u001B[39m \u001B[43mget_ellipse_from_points\u001B[49m\u001B[43m(\u001B[49m\u001B[43mx\u001B[49m\u001B[43m,\u001B[49m\u001B[43m \u001B[49m\u001B[43my\u001B[49m\u001B[43m)\u001B[49m\n",
      "File \u001B[0;32m~/projects/NSU/Farich/src/utils/geometry/ellipse.py:14\u001B[0m, in \u001B[0;36mget_ellipse_from_points\u001B[0;34m(x, y)\u001B[0m\n\u001B[1;32m     13\u001B[0m \u001B[38;5;28;01mdef\u001B[39;00m \u001B[38;5;21mget_ellipse_from_points\u001B[39m(x, y):\n\u001B[0;32m---> 14\u001B[0m     A, B, C, D, E \u001B[38;5;241m=\u001B[39m \u001B[43mfit_ellipse_v2\u001B[49m\u001B[43m(\u001B[49m\u001B[43mx\u001B[49m\u001B[43m,\u001B[49m\u001B[43m \u001B[49m\u001B[43my\u001B[49m\u001B[43m)\u001B[49m\n\u001B[1;32m     15\u001B[0m     \u001B[38;5;28;01mif\u001B[39;00m B \u001B[38;5;241m*\u001B[39m\u001B[38;5;241m*\u001B[39m \u001B[38;5;241m2\u001B[39m \u001B[38;5;241m-\u001B[39m \u001B[38;5;241m4\u001B[39m \u001B[38;5;241m*\u001B[39m A \u001B[38;5;241m*\u001B[39m C \u001B[38;5;241m>\u001B[39m\u001B[38;5;241m=\u001B[39m \u001B[38;5;241m0\u001B[39m:\n\u001B[1;32m     16\u001B[0m         \u001B[38;5;28;01mraise\u001B[39;00m \u001B[38;5;167;01mValueError\u001B[39;00m(\u001B[38;5;124m\"\u001B[39m\u001B[38;5;124mNot elipse\u001B[39m\u001B[38;5;124m\"\u001B[39m)\n",
      "File \u001B[0;32m~/projects/NSU/Farich/src/utils/geometry/ellipse.py:8\u001B[0m, in \u001B[0;36mfit_ellipse_v2\u001B[0;34m(x, y)\u001B[0m\n\u001B[1;32m      6\u001B[0m C \u001B[38;5;241m=\u001B[39m np\u001B[38;5;241m.\u001B[39mones_like(x)\n\u001B[1;32m      7\u001B[0m \u001B[38;5;28;01mif\u001B[39;00m \u001B[38;5;28mlen\u001B[39m(x) \u001B[38;5;241m==\u001B[39m \u001B[38;5;241m5\u001B[39m:\n\u001B[0;32m----> 8\u001B[0m     \u001B[38;5;28;01mreturn\u001B[39;00m \u001B[43mnp\u001B[49m\u001B[38;5;241;43m.\u001B[39;49m\u001B[43mlinalg\u001B[49m\u001B[38;5;241;43m.\u001B[39;49m\u001B[43minv\u001B[49m\u001B[43m(\u001B[49m\u001B[43mD\u001B[49m\u001B[43m)\u001B[49m\u001B[38;5;241m.\u001B[39mdot(C)\n\u001B[1;32m      9\u001B[0m \u001B[38;5;28;01mreturn\u001B[39;00m np\u001B[38;5;241m.\u001B[39mlinalg\u001B[38;5;241m.\u001B[39minv(D\u001B[38;5;241m.\u001B[39mT\u001B[38;5;241m.\u001B[39mdot(D))\u001B[38;5;241m.\u001B[39mdot(D\u001B[38;5;241m.\u001B[39mT)\u001B[38;5;241m.\u001B[39mdot(\n\u001B[1;32m     10\u001B[0m     C)\n",
      "File \u001B[0;32m<__array_function__ internals>:180\u001B[0m, in \u001B[0;36minv\u001B[0;34m(*args, **kwargs)\u001B[0m\n",
      "File \u001B[0;32m~/projects/NSU/Farich/.venv/lib/python3.8/site-packages/numpy/linalg/linalg.py:552\u001B[0m, in \u001B[0;36minv\u001B[0;34m(a)\u001B[0m\n\u001B[1;32m    550\u001B[0m signature \u001B[38;5;241m=\u001B[39m \u001B[38;5;124m'\u001B[39m\u001B[38;5;124mD->D\u001B[39m\u001B[38;5;124m'\u001B[39m \u001B[38;5;28;01mif\u001B[39;00m isComplexType(t) \u001B[38;5;28;01melse\u001B[39;00m \u001B[38;5;124m'\u001B[39m\u001B[38;5;124md->d\u001B[39m\u001B[38;5;124m'\u001B[39m\n\u001B[1;32m    551\u001B[0m extobj \u001B[38;5;241m=\u001B[39m get_linalg_error_extobj(_raise_linalgerror_singular)\n\u001B[0;32m--> 552\u001B[0m ainv \u001B[38;5;241m=\u001B[39m \u001B[43m_umath_linalg\u001B[49m\u001B[38;5;241;43m.\u001B[39;49m\u001B[43minv\u001B[49m\u001B[43m(\u001B[49m\u001B[43ma\u001B[49m\u001B[43m,\u001B[49m\u001B[43m \u001B[49m\u001B[43msignature\u001B[49m\u001B[38;5;241;43m=\u001B[39;49m\u001B[43msignature\u001B[49m\u001B[43m,\u001B[49m\u001B[43m \u001B[49m\u001B[43mextobj\u001B[49m\u001B[38;5;241;43m=\u001B[39;49m\u001B[43mextobj\u001B[49m\u001B[43m)\u001B[49m\n\u001B[1;32m    553\u001B[0m \u001B[38;5;28;01mreturn\u001B[39;00m wrap(ainv\u001B[38;5;241m.\u001B[39mastype(result_t, copy\u001B[38;5;241m=\u001B[39m\u001B[38;5;28;01mFalse\u001B[39;00m))\n",
      "File \u001B[0;32m~/projects/NSU/Farich/.venv/lib/python3.8/site-packages/numpy/linalg/linalg.py:89\u001B[0m, in \u001B[0;36m_raise_linalgerror_singular\u001B[0;34m(err, flag)\u001B[0m\n\u001B[1;32m     88\u001B[0m \u001B[38;5;28;01mdef\u001B[39;00m \u001B[38;5;21m_raise_linalgerror_singular\u001B[39m(err, flag):\n\u001B[0;32m---> 89\u001B[0m     \u001B[38;5;28;01mraise\u001B[39;00m LinAlgError(\u001B[38;5;124m\"\u001B[39m\u001B[38;5;124mSingular matrix\u001B[39m\u001B[38;5;124m\"\u001B[39m)\n",
      "\u001B[0;31mLinAlgError\u001B[0m: Singular matrix"
     ]
    }
   ],
   "source": [
    "from src.utils.geometry import get_ellipse_from_points\n",
    "\n",
    "centr, params, vectors = get_ellipse_from_points(x, y)"
   ],
   "metadata": {
    "collapsed": false
   }
  },
  {
   "cell_type": "code",
   "execution_count": 10,
   "outputs": [],
   "source": [
    "D = np.column_stack((x ** 2, x * y, y ** 2, x, y))"
   ],
   "metadata": {
    "collapsed": false
   }
  },
  {
   "cell_type": "code",
   "execution_count": 11,
   "outputs": [
    {
     "data": {
      "text/plain": "array([[   0.        ,    0.        ,    0.        ,    0.        ,\n           0.        ],\n       [2095.43668288,    0.        ,    0.        ,   45.77594   ,\n           0.        ],\n       [   0.        ,   -0.        , 3116.67179367,   -0.        ,\n          55.82716   ],\n       [  27.52041108, -226.56108821, 1865.15842875,   -5.24599   ,\n          43.18748   ],\n       [  34.80516217,  409.56558468, 4819.5140522 ,    5.89959   ,\n          69.42272   ]])"
     },
     "execution_count": 11,
     "metadata": {},
     "output_type": "execute_result"
    }
   ],
   "source": [
    "D"
   ],
   "metadata": {
    "collapsed": false
   }
  },
  {
   "cell_type": "code",
   "execution_count": 4,
   "outputs": [],
   "source": [
    "import plotly.graph_objects as go\n",
    "from src.solutions import EllipseDataFitting\n",
    "from collections import defaultdict"
   ],
   "metadata": {
    "collapsed": false,
    "ExecuteTime": {
     "start_time": "2023-04-02T19:27:04.455743Z",
     "end_time": "2023-04-02T19:27:04.483059Z"
    }
   }
  },
  {
   "cell_type": "code",
   "execution_count": null,
   "outputs": [],
   "source": [
    "\n",
    "\n"
   ],
   "metadata": {
    "collapsed": false
   }
  },
  {
   "cell_type": "code",
   "execution_count": 92,
   "outputs": [
    {
     "name": "stderr",
     "output_type": "stream",
     "text": [
      " 33%|███▎      | 29/89 [21:41<44:53, 44.90s/it]   \n"
     ]
    },
    {
     "ename": "KeyboardInterrupt",
     "evalue": "",
     "output_type": "error",
     "traceback": [
      "\u001B[0;31m---------------------------------------------------------------------------\u001B[0m",
      "\u001B[0;31mKeyboardInterrupt\u001B[0m                         Traceback (most recent call last)",
      "Cell \u001B[0;32mIn[92], line 9\u001B[0m\n\u001B[1;32m      7\u001B[0m \u001B[38;5;28;01mif\u001B[39;00m idx \u001B[38;5;241m<\u001B[39m \u001B[38;5;241m30\u001B[39m:\n\u001B[1;32m      8\u001B[0m     start \u001B[38;5;241m=\u001B[39m time\u001B[38;5;241m.\u001B[39mtime()\n\u001B[0;32m----> 9\u001B[0m     elipses \u001B[38;5;241m=\u001B[39m \u001B[43malg\u001B[49m\u001B[38;5;241;43m.\u001B[39;49m\u001B[43mrun\u001B[49m\u001B[43m(\u001B[49m\u001B[43mdf\u001B[49m\u001B[43m)\u001B[49m\n\u001B[1;32m     10\u001B[0m     top \u001B[38;5;241m=\u001B[39m \u001B[38;5;28mmax\u001B[39m(elipses, key\u001B[38;5;241m=\u001B[39m\u001B[38;5;28;01mlambda\u001B[39;00m x: \u001B[38;5;28mlen\u001B[39m(x\u001B[38;5;241m.\u001B[39mpoints))\n\u001B[1;32m     11\u001B[0m     res \u001B[38;5;241m=\u001B[39m defaultdict(\u001B[38;5;28mbool\u001B[39m)\n",
      "File \u001B[0;32m~/projects/NSU/farich-detector/src/solutions/Datafiting/ellipsedatafitting.py:92\u001B[0m, in \u001B[0;36mEllipseDataFitting.run\u001B[0;34m(self, df_input)\u001B[0m\n\u001B[1;32m     90\u001B[0m ellipses: List[Ellipse] \u001B[38;5;241m=\u001B[39m []\n\u001B[1;32m     91\u001B[0m max_cur_points_in_plane \u001B[38;5;241m=\u001B[39m \u001B[38;5;241m0\u001B[39m\n\u001B[0;32m---> 92\u001B[0m \u001B[38;5;28;01mfor\u001B[39;00m base_points, points, transf, inv_transf \u001B[38;5;129;01min\u001B[39;00m \u001B[38;5;28mself\u001B[39m\u001B[38;5;241m.\u001B[39m_get_points(df_input):\n\u001B[1;32m     93\u001B[0m     points_in_plane \u001B[38;5;241m=\u001B[39m transf(points)\n\u001B[1;32m     95\u001B[0m     x, y \u001B[38;5;241m=\u001B[39m points_in_plane[:\u001B[38;5;241m2\u001B[39m, :]\n",
      "File \u001B[0;32m~/projects/NSU/farich-detector/src/solutions/Datafiting/ellipsedatafitting.py:78\u001B[0m, in \u001B[0;36mEllipseDataFitting._get_points\u001B[0;34m(self, df_input)\u001B[0m\n\u001B[1;32m     73\u001B[0m not_projected \u001B[38;5;241m=\u001B[39m []\n\u001B[1;32m     74\u001B[0m \u001B[38;5;28;01mfor\u001B[39;00m i4, p4 \u001B[38;5;129;01min\u001B[39;00m \u001B[38;5;28menumerate\u001B[39m(points):\n\u001B[1;32m     75\u001B[0m     \u001B[38;5;66;03m# if i4 in [i1, i2, i3]:\u001B[39;00m\n\u001B[1;32m     76\u001B[0m     \u001B[38;5;66;03m#     continue\u001B[39;00m\n\u001B[0;32m---> 78\u001B[0m     projected_p4 \u001B[38;5;241m=\u001B[39m \u001B[43mplane\u001B[49m\u001B[38;5;241;43m.\u001B[39;49m\u001B[43mproject_point\u001B[49m\u001B[43m(\u001B[49m\u001B[43mp4\u001B[49m\u001B[43m)\u001B[49m\n\u001B[1;32m     79\u001B[0m     \u001B[38;5;28;01mif\u001B[39;00m np\u001B[38;5;241m.\u001B[39mabs(np\u001B[38;5;241m.\u001B[39mlinalg\u001B[38;5;241m.\u001B[39mnorm(projected_p4 \u001B[38;5;241m-\u001B[39m p4)) \u001B[38;5;241m>\u001B[39m \u001B[38;5;28mself\u001B[39m\u001B[38;5;241m.\u001B[39meps_proj:\n\u001B[1;32m     80\u001B[0m         \u001B[38;5;28;01mcontinue\u001B[39;00m\n",
      "File \u001B[0;32m~/projects/NSU/farich-detector/.venv/lib/python3.8/site-packages/skspatial/objects/plane.py:272\u001B[0m, in \u001B[0;36mPlane.project_point\u001B[0;34m(self, point)\u001B[0m\n\u001B[1;32m    269\u001B[0m vector_to_plane \u001B[38;5;241m=\u001B[39m Vector\u001B[38;5;241m.\u001B[39mfrom_points(point, \u001B[38;5;28mself\u001B[39m\u001B[38;5;241m.\u001B[39mpoint)\n\u001B[1;32m    271\u001B[0m \u001B[38;5;66;03m# Perpendicular vector from the point in space to the plane.\u001B[39;00m\n\u001B[0;32m--> 272\u001B[0m vector_projected \u001B[38;5;241m=\u001B[39m \u001B[38;5;28;43mself\u001B[39;49m\u001B[38;5;241;43m.\u001B[39;49m\u001B[43mnormal\u001B[49m\u001B[38;5;241;43m.\u001B[39;49m\u001B[43mproject_vector\u001B[49m\u001B[43m(\u001B[49m\u001B[43mvector_to_plane\u001B[49m\u001B[43m)\u001B[49m\n\u001B[1;32m    274\u001B[0m \u001B[38;5;28;01mreturn\u001B[39;00m Point(point) \u001B[38;5;241m+\u001B[39m vector_projected\n",
      "File \u001B[0;32m~/projects/NSU/farich-detector/.venv/lib/python3.8/site-packages/skspatial/objects/vector.py:700\u001B[0m, in \u001B[0;36mVector.project_vector\u001B[0;34m(self, other)\u001B[0m\n\u001B[1;32m    669\u001B[0m \u001B[38;5;28;01mdef\u001B[39;00m \u001B[38;5;21mproject_vector\u001B[39m(\u001B[38;5;28mself\u001B[39m, other: array_like) \u001B[38;5;241m-\u001B[39m\u001B[38;5;241m>\u001B[39m Vector:\n\u001B[1;32m    670\u001B[0m \u001B[38;5;250m    \u001B[39m\u001B[38;5;124;03m\"\"\"\u001B[39;00m\n\u001B[1;32m    671\u001B[0m \u001B[38;5;124;03m    Project an other vector onto the vector.\u001B[39;00m\n\u001B[1;32m    672\u001B[0m \n\u001B[0;32m   (...)\u001B[0m\n\u001B[1;32m    698\u001B[0m \n\u001B[1;32m    699\u001B[0m \u001B[38;5;124;03m    \"\"\"\u001B[39;00m\n\u001B[0;32m--> 700\u001B[0m     \u001B[38;5;28;01mreturn\u001B[39;00m \u001B[38;5;28;43mself\u001B[39;49m\u001B[38;5;241;43m.\u001B[39;49m\u001B[43mdot\u001B[49m\u001B[43m(\u001B[49m\u001B[43mother\u001B[49m\u001B[43m)\u001B[49m\u001B[43m \u001B[49m\u001B[38;5;241;43m/\u001B[39;49m\u001B[43m \u001B[49m\u001B[38;5;28;43mself\u001B[39;49m\u001B[38;5;241;43m.\u001B[39;49m\u001B[43mdot\u001B[49m\u001B[43m(\u001B[49m\u001B[38;5;28;43mself\u001B[39;49m\u001B[43m)\u001B[49m\u001B[43m \u001B[49m\u001B[38;5;241;43m*\u001B[39;49m\u001B[43m \u001B[49m\u001B[38;5;28;43mself\u001B[39;49m\n",
      "File \u001B[0;32m~/projects/NSU/farich-detector/.venv/lib/python3.8/site-packages/skspatial/objects/_base_array.py:137\u001B[0m, in \u001B[0;36m_BaseArray1D.__array_finalize__\u001B[0;34m(self, _)\u001B[0m\n\u001B[1;32m    133\u001B[0m     obj\u001B[38;5;241m.\u001B[39mdimension \u001B[38;5;241m=\u001B[39m obj\u001B[38;5;241m.\u001B[39msize\n\u001B[1;32m    135\u001B[0m     \u001B[38;5;28;01mreturn\u001B[39;00m obj\n\u001B[0;32m--> 137\u001B[0m \u001B[38;5;28;01mdef\u001B[39;00m \u001B[38;5;21m__array_finalize__\u001B[39m(\u001B[38;5;28mself\u001B[39m, _) \u001B[38;5;241m-\u001B[39m\u001B[38;5;241m>\u001B[39m \u001B[38;5;28;01mNone\u001B[39;00m:\n\u001B[1;32m    139\u001B[0m     \u001B[38;5;28mself\u001B[39m\u001B[38;5;241m.\u001B[39mdimension \u001B[38;5;241m=\u001B[39m \u001B[38;5;28mself\u001B[39m\u001B[38;5;241m.\u001B[39msize\n\u001B[1;32m    141\u001B[0m \u001B[38;5;28;01mdef\u001B[39;00m \u001B[38;5;21mset_dimension\u001B[39m(\u001B[38;5;28mself\u001B[39m: Array1D, dim: \u001B[38;5;28mint\u001B[39m) \u001B[38;5;241m-\u001B[39m\u001B[38;5;241m>\u001B[39m Array1D:\n",
      "\u001B[0;31mKeyboardInterrupt\u001B[0m: "
     ]
    }
   ],
   "source": [
    "import time\n",
    "\n",
    "total_acc = {}\n",
    "dl = NoiseDataLoader(root_path, verbose=False, noise_freq_per_sqmm=2e4)\n",
    "alg = EllipseDataFitting(save_graphics=True, eps_proj=1e-2, eps_ellipse=1e-4, minimal_points_in_plain=5)\n",
    "for idx, df in enumerate(dl):\n",
    "    if idx < 30:\n",
    "        start = time.time()\n",
    "        elipses = alg.run(df)\n",
    "        top = max(elipses, key=lambda x: len(x.points))\n",
    "        res = defaultdict(bool)\n",
    "        for p in top.points:\n",
    "            res[(p.x, p.y, p.t)] = True\n",
    "        df['preds'] = df.apply(lambda x: res[(x.x_c, x.y_c, x.t_c)], axis=1)\n",
    "        total_acc[idx] = (df[df.preds]['x_c'].count() / df[df.signal]['x_c'].count(), time.time() - start)\n",
    "        assert len(elipses)\n"
   ],
   "metadata": {
    "collapsed": false,
    "ExecuteTime": {
     "start_time": "2023-04-02T20:14:35.790819Z",
     "end_time": "2023-04-02T20:20:39.055122Z"
    }
   }
  },
  {
   "cell_type": "code",
   "execution_count": 67,
   "outputs": [],
   "source": [
    "centers = np.array([el.center.to_numpy() for el in elipses])"
   ],
   "metadata": {
    "collapsed": false,
    "ExecuteTime": {
     "start_time": "2023-04-02T20:20:41.523136Z",
     "end_time": "2023-04-02T20:20:41.564689Z"
    }
   }
  },
  {
   "cell_type": "code",
   "execution_count": 68,
   "outputs": [],
   "source": [],
   "metadata": {
    "collapsed": false,
    "ExecuteTime": {
     "start_time": "2023-04-02T20:20:41.884299Z",
     "end_time": "2023-04-02T20:20:41.917846Z"
    }
   }
  },
  {
   "cell_type": "code",
   "execution_count": 69,
   "outputs": [
    {
     "data": {
      "text/plain": "21"
     },
     "execution_count": 69,
     "metadata": {},
     "output_type": "execute_result"
    }
   ],
   "source": [
    "len(top.points)"
   ],
   "metadata": {
    "collapsed": false,
    "ExecuteTime": {
     "start_time": "2023-04-02T20:20:42.143709Z",
     "end_time": "2023-04-02T20:20:42.169695Z"
    }
   }
  },
  {
   "cell_type": "code",
   "execution_count": 70,
   "outputs": [],
   "source": [
    "center = top.center.to_numpy()"
   ],
   "metadata": {
    "collapsed": false,
    "ExecuteTime": {
     "start_time": "2023-04-02T20:20:42.355348Z",
     "end_time": "2023-04-02T20:20:42.380527Z"
    }
   }
  },
  {
   "cell_type": "code",
   "execution_count": 83,
   "outputs": [],
   "source": [
    "from collections import defaultdict\n",
    "\n",
    "res = defaultdict(bool)\n",
    "\n",
    "for p in top.points:\n",
    "    res[(p.x, p.y, p.t)] = True"
   ],
   "metadata": {
    "collapsed": false,
    "ExecuteTime": {
     "start_time": "2023-04-02T20:24:54.278159Z",
     "end_time": "2023-04-02T20:24:54.295042Z"
    }
   }
  },
  {
   "cell_type": "code",
   "execution_count": 84,
   "outputs": [
    {
     "data": {
      "text/plain": "defaultdict(bool,\n            {(91.0, 103.0, 2.876768044775006): True,\n             (88.0, 97.0, 2.910337976758954): True,\n             (66.0, 105.0, 3.030516676252362): True,\n             (81.0, 94.0, 2.963600627725598): True,\n             (65.0, 101.0, 3.049445800130841): True,\n             (66.0, 102.0, 3.040632120912549): True,\n             (68.0, 98.0, 3.0377039235286682): True,\n             (94.0, 107.0, 2.8506488722019165): True,\n             (71.0, 113.0, 2.9845247786693543): True,\n             (73.0, 114.0, 2.9618318002872437): True,\n             (81.0, 118.0, 2.905987791364667): True,\n             (90.0, 113.0, 2.8557097833805054): True,\n             (199.0, 205.0, 1.9836211337206462): True,\n             (68.0, 109.0, 3.0116253417186707): True,\n             (91.0, 108.0, 2.859940401857373): True,\n             (91.0, 109.0, 2.8564840477161377): True,\n             (67.0, 108.0, 3.018894247358319): True,\n             (68.0, 109.0, 3.0129920762233704): True,\n             (93.0, 112.0, 2.8462002795391053): True,\n             (74.0, 96.0, 3.004475704973218): True,\n             (75.0, 98.0, 2.990739337747571): True})"
     },
     "execution_count": 84,
     "metadata": {},
     "output_type": "execute_result"
    }
   ],
   "source": [
    "res"
   ],
   "metadata": {
    "collapsed": false,
    "ExecuteTime": {
     "start_time": "2023-04-02T20:24:54.916359Z",
     "end_time": "2023-04-02T20:24:54.936958Z"
    }
   }
  },
  {
   "cell_type": "code",
   "execution_count": 85,
   "outputs": [],
   "source": [
    "df['preds'] = df.apply(lambda x: res[(x.x_c, x.y_c, x.t_c)], axis=1)"
   ],
   "metadata": {
    "collapsed": false,
    "ExecuteTime": {
     "start_time": "2023-04-02T20:24:56.626416Z",
     "end_time": "2023-04-02T20:24:56.654404Z"
    }
   }
  },
  {
   "cell_type": "code",
   "execution_count": 86,
   "outputs": [
    {
     "data": {
      "text/plain": "                x_c  y_c         z_c       t_c  signal  nhits       x_p  \\\nentry subentry                                                            \n3     0          53  160  201.050003  3.598473    True    104  1.110398   \n      1          66  102  201.050003  3.040632    True    104  1.110398   \n      2          68   98  201.050003  3.037704    True    104  1.110398   \n      3          65  101  201.050003  3.049446    True    104  1.110398   \n      4          67  108  201.050003  3.018894    True    104  1.110398   \n...             ...  ...         ...       ...     ...    ...       ...   \n      99        137  176  201.050003  1.731855   False    104  1.110398   \n      100        73    5  201.050003  0.966840   False    104  1.110398   \n      101        96  171  201.050003  4.142622   False    104  1.110398   \n      102       212  186  201.050003  5.163573   False    104  1.110398   \n      103       139   92  201.050003  4.254970   False    104  1.110398   \n\n                    y_p  z_p      nx_p      ny_p      nz_p      beta  \\\nentry subentry                                                         \n3     0         0.78418  0.0 -0.531425 -0.205321  0.821846  0.967007   \n      1         0.78418  0.0 -0.531425 -0.205321  0.821846  0.967007   \n      2         0.78418  0.0 -0.531425 -0.205321  0.821846  0.967007   \n      3         0.78418  0.0 -0.531425 -0.205321  0.821846  0.967007   \n      4         0.78418  0.0 -0.531425 -0.205321  0.821846  0.967007   \n...                 ...  ...       ...       ...       ...       ...   \n      99        0.78418  0.0 -0.531425 -0.205321  0.821846  0.967007   \n      100       0.78418  0.0 -0.531425 -0.205321  0.821846  0.967007   \n      101       0.78418  0.0 -0.531425 -0.205321  0.821846  0.967007   \n      102       0.78418  0.0 -0.531425 -0.205321  0.821846  0.967007   \n      103       0.78418  0.0 -0.531425 -0.205321  0.821846  0.967007   \n\n                 theta_p     phi_p    momentum  preds  \nentry subentry                                         \n3     0         0.606152  3.510285  529.798218  False  \n      1         0.606152  3.510285  529.798218   True  \n      2         0.606152  3.510285  529.798218   True  \n      3         0.606152  3.510285  529.798218   True  \n      4         0.606152  3.510285  529.798218   True  \n...                  ...       ...         ...    ...  \n      99        0.606152  3.510285  529.798218  False  \n      100       0.606152  3.510285  529.798218  False  \n      101       0.606152  3.510285  529.798218  False  \n      102       0.606152  3.510285  529.798218  False  \n      103       0.606152  3.510285  529.798218  False  \n\n[104 rows x 17 columns]",
      "text/html": "<div>\n<style scoped>\n    .dataframe tbody tr th:only-of-type {\n        vertical-align: middle;\n    }\n\n    .dataframe tbody tr th {\n        vertical-align: top;\n    }\n\n    .dataframe thead th {\n        text-align: right;\n    }\n</style>\n<table border=\"1\" class=\"dataframe\">\n  <thead>\n    <tr style=\"text-align: right;\">\n      <th></th>\n      <th></th>\n      <th>x_c</th>\n      <th>y_c</th>\n      <th>z_c</th>\n      <th>t_c</th>\n      <th>signal</th>\n      <th>nhits</th>\n      <th>x_p</th>\n      <th>y_p</th>\n      <th>z_p</th>\n      <th>nx_p</th>\n      <th>ny_p</th>\n      <th>nz_p</th>\n      <th>beta</th>\n      <th>theta_p</th>\n      <th>phi_p</th>\n      <th>momentum</th>\n      <th>preds</th>\n    </tr>\n    <tr>\n      <th>entry</th>\n      <th>subentry</th>\n      <th></th>\n      <th></th>\n      <th></th>\n      <th></th>\n      <th></th>\n      <th></th>\n      <th></th>\n      <th></th>\n      <th></th>\n      <th></th>\n      <th></th>\n      <th></th>\n      <th></th>\n      <th></th>\n      <th></th>\n      <th></th>\n      <th></th>\n    </tr>\n  </thead>\n  <tbody>\n    <tr>\n      <th rowspan=\"11\" valign=\"top\">3</th>\n      <th>0</th>\n      <td>53</td>\n      <td>160</td>\n      <td>201.050003</td>\n      <td>3.598473</td>\n      <td>True</td>\n      <td>104</td>\n      <td>1.110398</td>\n      <td>0.78418</td>\n      <td>0.0</td>\n      <td>-0.531425</td>\n      <td>-0.205321</td>\n      <td>0.821846</td>\n      <td>0.967007</td>\n      <td>0.606152</td>\n      <td>3.510285</td>\n      <td>529.798218</td>\n      <td>False</td>\n    </tr>\n    <tr>\n      <th>1</th>\n      <td>66</td>\n      <td>102</td>\n      <td>201.050003</td>\n      <td>3.040632</td>\n      <td>True</td>\n      <td>104</td>\n      <td>1.110398</td>\n      <td>0.78418</td>\n      <td>0.0</td>\n      <td>-0.531425</td>\n      <td>-0.205321</td>\n      <td>0.821846</td>\n      <td>0.967007</td>\n      <td>0.606152</td>\n      <td>3.510285</td>\n      <td>529.798218</td>\n      <td>True</td>\n    </tr>\n    <tr>\n      <th>2</th>\n      <td>68</td>\n      <td>98</td>\n      <td>201.050003</td>\n      <td>3.037704</td>\n      <td>True</td>\n      <td>104</td>\n      <td>1.110398</td>\n      <td>0.78418</td>\n      <td>0.0</td>\n      <td>-0.531425</td>\n      <td>-0.205321</td>\n      <td>0.821846</td>\n      <td>0.967007</td>\n      <td>0.606152</td>\n      <td>3.510285</td>\n      <td>529.798218</td>\n      <td>True</td>\n    </tr>\n    <tr>\n      <th>3</th>\n      <td>65</td>\n      <td>101</td>\n      <td>201.050003</td>\n      <td>3.049446</td>\n      <td>True</td>\n      <td>104</td>\n      <td>1.110398</td>\n      <td>0.78418</td>\n      <td>0.0</td>\n      <td>-0.531425</td>\n      <td>-0.205321</td>\n      <td>0.821846</td>\n      <td>0.967007</td>\n      <td>0.606152</td>\n      <td>3.510285</td>\n      <td>529.798218</td>\n      <td>True</td>\n    </tr>\n    <tr>\n      <th>4</th>\n      <td>67</td>\n      <td>108</td>\n      <td>201.050003</td>\n      <td>3.018894</td>\n      <td>True</td>\n      <td>104</td>\n      <td>1.110398</td>\n      <td>0.78418</td>\n      <td>0.0</td>\n      <td>-0.531425</td>\n      <td>-0.205321</td>\n      <td>0.821846</td>\n      <td>0.967007</td>\n      <td>0.606152</td>\n      <td>3.510285</td>\n      <td>529.798218</td>\n      <td>True</td>\n    </tr>\n    <tr>\n      <th>...</th>\n      <td>...</td>\n      <td>...</td>\n      <td>...</td>\n      <td>...</td>\n      <td>...</td>\n      <td>...</td>\n      <td>...</td>\n      <td>...</td>\n      <td>...</td>\n      <td>...</td>\n      <td>...</td>\n      <td>...</td>\n      <td>...</td>\n      <td>...</td>\n      <td>...</td>\n      <td>...</td>\n      <td>...</td>\n    </tr>\n    <tr>\n      <th>99</th>\n      <td>137</td>\n      <td>176</td>\n      <td>201.050003</td>\n      <td>1.731855</td>\n      <td>False</td>\n      <td>104</td>\n      <td>1.110398</td>\n      <td>0.78418</td>\n      <td>0.0</td>\n      <td>-0.531425</td>\n      <td>-0.205321</td>\n      <td>0.821846</td>\n      <td>0.967007</td>\n      <td>0.606152</td>\n      <td>3.510285</td>\n      <td>529.798218</td>\n      <td>False</td>\n    </tr>\n    <tr>\n      <th>100</th>\n      <td>73</td>\n      <td>5</td>\n      <td>201.050003</td>\n      <td>0.966840</td>\n      <td>False</td>\n      <td>104</td>\n      <td>1.110398</td>\n      <td>0.78418</td>\n      <td>0.0</td>\n      <td>-0.531425</td>\n      <td>-0.205321</td>\n      <td>0.821846</td>\n      <td>0.967007</td>\n      <td>0.606152</td>\n      <td>3.510285</td>\n      <td>529.798218</td>\n      <td>False</td>\n    </tr>\n    <tr>\n      <th>101</th>\n      <td>96</td>\n      <td>171</td>\n      <td>201.050003</td>\n      <td>4.142622</td>\n      <td>False</td>\n      <td>104</td>\n      <td>1.110398</td>\n      <td>0.78418</td>\n      <td>0.0</td>\n      <td>-0.531425</td>\n      <td>-0.205321</td>\n      <td>0.821846</td>\n      <td>0.967007</td>\n      <td>0.606152</td>\n      <td>3.510285</td>\n      <td>529.798218</td>\n      <td>False</td>\n    </tr>\n    <tr>\n      <th>102</th>\n      <td>212</td>\n      <td>186</td>\n      <td>201.050003</td>\n      <td>5.163573</td>\n      <td>False</td>\n      <td>104</td>\n      <td>1.110398</td>\n      <td>0.78418</td>\n      <td>0.0</td>\n      <td>-0.531425</td>\n      <td>-0.205321</td>\n      <td>0.821846</td>\n      <td>0.967007</td>\n      <td>0.606152</td>\n      <td>3.510285</td>\n      <td>529.798218</td>\n      <td>False</td>\n    </tr>\n    <tr>\n      <th>103</th>\n      <td>139</td>\n      <td>92</td>\n      <td>201.050003</td>\n      <td>4.254970</td>\n      <td>False</td>\n      <td>104</td>\n      <td>1.110398</td>\n      <td>0.78418</td>\n      <td>0.0</td>\n      <td>-0.531425</td>\n      <td>-0.205321</td>\n      <td>0.821846</td>\n      <td>0.967007</td>\n      <td>0.606152</td>\n      <td>3.510285</td>\n      <td>529.798218</td>\n      <td>False</td>\n    </tr>\n  </tbody>\n</table>\n<p>104 rows × 17 columns</p>\n</div>"
     },
     "execution_count": 86,
     "metadata": {},
     "output_type": "execute_result"
    }
   ],
   "source": [
    "df"
   ],
   "metadata": {
    "collapsed": false,
    "ExecuteTime": {
     "start_time": "2023-04-02T20:24:58.315708Z",
     "end_time": "2023-04-02T20:24:58.344191Z"
    }
   }
  },
  {
   "cell_type": "code",
   "execution_count": 89,
   "outputs": [
    {
     "data": {
      "text/plain": "0.9545454545454546"
     },
     "execution_count": 89,
     "metadata": {},
     "output_type": "execute_result"
    }
   ],
   "source": [
    "df[df.preds]['x_c'].count() / df[df.signal]['x_c'].count()"
   ],
   "metadata": {
    "collapsed": false,
    "ExecuteTime": {
     "start_time": "2023-04-02T20:29:23.688182Z",
     "end_time": "2023-04-02T20:29:23.718268Z"
    }
   }
  },
  {
   "cell_type": "code",
   "execution_count": 71,
   "outputs": [
    {
     "data": {
      "application/vnd.plotly.v1+json": {
       "data": [
        {
         "mode": "markers",
         "name": "DF",
         "x": [
          53,
          66,
          68,
          65,
          67,
          66,
          68,
          68,
          71,
          74,
          75,
          73,
          81,
          88,
          81,
          95,
          91,
          91,
          91,
          94,
          93,
          90
         ],
         "y": [
          160,
          102,
          98,
          101,
          108,
          105,
          109,
          109,
          113,
          96,
          98,
          114,
          94,
          97,
          118,
          73,
          103,
          109,
          108,
          107,
          112,
          113
         ],
         "z": [
          3.5984730642490357,
          3.040632120912549,
          3.0377039235286682,
          3.049445800130841,
          3.018894247358319,
          3.030516676252362,
          3.0116253417186707,
          3.0129920762233704,
          2.9845247786693543,
          3.004475704973218,
          2.990739337747571,
          2.9618318002872437,
          2.963600627725598,
          2.910337976758954,
          2.905987791364667,
          3.0364189069919556,
          2.876768044775006,
          2.8564840477161377,
          2.859940401857373,
          2.8506488722019165,
          2.8462002795391053,
          2.8557097833805054
         ],
         "type": "scatter3d"
        },
        {
         "mode": "markers",
         "name": "NOISE",
         "x": [
          150,
          3,
          75,
          152,
          20,
          198,
          9,
          224,
          233,
          105,
          216,
          16,
          194,
          153,
          26,
          154,
          226,
          68,
          227,
          49,
          89,
          125,
          64,
          41,
          240,
          44,
          89,
          138,
          25,
          88,
          224,
          118,
          223,
          179,
          165,
          78,
          12,
          112,
          92,
          153,
          174,
          173,
          177,
          199,
          166,
          193,
          8,
          209,
          203,
          113,
          192,
          190,
          50,
          170,
          36,
          143,
          80,
          177,
          212,
          118,
          170,
          98,
          236,
          74,
          58,
          164,
          106,
          76,
          18,
          117,
          166,
          229,
          146,
          61,
          56,
          89,
          103,
          137,
          73,
          96,
          212,
          139
         ],
         "y": [
          184,
          159,
          181,
          18,
          138,
          73,
          74,
          39,
          109,
          161,
          165,
          30,
          68,
          120,
          13,
          61,
          90,
          41,
          26,
          196,
          142,
          59,
          118,
          20,
          172,
          95,
          103,
          51,
          160,
          172,
          142,
          149,
          196,
          228,
          61,
          205,
          32,
          74,
          170,
          207,
          165,
          61,
          103,
          205,
          84,
          35,
          169,
          223,
          227,
          136,
          98,
          110,
          18,
          97,
          76,
          91,
          202,
          38,
          191,
          152,
          218,
          86,
          75,
          212,
          32,
          30,
          185,
          113,
          107,
          141,
          170,
          175,
          80,
          158,
          58,
          103,
          61,
          176,
          5,
          171,
          186,
          92
         ],
         "z": [
          2.996102155735834,
          2.48153666821159,
          5.442727117745708,
          1.0008612614675831,
          5.708629238083165,
          4.116874792803285,
          2.59802449065689,
          6.596882192871925,
          6.704682100144158,
          6.780236153990575,
          0.7063123347882485,
          3.4339304407572695,
          6.445894333545328,
          0.06206488894946205,
          2.0997311751275167,
          3.2165409458111567,
          1.9463129177416305,
          4.0006234728148815,
          3.7534609398090586,
          5.908743107281502,
          1.6766903213198106,
          5.292550623538046,
          3.4545695988139924,
          6.756899355427359,
          6.008024032025015,
          0.1439335925318188,
          2.7969274928691537,
          1.7853479589019945,
          3.416320249289449,
          6.9734761977246675,
          4.054669187898962,
          0.4831490253915024,
          5.231621090373784,
          1.4058951894909653,
          3.239279535693197,
          4.451590176661085,
          6.3895680575559775,
          2.388970866853783,
          4.655302436781848,
          0.24725517226016613,
          0.43697967925529513,
          2.9779048997625033,
          4.1287191718570835,
          1.9836211337206462,
          5.198627121899199,
          2.2461879424957925,
          1.8914688375077584,
          4.871420097101629,
          4.960286519741903,
          6.8333018062052275,
          0.9292135313049792,
          0.6745031347892999,
          5.822145442709389,
          1.933780613498128,
          6.343463104896725,
          4.001215005694656,
          4.212037295468989,
          0.032940693282573985,
          3.964670505649295,
          6.093493014446365,
          6.9567252078326804,
          2.6642014372650076,
          1.1757780970449638,
          6.326678293072154,
          2.900651193959484,
          3.1659565479994245,
          3.2841632020393643,
          3.8320482139996668,
          0.42447018512142687,
          0.106559234427413,
          5.369622988795715,
          4.428425584193475,
          2.7591005028170317,
          4.58173322729083,
          4.989561991926278,
          2.0379016803093855,
          2.7438277904869857,
          1.7318547055066753,
          0.9668396815980672,
          4.142621826975873,
          5.1635734800025865,
          4.2549699803160514
         ],
         "type": "scatter3d"
        },
        {
         "mode": "markers",
         "name": "Center",
         "x": [
          80.11718022195765
         ],
         "y": [
          96.0814025119998
         ],
         "z": [
          2.9616627124589208
         ],
         "type": "scatter3d"
        },
        {
         "mode": "markers",
         "name": "Predict",
         "x": [
          91.0,
          88.0,
          66.0,
          81.0,
          65.0,
          66.0,
          68.0,
          94.0,
          71.0,
          73.0,
          81.0,
          90.0,
          199.0,
          68.0,
          91.0,
          91.0,
          67.0,
          68.0,
          93.0,
          74.0,
          75.0
         ],
         "y": [
          103.0,
          97.0,
          105.0,
          94.0,
          101.0,
          102.0,
          98.0,
          107.0,
          113.0,
          114.0,
          118.0,
          113.0,
          205.0,
          109.0,
          108.0,
          109.0,
          108.0,
          109.0,
          112.0,
          96.0,
          98.0
         ],
         "z": [
          2.876768044775006,
          2.910337976758954,
          3.030516676252362,
          2.963600627725598,
          3.049445800130841,
          3.040632120912549,
          3.0377039235286682,
          2.8506488722019165,
          2.9845247786693543,
          2.9618318002872437,
          2.905987791364667,
          2.8557097833805054,
          1.9836211337206462,
          3.0116253417186707,
          2.859940401857373,
          2.8564840477161377,
          3.018894247358319,
          3.0129920762233704,
          2.8462002795391053,
          3.004475704973218,
          2.990739337747571
         ],
         "type": "scatter3d"
        }
       ],
       "layout": {
        "template": {
         "data": {
          "histogram2dcontour": [
           {
            "type": "histogram2dcontour",
            "colorbar": {
             "outlinewidth": 0,
             "ticks": ""
            },
            "colorscale": [
             [
              0.0,
              "#0d0887"
             ],
             [
              0.1111111111111111,
              "#46039f"
             ],
             [
              0.2222222222222222,
              "#7201a8"
             ],
             [
              0.3333333333333333,
              "#9c179e"
             ],
             [
              0.4444444444444444,
              "#bd3786"
             ],
             [
              0.5555555555555556,
              "#d8576b"
             ],
             [
              0.6666666666666666,
              "#ed7953"
             ],
             [
              0.7777777777777778,
              "#fb9f3a"
             ],
             [
              0.8888888888888888,
              "#fdca26"
             ],
             [
              1.0,
              "#f0f921"
             ]
            ]
           }
          ],
          "choropleth": [
           {
            "type": "choropleth",
            "colorbar": {
             "outlinewidth": 0,
             "ticks": ""
            }
           }
          ],
          "histogram2d": [
           {
            "type": "histogram2d",
            "colorbar": {
             "outlinewidth": 0,
             "ticks": ""
            },
            "colorscale": [
             [
              0.0,
              "#0d0887"
             ],
             [
              0.1111111111111111,
              "#46039f"
             ],
             [
              0.2222222222222222,
              "#7201a8"
             ],
             [
              0.3333333333333333,
              "#9c179e"
             ],
             [
              0.4444444444444444,
              "#bd3786"
             ],
             [
              0.5555555555555556,
              "#d8576b"
             ],
             [
              0.6666666666666666,
              "#ed7953"
             ],
             [
              0.7777777777777778,
              "#fb9f3a"
             ],
             [
              0.8888888888888888,
              "#fdca26"
             ],
             [
              1.0,
              "#f0f921"
             ]
            ]
           }
          ],
          "heatmap": [
           {
            "type": "heatmap",
            "colorbar": {
             "outlinewidth": 0,
             "ticks": ""
            },
            "colorscale": [
             [
              0.0,
              "#0d0887"
             ],
             [
              0.1111111111111111,
              "#46039f"
             ],
             [
              0.2222222222222222,
              "#7201a8"
             ],
             [
              0.3333333333333333,
              "#9c179e"
             ],
             [
              0.4444444444444444,
              "#bd3786"
             ],
             [
              0.5555555555555556,
              "#d8576b"
             ],
             [
              0.6666666666666666,
              "#ed7953"
             ],
             [
              0.7777777777777778,
              "#fb9f3a"
             ],
             [
              0.8888888888888888,
              "#fdca26"
             ],
             [
              1.0,
              "#f0f921"
             ]
            ]
           }
          ],
          "heatmapgl": [
           {
            "type": "heatmapgl",
            "colorbar": {
             "outlinewidth": 0,
             "ticks": ""
            },
            "colorscale": [
             [
              0.0,
              "#0d0887"
             ],
             [
              0.1111111111111111,
              "#46039f"
             ],
             [
              0.2222222222222222,
              "#7201a8"
             ],
             [
              0.3333333333333333,
              "#9c179e"
             ],
             [
              0.4444444444444444,
              "#bd3786"
             ],
             [
              0.5555555555555556,
              "#d8576b"
             ],
             [
              0.6666666666666666,
              "#ed7953"
             ],
             [
              0.7777777777777778,
              "#fb9f3a"
             ],
             [
              0.8888888888888888,
              "#fdca26"
             ],
             [
              1.0,
              "#f0f921"
             ]
            ]
           }
          ],
          "contourcarpet": [
           {
            "type": "contourcarpet",
            "colorbar": {
             "outlinewidth": 0,
             "ticks": ""
            }
           }
          ],
          "contour": [
           {
            "type": "contour",
            "colorbar": {
             "outlinewidth": 0,
             "ticks": ""
            },
            "colorscale": [
             [
              0.0,
              "#0d0887"
             ],
             [
              0.1111111111111111,
              "#46039f"
             ],
             [
              0.2222222222222222,
              "#7201a8"
             ],
             [
              0.3333333333333333,
              "#9c179e"
             ],
             [
              0.4444444444444444,
              "#bd3786"
             ],
             [
              0.5555555555555556,
              "#d8576b"
             ],
             [
              0.6666666666666666,
              "#ed7953"
             ],
             [
              0.7777777777777778,
              "#fb9f3a"
             ],
             [
              0.8888888888888888,
              "#fdca26"
             ],
             [
              1.0,
              "#f0f921"
             ]
            ]
           }
          ],
          "surface": [
           {
            "type": "surface",
            "colorbar": {
             "outlinewidth": 0,
             "ticks": ""
            },
            "colorscale": [
             [
              0.0,
              "#0d0887"
             ],
             [
              0.1111111111111111,
              "#46039f"
             ],
             [
              0.2222222222222222,
              "#7201a8"
             ],
             [
              0.3333333333333333,
              "#9c179e"
             ],
             [
              0.4444444444444444,
              "#bd3786"
             ],
             [
              0.5555555555555556,
              "#d8576b"
             ],
             [
              0.6666666666666666,
              "#ed7953"
             ],
             [
              0.7777777777777778,
              "#fb9f3a"
             ],
             [
              0.8888888888888888,
              "#fdca26"
             ],
             [
              1.0,
              "#f0f921"
             ]
            ]
           }
          ],
          "mesh3d": [
           {
            "type": "mesh3d",
            "colorbar": {
             "outlinewidth": 0,
             "ticks": ""
            }
           }
          ],
          "scatter": [
           {
            "marker": {
             "line": {
              "color": "#283442"
             }
            },
            "type": "scatter"
           }
          ],
          "parcoords": [
           {
            "type": "parcoords",
            "line": {
             "colorbar": {
              "outlinewidth": 0,
              "ticks": ""
             }
            }
           }
          ],
          "scatterpolargl": [
           {
            "type": "scatterpolargl",
            "marker": {
             "colorbar": {
              "outlinewidth": 0,
              "ticks": ""
             }
            }
           }
          ],
          "bar": [
           {
            "error_x": {
             "color": "#f2f5fa"
            },
            "error_y": {
             "color": "#f2f5fa"
            },
            "marker": {
             "line": {
              "color": "rgb(17,17,17)",
              "width": 0.5
             },
             "pattern": {
              "fillmode": "overlay",
              "size": 10,
              "solidity": 0.2
             }
            },
            "type": "bar"
           }
          ],
          "scattergeo": [
           {
            "type": "scattergeo",
            "marker": {
             "colorbar": {
              "outlinewidth": 0,
              "ticks": ""
             }
            }
           }
          ],
          "scatterpolar": [
           {
            "type": "scatterpolar",
            "marker": {
             "colorbar": {
              "outlinewidth": 0,
              "ticks": ""
             }
            }
           }
          ],
          "histogram": [
           {
            "marker": {
             "pattern": {
              "fillmode": "overlay",
              "size": 10,
              "solidity": 0.2
             }
            },
            "type": "histogram"
           }
          ],
          "scattergl": [
           {
            "marker": {
             "line": {
              "color": "#283442"
             }
            },
            "type": "scattergl"
           }
          ],
          "scatter3d": [
           {
            "type": "scatter3d",
            "line": {
             "colorbar": {
              "outlinewidth": 0,
              "ticks": ""
             }
            },
            "marker": {
             "colorbar": {
              "outlinewidth": 0,
              "ticks": ""
             }
            }
           }
          ],
          "scattermapbox": [
           {
            "type": "scattermapbox",
            "marker": {
             "colorbar": {
              "outlinewidth": 0,
              "ticks": ""
             }
            }
           }
          ],
          "scatterternary": [
           {
            "type": "scatterternary",
            "marker": {
             "colorbar": {
              "outlinewidth": 0,
              "ticks": ""
             }
            }
           }
          ],
          "scattercarpet": [
           {
            "type": "scattercarpet",
            "marker": {
             "colorbar": {
              "outlinewidth": 0,
              "ticks": ""
             }
            }
           }
          ],
          "carpet": [
           {
            "aaxis": {
             "endlinecolor": "#A2B1C6",
             "gridcolor": "#506784",
             "linecolor": "#506784",
             "minorgridcolor": "#506784",
             "startlinecolor": "#A2B1C6"
            },
            "baxis": {
             "endlinecolor": "#A2B1C6",
             "gridcolor": "#506784",
             "linecolor": "#506784",
             "minorgridcolor": "#506784",
             "startlinecolor": "#A2B1C6"
            },
            "type": "carpet"
           }
          ],
          "table": [
           {
            "cells": {
             "fill": {
              "color": "#506784"
             },
             "line": {
              "color": "rgb(17,17,17)"
             }
            },
            "header": {
             "fill": {
              "color": "#2a3f5f"
             },
             "line": {
              "color": "rgb(17,17,17)"
             }
            },
            "type": "table"
           }
          ],
          "barpolar": [
           {
            "marker": {
             "line": {
              "color": "rgb(17,17,17)",
              "width": 0.5
             },
             "pattern": {
              "fillmode": "overlay",
              "size": 10,
              "solidity": 0.2
             }
            },
            "type": "barpolar"
           }
          ],
          "pie": [
           {
            "automargin": true,
            "type": "pie"
           }
          ]
         },
         "layout": {
          "autotypenumbers": "strict",
          "colorway": [
           "#636efa",
           "#EF553B",
           "#00cc96",
           "#ab63fa",
           "#FFA15A",
           "#19d3f3",
           "#FF6692",
           "#B6E880",
           "#FF97FF",
           "#FECB52"
          ],
          "font": {
           "color": "#f2f5fa"
          },
          "hovermode": "closest",
          "hoverlabel": {
           "align": "left"
          },
          "paper_bgcolor": "rgb(17,17,17)",
          "plot_bgcolor": "rgb(17,17,17)",
          "polar": {
           "bgcolor": "rgb(17,17,17)",
           "angularaxis": {
            "gridcolor": "#506784",
            "linecolor": "#506784",
            "ticks": ""
           },
           "radialaxis": {
            "gridcolor": "#506784",
            "linecolor": "#506784",
            "ticks": ""
           }
          },
          "ternary": {
           "bgcolor": "rgb(17,17,17)",
           "aaxis": {
            "gridcolor": "#506784",
            "linecolor": "#506784",
            "ticks": ""
           },
           "baxis": {
            "gridcolor": "#506784",
            "linecolor": "#506784",
            "ticks": ""
           },
           "caxis": {
            "gridcolor": "#506784",
            "linecolor": "#506784",
            "ticks": ""
           }
          },
          "coloraxis": {
           "colorbar": {
            "outlinewidth": 0,
            "ticks": ""
           }
          },
          "colorscale": {
           "sequential": [
            [
             0.0,
             "#0d0887"
            ],
            [
             0.1111111111111111,
             "#46039f"
            ],
            [
             0.2222222222222222,
             "#7201a8"
            ],
            [
             0.3333333333333333,
             "#9c179e"
            ],
            [
             0.4444444444444444,
             "#bd3786"
            ],
            [
             0.5555555555555556,
             "#d8576b"
            ],
            [
             0.6666666666666666,
             "#ed7953"
            ],
            [
             0.7777777777777778,
             "#fb9f3a"
            ],
            [
             0.8888888888888888,
             "#fdca26"
            ],
            [
             1.0,
             "#f0f921"
            ]
           ],
           "sequentialminus": [
            [
             0.0,
             "#0d0887"
            ],
            [
             0.1111111111111111,
             "#46039f"
            ],
            [
             0.2222222222222222,
             "#7201a8"
            ],
            [
             0.3333333333333333,
             "#9c179e"
            ],
            [
             0.4444444444444444,
             "#bd3786"
            ],
            [
             0.5555555555555556,
             "#d8576b"
            ],
            [
             0.6666666666666666,
             "#ed7953"
            ],
            [
             0.7777777777777778,
             "#fb9f3a"
            ],
            [
             0.8888888888888888,
             "#fdca26"
            ],
            [
             1.0,
             "#f0f921"
            ]
           ],
           "diverging": [
            [
             0,
             "#8e0152"
            ],
            [
             0.1,
             "#c51b7d"
            ],
            [
             0.2,
             "#de77ae"
            ],
            [
             0.3,
             "#f1b6da"
            ],
            [
             0.4,
             "#fde0ef"
            ],
            [
             0.5,
             "#f7f7f7"
            ],
            [
             0.6,
             "#e6f5d0"
            ],
            [
             0.7,
             "#b8e186"
            ],
            [
             0.8,
             "#7fbc41"
            ],
            [
             0.9,
             "#4d9221"
            ],
            [
             1,
             "#276419"
            ]
           ]
          },
          "xaxis": {
           "gridcolor": "#283442",
           "linecolor": "#506784",
           "ticks": "",
           "title": {
            "standoff": 15
           },
           "zerolinecolor": "#283442",
           "automargin": true,
           "zerolinewidth": 2
          },
          "yaxis": {
           "gridcolor": "#283442",
           "linecolor": "#506784",
           "ticks": "",
           "title": {
            "standoff": 15
           },
           "zerolinecolor": "#283442",
           "automargin": true,
           "zerolinewidth": 2
          },
          "scene": {
           "xaxis": {
            "backgroundcolor": "rgb(17,17,17)",
            "gridcolor": "#506784",
            "linecolor": "#506784",
            "showbackground": true,
            "ticks": "",
            "zerolinecolor": "#C8D4E3",
            "gridwidth": 2
           },
           "yaxis": {
            "backgroundcolor": "rgb(17,17,17)",
            "gridcolor": "#506784",
            "linecolor": "#506784",
            "showbackground": true,
            "ticks": "",
            "zerolinecolor": "#C8D4E3",
            "gridwidth": 2
           },
           "zaxis": {
            "backgroundcolor": "rgb(17,17,17)",
            "gridcolor": "#506784",
            "linecolor": "#506784",
            "showbackground": true,
            "ticks": "",
            "zerolinecolor": "#C8D4E3",
            "gridwidth": 2
           }
          },
          "shapedefaults": {
           "line": {
            "color": "#f2f5fa"
           }
          },
          "annotationdefaults": {
           "arrowcolor": "#f2f5fa",
           "arrowhead": 0,
           "arrowwidth": 1
          },
          "geo": {
           "bgcolor": "rgb(17,17,17)",
           "landcolor": "rgb(17,17,17)",
           "subunitcolor": "#506784",
           "showland": true,
           "showlakes": true,
           "lakecolor": "rgb(17,17,17)"
          },
          "title": {
           "x": 0.05
          },
          "updatemenudefaults": {
           "bgcolor": "#506784",
           "borderwidth": 0
          },
          "sliderdefaults": {
           "bgcolor": "#C8D4E3",
           "borderwidth": 1,
           "bordercolor": "rgb(17,17,17)",
           "tickwidth": 0
          },
          "mapbox": {
           "style": "dark"
          }
         }
        },
        "scene": {
         "xaxis": {
          "title": {
           "text": "X"
          }
         },
         "yaxis": {
          "title": {
           "text": "Y"
          }
         },
         "zaxis": {
          "title": {
           "text": "T"
          }
         }
        }
       },
       "config": {
        "plotlyServerURL": "https://plot.ly"
       }
      },
      "text/html": "<div>                            <div id=\"0c9f1eee-36d4-4092-8024-a5eb5a5d5842\" class=\"plotly-graph-div\" style=\"height:525px; width:100%;\"></div>            <script type=\"text/javascript\">                require([\"plotly\"], function(Plotly) {                    window.PLOTLYENV=window.PLOTLYENV || {};                                    if (document.getElementById(\"0c9f1eee-36d4-4092-8024-a5eb5a5d5842\")) {                    Plotly.newPlot(                        \"0c9f1eee-36d4-4092-8024-a5eb5a5d5842\",                        [{\"mode\":\"markers\",\"name\":\"DF\",\"x\":[53,66,68,65,67,66,68,68,71,74,75,73,81,88,81,95,91,91,91,94,93,90],\"y\":[160,102,98,101,108,105,109,109,113,96,98,114,94,97,118,73,103,109,108,107,112,113],\"z\":[3.5984730642490357,3.040632120912549,3.0377039235286682,3.049445800130841,3.018894247358319,3.030516676252362,3.0116253417186707,3.0129920762233704,2.9845247786693543,3.004475704973218,2.990739337747571,2.9618318002872437,2.963600627725598,2.910337976758954,2.905987791364667,3.0364189069919556,2.876768044775006,2.8564840477161377,2.859940401857373,2.8506488722019165,2.8462002795391053,2.8557097833805054],\"type\":\"scatter3d\"},{\"mode\":\"markers\",\"name\":\"NOISE\",\"x\":[150,3,75,152,20,198,9,224,233,105,216,16,194,153,26,154,226,68,227,49,89,125,64,41,240,44,89,138,25,88,224,118,223,179,165,78,12,112,92,153,174,173,177,199,166,193,8,209,203,113,192,190,50,170,36,143,80,177,212,118,170,98,236,74,58,164,106,76,18,117,166,229,146,61,56,89,103,137,73,96,212,139],\"y\":[184,159,181,18,138,73,74,39,109,161,165,30,68,120,13,61,90,41,26,196,142,59,118,20,172,95,103,51,160,172,142,149,196,228,61,205,32,74,170,207,165,61,103,205,84,35,169,223,227,136,98,110,18,97,76,91,202,38,191,152,218,86,75,212,32,30,185,113,107,141,170,175,80,158,58,103,61,176,5,171,186,92],\"z\":[2.996102155735834,2.48153666821159,5.442727117745708,1.0008612614675831,5.708629238083165,4.116874792803285,2.59802449065689,6.596882192871925,6.704682100144158,6.780236153990575,0.7063123347882485,3.4339304407572695,6.445894333545328,0.06206488894946205,2.0997311751275167,3.2165409458111567,1.9463129177416305,4.0006234728148815,3.7534609398090586,5.908743107281502,1.6766903213198106,5.292550623538046,3.4545695988139924,6.756899355427359,6.008024032025015,0.1439335925318188,2.7969274928691537,1.7853479589019945,3.416320249289449,6.9734761977246675,4.054669187898962,0.4831490253915024,5.231621090373784,1.4058951894909653,3.239279535693197,4.451590176661085,6.3895680575559775,2.388970866853783,4.655302436781848,0.24725517226016613,0.43697967925529513,2.9779048997625033,4.1287191718570835,1.9836211337206462,5.198627121899199,2.2461879424957925,1.8914688375077584,4.871420097101629,4.960286519741903,6.8333018062052275,0.9292135313049792,0.6745031347892999,5.822145442709389,1.933780613498128,6.343463104896725,4.001215005694656,4.212037295468989,0.032940693282573985,3.964670505649295,6.093493014446365,6.9567252078326804,2.6642014372650076,1.1757780970449638,6.326678293072154,2.900651193959484,3.1659565479994245,3.2841632020393643,3.8320482139996668,0.42447018512142687,0.106559234427413,5.369622988795715,4.428425584193475,2.7591005028170317,4.58173322729083,4.989561991926278,2.0379016803093855,2.7438277904869857,1.7318547055066753,0.9668396815980672,4.142621826975873,5.1635734800025865,4.2549699803160514],\"type\":\"scatter3d\"},{\"mode\":\"markers\",\"name\":\"Center\",\"x\":[80.11718022195765],\"y\":[96.0814025119998],\"z\":[2.9616627124589208],\"type\":\"scatter3d\"},{\"mode\":\"markers\",\"name\":\"Predict\",\"x\":[91.0,88.0,66.0,81.0,65.0,66.0,68.0,94.0,71.0,73.0,81.0,90.0,199.0,68.0,91.0,91.0,67.0,68.0,93.0,74.0,75.0],\"y\":[103.0,97.0,105.0,94.0,101.0,102.0,98.0,107.0,113.0,114.0,118.0,113.0,205.0,109.0,108.0,109.0,108.0,109.0,112.0,96.0,98.0],\"z\":[2.876768044775006,2.910337976758954,3.030516676252362,2.963600627725598,3.049445800130841,3.040632120912549,3.0377039235286682,2.8506488722019165,2.9845247786693543,2.9618318002872437,2.905987791364667,2.8557097833805054,1.9836211337206462,3.0116253417186707,2.859940401857373,2.8564840477161377,3.018894247358319,3.0129920762233704,2.8462002795391053,3.004475704973218,2.990739337747571],\"type\":\"scatter3d\"}],                        {\"template\":{\"data\":{\"histogram2dcontour\":[{\"type\":\"histogram2dcontour\",\"colorbar\":{\"outlinewidth\":0,\"ticks\":\"\"},\"colorscale\":[[0.0,\"#0d0887\"],[0.1111111111111111,\"#46039f\"],[0.2222222222222222,\"#7201a8\"],[0.3333333333333333,\"#9c179e\"],[0.4444444444444444,\"#bd3786\"],[0.5555555555555556,\"#d8576b\"],[0.6666666666666666,\"#ed7953\"],[0.7777777777777778,\"#fb9f3a\"],[0.8888888888888888,\"#fdca26\"],[1.0,\"#f0f921\"]]}],\"choropleth\":[{\"type\":\"choropleth\",\"colorbar\":{\"outlinewidth\":0,\"ticks\":\"\"}}],\"histogram2d\":[{\"type\":\"histogram2d\",\"colorbar\":{\"outlinewidth\":0,\"ticks\":\"\"},\"colorscale\":[[0.0,\"#0d0887\"],[0.1111111111111111,\"#46039f\"],[0.2222222222222222,\"#7201a8\"],[0.3333333333333333,\"#9c179e\"],[0.4444444444444444,\"#bd3786\"],[0.5555555555555556,\"#d8576b\"],[0.6666666666666666,\"#ed7953\"],[0.7777777777777778,\"#fb9f3a\"],[0.8888888888888888,\"#fdca26\"],[1.0,\"#f0f921\"]]}],\"heatmap\":[{\"type\":\"heatmap\",\"colorbar\":{\"outlinewidth\":0,\"ticks\":\"\"},\"colorscale\":[[0.0,\"#0d0887\"],[0.1111111111111111,\"#46039f\"],[0.2222222222222222,\"#7201a8\"],[0.3333333333333333,\"#9c179e\"],[0.4444444444444444,\"#bd3786\"],[0.5555555555555556,\"#d8576b\"],[0.6666666666666666,\"#ed7953\"],[0.7777777777777778,\"#fb9f3a\"],[0.8888888888888888,\"#fdca26\"],[1.0,\"#f0f921\"]]}],\"heatmapgl\":[{\"type\":\"heatmapgl\",\"colorbar\":{\"outlinewidth\":0,\"ticks\":\"\"},\"colorscale\":[[0.0,\"#0d0887\"],[0.1111111111111111,\"#46039f\"],[0.2222222222222222,\"#7201a8\"],[0.3333333333333333,\"#9c179e\"],[0.4444444444444444,\"#bd3786\"],[0.5555555555555556,\"#d8576b\"],[0.6666666666666666,\"#ed7953\"],[0.7777777777777778,\"#fb9f3a\"],[0.8888888888888888,\"#fdca26\"],[1.0,\"#f0f921\"]]}],\"contourcarpet\":[{\"type\":\"contourcarpet\",\"colorbar\":{\"outlinewidth\":0,\"ticks\":\"\"}}],\"contour\":[{\"type\":\"contour\",\"colorbar\":{\"outlinewidth\":0,\"ticks\":\"\"},\"colorscale\":[[0.0,\"#0d0887\"],[0.1111111111111111,\"#46039f\"],[0.2222222222222222,\"#7201a8\"],[0.3333333333333333,\"#9c179e\"],[0.4444444444444444,\"#bd3786\"],[0.5555555555555556,\"#d8576b\"],[0.6666666666666666,\"#ed7953\"],[0.7777777777777778,\"#fb9f3a\"],[0.8888888888888888,\"#fdca26\"],[1.0,\"#f0f921\"]]}],\"surface\":[{\"type\":\"surface\",\"colorbar\":{\"outlinewidth\":0,\"ticks\":\"\"},\"colorscale\":[[0.0,\"#0d0887\"],[0.1111111111111111,\"#46039f\"],[0.2222222222222222,\"#7201a8\"],[0.3333333333333333,\"#9c179e\"],[0.4444444444444444,\"#bd3786\"],[0.5555555555555556,\"#d8576b\"],[0.6666666666666666,\"#ed7953\"],[0.7777777777777778,\"#fb9f3a\"],[0.8888888888888888,\"#fdca26\"],[1.0,\"#f0f921\"]]}],\"mesh3d\":[{\"type\":\"mesh3d\",\"colorbar\":{\"outlinewidth\":0,\"ticks\":\"\"}}],\"scatter\":[{\"marker\":{\"line\":{\"color\":\"#283442\"}},\"type\":\"scatter\"}],\"parcoords\":[{\"type\":\"parcoords\",\"line\":{\"colorbar\":{\"outlinewidth\":0,\"ticks\":\"\"}}}],\"scatterpolargl\":[{\"type\":\"scatterpolargl\",\"marker\":{\"colorbar\":{\"outlinewidth\":0,\"ticks\":\"\"}}}],\"bar\":[{\"error_x\":{\"color\":\"#f2f5fa\"},\"error_y\":{\"color\":\"#f2f5fa\"},\"marker\":{\"line\":{\"color\":\"rgb(17,17,17)\",\"width\":0.5},\"pattern\":{\"fillmode\":\"overlay\",\"size\":10,\"solidity\":0.2}},\"type\":\"bar\"}],\"scattergeo\":[{\"type\":\"scattergeo\",\"marker\":{\"colorbar\":{\"outlinewidth\":0,\"ticks\":\"\"}}}],\"scatterpolar\":[{\"type\":\"scatterpolar\",\"marker\":{\"colorbar\":{\"outlinewidth\":0,\"ticks\":\"\"}}}],\"histogram\":[{\"marker\":{\"pattern\":{\"fillmode\":\"overlay\",\"size\":10,\"solidity\":0.2}},\"type\":\"histogram\"}],\"scattergl\":[{\"marker\":{\"line\":{\"color\":\"#283442\"}},\"type\":\"scattergl\"}],\"scatter3d\":[{\"type\":\"scatter3d\",\"line\":{\"colorbar\":{\"outlinewidth\":0,\"ticks\":\"\"}},\"marker\":{\"colorbar\":{\"outlinewidth\":0,\"ticks\":\"\"}}}],\"scattermapbox\":[{\"type\":\"scattermapbox\",\"marker\":{\"colorbar\":{\"outlinewidth\":0,\"ticks\":\"\"}}}],\"scatterternary\":[{\"type\":\"scatterternary\",\"marker\":{\"colorbar\":{\"outlinewidth\":0,\"ticks\":\"\"}}}],\"scattercarpet\":[{\"type\":\"scattercarpet\",\"marker\":{\"colorbar\":{\"outlinewidth\":0,\"ticks\":\"\"}}}],\"carpet\":[{\"aaxis\":{\"endlinecolor\":\"#A2B1C6\",\"gridcolor\":\"#506784\",\"linecolor\":\"#506784\",\"minorgridcolor\":\"#506784\",\"startlinecolor\":\"#A2B1C6\"},\"baxis\":{\"endlinecolor\":\"#A2B1C6\",\"gridcolor\":\"#506784\",\"linecolor\":\"#506784\",\"minorgridcolor\":\"#506784\",\"startlinecolor\":\"#A2B1C6\"},\"type\":\"carpet\"}],\"table\":[{\"cells\":{\"fill\":{\"color\":\"#506784\"},\"line\":{\"color\":\"rgb(17,17,17)\"}},\"header\":{\"fill\":{\"color\":\"#2a3f5f\"},\"line\":{\"color\":\"rgb(17,17,17)\"}},\"type\":\"table\"}],\"barpolar\":[{\"marker\":{\"line\":{\"color\":\"rgb(17,17,17)\",\"width\":0.5},\"pattern\":{\"fillmode\":\"overlay\",\"size\":10,\"solidity\":0.2}},\"type\":\"barpolar\"}],\"pie\":[{\"automargin\":true,\"type\":\"pie\"}]},\"layout\":{\"autotypenumbers\":\"strict\",\"colorway\":[\"#636efa\",\"#EF553B\",\"#00cc96\",\"#ab63fa\",\"#FFA15A\",\"#19d3f3\",\"#FF6692\",\"#B6E880\",\"#FF97FF\",\"#FECB52\"],\"font\":{\"color\":\"#f2f5fa\"},\"hovermode\":\"closest\",\"hoverlabel\":{\"align\":\"left\"},\"paper_bgcolor\":\"rgb(17,17,17)\",\"plot_bgcolor\":\"rgb(17,17,17)\",\"polar\":{\"bgcolor\":\"rgb(17,17,17)\",\"angularaxis\":{\"gridcolor\":\"#506784\",\"linecolor\":\"#506784\",\"ticks\":\"\"},\"radialaxis\":{\"gridcolor\":\"#506784\",\"linecolor\":\"#506784\",\"ticks\":\"\"}},\"ternary\":{\"bgcolor\":\"rgb(17,17,17)\",\"aaxis\":{\"gridcolor\":\"#506784\",\"linecolor\":\"#506784\",\"ticks\":\"\"},\"baxis\":{\"gridcolor\":\"#506784\",\"linecolor\":\"#506784\",\"ticks\":\"\"},\"caxis\":{\"gridcolor\":\"#506784\",\"linecolor\":\"#506784\",\"ticks\":\"\"}},\"coloraxis\":{\"colorbar\":{\"outlinewidth\":0,\"ticks\":\"\"}},\"colorscale\":{\"sequential\":[[0.0,\"#0d0887\"],[0.1111111111111111,\"#46039f\"],[0.2222222222222222,\"#7201a8\"],[0.3333333333333333,\"#9c179e\"],[0.4444444444444444,\"#bd3786\"],[0.5555555555555556,\"#d8576b\"],[0.6666666666666666,\"#ed7953\"],[0.7777777777777778,\"#fb9f3a\"],[0.8888888888888888,\"#fdca26\"],[1.0,\"#f0f921\"]],\"sequentialminus\":[[0.0,\"#0d0887\"],[0.1111111111111111,\"#46039f\"],[0.2222222222222222,\"#7201a8\"],[0.3333333333333333,\"#9c179e\"],[0.4444444444444444,\"#bd3786\"],[0.5555555555555556,\"#d8576b\"],[0.6666666666666666,\"#ed7953\"],[0.7777777777777778,\"#fb9f3a\"],[0.8888888888888888,\"#fdca26\"],[1.0,\"#f0f921\"]],\"diverging\":[[0,\"#8e0152\"],[0.1,\"#c51b7d\"],[0.2,\"#de77ae\"],[0.3,\"#f1b6da\"],[0.4,\"#fde0ef\"],[0.5,\"#f7f7f7\"],[0.6,\"#e6f5d0\"],[0.7,\"#b8e186\"],[0.8,\"#7fbc41\"],[0.9,\"#4d9221\"],[1,\"#276419\"]]},\"xaxis\":{\"gridcolor\":\"#283442\",\"linecolor\":\"#506784\",\"ticks\":\"\",\"title\":{\"standoff\":15},\"zerolinecolor\":\"#283442\",\"automargin\":true,\"zerolinewidth\":2},\"yaxis\":{\"gridcolor\":\"#283442\",\"linecolor\":\"#506784\",\"ticks\":\"\",\"title\":{\"standoff\":15},\"zerolinecolor\":\"#283442\",\"automargin\":true,\"zerolinewidth\":2},\"scene\":{\"xaxis\":{\"backgroundcolor\":\"rgb(17,17,17)\",\"gridcolor\":\"#506784\",\"linecolor\":\"#506784\",\"showbackground\":true,\"ticks\":\"\",\"zerolinecolor\":\"#C8D4E3\",\"gridwidth\":2},\"yaxis\":{\"backgroundcolor\":\"rgb(17,17,17)\",\"gridcolor\":\"#506784\",\"linecolor\":\"#506784\",\"showbackground\":true,\"ticks\":\"\",\"zerolinecolor\":\"#C8D4E3\",\"gridwidth\":2},\"zaxis\":{\"backgroundcolor\":\"rgb(17,17,17)\",\"gridcolor\":\"#506784\",\"linecolor\":\"#506784\",\"showbackground\":true,\"ticks\":\"\",\"zerolinecolor\":\"#C8D4E3\",\"gridwidth\":2}},\"shapedefaults\":{\"line\":{\"color\":\"#f2f5fa\"}},\"annotationdefaults\":{\"arrowcolor\":\"#f2f5fa\",\"arrowhead\":0,\"arrowwidth\":1},\"geo\":{\"bgcolor\":\"rgb(17,17,17)\",\"landcolor\":\"rgb(17,17,17)\",\"subunitcolor\":\"#506784\",\"showland\":true,\"showlakes\":true,\"lakecolor\":\"rgb(17,17,17)\"},\"title\":{\"x\":0.05},\"updatemenudefaults\":{\"bgcolor\":\"#506784\",\"borderwidth\":0},\"sliderdefaults\":{\"bgcolor\":\"#C8D4E3\",\"borderwidth\":1,\"bordercolor\":\"rgb(17,17,17)\",\"tickwidth\":0},\"mapbox\":{\"style\":\"dark\"}}},\"scene\":{\"xaxis\":{\"title\":{\"text\":\"X\"}},\"yaxis\":{\"title\":{\"text\":\"Y\"}},\"zaxis\":{\"title\":{\"text\":\"T\"}}}},                        {\"responsive\": true}                    ).then(function(){\n                            \nvar gd = document.getElementById('0c9f1eee-36d4-4092-8024-a5eb5a5d5842');\nvar x = new MutationObserver(function (mutations, observer) {{\n        var display = window.getComputedStyle(gd).display;\n        if (!display || display === 'none') {{\n            console.log([gd, 'removed!']);\n            Plotly.purge(gd);\n            observer.disconnect();\n        }}\n}});\n\n// Listen for the removal of the full notebook cells\nvar notebookContainer = gd.closest('#notebook-container');\nif (notebookContainer) {{\n    x.observe(notebookContainer, {childList: true});\n}}\n\n// Listen for the clearing of the current output cell\nvar outputEl = gd.closest('.output');\nif (outputEl) {{\n    x.observe(outputEl, {childList: true});\n}}\n\n                        })                };                });            </script>        </div>"
     },
     "metadata": {},
     "output_type": "display_data"
    }
   ],
   "source": [
    "points = np.array([p.to_numpy() for p in top.points])\n",
    "fig = go.Figure(\n",
    "    data=[\n",
    "        go.Scatter3d(z=df[df.signal]['t_c'], x=df[df.signal]['x_c'], y=df[df.signal]['y_c'],\n",
    "                     mode='markers', name='DF'),\n",
    "        go.Scatter3d(z=df[~df.signal]['t_c'], x=df[~df.signal]['x_c'], y=df[~df.signal]['y_c'],\n",
    "                     mode='markers', name='NOISE'),\n",
    "        go.Scatter3d(z=[center[2]], x=[center[0]], y=[center[1]],\n",
    "                     mode='markers', name='Center'),\n",
    "        go.Scatter3d(z=points[:, 2], x=points[:, 0], y=points[:, 1],\n",
    "                     mode='markers', name='Predict'),\n",
    "\n",
    "    ]\n",
    ")\n",
    "fig.update_layout(\n",
    "    scene={\n",
    "        \"xaxis_title\": \"X\",\n",
    "        \"yaxis_title\": \"Y\",\n",
    "        \"zaxis_title\": \"T\",\n",
    "    },\n",
    ")\n",
    "fig.show()"
   ],
   "metadata": {
    "collapsed": false,
    "ExecuteTime": {
     "start_time": "2023-04-02T20:20:42.744736Z",
     "end_time": "2023-04-02T20:20:42.769834Z"
    }
   }
  },
  {
   "cell_type": "code",
   "execution_count": null,
   "outputs": [],
   "source": [],
   "metadata": {
    "collapsed": false
   }
  }
 ],
 "metadata": {
  "kernelspec": {
   "display_name": "Python 3",
   "language": "python",
   "name": "python3"
  },
  "language_info": {
   "codemirror_mode": {
    "name": "ipython",
    "version": 2
   },
   "file_extension": ".py",
   "mimetype": "text/x-python",
   "name": "python",
   "nbconvert_exporter": "python",
   "pygments_lexer": "ipython2",
   "version": "2.7.6"
  }
 },
 "nbformat": 4,
 "nbformat_minor": 0
}
