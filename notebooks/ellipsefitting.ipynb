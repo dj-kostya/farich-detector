{
 "cells": [
  {
   "cell_type": "code",
   "execution_count": 15,
   "metadata": {
    "collapsed": true
   },
   "outputs": [
    {
     "name": "stdout",
     "output_type": "stream",
     "text": [
      "The autoreload extension is already loaded. To reload it, use:\n",
      "  %reload_ext autoreload\n"
     ]
    }
   ],
   "source": [
    "%load_ext autoreload\n",
    "%autoreload 2\n",
    "import sys\n",
    "sys.path.append(\"../\")\n",
    "from pathlib import Path\n",
    "import numpy as np\n",
    "import pandas as pd\n",
    "from tqdm import tqdm\n",
    "from matplotlib import pyplot as plt\n",
    "from src.dataloaders import PointOnlyDataloader, NoiseDataLoader\n",
    "from src.solutions import EllipseDataFitting\n",
    "\n",
    "dataset_dir = Path('../dataset')\n",
    "root_file = \"farichsim_pi-pi-_45-360deg_1200.0k_ideal_2020-12-24_rndm.root\"\n",
    "root_path = dataset_dir / root_file"
   ]
  },
  {
   "cell_type": "code",
   "execution_count": 10,
   "outputs": [
    {
     "ename": "ParserError",
     "evalue": "Error tokenizing data. C error: Calling read(nbytes) on source failed. Try engine='python'.",
     "output_type": "error",
     "traceback": [
      "\u001B[0;31m---------------------------------------------------------------------------\u001B[0m",
      "\u001B[0;31mParserError\u001B[0m                               Traceback (most recent call last)",
      "Cell \u001B[0;32mIn[10], line 1\u001B[0m\n\u001B[0;32m----> 1\u001B[0m df \u001B[38;5;241m=\u001B[39m \u001B[43mpd\u001B[49m\u001B[38;5;241;43m.\u001B[39;49m\u001B[43mread_csv\u001B[49m\u001B[43m(\u001B[49m\u001B[38;5;124;43m'\u001B[39;49m\u001B[38;5;124;43mres.csv\u001B[39;49m\u001B[38;5;124;43m'\u001B[39;49m\u001B[43m)\u001B[49m\n",
      "File \u001B[0;32m~/projects/NSU/farich-detector/.venv/lib/python3.9/site-packages/pandas/util/_decorators.py:211\u001B[0m, in \u001B[0;36mdeprecate_kwarg.<locals>._deprecate_kwarg.<locals>.wrapper\u001B[0;34m(*args, **kwargs)\u001B[0m\n\u001B[1;32m    209\u001B[0m     \u001B[38;5;28;01melse\u001B[39;00m:\n\u001B[1;32m    210\u001B[0m         kwargs[new_arg_name] \u001B[38;5;241m=\u001B[39m new_arg_value\n\u001B[0;32m--> 211\u001B[0m \u001B[38;5;28;01mreturn\u001B[39;00m \u001B[43mfunc\u001B[49m\u001B[43m(\u001B[49m\u001B[38;5;241;43m*\u001B[39;49m\u001B[43margs\u001B[49m\u001B[43m,\u001B[49m\u001B[43m \u001B[49m\u001B[38;5;241;43m*\u001B[39;49m\u001B[38;5;241;43m*\u001B[39;49m\u001B[43mkwargs\u001B[49m\u001B[43m)\u001B[49m\n",
      "File \u001B[0;32m~/projects/NSU/farich-detector/.venv/lib/python3.9/site-packages/pandas/util/_decorators.py:331\u001B[0m, in \u001B[0;36mdeprecate_nonkeyword_arguments.<locals>.decorate.<locals>.wrapper\u001B[0;34m(*args, **kwargs)\u001B[0m\n\u001B[1;32m    325\u001B[0m \u001B[38;5;28;01mif\u001B[39;00m \u001B[38;5;28mlen\u001B[39m(args) \u001B[38;5;241m>\u001B[39m num_allow_args:\n\u001B[1;32m    326\u001B[0m     warnings\u001B[38;5;241m.\u001B[39mwarn(\n\u001B[1;32m    327\u001B[0m         msg\u001B[38;5;241m.\u001B[39mformat(arguments\u001B[38;5;241m=\u001B[39m_format_argument_list(allow_args)),\n\u001B[1;32m    328\u001B[0m         \u001B[38;5;167;01mFutureWarning\u001B[39;00m,\n\u001B[1;32m    329\u001B[0m         stacklevel\u001B[38;5;241m=\u001B[39mfind_stack_level(),\n\u001B[1;32m    330\u001B[0m     )\n\u001B[0;32m--> 331\u001B[0m \u001B[38;5;28;01mreturn\u001B[39;00m \u001B[43mfunc\u001B[49m\u001B[43m(\u001B[49m\u001B[38;5;241;43m*\u001B[39;49m\u001B[43margs\u001B[49m\u001B[43m,\u001B[49m\u001B[43m \u001B[49m\u001B[38;5;241;43m*\u001B[39;49m\u001B[38;5;241;43m*\u001B[39;49m\u001B[43mkwargs\u001B[49m\u001B[43m)\u001B[49m\n",
      "File \u001B[0;32m~/projects/NSU/farich-detector/.venv/lib/python3.9/site-packages/pandas/io/parsers/readers.py:950\u001B[0m, in \u001B[0;36mread_csv\u001B[0;34m(filepath_or_buffer, sep, delimiter, header, names, index_col, usecols, squeeze, prefix, mangle_dupe_cols, dtype, engine, converters, true_values, false_values, skipinitialspace, skiprows, skipfooter, nrows, na_values, keep_default_na, na_filter, verbose, skip_blank_lines, parse_dates, infer_datetime_format, keep_date_col, date_parser, dayfirst, cache_dates, iterator, chunksize, compression, thousands, decimal, lineterminator, quotechar, quoting, doublequote, escapechar, comment, encoding, encoding_errors, dialect, error_bad_lines, warn_bad_lines, on_bad_lines, delim_whitespace, low_memory, memory_map, float_precision, storage_options)\u001B[0m\n\u001B[1;32m    935\u001B[0m kwds_defaults \u001B[38;5;241m=\u001B[39m _refine_defaults_read(\n\u001B[1;32m    936\u001B[0m     dialect,\n\u001B[1;32m    937\u001B[0m     delimiter,\n\u001B[0;32m   (...)\u001B[0m\n\u001B[1;32m    946\u001B[0m     defaults\u001B[38;5;241m=\u001B[39m{\u001B[38;5;124m\"\u001B[39m\u001B[38;5;124mdelimiter\u001B[39m\u001B[38;5;124m\"\u001B[39m: \u001B[38;5;124m\"\u001B[39m\u001B[38;5;124m,\u001B[39m\u001B[38;5;124m\"\u001B[39m},\n\u001B[1;32m    947\u001B[0m )\n\u001B[1;32m    948\u001B[0m kwds\u001B[38;5;241m.\u001B[39mupdate(kwds_defaults)\n\u001B[0;32m--> 950\u001B[0m \u001B[38;5;28;01mreturn\u001B[39;00m \u001B[43m_read\u001B[49m\u001B[43m(\u001B[49m\u001B[43mfilepath_or_buffer\u001B[49m\u001B[43m,\u001B[49m\u001B[43m \u001B[49m\u001B[43mkwds\u001B[49m\u001B[43m)\u001B[49m\n",
      "File \u001B[0;32m~/projects/NSU/farich-detector/.venv/lib/python3.9/site-packages/pandas/io/parsers/readers.py:611\u001B[0m, in \u001B[0;36m_read\u001B[0;34m(filepath_or_buffer, kwds)\u001B[0m\n\u001B[1;32m    608\u001B[0m     \u001B[38;5;28;01mreturn\u001B[39;00m parser\n\u001B[1;32m    610\u001B[0m \u001B[38;5;28;01mwith\u001B[39;00m parser:\n\u001B[0;32m--> 611\u001B[0m     \u001B[38;5;28;01mreturn\u001B[39;00m \u001B[43mparser\u001B[49m\u001B[38;5;241;43m.\u001B[39;49m\u001B[43mread\u001B[49m\u001B[43m(\u001B[49m\u001B[43mnrows\u001B[49m\u001B[43m)\u001B[49m\n",
      "File \u001B[0;32m~/projects/NSU/farich-detector/.venv/lib/python3.9/site-packages/pandas/io/parsers/readers.py:1778\u001B[0m, in \u001B[0;36mTextFileReader.read\u001B[0;34m(self, nrows)\u001B[0m\n\u001B[1;32m   1771\u001B[0m nrows \u001B[38;5;241m=\u001B[39m validate_integer(\u001B[38;5;124m\"\u001B[39m\u001B[38;5;124mnrows\u001B[39m\u001B[38;5;124m\"\u001B[39m, nrows)\n\u001B[1;32m   1772\u001B[0m \u001B[38;5;28;01mtry\u001B[39;00m:\n\u001B[1;32m   1773\u001B[0m     \u001B[38;5;66;03m# error: \"ParserBase\" has no attribute \"read\"\u001B[39;00m\n\u001B[1;32m   1774\u001B[0m     (\n\u001B[1;32m   1775\u001B[0m         index,\n\u001B[1;32m   1776\u001B[0m         columns,\n\u001B[1;32m   1777\u001B[0m         col_dict,\n\u001B[0;32m-> 1778\u001B[0m     ) \u001B[38;5;241m=\u001B[39m \u001B[38;5;28;43mself\u001B[39;49m\u001B[38;5;241;43m.\u001B[39;49m\u001B[43m_engine\u001B[49m\u001B[38;5;241;43m.\u001B[39;49m\u001B[43mread\u001B[49m\u001B[43m(\u001B[49m\u001B[43m  \u001B[49m\u001B[38;5;66;43;03m# type: ignore[attr-defined]\u001B[39;49;00m\n\u001B[1;32m   1779\u001B[0m \u001B[43m        \u001B[49m\u001B[43mnrows\u001B[49m\n\u001B[1;32m   1780\u001B[0m \u001B[43m    \u001B[49m\u001B[43m)\u001B[49m\n\u001B[1;32m   1781\u001B[0m \u001B[38;5;28;01mexcept\u001B[39;00m \u001B[38;5;167;01mException\u001B[39;00m:\n\u001B[1;32m   1782\u001B[0m     \u001B[38;5;28mself\u001B[39m\u001B[38;5;241m.\u001B[39mclose()\n",
      "File \u001B[0;32m~/projects/NSU/farich-detector/.venv/lib/python3.9/site-packages/pandas/io/parsers/c_parser_wrapper.py:230\u001B[0m, in \u001B[0;36mCParserWrapper.read\u001B[0;34m(self, nrows)\u001B[0m\n\u001B[1;32m    228\u001B[0m \u001B[38;5;28;01mtry\u001B[39;00m:\n\u001B[1;32m    229\u001B[0m     \u001B[38;5;28;01mif\u001B[39;00m \u001B[38;5;28mself\u001B[39m\u001B[38;5;241m.\u001B[39mlow_memory:\n\u001B[0;32m--> 230\u001B[0m         chunks \u001B[38;5;241m=\u001B[39m \u001B[38;5;28;43mself\u001B[39;49m\u001B[38;5;241;43m.\u001B[39;49m\u001B[43m_reader\u001B[49m\u001B[38;5;241;43m.\u001B[39;49m\u001B[43mread_low_memory\u001B[49m\u001B[43m(\u001B[49m\u001B[43mnrows\u001B[49m\u001B[43m)\u001B[49m\n\u001B[1;32m    231\u001B[0m         \u001B[38;5;66;03m# destructive to chunks\u001B[39;00m\n\u001B[1;32m    232\u001B[0m         data \u001B[38;5;241m=\u001B[39m _concatenate_chunks(chunks)\n",
      "File \u001B[0;32m~/projects/NSU/farich-detector/.venv/lib/python3.9/site-packages/pandas/_libs/parsers.pyx:808\u001B[0m, in \u001B[0;36mpandas._libs.parsers.TextReader.read_low_memory\u001B[0;34m()\u001B[0m\n",
      "File \u001B[0;32m~/projects/NSU/farich-detector/.venv/lib/python3.9/site-packages/pandas/_libs/parsers.pyx:866\u001B[0m, in \u001B[0;36mpandas._libs.parsers.TextReader._read_rows\u001B[0;34m()\u001B[0m\n",
      "File \u001B[0;32m~/projects/NSU/farich-detector/.venv/lib/python3.9/site-packages/pandas/_libs/parsers.pyx:852\u001B[0m, in \u001B[0;36mpandas._libs.parsers.TextReader._tokenize_rows\u001B[0;34m()\u001B[0m\n",
      "File \u001B[0;32m~/projects/NSU/farich-detector/.venv/lib/python3.9/site-packages/pandas/_libs/parsers.pyx:1973\u001B[0m, in \u001B[0;36mpandas._libs.parsers.raise_parser_error\u001B[0;34m()\u001B[0m\n",
      "\u001B[0;31mParserError\u001B[0m: Error tokenizing data. C error: Calling read(nbytes) on source failed. Try engine='python'."
     ]
    }
   ],
   "source": [
    "df = pd.read_csv('res.csv')"
   ],
   "metadata": {
    "collapsed": false
   }
  },
  {
   "cell_type": "code",
   "execution_count": 4,
   "outputs": [
    {
     "data": {
      "text/plain": "Index              128\nentry        252263168\nsubentry     252263168\nx_c          252263168\ny_c          252263168\nz_c          252263168\nt_c0         252263168\n0            252263168\n100          252263168\n55           252263168\n201.05       252263168\n1.0519133    252263168\ndtype: int64"
     },
     "execution_count": 4,
     "metadata": {},
     "output_type": "execute_result"
    }
   ],
   "source": [
    "df.memory_usage()"
   ],
   "metadata": {
    "collapsed": false
   }
  },
  {
   "cell_type": "code",
   "execution_count": 8,
   "outputs": [],
   "source": [
    "dl = PointOnlyDataloader(root_path, verbose=False)\n",
    "alg = EllipseDataFitting(save_graphics=True)\n",
    "\n"
   ],
   "metadata": {
    "collapsed": false
   }
  },
  {
   "cell_type": "code",
   "execution_count": 16,
   "outputs": [
    {
     "name": "stderr",
     "output_type": "stream",
     "text": [
      "  0%|          | 0/60.0 [00:00<?, ?it/s]\n"
     ]
    },
    {
     "ename": "TypeError",
     "evalue": "super(type, obj): obj must be an instance or subtype of type",
     "output_type": "error",
     "traceback": [
      "\u001B[0;31m---------------------------------------------------------------------------\u001B[0m",
      "\u001B[0;31mTypeError\u001B[0m                                 Traceback (most recent call last)",
      "Cell \u001B[0;32mIn[16], line 3\u001B[0m\n\u001B[1;32m      1\u001B[0m dl \u001B[38;5;241m=\u001B[39m NoiseDataLoader(root_path, verbose\u001B[38;5;241m=\u001B[39m\u001B[38;5;28;01mFalse\u001B[39;00m, noise_freq_per_sqmm\u001B[38;5;241m=\u001B[39m\u001B[38;5;241m2e5\u001B[39m)\n\u001B[1;32m      2\u001B[0m max_delta \u001B[38;5;241m=\u001B[39m \u001B[38;5;241m0\u001B[39m\n\u001B[0;32m----> 3\u001B[0m \u001B[38;5;28;01mfor\u001B[39;00m df, _ \u001B[38;5;129;01min\u001B[39;00m tqdm(dl\u001B[38;5;241m.\u001B[39mgenChunkFromRoot(event_chunk_size\u001B[38;5;241m=\u001B[39m\u001B[38;5;241m20000\u001B[39m), total\u001B[38;5;241m=\u001B[39mdl\u001B[38;5;241m.\u001B[39mget_total_cnt()\u001B[38;5;241m/\u001B[39m\u001B[38;5;241m20000\u001B[39m):\n\u001B[1;32m      4\u001B[0m     df\u001B[38;5;241m.\u001B[39mto_csv(\u001B[38;5;124m'\u001B[39m\u001B[38;5;124mdataset_with_noise_2e5.csv\u001B[39m\u001B[38;5;124m'\u001B[39m, mode\u001B[38;5;241m=\u001B[39m\u001B[38;5;124m'\u001B[39m\u001B[38;5;124ma\u001B[39m\u001B[38;5;124m'\u001B[39m, header\u001B[38;5;241m=\u001B[39m\u001B[38;5;28;01mNone\u001B[39;00m)\n\u001B[1;32m      5\u001B[0m     \u001B[38;5;28;01mbreak\u001B[39;00m\n",
      "File \u001B[0;32m~/projects/NSU/farich-detector/.venv/lib/python3.9/site-packages/tqdm/std.py:1195\u001B[0m, in \u001B[0;36mtqdm.__iter__\u001B[0;34m(self)\u001B[0m\n\u001B[1;32m   1192\u001B[0m time \u001B[38;5;241m=\u001B[39m \u001B[38;5;28mself\u001B[39m\u001B[38;5;241m.\u001B[39m_time\n\u001B[1;32m   1194\u001B[0m \u001B[38;5;28;01mtry\u001B[39;00m:\n\u001B[0;32m-> 1195\u001B[0m     \u001B[38;5;28;01mfor\u001B[39;00m obj \u001B[38;5;129;01min\u001B[39;00m iterable:\n\u001B[1;32m   1196\u001B[0m         \u001B[38;5;28;01myield\u001B[39;00m obj\n\u001B[1;32m   1197\u001B[0m         \u001B[38;5;66;03m# Update and possibly print the progressbar.\u001B[39;00m\n\u001B[1;32m   1198\u001B[0m         \u001B[38;5;66;03m# Note: does not call self.update(1) for speed optimisation.\u001B[39;00m\n",
      "File \u001B[0;32m~/projects/NSU/farich-detector/notebooks/../src/dataloaders/noise.py:105\u001B[0m, in \u001B[0;36mNoiseDataLoader.genChunkFromRoot\u001B[0;34m(self, event_chunk_size)\u001B[0m\n\u001B[1;32m    104\u001B[0m \u001B[38;5;28;01mdef\u001B[39;00m \u001B[38;5;21mgenChunkFromRoot\u001B[39m(\u001B[38;5;28mself\u001B[39m, event_chunk_size\u001B[38;5;241m=\u001B[39m\u001B[38;5;241m2000\u001B[39m):\n\u001B[0;32m--> 105\u001B[0m     \u001B[38;5;28;01mfor\u001B[39;00m hit_df, part_df \u001B[38;5;129;01min\u001B[39;00m \u001B[38;5;28;43msuper\u001B[39;49m\u001B[43m(\u001B[49m\u001B[43m)\u001B[49m\u001B[38;5;241m.\u001B[39mgenChunkFromRoot(event_chunk_size\u001B[38;5;241m=\u001B[39m\u001B[38;5;241m2000\u001B[39m):\n\u001B[1;32m    106\u001B[0m         hit_df \u001B[38;5;241m=\u001B[39m \u001B[38;5;28mself\u001B[39m\u001B[38;5;241m.\u001B[39m_add_noise(part_df, hit_df)\n\u001B[1;32m    107\u001B[0m         \u001B[38;5;28;01mif\u001B[39;00m \u001B[38;5;28mself\u001B[39m\u001B[38;5;241m.\u001B[39monly_hits:\n",
      "\u001B[0;31mTypeError\u001B[0m: super(type, obj): obj must be an instance or subtype of type"
     ]
    }
   ],
   "source": [
    "dl = NoiseDataLoader(root_path, verbose=False, noise_freq_per_sqmm=2e5)\n",
    "max_delta = 0\n",
    "for df in tqdm(dl.genChunkFromRoot(event_chunk_size=20000), total=dl.get_total_cnt()/20000):\n",
    "    df.to_csv('dataset_with_noise_2e5.csv', mode='a', header=None)\n",
    "    break\n",
    "    # max_delta = max(df['t_c'].max() - df['t_c'].min(), max_delta)"
   ],
   "metadata": {
    "collapsed": false
   }
  },
  {
   "cell_type": "code",
   "execution_count": 22,
   "outputs": [
    {
     "data": {
      "text/plain": "2.3193755"
     },
     "execution_count": 22,
     "metadata": {},
     "output_type": "execute_result"
    }
   ],
   "source": [
    " max_delta"
   ],
   "metadata": {
    "collapsed": false
   }
  },
  {
   "cell_type": "code",
   "execution_count": 3,
   "outputs": [
    {
     "name": "stderr",
     "output_type": "stream",
     "text": [
      "  4%|▍         | 2/47 [00:38<14:24, 19.22s/it]\n"
     ]
    }
   ],
   "source": [
    "centers, vectors, normals, point1, point2, point3 = alg.run(df)\n"
   ],
   "metadata": {
    "collapsed": false
   }
  },
  {
   "cell_type": "code",
   "execution_count": 4,
   "outputs": [],
   "source": [
    "centers = pd.DataFrame(np.array(centers), columns=['x_center','y_center', 't_center'])"
   ],
   "metadata": {
    "collapsed": false
   }
  },
  {
   "cell_type": "code",
   "execution_count": 5,
   "outputs": [
    {
     "data": {
      "text/plain": "    x_center   y_center  t_center\n0 -50.042775 -14.714778  0.721234",
      "text/html": "<div>\n<style scoped>\n    .dataframe tbody tr th:only-of-type {\n        vertical-align: middle;\n    }\n\n    .dataframe tbody tr th {\n        vertical-align: top;\n    }\n\n    .dataframe thead th {\n        text-align: right;\n    }\n</style>\n<table border=\"1\" class=\"dataframe\">\n  <thead>\n    <tr style=\"text-align: right;\">\n      <th></th>\n      <th>x_center</th>\n      <th>y_center</th>\n      <th>t_center</th>\n    </tr>\n  </thead>\n  <tbody>\n    <tr>\n      <th>0</th>\n      <td>-50.042775</td>\n      <td>-14.714778</td>\n      <td>0.721234</td>\n    </tr>\n  </tbody>\n</table>\n</div>"
     },
     "execution_count": 5,
     "metadata": {},
     "output_type": "execute_result"
    }
   ],
   "source": [
    "centers"
   ],
   "metadata": {
    "collapsed": false
   }
  },
  {
   "cell_type": "code",
   "execution_count": 8,
   "outputs": [],
   "source": [
    "normals = pd.DataFrame(np.array(normals), columns=['x_normal','y_normal', 't_normal'])"
   ],
   "metadata": {
    "collapsed": false
   }
  },
  {
   "cell_type": "code",
   "execution_count": 9,
   "outputs": [],
   "source": [
    "points1 = pd.DataFrame(np.array(point1), columns=['x_p1','y_p1', 't_p1'])"
   ],
   "metadata": {
    "collapsed": false
   }
  },
  {
   "cell_type": "code",
   "execution_count": 10,
   "outputs": [
    {
     "data": {
      "text/plain": "         x_p1   y_p1      t_p1\n0 -105.279999 -29.76  0.766782",
      "text/html": "<div>\n<style scoped>\n    .dataframe tbody tr th:only-of-type {\n        vertical-align: middle;\n    }\n\n    .dataframe tbody tr th {\n        vertical-align: top;\n    }\n\n    .dataframe thead th {\n        text-align: right;\n    }\n</style>\n<table border=\"1\" class=\"dataframe\">\n  <thead>\n    <tr style=\"text-align: right;\">\n      <th></th>\n      <th>x_p1</th>\n      <th>y_p1</th>\n      <th>t_p1</th>\n    </tr>\n  </thead>\n  <tbody>\n    <tr>\n      <th>0</th>\n      <td>-105.279999</td>\n      <td>-29.76</td>\n      <td>0.766782</td>\n    </tr>\n  </tbody>\n</table>\n</div>"
     },
     "execution_count": 10,
     "metadata": {},
     "output_type": "execute_result"
    }
   ],
   "source": [
    "points1"
   ],
   "metadata": {
    "collapsed": false
   }
  },
  {
   "cell_type": "code",
   "execution_count": 11,
   "outputs": [
    {
     "data": {
      "text/plain": "                       x_c         y_c         z_c       t_c\nentry subentry                                              \n5     0        -351.040009  399.679993  201.050003  2.387565\n      1         -85.120003  -80.959999  201.050003  0.870651\n      2        -105.279999  -29.760000  201.050003  0.766782\n      3        -105.279999  -25.600000  201.050003  0.767961\n      4        -108.639999   -8.800000  201.050003  0.767712\n      5         -98.559998   15.520000  201.050003  0.754884\n      6        -101.919998    5.440000  201.050003  0.756660\n      7        -105.279999    5.440000  201.050003  0.761616\n      8         -98.559998   18.879999  201.050003  0.753252\n      9         -88.480003   29.760000  201.050003  0.745859\n      10        -70.879997 -178.240005  201.050003  1.189885\n      11        -64.160004  -67.519997  201.050003  0.743735\n      12        -74.239998  -64.160004  201.050003  0.750375\n      13        -80.959999  -64.160004  201.050003  0.759340\n      14        -67.519997  -57.439999  201.050003  0.740059\n      15        -57.439999   22.240000  201.050003  1.134990\n      16        -74.239998   33.119999  201.050003  0.730597\n      17        -77.599998   36.480000  201.050003  0.732978\n      18        -74.239998   36.480000  201.050003  0.730177\n      19        -70.879997   36.480000  201.050003  0.725091\n      20        -74.239998  219.360001  201.050003  1.580266\n      21        -43.200001  -67.519997  201.050003  0.729207\n      22        -53.279999  -70.879997  201.050003  0.736687\n      23        -33.119999  -67.519997  201.050003  0.721118\n      24        -53.279999  -70.879997  201.050003  0.738963\n      25        -43.200001   43.200001  201.050003  0.706602\n      26        -49.919998   43.200001  201.050003  0.709753\n      27        -49.919998   39.840000  201.050003  0.708978\n      28        -12.160000 -205.919998  201.050003  1.162304\n      29        -22.240000  -60.799999  201.050003  0.709096\n      30         -2.080000  -46.560001  201.050003  0.693336\n      31         -5.440000  -49.919998  201.050003  0.695881\n      32         -5.440000   22.240000  201.050003  0.679680\n      33         -5.440000   18.879999  201.050003  0.679365\n      34        -22.240000   33.119999  201.050003  0.689608\n      35          8.800000  -22.240000  201.050003  0.680270\n      36          8.800000    2.080000  201.050003  0.677087\n      37          2.080000    8.800000  201.050003  0.677228\n      38          5.440000    8.800000  201.050003  0.677986\n      39          2.080000    8.800000  201.050003  0.676161\n      40         15.520000   88.480003  201.050003  0.832270\n      41         46.560001 -108.639999  201.050003  0.802872\n      42         43.200001  -64.160004  201.050003  0.735939\n      43         36.480000  -57.439999  201.050003  0.738325\n      44         29.760000   80.959999  201.050003  0.886469\n      45        122.879997  -60.799999  201.050003  0.866539\n      46        164.000000 -223.520004  201.050003  1.455103\n      47        153.919998  -22.240000  201.050003  0.902340\n      48        188.320007  -74.239998  201.050003  0.973741",
      "text/html": "<div>\n<style scoped>\n    .dataframe tbody tr th:only-of-type {\n        vertical-align: middle;\n    }\n\n    .dataframe tbody tr th {\n        vertical-align: top;\n    }\n\n    .dataframe thead th {\n        text-align: right;\n    }\n</style>\n<table border=\"1\" class=\"dataframe\">\n  <thead>\n    <tr style=\"text-align: right;\">\n      <th></th>\n      <th></th>\n      <th>x_c</th>\n      <th>y_c</th>\n      <th>z_c</th>\n      <th>t_c</th>\n    </tr>\n    <tr>\n      <th>entry</th>\n      <th>subentry</th>\n      <th></th>\n      <th></th>\n      <th></th>\n      <th></th>\n    </tr>\n  </thead>\n  <tbody>\n    <tr>\n      <th rowspan=\"49\" valign=\"top\">5</th>\n      <th>0</th>\n      <td>-351.040009</td>\n      <td>399.679993</td>\n      <td>201.050003</td>\n      <td>2.387565</td>\n    </tr>\n    <tr>\n      <th>1</th>\n      <td>-85.120003</td>\n      <td>-80.959999</td>\n      <td>201.050003</td>\n      <td>0.870651</td>\n    </tr>\n    <tr>\n      <th>2</th>\n      <td>-105.279999</td>\n      <td>-29.760000</td>\n      <td>201.050003</td>\n      <td>0.766782</td>\n    </tr>\n    <tr>\n      <th>3</th>\n      <td>-105.279999</td>\n      <td>-25.600000</td>\n      <td>201.050003</td>\n      <td>0.767961</td>\n    </tr>\n    <tr>\n      <th>4</th>\n      <td>-108.639999</td>\n      <td>-8.800000</td>\n      <td>201.050003</td>\n      <td>0.767712</td>\n    </tr>\n    <tr>\n      <th>5</th>\n      <td>-98.559998</td>\n      <td>15.520000</td>\n      <td>201.050003</td>\n      <td>0.754884</td>\n    </tr>\n    <tr>\n      <th>6</th>\n      <td>-101.919998</td>\n      <td>5.440000</td>\n      <td>201.050003</td>\n      <td>0.756660</td>\n    </tr>\n    <tr>\n      <th>7</th>\n      <td>-105.279999</td>\n      <td>5.440000</td>\n      <td>201.050003</td>\n      <td>0.761616</td>\n    </tr>\n    <tr>\n      <th>8</th>\n      <td>-98.559998</td>\n      <td>18.879999</td>\n      <td>201.050003</td>\n      <td>0.753252</td>\n    </tr>\n    <tr>\n      <th>9</th>\n      <td>-88.480003</td>\n      <td>29.760000</td>\n      <td>201.050003</td>\n      <td>0.745859</td>\n    </tr>\n    <tr>\n      <th>10</th>\n      <td>-70.879997</td>\n      <td>-178.240005</td>\n      <td>201.050003</td>\n      <td>1.189885</td>\n    </tr>\n    <tr>\n      <th>11</th>\n      <td>-64.160004</td>\n      <td>-67.519997</td>\n      <td>201.050003</td>\n      <td>0.743735</td>\n    </tr>\n    <tr>\n      <th>12</th>\n      <td>-74.239998</td>\n      <td>-64.160004</td>\n      <td>201.050003</td>\n      <td>0.750375</td>\n    </tr>\n    <tr>\n      <th>13</th>\n      <td>-80.959999</td>\n      <td>-64.160004</td>\n      <td>201.050003</td>\n      <td>0.759340</td>\n    </tr>\n    <tr>\n      <th>14</th>\n      <td>-67.519997</td>\n      <td>-57.439999</td>\n      <td>201.050003</td>\n      <td>0.740059</td>\n    </tr>\n    <tr>\n      <th>15</th>\n      <td>-57.439999</td>\n      <td>22.240000</td>\n      <td>201.050003</td>\n      <td>1.134990</td>\n    </tr>\n    <tr>\n      <th>16</th>\n      <td>-74.239998</td>\n      <td>33.119999</td>\n      <td>201.050003</td>\n      <td>0.730597</td>\n    </tr>\n    <tr>\n      <th>17</th>\n      <td>-77.599998</td>\n      <td>36.480000</td>\n      <td>201.050003</td>\n      <td>0.732978</td>\n    </tr>\n    <tr>\n      <th>18</th>\n      <td>-74.239998</td>\n      <td>36.480000</td>\n      <td>201.050003</td>\n      <td>0.730177</td>\n    </tr>\n    <tr>\n      <th>19</th>\n      <td>-70.879997</td>\n      <td>36.480000</td>\n      <td>201.050003</td>\n      <td>0.725091</td>\n    </tr>\n    <tr>\n      <th>20</th>\n      <td>-74.239998</td>\n      <td>219.360001</td>\n      <td>201.050003</td>\n      <td>1.580266</td>\n    </tr>\n    <tr>\n      <th>21</th>\n      <td>-43.200001</td>\n      <td>-67.519997</td>\n      <td>201.050003</td>\n      <td>0.729207</td>\n    </tr>\n    <tr>\n      <th>22</th>\n      <td>-53.279999</td>\n      <td>-70.879997</td>\n      <td>201.050003</td>\n      <td>0.736687</td>\n    </tr>\n    <tr>\n      <th>23</th>\n      <td>-33.119999</td>\n      <td>-67.519997</td>\n      <td>201.050003</td>\n      <td>0.721118</td>\n    </tr>\n    <tr>\n      <th>24</th>\n      <td>-53.279999</td>\n      <td>-70.879997</td>\n      <td>201.050003</td>\n      <td>0.738963</td>\n    </tr>\n    <tr>\n      <th>25</th>\n      <td>-43.200001</td>\n      <td>43.200001</td>\n      <td>201.050003</td>\n      <td>0.706602</td>\n    </tr>\n    <tr>\n      <th>26</th>\n      <td>-49.919998</td>\n      <td>43.200001</td>\n      <td>201.050003</td>\n      <td>0.709753</td>\n    </tr>\n    <tr>\n      <th>27</th>\n      <td>-49.919998</td>\n      <td>39.840000</td>\n      <td>201.050003</td>\n      <td>0.708978</td>\n    </tr>\n    <tr>\n      <th>28</th>\n      <td>-12.160000</td>\n      <td>-205.919998</td>\n      <td>201.050003</td>\n      <td>1.162304</td>\n    </tr>\n    <tr>\n      <th>29</th>\n      <td>-22.240000</td>\n      <td>-60.799999</td>\n      <td>201.050003</td>\n      <td>0.709096</td>\n    </tr>\n    <tr>\n      <th>30</th>\n      <td>-2.080000</td>\n      <td>-46.560001</td>\n      <td>201.050003</td>\n      <td>0.693336</td>\n    </tr>\n    <tr>\n      <th>31</th>\n      <td>-5.440000</td>\n      <td>-49.919998</td>\n      <td>201.050003</td>\n      <td>0.695881</td>\n    </tr>\n    <tr>\n      <th>32</th>\n      <td>-5.440000</td>\n      <td>22.240000</td>\n      <td>201.050003</td>\n      <td>0.679680</td>\n    </tr>\n    <tr>\n      <th>33</th>\n      <td>-5.440000</td>\n      <td>18.879999</td>\n      <td>201.050003</td>\n      <td>0.679365</td>\n    </tr>\n    <tr>\n      <th>34</th>\n      <td>-22.240000</td>\n      <td>33.119999</td>\n      <td>201.050003</td>\n      <td>0.689608</td>\n    </tr>\n    <tr>\n      <th>35</th>\n      <td>8.800000</td>\n      <td>-22.240000</td>\n      <td>201.050003</td>\n      <td>0.680270</td>\n    </tr>\n    <tr>\n      <th>36</th>\n      <td>8.800000</td>\n      <td>2.080000</td>\n      <td>201.050003</td>\n      <td>0.677087</td>\n    </tr>\n    <tr>\n      <th>37</th>\n      <td>2.080000</td>\n      <td>8.800000</td>\n      <td>201.050003</td>\n      <td>0.677228</td>\n    </tr>\n    <tr>\n      <th>38</th>\n      <td>5.440000</td>\n      <td>8.800000</td>\n      <td>201.050003</td>\n      <td>0.677986</td>\n    </tr>\n    <tr>\n      <th>39</th>\n      <td>2.080000</td>\n      <td>8.800000</td>\n      <td>201.050003</td>\n      <td>0.676161</td>\n    </tr>\n    <tr>\n      <th>40</th>\n      <td>15.520000</td>\n      <td>88.480003</td>\n      <td>201.050003</td>\n      <td>0.832270</td>\n    </tr>\n    <tr>\n      <th>41</th>\n      <td>46.560001</td>\n      <td>-108.639999</td>\n      <td>201.050003</td>\n      <td>0.802872</td>\n    </tr>\n    <tr>\n      <th>42</th>\n      <td>43.200001</td>\n      <td>-64.160004</td>\n      <td>201.050003</td>\n      <td>0.735939</td>\n    </tr>\n    <tr>\n      <th>43</th>\n      <td>36.480000</td>\n      <td>-57.439999</td>\n      <td>201.050003</td>\n      <td>0.738325</td>\n    </tr>\n    <tr>\n      <th>44</th>\n      <td>29.760000</td>\n      <td>80.959999</td>\n      <td>201.050003</td>\n      <td>0.886469</td>\n    </tr>\n    <tr>\n      <th>45</th>\n      <td>122.879997</td>\n      <td>-60.799999</td>\n      <td>201.050003</td>\n      <td>0.866539</td>\n    </tr>\n    <tr>\n      <th>46</th>\n      <td>164.000000</td>\n      <td>-223.520004</td>\n      <td>201.050003</td>\n      <td>1.455103</td>\n    </tr>\n    <tr>\n      <th>47</th>\n      <td>153.919998</td>\n      <td>-22.240000</td>\n      <td>201.050003</td>\n      <td>0.902340</td>\n    </tr>\n    <tr>\n      <th>48</th>\n      <td>188.320007</td>\n      <td>-74.239998</td>\n      <td>201.050003</td>\n      <td>0.973741</td>\n    </tr>\n  </tbody>\n</table>\n</div>"
     },
     "execution_count": 11,
     "metadata": {},
     "output_type": "execute_result"
    }
   ],
   "source": [
    "df"
   ],
   "metadata": {
    "collapsed": false
   }
  },
  {
   "cell_type": "code",
   "execution_count": 6,
   "outputs": [],
   "source": [
    "vec_1 = pd.DataFrame(np.array([i[0] for i in vectors]), columns=['x_v_1','y_v_1', 't_v_1'])"
   ],
   "metadata": {
    "collapsed": false
   }
  },
  {
   "cell_type": "code",
   "execution_count": 7,
   "outputs": [
    {
     "data": {
      "text/plain": "        x_v_1      y_v_1     t_v_1\n0 -105.870569 -27.304654  0.766708",
      "text/html": "<div>\n<style scoped>\n    .dataframe tbody tr th:only-of-type {\n        vertical-align: middle;\n    }\n\n    .dataframe tbody tr th {\n        vertical-align: top;\n    }\n\n    .dataframe thead th {\n        text-align: right;\n    }\n</style>\n<table border=\"1\" class=\"dataframe\">\n  <thead>\n    <tr style=\"text-align: right;\">\n      <th></th>\n      <th>x_v_1</th>\n      <th>y_v_1</th>\n      <th>t_v_1</th>\n    </tr>\n  </thead>\n  <tbody>\n    <tr>\n      <th>0</th>\n      <td>-105.870569</td>\n      <td>-27.304654</td>\n      <td>0.766708</td>\n    </tr>\n  </tbody>\n</table>\n</div>"
     },
     "execution_count": 7,
     "metadata": {},
     "output_type": "execute_result"
    }
   ],
   "source": [
    "vec_1"
   ],
   "metadata": {
    "collapsed": false
   }
  },
  {
   "cell_type": "code",
   "execution_count": 14,
   "outputs": [
    {
     "data": {
      "text/plain": "[Point([-105.28     ,  -29.76     ,    0.7667816], dtype=float32)]"
     },
     "execution_count": 14,
     "metadata": {},
     "output_type": "execute_result"
    }
   ],
   "source": [
    "point1"
   ],
   "metadata": {
    "collapsed": false
   }
  },
  {
   "cell_type": "code",
   "execution_count": 1,
   "outputs": [
    {
     "ename": "NameError",
     "evalue": "name 'dl' is not defined",
     "output_type": "error",
     "traceback": [
      "\u001B[0;31m---------------------------------------------------------------------------\u001B[0m",
      "\u001B[0;31mNameError\u001B[0m                                 Traceback (most recent call last)",
      "Cell \u001B[0;32mIn [1], line 1\u001B[0m\n\u001B[0;32m----> 1\u001B[0m ax \u001B[38;5;241m=\u001B[39m \u001B[43mdl\u001B[49m\u001B[38;5;241m.\u001B[39mplot_solution(df)\n\u001B[1;32m      3\u001B[0m \u001B[38;5;28;01mfor\u001B[39;00m norm, point11, point22, point33 \u001B[38;5;129;01min\u001B[39;00m \u001B[38;5;28mzip\u001B[39m(normals, point1, point2, point3):\n\u001B[1;32m      4\u001B[0m     \u001B[38;5;66;03m# print(norm, point)\u001B[39;00m\n\u001B[1;32m      5\u001B[0m     \u001B[38;5;66;03m# norm = norm / np.linalg.norm(norm)\u001B[39;00m\n\u001B[1;32m      6\u001B[0m     ax\u001B[38;5;241m.\u001B[39mplot([vec_1[\u001B[38;5;124m'\u001B[39m\u001B[38;5;124mt_v_1\u001B[39m\u001B[38;5;124m'\u001B[39m][\u001B[38;5;241m0\u001B[39m], centers[\u001B[38;5;124m'\u001B[39m\u001B[38;5;124mt_center\u001B[39m\u001B[38;5;124m'\u001B[39m][\u001B[38;5;241m0\u001B[39m]],\n\u001B[1;32m      7\u001B[0m              [ vec_1[\u001B[38;5;124m'\u001B[39m\u001B[38;5;124mx_v_1\u001B[39m\u001B[38;5;124m'\u001B[39m][\u001B[38;5;241m0\u001B[39m], centers[\u001B[38;5;124m'\u001B[39m\u001B[38;5;124mx_center\u001B[39m\u001B[38;5;124m'\u001B[39m][\u001B[38;5;241m0\u001B[39m]],\n\u001B[1;32m      8\u001B[0m              [vec_1[\u001B[38;5;124m'\u001B[39m\u001B[38;5;124mx_v_1\u001B[39m\u001B[38;5;124m'\u001B[39m][\u001B[38;5;241m0\u001B[39m], centers[\u001B[38;5;124m'\u001B[39m\u001B[38;5;124my_center\u001B[39m\u001B[38;5;124m'\u001B[39m][\u001B[38;5;241m0\u001B[39m]],\n\u001B[1;32m      9\u001B[0m              label\u001B[38;5;241m=\u001B[39m\u001B[38;5;124m'\u001B[39m\u001B[38;5;124mVec_1\u001B[39m\u001B[38;5;124m'\u001B[39m)\n",
      "\u001B[0;31mNameError\u001B[0m: name 'dl' is not defined"
     ]
    }
   ],
   "source": [
    "ax = dl.plot_solution(df)\n",
    "\n",
    "for norm, point11, point22, point33 in zip(normals, point1, point2, point3):\n",
    "    # print(norm, point)\n",
    "    # norm = norm / np.linalg.norm(norm)\n",
    "    ax.plot([vec_1['t_v_1'][0], centers['t_center'][0]],\n",
    "             [ vec_1['x_v_1'][0], centers['x_center'][0]],\n",
    "             [vec_1['x_v_1'][0], centers['y_center'][0]],\n",
    "             label='Vec_1')\n",
    "    ax.scatter3D(centers['t_center'][0], centers['x_center'][0], centers['y_center'][0], 'g.', label='Centers')\n",
    "    ax.scatter3D(point11[2], point11[0], point11[1], 'y.', label='Point1')\n",
    "    break\n",
    "\n",
    "plt.legend()\n",
    "plt.show()\n",
    "# plt.savefig(\"tmp/exampl.png\")"
   ],
   "metadata": {
    "collapsed": false
   }
  },
  {
   "cell_type": "code",
   "execution_count": 8,
   "outputs": [],
   "source": [
    "x = np.array([0.00000, 45.77594, -0.00000, -5.24599, 5.89959])\n",
    "y = np.array([0.00000, 0.00000, 55.82716, 43.18748, 69.42272])"
   ],
   "metadata": {
    "collapsed": false
   }
  },
  {
   "cell_type": "code",
   "execution_count": 9,
   "outputs": [
    {
     "ename": "LinAlgError",
     "evalue": "Singular matrix",
     "output_type": "error",
     "traceback": [
      "\u001B[0;31m---------------------------------------------------------------------------\u001B[0m",
      "\u001B[0;31mLinAlgError\u001B[0m                               Traceback (most recent call last)",
      "Cell \u001B[0;32mIn [9], line 2\u001B[0m\n\u001B[1;32m      1\u001B[0m \u001B[38;5;28;01mfrom\u001B[39;00m \u001B[38;5;21;01msrc\u001B[39;00m\u001B[38;5;21;01m.\u001B[39;00m\u001B[38;5;21;01mutils\u001B[39;00m\u001B[38;5;21;01m.\u001B[39;00m\u001B[38;5;21;01mgeometry\u001B[39;00m \u001B[38;5;28;01mimport\u001B[39;00m get_ellipse_from_points\n\u001B[0;32m----> 2\u001B[0m centr, params, vectors \u001B[38;5;241m=\u001B[39m \u001B[43mget_ellipse_from_points\u001B[49m\u001B[43m(\u001B[49m\u001B[43mx\u001B[49m\u001B[43m,\u001B[49m\u001B[43m \u001B[49m\u001B[43my\u001B[49m\u001B[43m)\u001B[49m\n",
      "File \u001B[0;32m~/projects/NSU/Farich/src/utils/geometry/ellipse.py:14\u001B[0m, in \u001B[0;36mget_ellipse_from_points\u001B[0;34m(x, y)\u001B[0m\n\u001B[1;32m     13\u001B[0m \u001B[38;5;28;01mdef\u001B[39;00m \u001B[38;5;21mget_ellipse_from_points\u001B[39m(x, y):\n\u001B[0;32m---> 14\u001B[0m     A, B, C, D, E \u001B[38;5;241m=\u001B[39m \u001B[43mfit_ellipse_v2\u001B[49m\u001B[43m(\u001B[49m\u001B[43mx\u001B[49m\u001B[43m,\u001B[49m\u001B[43m \u001B[49m\u001B[43my\u001B[49m\u001B[43m)\u001B[49m\n\u001B[1;32m     15\u001B[0m     \u001B[38;5;28;01mif\u001B[39;00m B \u001B[38;5;241m*\u001B[39m\u001B[38;5;241m*\u001B[39m \u001B[38;5;241m2\u001B[39m \u001B[38;5;241m-\u001B[39m \u001B[38;5;241m4\u001B[39m \u001B[38;5;241m*\u001B[39m A \u001B[38;5;241m*\u001B[39m C \u001B[38;5;241m>\u001B[39m\u001B[38;5;241m=\u001B[39m \u001B[38;5;241m0\u001B[39m:\n\u001B[1;32m     16\u001B[0m         \u001B[38;5;28;01mraise\u001B[39;00m \u001B[38;5;167;01mValueError\u001B[39;00m(\u001B[38;5;124m\"\u001B[39m\u001B[38;5;124mNot elipse\u001B[39m\u001B[38;5;124m\"\u001B[39m)\n",
      "File \u001B[0;32m~/projects/NSU/Farich/src/utils/geometry/ellipse.py:8\u001B[0m, in \u001B[0;36mfit_ellipse_v2\u001B[0;34m(x, y)\u001B[0m\n\u001B[1;32m      6\u001B[0m C \u001B[38;5;241m=\u001B[39m np\u001B[38;5;241m.\u001B[39mones_like(x)\n\u001B[1;32m      7\u001B[0m \u001B[38;5;28;01mif\u001B[39;00m \u001B[38;5;28mlen\u001B[39m(x) \u001B[38;5;241m==\u001B[39m \u001B[38;5;241m5\u001B[39m:\n\u001B[0;32m----> 8\u001B[0m     \u001B[38;5;28;01mreturn\u001B[39;00m \u001B[43mnp\u001B[49m\u001B[38;5;241;43m.\u001B[39;49m\u001B[43mlinalg\u001B[49m\u001B[38;5;241;43m.\u001B[39;49m\u001B[43minv\u001B[49m\u001B[43m(\u001B[49m\u001B[43mD\u001B[49m\u001B[43m)\u001B[49m\u001B[38;5;241m.\u001B[39mdot(C)\n\u001B[1;32m      9\u001B[0m \u001B[38;5;28;01mreturn\u001B[39;00m np\u001B[38;5;241m.\u001B[39mlinalg\u001B[38;5;241m.\u001B[39minv(D\u001B[38;5;241m.\u001B[39mT\u001B[38;5;241m.\u001B[39mdot(D))\u001B[38;5;241m.\u001B[39mdot(D\u001B[38;5;241m.\u001B[39mT)\u001B[38;5;241m.\u001B[39mdot(\n\u001B[1;32m     10\u001B[0m     C)\n",
      "File \u001B[0;32m<__array_function__ internals>:180\u001B[0m, in \u001B[0;36minv\u001B[0;34m(*args, **kwargs)\u001B[0m\n",
      "File \u001B[0;32m~/projects/NSU/Farich/.venv/lib/python3.8/site-packages/numpy/linalg/linalg.py:552\u001B[0m, in \u001B[0;36minv\u001B[0;34m(a)\u001B[0m\n\u001B[1;32m    550\u001B[0m signature \u001B[38;5;241m=\u001B[39m \u001B[38;5;124m'\u001B[39m\u001B[38;5;124mD->D\u001B[39m\u001B[38;5;124m'\u001B[39m \u001B[38;5;28;01mif\u001B[39;00m isComplexType(t) \u001B[38;5;28;01melse\u001B[39;00m \u001B[38;5;124m'\u001B[39m\u001B[38;5;124md->d\u001B[39m\u001B[38;5;124m'\u001B[39m\n\u001B[1;32m    551\u001B[0m extobj \u001B[38;5;241m=\u001B[39m get_linalg_error_extobj(_raise_linalgerror_singular)\n\u001B[0;32m--> 552\u001B[0m ainv \u001B[38;5;241m=\u001B[39m \u001B[43m_umath_linalg\u001B[49m\u001B[38;5;241;43m.\u001B[39;49m\u001B[43minv\u001B[49m\u001B[43m(\u001B[49m\u001B[43ma\u001B[49m\u001B[43m,\u001B[49m\u001B[43m \u001B[49m\u001B[43msignature\u001B[49m\u001B[38;5;241;43m=\u001B[39;49m\u001B[43msignature\u001B[49m\u001B[43m,\u001B[49m\u001B[43m \u001B[49m\u001B[43mextobj\u001B[49m\u001B[38;5;241;43m=\u001B[39;49m\u001B[43mextobj\u001B[49m\u001B[43m)\u001B[49m\n\u001B[1;32m    553\u001B[0m \u001B[38;5;28;01mreturn\u001B[39;00m wrap(ainv\u001B[38;5;241m.\u001B[39mastype(result_t, copy\u001B[38;5;241m=\u001B[39m\u001B[38;5;28;01mFalse\u001B[39;00m))\n",
      "File \u001B[0;32m~/projects/NSU/Farich/.venv/lib/python3.8/site-packages/numpy/linalg/linalg.py:89\u001B[0m, in \u001B[0;36m_raise_linalgerror_singular\u001B[0;34m(err, flag)\u001B[0m\n\u001B[1;32m     88\u001B[0m \u001B[38;5;28;01mdef\u001B[39;00m \u001B[38;5;21m_raise_linalgerror_singular\u001B[39m(err, flag):\n\u001B[0;32m---> 89\u001B[0m     \u001B[38;5;28;01mraise\u001B[39;00m LinAlgError(\u001B[38;5;124m\"\u001B[39m\u001B[38;5;124mSingular matrix\u001B[39m\u001B[38;5;124m\"\u001B[39m)\n",
      "\u001B[0;31mLinAlgError\u001B[0m: Singular matrix"
     ]
    }
   ],
   "source": [
    "from src.utils.geometry import get_ellipse_from_points\n",
    "centr, params, vectors = get_ellipse_from_points(x, y)"
   ],
   "metadata": {
    "collapsed": false
   }
  },
  {
   "cell_type": "code",
   "execution_count": 10,
   "outputs": [],
   "source": [
    "D = np.column_stack((x ** 2, x * y, y ** 2, x, y))"
   ],
   "metadata": {
    "collapsed": false
   }
  },
  {
   "cell_type": "code",
   "execution_count": 11,
   "outputs": [
    {
     "data": {
      "text/plain": "array([[   0.        ,    0.        ,    0.        ,    0.        ,\n           0.        ],\n       [2095.43668288,    0.        ,    0.        ,   45.77594   ,\n           0.        ],\n       [   0.        ,   -0.        , 3116.67179367,   -0.        ,\n          55.82716   ],\n       [  27.52041108, -226.56108821, 1865.15842875,   -5.24599   ,\n          43.18748   ],\n       [  34.80516217,  409.56558468, 4819.5140522 ,    5.89959   ,\n          69.42272   ]])"
     },
     "execution_count": 11,
     "metadata": {},
     "output_type": "execute_result"
    }
   ],
   "source": [
    "D"
   ],
   "metadata": {
    "collapsed": false
   }
  },
  {
   "cell_type": "code",
   "execution_count": null,
   "outputs": [],
   "source": [],
   "metadata": {
    "collapsed": false
   }
  }
 ],
 "metadata": {
  "kernelspec": {
   "display_name": "Python 3",
   "language": "python",
   "name": "python3"
  },
  "language_info": {
   "codemirror_mode": {
    "name": "ipython",
    "version": 2
   },
   "file_extension": ".py",
   "mimetype": "text/x-python",
   "name": "python",
   "nbconvert_exporter": "python",
   "pygments_lexer": "ipython2",
   "version": "2.7.6"
  }
 },
 "nbformat": 4,
 "nbformat_minor": 0
}
