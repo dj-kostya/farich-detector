{
 "cells": [
  {
   "cell_type": "code",
   "execution_count": 1,
   "metadata": {
    "collapsed": true,
    "ExecuteTime": {
     "start_time": "2023-04-03T23:28:02.407281Z",
     "end_time": "2023-04-03T23:28:06.420175Z"
    }
   },
   "outputs": [],
   "source": [
    "%load_ext autoreload\n",
    "%autoreload 2\n",
    "import sys\n",
    "\n",
    "sys.path.append(\"../\")\n",
    "from pathlib import Path\n",
    "import numpy as np\n",
    "import pandas as pd\n",
    "from tqdm import tqdm\n",
    "from matplotlib import pyplot as plt\n",
    "from src.dataloaders import PointOnlyDataloader, NoiseDataLoader, IDataloader\n",
    "from src.solutions import EllipseDataFitting\n",
    "\n",
    "dataset_dir = Path('../dataset')\n",
    "root_file = \"farichsim_pi-pi-_45-360deg_1200.0k_ideal_2020-12-24_rndm.root\"\n",
    "root_path = dataset_dir / root_file"
   ]
  },
  {
   "cell_type": "code",
   "execution_count": 3,
   "outputs": [],
   "source": [
    "df = pd.read_csv(dataset_dir / 'dataset_100_with_noise_2e5.csv')"
   ],
   "metadata": {
    "collapsed": false
   }
  },
  {
   "cell_type": "code",
   "execution_count": 32,
   "outputs": [],
   "source": [
    "df1 = df[(df.signal == True) & (df.entry==0) & (df.t_c <= 5)]"
   ],
   "metadata": {
    "collapsed": false
   }
  },
  {
   "cell_type": "code",
   "execution_count": 33,
   "outputs": [
    {
     "name": "stderr",
     "output_type": "stream",
     "text": [
      "/var/folders/2h/pvzr32ss6hd_92k0r59f4k940000gn/T/ipykernel_24513/1072711774.py:1: SettingWithCopyWarning: \n",
      "A value is trying to be set on a copy of a slice from a DataFrame.\n",
      "Try using .loc[row_indexer,col_indexer] = value instead\n",
      "\n",
      "See the caveats in the documentation: https://pandas.pydata.org/pandas-docs/stable/user_guide/indexing.html#returning-a-view-versus-a-copy\n",
      "  df1['x_c'] = df1['x_c'] / 50\n",
      "/var/folders/2h/pvzr32ss6hd_92k0r59f4k940000gn/T/ipykernel_24513/1072711774.py:2: SettingWithCopyWarning: \n",
      "A value is trying to be set on a copy of a slice from a DataFrame.\n",
      "Try using .loc[row_indexer,col_indexer] = value instead\n",
      "\n",
      "See the caveats in the documentation: https://pandas.pydata.org/pandas-docs/stable/user_guide/indexing.html#returning-a-view-versus-a-copy\n",
      "  df1['y_c'] = df1['y_c'] / 50\n"
     ]
    }
   ],
   "source": [
    "df1['x_c'] = df1['x_c'] / 50\n",
    "df1['y_c'] = df1['y_c'] / 50"
   ],
   "metadata": {
    "collapsed": false
   }
  },
  {
   "cell_type": "code",
   "execution_count": 34,
   "outputs": [
    {
     "name": "stderr",
     "output_type": "stream",
     "text": [
      "/var/folders/2h/pvzr32ss6hd_92k0r59f4k940000gn/T/ipykernel_24513/573526562.py:1: SettingWithCopyWarning: \n",
      "A value is trying to be set on a copy of a slice from a DataFrame.\n",
      "Try using .loc[row_indexer,col_indexer] = value instead\n",
      "\n",
      "See the caveats in the documentation: https://pandas.pydata.org/pandas-docs/stable/user_guide/indexing.html#returning-a-view-versus-a-copy\n",
      "  df1['point'] = df1.apply(lambda x: np.array([x.x_c, x.y_c, x.t_c]), axis=1)\n"
     ]
    }
   ],
   "source": [
    "df1['point'] = df1.apply(lambda x: np.array([x.x_c, x.y_c, x.t_c]), axis=1)"
   ],
   "metadata": {
    "collapsed": false
   }
  },
  {
   "cell_type": "code",
   "execution_count": 35,
   "outputs": [
    {
     "data": {
      "text/plain": "    entry  subentry   x_c   y_c     z_c       t_c  signal  \\\n0       0         0  2.00  1.10  201.05  2.164233       1   \n1       0         1  2.10  0.62  201.05  2.372049       1   \n2       0         2  2.20  0.64  201.05  2.357888       1   \n3       0         3  2.12  1.34  201.05  2.049059       1   \n4       0         4  2.34  0.74  201.05  2.302570       1   \n5       0         5  2.34  0.66  201.05  2.340455       1   \n6       0         6  2.38  1.02  201.05  2.178033       1   \n7       0         7  2.40  1.42  201.05  2.000937       1   \n8       0         8  2.28  1.48  201.05  1.986993       1   \n9       0         9  2.42  0.74  201.05  2.300983       1   \n10      0        10  2.52  1.20  201.05  2.094247       1   \n11      0        11  2.56  1.18  201.05  2.106670       1   \n12      0        12  2.50  1.34  201.05  2.036218       1   \n13      0        13  2.46  1.44  201.05  1.995131       1   \n14      0        14  2.66  1.94  201.05  1.981144       1   \n15      0        15  3.02  3.34  201.05  2.500193       1   \n16      0        16  2.90  4.62  201.05  3.104372       1   \n17      0        17  3.62  1.66  201.05  2.246440       1   \n\n                               point  \n0     [2.0, 1.1, 2.1642333532752525]  \n1    [2.1, 0.62, 2.3720485235633384]  \n2     [2.2, 0.64, 2.357888486522628]  \n3   [2.12, 1.34, 2.0490589405478965]  \n4    [2.34, 0.74, 2.302569534915877]  \n5   [2.34, 0.66, 2.3404554392280112]  \n6   [2.38, 1.02, 2.1780326630057822]  \n7    [2.4, 1.42, 2.0009372497977744]  \n8   [2.28, 1.48, 1.9869928027572168]  \n9    [2.42, 0.74, 2.300982620853377]  \n10   [2.52, 1.2, 2.0942472483100425]  \n11   [2.56, 1.18, 2.106670107978774]  \n12    [2.5, 1.34, 2.036218431133224]  \n13   [2.46, 1.44, 1.995131340164138]  \n14  [2.66, 1.94, 1.9811443354072105]  \n15  [3.02, 3.34, 2.5001926685752403]  \n16    [2.9, 4.62, 3.104372170108749]  \n17   [3.62, 1.66, 2.246439840930892]  ",
      "text/html": "<div>\n<style scoped>\n    .dataframe tbody tr th:only-of-type {\n        vertical-align: middle;\n    }\n\n    .dataframe tbody tr th {\n        vertical-align: top;\n    }\n\n    .dataframe thead th {\n        text-align: right;\n    }\n</style>\n<table border=\"1\" class=\"dataframe\">\n  <thead>\n    <tr style=\"text-align: right;\">\n      <th></th>\n      <th>entry</th>\n      <th>subentry</th>\n      <th>x_c</th>\n      <th>y_c</th>\n      <th>z_c</th>\n      <th>t_c</th>\n      <th>signal</th>\n      <th>point</th>\n    </tr>\n  </thead>\n  <tbody>\n    <tr>\n      <th>0</th>\n      <td>0</td>\n      <td>0</td>\n      <td>2.00</td>\n      <td>1.10</td>\n      <td>201.05</td>\n      <td>2.164233</td>\n      <td>1</td>\n      <td>[2.0, 1.1, 2.1642333532752525]</td>\n    </tr>\n    <tr>\n      <th>1</th>\n      <td>0</td>\n      <td>1</td>\n      <td>2.10</td>\n      <td>0.62</td>\n      <td>201.05</td>\n      <td>2.372049</td>\n      <td>1</td>\n      <td>[2.1, 0.62, 2.3720485235633384]</td>\n    </tr>\n    <tr>\n      <th>2</th>\n      <td>0</td>\n      <td>2</td>\n      <td>2.20</td>\n      <td>0.64</td>\n      <td>201.05</td>\n      <td>2.357888</td>\n      <td>1</td>\n      <td>[2.2, 0.64, 2.357888486522628]</td>\n    </tr>\n    <tr>\n      <th>3</th>\n      <td>0</td>\n      <td>3</td>\n      <td>2.12</td>\n      <td>1.34</td>\n      <td>201.05</td>\n      <td>2.049059</td>\n      <td>1</td>\n      <td>[2.12, 1.34, 2.0490589405478965]</td>\n    </tr>\n    <tr>\n      <th>4</th>\n      <td>0</td>\n      <td>4</td>\n      <td>2.34</td>\n      <td>0.74</td>\n      <td>201.05</td>\n      <td>2.302570</td>\n      <td>1</td>\n      <td>[2.34, 0.74, 2.302569534915877]</td>\n    </tr>\n    <tr>\n      <th>5</th>\n      <td>0</td>\n      <td>5</td>\n      <td>2.34</td>\n      <td>0.66</td>\n      <td>201.05</td>\n      <td>2.340455</td>\n      <td>1</td>\n      <td>[2.34, 0.66, 2.3404554392280112]</td>\n    </tr>\n    <tr>\n      <th>6</th>\n      <td>0</td>\n      <td>6</td>\n      <td>2.38</td>\n      <td>1.02</td>\n      <td>201.05</td>\n      <td>2.178033</td>\n      <td>1</td>\n      <td>[2.38, 1.02, 2.1780326630057822]</td>\n    </tr>\n    <tr>\n      <th>7</th>\n      <td>0</td>\n      <td>7</td>\n      <td>2.40</td>\n      <td>1.42</td>\n      <td>201.05</td>\n      <td>2.000937</td>\n      <td>1</td>\n      <td>[2.4, 1.42, 2.0009372497977744]</td>\n    </tr>\n    <tr>\n      <th>8</th>\n      <td>0</td>\n      <td>8</td>\n      <td>2.28</td>\n      <td>1.48</td>\n      <td>201.05</td>\n      <td>1.986993</td>\n      <td>1</td>\n      <td>[2.28, 1.48, 1.9869928027572168]</td>\n    </tr>\n    <tr>\n      <th>9</th>\n      <td>0</td>\n      <td>9</td>\n      <td>2.42</td>\n      <td>0.74</td>\n      <td>201.05</td>\n      <td>2.300983</td>\n      <td>1</td>\n      <td>[2.42, 0.74, 2.300982620853377]</td>\n    </tr>\n    <tr>\n      <th>10</th>\n      <td>0</td>\n      <td>10</td>\n      <td>2.52</td>\n      <td>1.20</td>\n      <td>201.05</td>\n      <td>2.094247</td>\n      <td>1</td>\n      <td>[2.52, 1.2, 2.0942472483100425]</td>\n    </tr>\n    <tr>\n      <th>11</th>\n      <td>0</td>\n      <td>11</td>\n      <td>2.56</td>\n      <td>1.18</td>\n      <td>201.05</td>\n      <td>2.106670</td>\n      <td>1</td>\n      <td>[2.56, 1.18, 2.106670107978774]</td>\n    </tr>\n    <tr>\n      <th>12</th>\n      <td>0</td>\n      <td>12</td>\n      <td>2.50</td>\n      <td>1.34</td>\n      <td>201.05</td>\n      <td>2.036218</td>\n      <td>1</td>\n      <td>[2.5, 1.34, 2.036218431133224]</td>\n    </tr>\n    <tr>\n      <th>13</th>\n      <td>0</td>\n      <td>13</td>\n      <td>2.46</td>\n      <td>1.44</td>\n      <td>201.05</td>\n      <td>1.995131</td>\n      <td>1</td>\n      <td>[2.46, 1.44, 1.995131340164138]</td>\n    </tr>\n    <tr>\n      <th>14</th>\n      <td>0</td>\n      <td>14</td>\n      <td>2.66</td>\n      <td>1.94</td>\n      <td>201.05</td>\n      <td>1.981144</td>\n      <td>1</td>\n      <td>[2.66, 1.94, 1.9811443354072105]</td>\n    </tr>\n    <tr>\n      <th>15</th>\n      <td>0</td>\n      <td>15</td>\n      <td>3.02</td>\n      <td>3.34</td>\n      <td>201.05</td>\n      <td>2.500193</td>\n      <td>1</td>\n      <td>[3.02, 3.34, 2.5001926685752403]</td>\n    </tr>\n    <tr>\n      <th>16</th>\n      <td>0</td>\n      <td>16</td>\n      <td>2.90</td>\n      <td>4.62</td>\n      <td>201.05</td>\n      <td>3.104372</td>\n      <td>1</td>\n      <td>[2.9, 4.62, 3.104372170108749]</td>\n    </tr>\n    <tr>\n      <th>17</th>\n      <td>0</td>\n      <td>17</td>\n      <td>3.62</td>\n      <td>1.66</td>\n      <td>201.05</td>\n      <td>2.246440</td>\n      <td>1</td>\n      <td>[3.62, 1.66, 2.246439840930892]</td>\n    </tr>\n  </tbody>\n</table>\n</div>"
     },
     "execution_count": 35,
     "metadata": {},
     "output_type": "execute_result"
    }
   ],
   "source": [
    "df1"
   ],
   "metadata": {
    "collapsed": false
   }
  },
  {
   "cell_type": "code",
   "execution_count": 36,
   "outputs": [],
   "source": [
    "df2= df1.merge(df1, on='entry', how='outer')"
   ],
   "metadata": {
    "collapsed": false
   }
  },
  {
   "cell_type": "code",
   "execution_count": 37,
   "outputs": [],
   "source": [
    "df2['distance'] = df2.apply(lambda x: np.linalg.norm(x.point_x-x.point_y), axis=1)"
   ],
   "metadata": {
    "collapsed": false
   }
  },
  {
   "cell_type": "code",
   "execution_count": 38,
   "outputs": [
    {
     "data": {
      "text/plain": "     entry  subentry_x  x_c_x  y_c_x   z_c_x     t_c_x  signal_x  \\\n0        0           0   2.00   1.10  201.05  2.164233         1   \n1        0           0   2.00   1.10  201.05  2.164233         1   \n2        0           0   2.00   1.10  201.05  2.164233         1   \n3        0           0   2.00   1.10  201.05  2.164233         1   \n4        0           0   2.00   1.10  201.05  2.164233         1   \n..     ...         ...    ...    ...     ...       ...       ...   \n319      0          17   3.62   1.66  201.05  2.246440         1   \n320      0          17   3.62   1.66  201.05  2.246440         1   \n321      0          17   3.62   1.66  201.05  2.246440         1   \n322      0          17   3.62   1.66  201.05  2.246440         1   \n323      0          17   3.62   1.66  201.05  2.246440         1   \n\n                             point_x  subentry_y  x_c_y  y_c_y   z_c_y  \\\n0     [2.0, 1.1, 2.1642333532752525]           0   2.00   1.10  201.05   \n1     [2.0, 1.1, 2.1642333532752525]           1   2.10   0.62  201.05   \n2     [2.0, 1.1, 2.1642333532752525]           2   2.20   0.64  201.05   \n3     [2.0, 1.1, 2.1642333532752525]           3   2.12   1.34  201.05   \n4     [2.0, 1.1, 2.1642333532752525]           4   2.34   0.74  201.05   \n..                               ...         ...    ...    ...     ...   \n319  [3.62, 1.66, 2.246439840930892]          13   2.46   1.44  201.05   \n320  [3.62, 1.66, 2.246439840930892]          14   2.66   1.94  201.05   \n321  [3.62, 1.66, 2.246439840930892]          15   3.02   3.34  201.05   \n322  [3.62, 1.66, 2.246439840930892]          16   2.90   4.62  201.05   \n323  [3.62, 1.66, 2.246439840930892]          17   3.62   1.66  201.05   \n\n        t_c_y  signal_y                           point_y  distance  \n0    2.164233         1    [2.0, 1.1, 2.1642333532752525]  0.000000  \n1    2.372049         1   [2.1, 0.62, 2.3720485235633384]  0.532529  \n2    2.357888         1    [2.2, 0.64, 2.357888486522628]  0.537682  \n3    2.049059         1  [2.12, 1.34, 2.0490589405478965]  0.292002  \n4    2.302570         1   [2.34, 0.74, 2.302569534915877]  0.514137  \n..        ...       ...                               ...       ...  \n319  1.995131         1   [2.46, 1.44, 1.995131340164138]  1.207127  \n320  1.981144         1  [2.66, 1.94, 1.9811443354072105]  1.034593  \n321  2.500193         1  [3.02, 3.34, 2.5001926685752403]  1.801885  \n322  3.104372         1    [2.9, 4.62, 3.104372170108749]  3.164814  \n323  2.246440         1   [3.62, 1.66, 2.246439840930892]  0.000000  \n\n[324 rows x 16 columns]",
      "text/html": "<div>\n<style scoped>\n    .dataframe tbody tr th:only-of-type {\n        vertical-align: middle;\n    }\n\n    .dataframe tbody tr th {\n        vertical-align: top;\n    }\n\n    .dataframe thead th {\n        text-align: right;\n    }\n</style>\n<table border=\"1\" class=\"dataframe\">\n  <thead>\n    <tr style=\"text-align: right;\">\n      <th></th>\n      <th>entry</th>\n      <th>subentry_x</th>\n      <th>x_c_x</th>\n      <th>y_c_x</th>\n      <th>z_c_x</th>\n      <th>t_c_x</th>\n      <th>signal_x</th>\n      <th>point_x</th>\n      <th>subentry_y</th>\n      <th>x_c_y</th>\n      <th>y_c_y</th>\n      <th>z_c_y</th>\n      <th>t_c_y</th>\n      <th>signal_y</th>\n      <th>point_y</th>\n      <th>distance</th>\n    </tr>\n  </thead>\n  <tbody>\n    <tr>\n      <th>0</th>\n      <td>0</td>\n      <td>0</td>\n      <td>2.00</td>\n      <td>1.10</td>\n      <td>201.05</td>\n      <td>2.164233</td>\n      <td>1</td>\n      <td>[2.0, 1.1, 2.1642333532752525]</td>\n      <td>0</td>\n      <td>2.00</td>\n      <td>1.10</td>\n      <td>201.05</td>\n      <td>2.164233</td>\n      <td>1</td>\n      <td>[2.0, 1.1, 2.1642333532752525]</td>\n      <td>0.000000</td>\n    </tr>\n    <tr>\n      <th>1</th>\n      <td>0</td>\n      <td>0</td>\n      <td>2.00</td>\n      <td>1.10</td>\n      <td>201.05</td>\n      <td>2.164233</td>\n      <td>1</td>\n      <td>[2.0, 1.1, 2.1642333532752525]</td>\n      <td>1</td>\n      <td>2.10</td>\n      <td>0.62</td>\n      <td>201.05</td>\n      <td>2.372049</td>\n      <td>1</td>\n      <td>[2.1, 0.62, 2.3720485235633384]</td>\n      <td>0.532529</td>\n    </tr>\n    <tr>\n      <th>2</th>\n      <td>0</td>\n      <td>0</td>\n      <td>2.00</td>\n      <td>1.10</td>\n      <td>201.05</td>\n      <td>2.164233</td>\n      <td>1</td>\n      <td>[2.0, 1.1, 2.1642333532752525]</td>\n      <td>2</td>\n      <td>2.20</td>\n      <td>0.64</td>\n      <td>201.05</td>\n      <td>2.357888</td>\n      <td>1</td>\n      <td>[2.2, 0.64, 2.357888486522628]</td>\n      <td>0.537682</td>\n    </tr>\n    <tr>\n      <th>3</th>\n      <td>0</td>\n      <td>0</td>\n      <td>2.00</td>\n      <td>1.10</td>\n      <td>201.05</td>\n      <td>2.164233</td>\n      <td>1</td>\n      <td>[2.0, 1.1, 2.1642333532752525]</td>\n      <td>3</td>\n      <td>2.12</td>\n      <td>1.34</td>\n      <td>201.05</td>\n      <td>2.049059</td>\n      <td>1</td>\n      <td>[2.12, 1.34, 2.0490589405478965]</td>\n      <td>0.292002</td>\n    </tr>\n    <tr>\n      <th>4</th>\n      <td>0</td>\n      <td>0</td>\n      <td>2.00</td>\n      <td>1.10</td>\n      <td>201.05</td>\n      <td>2.164233</td>\n      <td>1</td>\n      <td>[2.0, 1.1, 2.1642333532752525]</td>\n      <td>4</td>\n      <td>2.34</td>\n      <td>0.74</td>\n      <td>201.05</td>\n      <td>2.302570</td>\n      <td>1</td>\n      <td>[2.34, 0.74, 2.302569534915877]</td>\n      <td>0.514137</td>\n    </tr>\n    <tr>\n      <th>...</th>\n      <td>...</td>\n      <td>...</td>\n      <td>...</td>\n      <td>...</td>\n      <td>...</td>\n      <td>...</td>\n      <td>...</td>\n      <td>...</td>\n      <td>...</td>\n      <td>...</td>\n      <td>...</td>\n      <td>...</td>\n      <td>...</td>\n      <td>...</td>\n      <td>...</td>\n      <td>...</td>\n    </tr>\n    <tr>\n      <th>319</th>\n      <td>0</td>\n      <td>17</td>\n      <td>3.62</td>\n      <td>1.66</td>\n      <td>201.05</td>\n      <td>2.246440</td>\n      <td>1</td>\n      <td>[3.62, 1.66, 2.246439840930892]</td>\n      <td>13</td>\n      <td>2.46</td>\n      <td>1.44</td>\n      <td>201.05</td>\n      <td>1.995131</td>\n      <td>1</td>\n      <td>[2.46, 1.44, 1.995131340164138]</td>\n      <td>1.207127</td>\n    </tr>\n    <tr>\n      <th>320</th>\n      <td>0</td>\n      <td>17</td>\n      <td>3.62</td>\n      <td>1.66</td>\n      <td>201.05</td>\n      <td>2.246440</td>\n      <td>1</td>\n      <td>[3.62, 1.66, 2.246439840930892]</td>\n      <td>14</td>\n      <td>2.66</td>\n      <td>1.94</td>\n      <td>201.05</td>\n      <td>1.981144</td>\n      <td>1</td>\n      <td>[2.66, 1.94, 1.9811443354072105]</td>\n      <td>1.034593</td>\n    </tr>\n    <tr>\n      <th>321</th>\n      <td>0</td>\n      <td>17</td>\n      <td>3.62</td>\n      <td>1.66</td>\n      <td>201.05</td>\n      <td>2.246440</td>\n      <td>1</td>\n      <td>[3.62, 1.66, 2.246439840930892]</td>\n      <td>15</td>\n      <td>3.02</td>\n      <td>3.34</td>\n      <td>201.05</td>\n      <td>2.500193</td>\n      <td>1</td>\n      <td>[3.02, 3.34, 2.5001926685752403]</td>\n      <td>1.801885</td>\n    </tr>\n    <tr>\n      <th>322</th>\n      <td>0</td>\n      <td>17</td>\n      <td>3.62</td>\n      <td>1.66</td>\n      <td>201.05</td>\n      <td>2.246440</td>\n      <td>1</td>\n      <td>[3.62, 1.66, 2.246439840930892]</td>\n      <td>16</td>\n      <td>2.90</td>\n      <td>4.62</td>\n      <td>201.05</td>\n      <td>3.104372</td>\n      <td>1</td>\n      <td>[2.9, 4.62, 3.104372170108749]</td>\n      <td>3.164814</td>\n    </tr>\n    <tr>\n      <th>323</th>\n      <td>0</td>\n      <td>17</td>\n      <td>3.62</td>\n      <td>1.66</td>\n      <td>201.05</td>\n      <td>2.246440</td>\n      <td>1</td>\n      <td>[3.62, 1.66, 2.246439840930892]</td>\n      <td>17</td>\n      <td>3.62</td>\n      <td>1.66</td>\n      <td>201.05</td>\n      <td>2.246440</td>\n      <td>1</td>\n      <td>[3.62, 1.66, 2.246439840930892]</td>\n      <td>0.000000</td>\n    </tr>\n  </tbody>\n</table>\n<p>324 rows × 16 columns</p>\n</div>"
     },
     "execution_count": 38,
     "metadata": {},
     "output_type": "execute_result"
    }
   ],
   "source": [
    "df2"
   ],
   "metadata": {
    "collapsed": false
   }
  },
  {
   "cell_type": "code",
   "execution_count": 39,
   "outputs": [],
   "source": [
    "df2.to_csv('res.csv')"
   ],
   "metadata": {
    "collapsed": false
   }
  },
  {
   "cell_type": "code",
   "execution_count": 9,
   "outputs": [
    {
     "data": {
      "text/plain": "    entry  subentry  x_c  y_c     z_c       t_c  signal\n0       0         0  100   55  201.05  2.164233       1\n1       0         1  105   31  201.05  2.372049       1\n2       0         2  110   32  201.05  2.357888       1\n3       0         3  106   67  201.05  2.049059       1\n4       0         4  117   37  201.05  2.302570       1\n5       0         5  117   33  201.05  2.340455       1\n6       0         6  119   51  201.05  2.178033       1\n7       0         7  120   71  201.05  2.000937       1\n8       0         8  114   74  201.05  1.986993       1\n9       0         9  121   37  201.05  2.300983       1\n10      0        10  126   60  201.05  2.094247       1\n11      0        11  128   59  201.05  2.106670       1\n12      0        12  125   67  201.05  2.036218       1\n13      0        13  123   72  201.05  1.995131       1\n14      0        14  133   97  201.05  1.981144       1\n15      0        15  151  167  201.05  2.500193       1\n16      0        16  145  231  201.05  3.104372       1\n17      0        17  181   83  201.05  2.246440       1",
      "text/html": "<div>\n<style scoped>\n    .dataframe tbody tr th:only-of-type {\n        vertical-align: middle;\n    }\n\n    .dataframe tbody tr th {\n        vertical-align: top;\n    }\n\n    .dataframe thead th {\n        text-align: right;\n    }\n</style>\n<table border=\"1\" class=\"dataframe\">\n  <thead>\n    <tr style=\"text-align: right;\">\n      <th></th>\n      <th>entry</th>\n      <th>subentry</th>\n      <th>x_c</th>\n      <th>y_c</th>\n      <th>z_c</th>\n      <th>t_c</th>\n      <th>signal</th>\n    </tr>\n  </thead>\n  <tbody>\n    <tr>\n      <th>0</th>\n      <td>0</td>\n      <td>0</td>\n      <td>100</td>\n      <td>55</td>\n      <td>201.05</td>\n      <td>2.164233</td>\n      <td>1</td>\n    </tr>\n    <tr>\n      <th>1</th>\n      <td>0</td>\n      <td>1</td>\n      <td>105</td>\n      <td>31</td>\n      <td>201.05</td>\n      <td>2.372049</td>\n      <td>1</td>\n    </tr>\n    <tr>\n      <th>2</th>\n      <td>0</td>\n      <td>2</td>\n      <td>110</td>\n      <td>32</td>\n      <td>201.05</td>\n      <td>2.357888</td>\n      <td>1</td>\n    </tr>\n    <tr>\n      <th>3</th>\n      <td>0</td>\n      <td>3</td>\n      <td>106</td>\n      <td>67</td>\n      <td>201.05</td>\n      <td>2.049059</td>\n      <td>1</td>\n    </tr>\n    <tr>\n      <th>4</th>\n      <td>0</td>\n      <td>4</td>\n      <td>117</td>\n      <td>37</td>\n      <td>201.05</td>\n      <td>2.302570</td>\n      <td>1</td>\n    </tr>\n    <tr>\n      <th>5</th>\n      <td>0</td>\n      <td>5</td>\n      <td>117</td>\n      <td>33</td>\n      <td>201.05</td>\n      <td>2.340455</td>\n      <td>1</td>\n    </tr>\n    <tr>\n      <th>6</th>\n      <td>0</td>\n      <td>6</td>\n      <td>119</td>\n      <td>51</td>\n      <td>201.05</td>\n      <td>2.178033</td>\n      <td>1</td>\n    </tr>\n    <tr>\n      <th>7</th>\n      <td>0</td>\n      <td>7</td>\n      <td>120</td>\n      <td>71</td>\n      <td>201.05</td>\n      <td>2.000937</td>\n      <td>1</td>\n    </tr>\n    <tr>\n      <th>8</th>\n      <td>0</td>\n      <td>8</td>\n      <td>114</td>\n      <td>74</td>\n      <td>201.05</td>\n      <td>1.986993</td>\n      <td>1</td>\n    </tr>\n    <tr>\n      <th>9</th>\n      <td>0</td>\n      <td>9</td>\n      <td>121</td>\n      <td>37</td>\n      <td>201.05</td>\n      <td>2.300983</td>\n      <td>1</td>\n    </tr>\n    <tr>\n      <th>10</th>\n      <td>0</td>\n      <td>10</td>\n      <td>126</td>\n      <td>60</td>\n      <td>201.05</td>\n      <td>2.094247</td>\n      <td>1</td>\n    </tr>\n    <tr>\n      <th>11</th>\n      <td>0</td>\n      <td>11</td>\n      <td>128</td>\n      <td>59</td>\n      <td>201.05</td>\n      <td>2.106670</td>\n      <td>1</td>\n    </tr>\n    <tr>\n      <th>12</th>\n      <td>0</td>\n      <td>12</td>\n      <td>125</td>\n      <td>67</td>\n      <td>201.05</td>\n      <td>2.036218</td>\n      <td>1</td>\n    </tr>\n    <tr>\n      <th>13</th>\n      <td>0</td>\n      <td>13</td>\n      <td>123</td>\n      <td>72</td>\n      <td>201.05</td>\n      <td>1.995131</td>\n      <td>1</td>\n    </tr>\n    <tr>\n      <th>14</th>\n      <td>0</td>\n      <td>14</td>\n      <td>133</td>\n      <td>97</td>\n      <td>201.05</td>\n      <td>1.981144</td>\n      <td>1</td>\n    </tr>\n    <tr>\n      <th>15</th>\n      <td>0</td>\n      <td>15</td>\n      <td>151</td>\n      <td>167</td>\n      <td>201.05</td>\n      <td>2.500193</td>\n      <td>1</td>\n    </tr>\n    <tr>\n      <th>16</th>\n      <td>0</td>\n      <td>16</td>\n      <td>145</td>\n      <td>231</td>\n      <td>201.05</td>\n      <td>3.104372</td>\n      <td>1</td>\n    </tr>\n    <tr>\n      <th>17</th>\n      <td>0</td>\n      <td>17</td>\n      <td>181</td>\n      <td>83</td>\n      <td>201.05</td>\n      <td>2.246440</td>\n      <td>1</td>\n    </tr>\n  </tbody>\n</table>\n</div>"
     },
     "execution_count": 9,
     "metadata": {},
     "output_type": "execute_result"
    }
   ],
   "source": [
    "df[(df.signal == True) & (df.entry==0)]"
   ],
   "metadata": {
    "collapsed": false
   }
  },
  {
   "cell_type": "code",
   "execution_count": 4,
   "outputs": [
    {
     "data": {
      "text/plain": "Index          128\nentry       665120\nsubentry    665120\nx_c         665120\ny_c         665120\nz_c         665120\nt_c         665120\nsignal      665120\ndtype: int64"
     },
     "execution_count": 4,
     "metadata": {},
     "output_type": "execute_result"
    }
   ],
   "source": [
    "df.memory_usage()"
   ],
   "metadata": {
    "collapsed": false
   }
  },
  {
   "cell_type": "code",
   "execution_count": 8,
   "outputs": [],
   "source": [
    "dl = PointOnlyDataloader(root_path, verbose=False)\n",
    "alg = EllipseDataFitting(save_graphics=True)\n",
    "\n"
   ],
   "metadata": {
    "collapsed": false
   }
  },
  {
   "cell_type": "code",
   "execution_count": 16,
   "outputs": [
    {
     "name": "stderr",
     "output_type": "stream",
     "text": [
      "  0%|          | 0/60.0 [00:00<?, ?it/s]\n"
     ]
    },
    {
     "ename": "TypeError",
     "evalue": "super(type, obj): obj must be an instance or subtype of type",
     "output_type": "error",
     "traceback": [
      "\u001B[0;31m---------------------------------------------------------------------------\u001B[0m",
      "\u001B[0;31mTypeError\u001B[0m                                 Traceback (most recent call last)",
      "Cell \u001B[0;32mIn[16], line 3\u001B[0m\n\u001B[1;32m      1\u001B[0m dl \u001B[38;5;241m=\u001B[39m NoiseDataLoader(root_path, verbose\u001B[38;5;241m=\u001B[39m\u001B[38;5;28;01mFalse\u001B[39;00m, noise_freq_per_sqmm\u001B[38;5;241m=\u001B[39m\u001B[38;5;241m2e5\u001B[39m)\n\u001B[1;32m      2\u001B[0m max_delta \u001B[38;5;241m=\u001B[39m \u001B[38;5;241m0\u001B[39m\n\u001B[0;32m----> 3\u001B[0m \u001B[38;5;28;01mfor\u001B[39;00m df, _ \u001B[38;5;129;01min\u001B[39;00m tqdm(dl\u001B[38;5;241m.\u001B[39mgenChunkFromRoot(event_chunk_size\u001B[38;5;241m=\u001B[39m\u001B[38;5;241m20000\u001B[39m), total\u001B[38;5;241m=\u001B[39mdl\u001B[38;5;241m.\u001B[39mget_total_cnt()\u001B[38;5;241m/\u001B[39m\u001B[38;5;241m20000\u001B[39m):\n\u001B[1;32m      4\u001B[0m     df\u001B[38;5;241m.\u001B[39mto_csv(\u001B[38;5;124m'\u001B[39m\u001B[38;5;124mdataset_with_noise_2e5.csv\u001B[39m\u001B[38;5;124m'\u001B[39m, mode\u001B[38;5;241m=\u001B[39m\u001B[38;5;124m'\u001B[39m\u001B[38;5;124ma\u001B[39m\u001B[38;5;124m'\u001B[39m, header\u001B[38;5;241m=\u001B[39m\u001B[38;5;28;01mNone\u001B[39;00m)\n\u001B[1;32m      5\u001B[0m     \u001B[38;5;28;01mbreak\u001B[39;00m\n",
      "File \u001B[0;32m~/projects/NSU/farich-detector/.venv/lib/python3.9/site-packages/tqdm/std.py:1195\u001B[0m, in \u001B[0;36mtqdm.__iter__\u001B[0;34m(self)\u001B[0m\n\u001B[1;32m   1192\u001B[0m time \u001B[38;5;241m=\u001B[39m \u001B[38;5;28mself\u001B[39m\u001B[38;5;241m.\u001B[39m_time\n\u001B[1;32m   1194\u001B[0m \u001B[38;5;28;01mtry\u001B[39;00m:\n\u001B[0;32m-> 1195\u001B[0m     \u001B[38;5;28;01mfor\u001B[39;00m obj \u001B[38;5;129;01min\u001B[39;00m iterable:\n\u001B[1;32m   1196\u001B[0m         \u001B[38;5;28;01myield\u001B[39;00m obj\n\u001B[1;32m   1197\u001B[0m         \u001B[38;5;66;03m# Update and possibly print the progressbar.\u001B[39;00m\n\u001B[1;32m   1198\u001B[0m         \u001B[38;5;66;03m# Note: does not call self.update(1) for speed optimisation.\u001B[39;00m\n",
      "File \u001B[0;32m~/projects/NSU/farich-detector/notebooks/../src/dataloaders/noise.py:105\u001B[0m, in \u001B[0;36mNoiseDataLoader.genChunkFromRoot\u001B[0;34m(self, event_chunk_size)\u001B[0m\n\u001B[1;32m    104\u001B[0m \u001B[38;5;28;01mdef\u001B[39;00m \u001B[38;5;21mgenChunkFromRoot\u001B[39m(\u001B[38;5;28mself\u001B[39m, event_chunk_size\u001B[38;5;241m=\u001B[39m\u001B[38;5;241m2000\u001B[39m):\n\u001B[0;32m--> 105\u001B[0m     \u001B[38;5;28;01mfor\u001B[39;00m hit_df, part_df \u001B[38;5;129;01min\u001B[39;00m \u001B[38;5;28;43msuper\u001B[39;49m\u001B[43m(\u001B[49m\u001B[43m)\u001B[49m\u001B[38;5;241m.\u001B[39mgenChunkFromRoot(event_chunk_size\u001B[38;5;241m=\u001B[39m\u001B[38;5;241m2000\u001B[39m):\n\u001B[1;32m    106\u001B[0m         hit_df \u001B[38;5;241m=\u001B[39m \u001B[38;5;28mself\u001B[39m\u001B[38;5;241m.\u001B[39m_add_noise(part_df, hit_df)\n\u001B[1;32m    107\u001B[0m         \u001B[38;5;28;01mif\u001B[39;00m \u001B[38;5;28mself\u001B[39m\u001B[38;5;241m.\u001B[39monly_hits:\n",
      "\u001B[0;31mTypeError\u001B[0m: super(type, obj): obj must be an instance or subtype of type"
     ]
    }
   ],
   "source": [
    "dl = NoiseDataLoader(root_path, verbose=False, noise_freq_per_sqmm=2e5)\n",
    "max_delta = 0\n",
    "for df in tqdm(dl.genChunkFromRoot(event_chunk_size=20000), total=dl.get_total_cnt() / 20000):\n",
    "    df.to_csv('dataset_with_noise_2e5.csv', mode='a', header=None)\n",
    "    break\n",
    "    # max_delta = max(df['t_c'].max() - df['t_c'].min(), max_delta)"
   ],
   "metadata": {
    "collapsed": false
   }
  },
  {
   "cell_type": "code",
   "execution_count": 22,
   "outputs": [
    {
     "data": {
      "text/plain": "2.3193755"
     },
     "execution_count": 22,
     "metadata": {},
     "output_type": "execute_result"
    }
   ],
   "source": [
    " max_delta"
   ],
   "metadata": {
    "collapsed": false
   }
  },
  {
   "cell_type": "code",
   "execution_count": 3,
   "outputs": [
    {
     "name": "stderr",
     "output_type": "stream",
     "text": [
      "  4%|▍         | 2/47 [00:38<14:24, 19.22s/it]\n"
     ]
    }
   ],
   "source": [
    "centers, vectors, normals, point1, point2, point3 = alg.run(df)\n"
   ],
   "metadata": {
    "collapsed": false
   }
  },
  {
   "cell_type": "code",
   "execution_count": 4,
   "outputs": [],
   "source": [
    "centers = pd.DataFrame(np.array(centers), columns=['x_center', 'y_center', 't_center'])"
   ],
   "metadata": {
    "collapsed": false
   }
  },
  {
   "cell_type": "code",
   "execution_count": 5,
   "outputs": [
    {
     "data": {
      "text/plain": "    x_center   y_center  t_center\n0 -50.042775 -14.714778  0.721234",
      "text/html": "<div>\n<style scoped>\n    .dataframe tbody tr th:only-of-type {\n        vertical-align: middle;\n    }\n\n    .dataframe tbody tr th {\n        vertical-align: top;\n    }\n\n    .dataframe thead th {\n        text-align: right;\n    }\n</style>\n<table border=\"1\" class=\"dataframe\">\n  <thead>\n    <tr style=\"text-align: right;\">\n      <th></th>\n      <th>x_center</th>\n      <th>y_center</th>\n      <th>t_center</th>\n    </tr>\n  </thead>\n  <tbody>\n    <tr>\n      <th>0</th>\n      <td>-50.042775</td>\n      <td>-14.714778</td>\n      <td>0.721234</td>\n    </tr>\n  </tbody>\n</table>\n</div>"
     },
     "execution_count": 5,
     "metadata": {},
     "output_type": "execute_result"
    }
   ],
   "source": [
    "centers"
   ],
   "metadata": {
    "collapsed": false
   }
  },
  {
   "cell_type": "code",
   "execution_count": 8,
   "outputs": [],
   "source": [
    "normals = pd.DataFrame(np.array(normals), columns=['x_normal', 'y_normal', 't_normal'])"
   ],
   "metadata": {
    "collapsed": false
   }
  },
  {
   "cell_type": "code",
   "execution_count": 9,
   "outputs": [],
   "source": [
    "points1 = pd.DataFrame(np.array(point1), columns=['x_p1', 'y_p1', 't_p1'])"
   ],
   "metadata": {
    "collapsed": false
   }
  },
  {
   "cell_type": "code",
   "execution_count": 10,
   "outputs": [
    {
     "data": {
      "text/plain": "         x_p1   y_p1      t_p1\n0 -105.279999 -29.76  0.766782",
      "text/html": "<div>\n<style scoped>\n    .dataframe tbody tr th:only-of-type {\n        vertical-align: middle;\n    }\n\n    .dataframe tbody tr th {\n        vertical-align: top;\n    }\n\n    .dataframe thead th {\n        text-align: right;\n    }\n</style>\n<table border=\"1\" class=\"dataframe\">\n  <thead>\n    <tr style=\"text-align: right;\">\n      <th></th>\n      <th>x_p1</th>\n      <th>y_p1</th>\n      <th>t_p1</th>\n    </tr>\n  </thead>\n  <tbody>\n    <tr>\n      <th>0</th>\n      <td>-105.279999</td>\n      <td>-29.76</td>\n      <td>0.766782</td>\n    </tr>\n  </tbody>\n</table>\n</div>"
     },
     "execution_count": 10,
     "metadata": {},
     "output_type": "execute_result"
    }
   ],
   "source": [
    "points1"
   ],
   "metadata": {
    "collapsed": false
   }
  },
  {
   "cell_type": "code",
   "execution_count": 11,
   "outputs": [
    {
     "data": {
      "text/plain": "                       x_c         y_c         z_c       t_c\nentry subentry                                              \n5     0        -351.040009  399.679993  201.050003  2.387565\n      1         -85.120003  -80.959999  201.050003  0.870651\n      2        -105.279999  -29.760000  201.050003  0.766782\n      3        -105.279999  -25.600000  201.050003  0.767961\n      4        -108.639999   -8.800000  201.050003  0.767712\n      5         -98.559998   15.520000  201.050003  0.754884\n      6        -101.919998    5.440000  201.050003  0.756660\n      7        -105.279999    5.440000  201.050003  0.761616\n      8         -98.559998   18.879999  201.050003  0.753252\n      9         -88.480003   29.760000  201.050003  0.745859\n      10        -70.879997 -178.240005  201.050003  1.189885\n      11        -64.160004  -67.519997  201.050003  0.743735\n      12        -74.239998  -64.160004  201.050003  0.750375\n      13        -80.959999  -64.160004  201.050003  0.759340\n      14        -67.519997  -57.439999  201.050003  0.740059\n      15        -57.439999   22.240000  201.050003  1.134990\n      16        -74.239998   33.119999  201.050003  0.730597\n      17        -77.599998   36.480000  201.050003  0.732978\n      18        -74.239998   36.480000  201.050003  0.730177\n      19        -70.879997   36.480000  201.050003  0.725091\n      20        -74.239998  219.360001  201.050003  1.580266\n      21        -43.200001  -67.519997  201.050003  0.729207\n      22        -53.279999  -70.879997  201.050003  0.736687\n      23        -33.119999  -67.519997  201.050003  0.721118\n      24        -53.279999  -70.879997  201.050003  0.738963\n      25        -43.200001   43.200001  201.050003  0.706602\n      26        -49.919998   43.200001  201.050003  0.709753\n      27        -49.919998   39.840000  201.050003  0.708978\n      28        -12.160000 -205.919998  201.050003  1.162304\n      29        -22.240000  -60.799999  201.050003  0.709096\n      30         -2.080000  -46.560001  201.050003  0.693336\n      31         -5.440000  -49.919998  201.050003  0.695881\n      32         -5.440000   22.240000  201.050003  0.679680\n      33         -5.440000   18.879999  201.050003  0.679365\n      34        -22.240000   33.119999  201.050003  0.689608\n      35          8.800000  -22.240000  201.050003  0.680270\n      36          8.800000    2.080000  201.050003  0.677087\n      37          2.080000    8.800000  201.050003  0.677228\n      38          5.440000    8.800000  201.050003  0.677986\n      39          2.080000    8.800000  201.050003  0.676161\n      40         15.520000   88.480003  201.050003  0.832270\n      41         46.560001 -108.639999  201.050003  0.802872\n      42         43.200001  -64.160004  201.050003  0.735939\n      43         36.480000  -57.439999  201.050003  0.738325\n      44         29.760000   80.959999  201.050003  0.886469\n      45        122.879997  -60.799999  201.050003  0.866539\n      46        164.000000 -223.520004  201.050003  1.455103\n      47        153.919998  -22.240000  201.050003  0.902340\n      48        188.320007  -74.239998  201.050003  0.973741",
      "text/html": "<div>\n<style scoped>\n    .dataframe tbody tr th:only-of-type {\n        vertical-align: middle;\n    }\n\n    .dataframe tbody tr th {\n        vertical-align: top;\n    }\n\n    .dataframe thead th {\n        text-align: right;\n    }\n</style>\n<table border=\"1\" class=\"dataframe\">\n  <thead>\n    <tr style=\"text-align: right;\">\n      <th></th>\n      <th></th>\n      <th>x_c</th>\n      <th>y_c</th>\n      <th>z_c</th>\n      <th>t_c</th>\n    </tr>\n    <tr>\n      <th>entry</th>\n      <th>subentry</th>\n      <th></th>\n      <th></th>\n      <th></th>\n      <th></th>\n    </tr>\n  </thead>\n  <tbody>\n    <tr>\n      <th rowspan=\"49\" valign=\"top\">5</th>\n      <th>0</th>\n      <td>-351.040009</td>\n      <td>399.679993</td>\n      <td>201.050003</td>\n      <td>2.387565</td>\n    </tr>\n    <tr>\n      <th>1</th>\n      <td>-85.120003</td>\n      <td>-80.959999</td>\n      <td>201.050003</td>\n      <td>0.870651</td>\n    </tr>\n    <tr>\n      <th>2</th>\n      <td>-105.279999</td>\n      <td>-29.760000</td>\n      <td>201.050003</td>\n      <td>0.766782</td>\n    </tr>\n    <tr>\n      <th>3</th>\n      <td>-105.279999</td>\n      <td>-25.600000</td>\n      <td>201.050003</td>\n      <td>0.767961</td>\n    </tr>\n    <tr>\n      <th>4</th>\n      <td>-108.639999</td>\n      <td>-8.800000</td>\n      <td>201.050003</td>\n      <td>0.767712</td>\n    </tr>\n    <tr>\n      <th>5</th>\n      <td>-98.559998</td>\n      <td>15.520000</td>\n      <td>201.050003</td>\n      <td>0.754884</td>\n    </tr>\n    <tr>\n      <th>6</th>\n      <td>-101.919998</td>\n      <td>5.440000</td>\n      <td>201.050003</td>\n      <td>0.756660</td>\n    </tr>\n    <tr>\n      <th>7</th>\n      <td>-105.279999</td>\n      <td>5.440000</td>\n      <td>201.050003</td>\n      <td>0.761616</td>\n    </tr>\n    <tr>\n      <th>8</th>\n      <td>-98.559998</td>\n      <td>18.879999</td>\n      <td>201.050003</td>\n      <td>0.753252</td>\n    </tr>\n    <tr>\n      <th>9</th>\n      <td>-88.480003</td>\n      <td>29.760000</td>\n      <td>201.050003</td>\n      <td>0.745859</td>\n    </tr>\n    <tr>\n      <th>10</th>\n      <td>-70.879997</td>\n      <td>-178.240005</td>\n      <td>201.050003</td>\n      <td>1.189885</td>\n    </tr>\n    <tr>\n      <th>11</th>\n      <td>-64.160004</td>\n      <td>-67.519997</td>\n      <td>201.050003</td>\n      <td>0.743735</td>\n    </tr>\n    <tr>\n      <th>12</th>\n      <td>-74.239998</td>\n      <td>-64.160004</td>\n      <td>201.050003</td>\n      <td>0.750375</td>\n    </tr>\n    <tr>\n      <th>13</th>\n      <td>-80.959999</td>\n      <td>-64.160004</td>\n      <td>201.050003</td>\n      <td>0.759340</td>\n    </tr>\n    <tr>\n      <th>14</th>\n      <td>-67.519997</td>\n      <td>-57.439999</td>\n      <td>201.050003</td>\n      <td>0.740059</td>\n    </tr>\n    <tr>\n      <th>15</th>\n      <td>-57.439999</td>\n      <td>22.240000</td>\n      <td>201.050003</td>\n      <td>1.134990</td>\n    </tr>\n    <tr>\n      <th>16</th>\n      <td>-74.239998</td>\n      <td>33.119999</td>\n      <td>201.050003</td>\n      <td>0.730597</td>\n    </tr>\n    <tr>\n      <th>17</th>\n      <td>-77.599998</td>\n      <td>36.480000</td>\n      <td>201.050003</td>\n      <td>0.732978</td>\n    </tr>\n    <tr>\n      <th>18</th>\n      <td>-74.239998</td>\n      <td>36.480000</td>\n      <td>201.050003</td>\n      <td>0.730177</td>\n    </tr>\n    <tr>\n      <th>19</th>\n      <td>-70.879997</td>\n      <td>36.480000</td>\n      <td>201.050003</td>\n      <td>0.725091</td>\n    </tr>\n    <tr>\n      <th>20</th>\n      <td>-74.239998</td>\n      <td>219.360001</td>\n      <td>201.050003</td>\n      <td>1.580266</td>\n    </tr>\n    <tr>\n      <th>21</th>\n      <td>-43.200001</td>\n      <td>-67.519997</td>\n      <td>201.050003</td>\n      <td>0.729207</td>\n    </tr>\n    <tr>\n      <th>22</th>\n      <td>-53.279999</td>\n      <td>-70.879997</td>\n      <td>201.050003</td>\n      <td>0.736687</td>\n    </tr>\n    <tr>\n      <th>23</th>\n      <td>-33.119999</td>\n      <td>-67.519997</td>\n      <td>201.050003</td>\n      <td>0.721118</td>\n    </tr>\n    <tr>\n      <th>24</th>\n      <td>-53.279999</td>\n      <td>-70.879997</td>\n      <td>201.050003</td>\n      <td>0.738963</td>\n    </tr>\n    <tr>\n      <th>25</th>\n      <td>-43.200001</td>\n      <td>43.200001</td>\n      <td>201.050003</td>\n      <td>0.706602</td>\n    </tr>\n    <tr>\n      <th>26</th>\n      <td>-49.919998</td>\n      <td>43.200001</td>\n      <td>201.050003</td>\n      <td>0.709753</td>\n    </tr>\n    <tr>\n      <th>27</th>\n      <td>-49.919998</td>\n      <td>39.840000</td>\n      <td>201.050003</td>\n      <td>0.708978</td>\n    </tr>\n    <tr>\n      <th>28</th>\n      <td>-12.160000</td>\n      <td>-205.919998</td>\n      <td>201.050003</td>\n      <td>1.162304</td>\n    </tr>\n    <tr>\n      <th>29</th>\n      <td>-22.240000</td>\n      <td>-60.799999</td>\n      <td>201.050003</td>\n      <td>0.709096</td>\n    </tr>\n    <tr>\n      <th>30</th>\n      <td>-2.080000</td>\n      <td>-46.560001</td>\n      <td>201.050003</td>\n      <td>0.693336</td>\n    </tr>\n    <tr>\n      <th>31</th>\n      <td>-5.440000</td>\n      <td>-49.919998</td>\n      <td>201.050003</td>\n      <td>0.695881</td>\n    </tr>\n    <tr>\n      <th>32</th>\n      <td>-5.440000</td>\n      <td>22.240000</td>\n      <td>201.050003</td>\n      <td>0.679680</td>\n    </tr>\n    <tr>\n      <th>33</th>\n      <td>-5.440000</td>\n      <td>18.879999</td>\n      <td>201.050003</td>\n      <td>0.679365</td>\n    </tr>\n    <tr>\n      <th>34</th>\n      <td>-22.240000</td>\n      <td>33.119999</td>\n      <td>201.050003</td>\n      <td>0.689608</td>\n    </tr>\n    <tr>\n      <th>35</th>\n      <td>8.800000</td>\n      <td>-22.240000</td>\n      <td>201.050003</td>\n      <td>0.680270</td>\n    </tr>\n    <tr>\n      <th>36</th>\n      <td>8.800000</td>\n      <td>2.080000</td>\n      <td>201.050003</td>\n      <td>0.677087</td>\n    </tr>\n    <tr>\n      <th>37</th>\n      <td>2.080000</td>\n      <td>8.800000</td>\n      <td>201.050003</td>\n      <td>0.677228</td>\n    </tr>\n    <tr>\n      <th>38</th>\n      <td>5.440000</td>\n      <td>8.800000</td>\n      <td>201.050003</td>\n      <td>0.677986</td>\n    </tr>\n    <tr>\n      <th>39</th>\n      <td>2.080000</td>\n      <td>8.800000</td>\n      <td>201.050003</td>\n      <td>0.676161</td>\n    </tr>\n    <tr>\n      <th>40</th>\n      <td>15.520000</td>\n      <td>88.480003</td>\n      <td>201.050003</td>\n      <td>0.832270</td>\n    </tr>\n    <tr>\n      <th>41</th>\n      <td>46.560001</td>\n      <td>-108.639999</td>\n      <td>201.050003</td>\n      <td>0.802872</td>\n    </tr>\n    <tr>\n      <th>42</th>\n      <td>43.200001</td>\n      <td>-64.160004</td>\n      <td>201.050003</td>\n      <td>0.735939</td>\n    </tr>\n    <tr>\n      <th>43</th>\n      <td>36.480000</td>\n      <td>-57.439999</td>\n      <td>201.050003</td>\n      <td>0.738325</td>\n    </tr>\n    <tr>\n      <th>44</th>\n      <td>29.760000</td>\n      <td>80.959999</td>\n      <td>201.050003</td>\n      <td>0.886469</td>\n    </tr>\n    <tr>\n      <th>45</th>\n      <td>122.879997</td>\n      <td>-60.799999</td>\n      <td>201.050003</td>\n      <td>0.866539</td>\n    </tr>\n    <tr>\n      <th>46</th>\n      <td>164.000000</td>\n      <td>-223.520004</td>\n      <td>201.050003</td>\n      <td>1.455103</td>\n    </tr>\n    <tr>\n      <th>47</th>\n      <td>153.919998</td>\n      <td>-22.240000</td>\n      <td>201.050003</td>\n      <td>0.902340</td>\n    </tr>\n    <tr>\n      <th>48</th>\n      <td>188.320007</td>\n      <td>-74.239998</td>\n      <td>201.050003</td>\n      <td>0.973741</td>\n    </tr>\n  </tbody>\n</table>\n</div>"
     },
     "execution_count": 11,
     "metadata": {},
     "output_type": "execute_result"
    }
   ],
   "source": [
    "df"
   ],
   "metadata": {
    "collapsed": false
   }
  },
  {
   "cell_type": "code",
   "execution_count": 6,
   "outputs": [],
   "source": [
    "vec_1 = pd.DataFrame(np.array([i[0] for i in vectors]), columns=['x_v_1', 'y_v_1', 't_v_1'])"
   ],
   "metadata": {
    "collapsed": false
   }
  },
  {
   "cell_type": "code",
   "execution_count": 7,
   "outputs": [
    {
     "data": {
      "text/plain": "        x_v_1      y_v_1     t_v_1\n0 -105.870569 -27.304654  0.766708",
      "text/html": "<div>\n<style scoped>\n    .dataframe tbody tr th:only-of-type {\n        vertical-align: middle;\n    }\n\n    .dataframe tbody tr th {\n        vertical-align: top;\n    }\n\n    .dataframe thead th {\n        text-align: right;\n    }\n</style>\n<table border=\"1\" class=\"dataframe\">\n  <thead>\n    <tr style=\"text-align: right;\">\n      <th></th>\n      <th>x_v_1</th>\n      <th>y_v_1</th>\n      <th>t_v_1</th>\n    </tr>\n  </thead>\n  <tbody>\n    <tr>\n      <th>0</th>\n      <td>-105.870569</td>\n      <td>-27.304654</td>\n      <td>0.766708</td>\n    </tr>\n  </tbody>\n</table>\n</div>"
     },
     "execution_count": 7,
     "metadata": {},
     "output_type": "execute_result"
    }
   ],
   "source": [
    "vec_1"
   ],
   "metadata": {
    "collapsed": false
   }
  },
  {
   "cell_type": "code",
   "execution_count": 14,
   "outputs": [
    {
     "data": {
      "text/plain": "[Point([-105.28     ,  -29.76     ,    0.7667816], dtype=float32)]"
     },
     "execution_count": 14,
     "metadata": {},
     "output_type": "execute_result"
    }
   ],
   "source": [
    "point1"
   ],
   "metadata": {
    "collapsed": false
   }
  },
  {
   "cell_type": "code",
   "execution_count": 1,
   "outputs": [
    {
     "ename": "NameError",
     "evalue": "name 'dl' is not defined",
     "output_type": "error",
     "traceback": [
      "\u001B[0;31m---------------------------------------------------------------------------\u001B[0m",
      "\u001B[0;31mNameError\u001B[0m                                 Traceback (most recent call last)",
      "Cell \u001B[0;32mIn [1], line 1\u001B[0m\n\u001B[0;32m----> 1\u001B[0m ax \u001B[38;5;241m=\u001B[39m \u001B[43mdl\u001B[49m\u001B[38;5;241m.\u001B[39mplot_solution(df)\n\u001B[1;32m      3\u001B[0m \u001B[38;5;28;01mfor\u001B[39;00m norm, point11, point22, point33 \u001B[38;5;129;01min\u001B[39;00m \u001B[38;5;28mzip\u001B[39m(normals, point1, point2, point3):\n\u001B[1;32m      4\u001B[0m     \u001B[38;5;66;03m# print(norm, point)\u001B[39;00m\n\u001B[1;32m      5\u001B[0m     \u001B[38;5;66;03m# norm = norm / np.linalg.norm(norm)\u001B[39;00m\n\u001B[1;32m      6\u001B[0m     ax\u001B[38;5;241m.\u001B[39mplot([vec_1[\u001B[38;5;124m'\u001B[39m\u001B[38;5;124mt_v_1\u001B[39m\u001B[38;5;124m'\u001B[39m][\u001B[38;5;241m0\u001B[39m], centers[\u001B[38;5;124m'\u001B[39m\u001B[38;5;124mt_center\u001B[39m\u001B[38;5;124m'\u001B[39m][\u001B[38;5;241m0\u001B[39m]],\n\u001B[1;32m      7\u001B[0m              [ vec_1[\u001B[38;5;124m'\u001B[39m\u001B[38;5;124mx_v_1\u001B[39m\u001B[38;5;124m'\u001B[39m][\u001B[38;5;241m0\u001B[39m], centers[\u001B[38;5;124m'\u001B[39m\u001B[38;5;124mx_center\u001B[39m\u001B[38;5;124m'\u001B[39m][\u001B[38;5;241m0\u001B[39m]],\n\u001B[1;32m      8\u001B[0m              [vec_1[\u001B[38;5;124m'\u001B[39m\u001B[38;5;124mx_v_1\u001B[39m\u001B[38;5;124m'\u001B[39m][\u001B[38;5;241m0\u001B[39m], centers[\u001B[38;5;124m'\u001B[39m\u001B[38;5;124my_center\u001B[39m\u001B[38;5;124m'\u001B[39m][\u001B[38;5;241m0\u001B[39m]],\n\u001B[1;32m      9\u001B[0m              label\u001B[38;5;241m=\u001B[39m\u001B[38;5;124m'\u001B[39m\u001B[38;5;124mVec_1\u001B[39m\u001B[38;5;124m'\u001B[39m)\n",
      "\u001B[0;31mNameError\u001B[0m: name 'dl' is not defined"
     ]
    }
   ],
   "source": [
    "ax = dl.plot_solution(df)\n",
    "\n",
    "for norm, point11, point22, point33 in zip(normals, point1, point2, point3):\n",
    "    # print(norm, point)\n",
    "    # norm = norm / np.linalg.norm(norm)\n",
    "    ax.plot([vec_1['t_v_1'][0], centers['t_center'][0]],\n",
    "            [vec_1['x_v_1'][0], centers['x_center'][0]],\n",
    "            [vec_1['x_v_1'][0], centers['y_center'][0]],\n",
    "            label='Vec_1')\n",
    "    ax.scatter3D(centers['t_center'][0], centers['x_center'][0], centers['y_center'][0], 'g.', label='Centers')\n",
    "    ax.scatter3D(point11[2], point11[0], point11[1], 'y.', label='Point1')\n",
    "    break\n",
    "\n",
    "plt.legend()\n",
    "plt.show()\n",
    "# plt.savefig(\"tmp/exampl.png\")"
   ],
   "metadata": {
    "collapsed": false
   }
  },
  {
   "cell_type": "code",
   "execution_count": 8,
   "outputs": [],
   "source": [
    "x = np.array([0.00000, 45.77594, -0.00000, -5.24599, 5.89959])\n",
    "y = np.array([0.00000, 0.00000, 55.82716, 43.18748, 69.42272])"
   ],
   "metadata": {
    "collapsed": false
   }
  },
  {
   "cell_type": "code",
   "execution_count": 9,
   "outputs": [
    {
     "ename": "LinAlgError",
     "evalue": "Singular matrix",
     "output_type": "error",
     "traceback": [
      "\u001B[0;31m---------------------------------------------------------------------------\u001B[0m",
      "\u001B[0;31mLinAlgError\u001B[0m                               Traceback (most recent call last)",
      "Cell \u001B[0;32mIn [9], line 2\u001B[0m\n\u001B[1;32m      1\u001B[0m \u001B[38;5;28;01mfrom\u001B[39;00m \u001B[38;5;21;01msrc\u001B[39;00m\u001B[38;5;21;01m.\u001B[39;00m\u001B[38;5;21;01mutils\u001B[39;00m\u001B[38;5;21;01m.\u001B[39;00m\u001B[38;5;21;01mgeometry\u001B[39;00m \u001B[38;5;28;01mimport\u001B[39;00m get_ellipse_from_points\n\u001B[0;32m----> 2\u001B[0m centr, params, vectors \u001B[38;5;241m=\u001B[39m \u001B[43mget_ellipse_from_points\u001B[49m\u001B[43m(\u001B[49m\u001B[43mx\u001B[49m\u001B[43m,\u001B[49m\u001B[43m \u001B[49m\u001B[43my\u001B[49m\u001B[43m)\u001B[49m\n",
      "File \u001B[0;32m~/projects/NSU/Farich/src/utils/geometry/ellipse.py:14\u001B[0m, in \u001B[0;36mget_ellipse_from_points\u001B[0;34m(x, y)\u001B[0m\n\u001B[1;32m     13\u001B[0m \u001B[38;5;28;01mdef\u001B[39;00m \u001B[38;5;21mget_ellipse_from_points\u001B[39m(x, y):\n\u001B[0;32m---> 14\u001B[0m     A, B, C, D, E \u001B[38;5;241m=\u001B[39m \u001B[43mfit_ellipse_v2\u001B[49m\u001B[43m(\u001B[49m\u001B[43mx\u001B[49m\u001B[43m,\u001B[49m\u001B[43m \u001B[49m\u001B[43my\u001B[49m\u001B[43m)\u001B[49m\n\u001B[1;32m     15\u001B[0m     \u001B[38;5;28;01mif\u001B[39;00m B \u001B[38;5;241m*\u001B[39m\u001B[38;5;241m*\u001B[39m \u001B[38;5;241m2\u001B[39m \u001B[38;5;241m-\u001B[39m \u001B[38;5;241m4\u001B[39m \u001B[38;5;241m*\u001B[39m A \u001B[38;5;241m*\u001B[39m C \u001B[38;5;241m>\u001B[39m\u001B[38;5;241m=\u001B[39m \u001B[38;5;241m0\u001B[39m:\n\u001B[1;32m     16\u001B[0m         \u001B[38;5;28;01mraise\u001B[39;00m \u001B[38;5;167;01mValueError\u001B[39;00m(\u001B[38;5;124m\"\u001B[39m\u001B[38;5;124mNot elipse\u001B[39m\u001B[38;5;124m\"\u001B[39m)\n",
      "File \u001B[0;32m~/projects/NSU/Farich/src/utils/geometry/ellipse.py:8\u001B[0m, in \u001B[0;36mfit_ellipse_v2\u001B[0;34m(x, y)\u001B[0m\n\u001B[1;32m      6\u001B[0m C \u001B[38;5;241m=\u001B[39m np\u001B[38;5;241m.\u001B[39mones_like(x)\n\u001B[1;32m      7\u001B[0m \u001B[38;5;28;01mif\u001B[39;00m \u001B[38;5;28mlen\u001B[39m(x) \u001B[38;5;241m==\u001B[39m \u001B[38;5;241m5\u001B[39m:\n\u001B[0;32m----> 8\u001B[0m     \u001B[38;5;28;01mreturn\u001B[39;00m \u001B[43mnp\u001B[49m\u001B[38;5;241;43m.\u001B[39;49m\u001B[43mlinalg\u001B[49m\u001B[38;5;241;43m.\u001B[39;49m\u001B[43minv\u001B[49m\u001B[43m(\u001B[49m\u001B[43mD\u001B[49m\u001B[43m)\u001B[49m\u001B[38;5;241m.\u001B[39mdot(C)\n\u001B[1;32m      9\u001B[0m \u001B[38;5;28;01mreturn\u001B[39;00m np\u001B[38;5;241m.\u001B[39mlinalg\u001B[38;5;241m.\u001B[39minv(D\u001B[38;5;241m.\u001B[39mT\u001B[38;5;241m.\u001B[39mdot(D))\u001B[38;5;241m.\u001B[39mdot(D\u001B[38;5;241m.\u001B[39mT)\u001B[38;5;241m.\u001B[39mdot(\n\u001B[1;32m     10\u001B[0m     C)\n",
      "File \u001B[0;32m<__array_function__ internals>:180\u001B[0m, in \u001B[0;36minv\u001B[0;34m(*args, **kwargs)\u001B[0m\n",
      "File \u001B[0;32m~/projects/NSU/Farich/.venv/lib/python3.8/site-packages/numpy/linalg/linalg.py:552\u001B[0m, in \u001B[0;36minv\u001B[0;34m(a)\u001B[0m\n\u001B[1;32m    550\u001B[0m signature \u001B[38;5;241m=\u001B[39m \u001B[38;5;124m'\u001B[39m\u001B[38;5;124mD->D\u001B[39m\u001B[38;5;124m'\u001B[39m \u001B[38;5;28;01mif\u001B[39;00m isComplexType(t) \u001B[38;5;28;01melse\u001B[39;00m \u001B[38;5;124m'\u001B[39m\u001B[38;5;124md->d\u001B[39m\u001B[38;5;124m'\u001B[39m\n\u001B[1;32m    551\u001B[0m extobj \u001B[38;5;241m=\u001B[39m get_linalg_error_extobj(_raise_linalgerror_singular)\n\u001B[0;32m--> 552\u001B[0m ainv \u001B[38;5;241m=\u001B[39m \u001B[43m_umath_linalg\u001B[49m\u001B[38;5;241;43m.\u001B[39;49m\u001B[43minv\u001B[49m\u001B[43m(\u001B[49m\u001B[43ma\u001B[49m\u001B[43m,\u001B[49m\u001B[43m \u001B[49m\u001B[43msignature\u001B[49m\u001B[38;5;241;43m=\u001B[39;49m\u001B[43msignature\u001B[49m\u001B[43m,\u001B[49m\u001B[43m \u001B[49m\u001B[43mextobj\u001B[49m\u001B[38;5;241;43m=\u001B[39;49m\u001B[43mextobj\u001B[49m\u001B[43m)\u001B[49m\n\u001B[1;32m    553\u001B[0m \u001B[38;5;28;01mreturn\u001B[39;00m wrap(ainv\u001B[38;5;241m.\u001B[39mastype(result_t, copy\u001B[38;5;241m=\u001B[39m\u001B[38;5;28;01mFalse\u001B[39;00m))\n",
      "File \u001B[0;32m~/projects/NSU/Farich/.venv/lib/python3.8/site-packages/numpy/linalg/linalg.py:89\u001B[0m, in \u001B[0;36m_raise_linalgerror_singular\u001B[0;34m(err, flag)\u001B[0m\n\u001B[1;32m     88\u001B[0m \u001B[38;5;28;01mdef\u001B[39;00m \u001B[38;5;21m_raise_linalgerror_singular\u001B[39m(err, flag):\n\u001B[0;32m---> 89\u001B[0m     \u001B[38;5;28;01mraise\u001B[39;00m LinAlgError(\u001B[38;5;124m\"\u001B[39m\u001B[38;5;124mSingular matrix\u001B[39m\u001B[38;5;124m\"\u001B[39m)\n",
      "\u001B[0;31mLinAlgError\u001B[0m: Singular matrix"
     ]
    }
   ],
   "source": [
    "from src.utils.geometry import get_ellipse_from_points\n",
    "\n",
    "centr, params, vectors = get_ellipse_from_points(x, y)"
   ],
   "metadata": {
    "collapsed": false
   }
  },
  {
   "cell_type": "code",
   "execution_count": 10,
   "outputs": [],
   "source": [
    "D = np.column_stack((x ** 2, x * y, y ** 2, x, y))"
   ],
   "metadata": {
    "collapsed": false
   }
  },
  {
   "cell_type": "code",
   "execution_count": 11,
   "outputs": [
    {
     "data": {
      "text/plain": "array([[   0.        ,    0.        ,    0.        ,    0.        ,\n           0.        ],\n       [2095.43668288,    0.        ,    0.        ,   45.77594   ,\n           0.        ],\n       [   0.        ,   -0.        , 3116.67179367,   -0.        ,\n          55.82716   ],\n       [  27.52041108, -226.56108821, 1865.15842875,   -5.24599   ,\n          43.18748   ],\n       [  34.80516217,  409.56558468, 4819.5140522 ,    5.89959   ,\n          69.42272   ]])"
     },
     "execution_count": 11,
     "metadata": {},
     "output_type": "execute_result"
    }
   ],
   "source": [
    "D"
   ],
   "metadata": {
    "collapsed": false
   }
  },
  {
   "cell_type": "code",
   "execution_count": 6,
   "outputs": [],
   "source": [
    "import plotly.graph_objects as go\n",
    "from src.solutions import EllipseDataFitting\n",
    "from collections import defaultdict"
   ],
   "metadata": {
    "collapsed": false,
    "ExecuteTime": {
     "start_time": "2023-04-04T11:14:08.153358Z",
     "end_time": "2023-04-04T11:14:08.175667Z"
    }
   }
  },
  {
   "cell_type": "code",
   "execution_count": 6,
   "outputs": [],
   "source": [
    "\n",
    "\n"
   ],
   "metadata": {
    "collapsed": false,
    "ExecuteTime": {
     "start_time": "2023-04-04T11:14:08.176328Z",
     "end_time": "2023-04-04T11:14:08.178131Z"
    }
   }
  },
  {
   "cell_type": "code",
   "execution_count": 7,
   "outputs": [
    {
     "name": "stderr",
     "output_type": "stream",
     "text": [
      "100%|██████████| 116/116 [10:09<00:00,  5.25s/it]\n"
     ]
    },
    {
     "name": "stdout",
     "output_type": "stream",
     "text": [
      "35\n"
     ]
    }
   ],
   "source": [
    "import time\n",
    "\n",
    "total_acc = {}\n",
    "dl = NoiseDataLoader(root_path, verbose=False, noise_freq_per_sqmm=2e4)\n",
    "alg = EllipseDataFitting(save_graphics=True, eps_proj=1e-2, eps_ellipse=1e-4, minimal_points_in_plain=5)\n",
    "for idx, df in enumerate(dl):\n",
    "    if idx == 5:\n",
    "        start = time.time()\n",
    "        elipses = alg.run(df)\n",
    "        top = max(elipses, key=lambda x: len(x.points))\n",
    "        res = defaultdict(bool)\n",
    "        for p in top.points:\n",
    "            res[(p.x, p.y, p.t)] = True\n",
    "        df['preds'] = df.apply(lambda x: res[(x.x_c, x.y_c, x.t_c)], axis=1)\n",
    "        total_acc[idx] = (df[df.preds]['x_c'].count() / df[df.signal]['x_c'].count(), time.time() - start)\n",
    "        assert len(elipses)\n",
    "        break\n"
   ],
   "metadata": {
    "collapsed": false,
    "ExecuteTime": {
     "start_time": "2023-04-04T11:14:08.269716Z",
     "end_time": "2023-04-04T11:24:17.886271Z"
    }
   }
  },
  {
   "cell_type": "code",
   "execution_count": 14,
   "outputs": [
    {
     "data": {
      "text/plain": "                x_c  y_c       t_c\nentry subentry                    \n5     0          19  236  4.639383\n      1          96   97  3.122469\n      2          90  112  3.018600\n      3          90  113  3.019780\n      4          89  118  3.019531\n...             ...  ...       ...\n      113       159  156  1.147197\n      114       215  151  1.368650\n      115       105  185  4.237696\n      116        19  240  5.164397\n      117        81   63  0.924208\n\n[118 rows x 3 columns]",
      "text/html": "<div>\n<style scoped>\n    .dataframe tbody tr th:only-of-type {\n        vertical-align: middle;\n    }\n\n    .dataframe tbody tr th {\n        vertical-align: top;\n    }\n\n    .dataframe thead th {\n        text-align: right;\n    }\n</style>\n<table border=\"1\" class=\"dataframe\">\n  <thead>\n    <tr style=\"text-align: right;\">\n      <th></th>\n      <th></th>\n      <th>x_c</th>\n      <th>y_c</th>\n      <th>t_c</th>\n    </tr>\n    <tr>\n      <th>entry</th>\n      <th>subentry</th>\n      <th></th>\n      <th></th>\n      <th></th>\n    </tr>\n  </thead>\n  <tbody>\n    <tr>\n      <th rowspan=\"11\" valign=\"top\">5</th>\n      <th>0</th>\n      <td>19</td>\n      <td>236</td>\n      <td>4.639383</td>\n    </tr>\n    <tr>\n      <th>1</th>\n      <td>96</td>\n      <td>97</td>\n      <td>3.122469</td>\n    </tr>\n    <tr>\n      <th>2</th>\n      <td>90</td>\n      <td>112</td>\n      <td>3.018600</td>\n    </tr>\n    <tr>\n      <th>3</th>\n      <td>90</td>\n      <td>113</td>\n      <td>3.019780</td>\n    </tr>\n    <tr>\n      <th>4</th>\n      <td>89</td>\n      <td>118</td>\n      <td>3.019531</td>\n    </tr>\n    <tr>\n      <th>...</th>\n      <td>...</td>\n      <td>...</td>\n      <td>...</td>\n    </tr>\n    <tr>\n      <th>113</th>\n      <td>159</td>\n      <td>156</td>\n      <td>1.147197</td>\n    </tr>\n    <tr>\n      <th>114</th>\n      <td>215</td>\n      <td>151</td>\n      <td>1.368650</td>\n    </tr>\n    <tr>\n      <th>115</th>\n      <td>105</td>\n      <td>185</td>\n      <td>4.237696</td>\n    </tr>\n    <tr>\n      <th>116</th>\n      <td>19</td>\n      <td>240</td>\n      <td>5.164397</td>\n    </tr>\n    <tr>\n      <th>117</th>\n      <td>81</td>\n      <td>63</td>\n      <td>0.924208</td>\n    </tr>\n  </tbody>\n</table>\n<p>118 rows × 3 columns</p>\n</div>"
     },
     "execution_count": 14,
     "metadata": {},
     "output_type": "execute_result"
    }
   ],
   "source": [
    "df[['x_c', 'y_c', 't_c']]"
   ],
   "metadata": {
    "collapsed": false,
    "ExecuteTime": {
     "start_time": "2023-04-04T11:33:05.554984Z",
     "end_time": "2023-04-04T11:33:05.599113Z"
    }
   }
  },
  {
   "cell_type": "code",
   "execution_count": 15,
   "outputs": [],
   "source": [
    "centers = np.array([el.center.to_numpy() for el in elipses])"
   ],
   "metadata": {
    "collapsed": false,
    "ExecuteTime": {
     "start_time": "2023-04-04T11:33:06.224607Z",
     "end_time": "2023-04-04T11:33:06.353503Z"
    }
   }
  },
  {
   "cell_type": "code",
   "execution_count": 15,
   "outputs": [],
   "source": [],
   "metadata": {
    "collapsed": false,
    "ExecuteTime": {
     "start_time": "2023-04-04T11:33:07.267766Z",
     "end_time": "2023-04-04T11:33:07.269643Z"
    }
   }
  },
  {
   "cell_type": "code",
   "execution_count": 16,
   "outputs": [
    {
     "data": {
      "text/plain": "35"
     },
     "execution_count": 16,
     "metadata": {},
     "output_type": "execute_result"
    }
   ],
   "source": [
    "len(top.points)"
   ],
   "metadata": {
    "collapsed": false,
    "ExecuteTime": {
     "start_time": "2023-04-04T11:33:07.270418Z",
     "end_time": "2023-04-04T11:33:07.287136Z"
    }
   }
  },
  {
   "cell_type": "code",
   "execution_count": 17,
   "outputs": [],
   "source": [
    "center = top.center.to_numpy()"
   ],
   "metadata": {
    "collapsed": false,
    "ExecuteTime": {
     "start_time": "2023-04-04T11:33:07.748791Z",
     "end_time": "2023-04-04T11:33:07.783929Z"
    }
   }
  },
  {
   "cell_type": "code",
   "execution_count": 18,
   "outputs": [],
   "source": [
    "from collections import defaultdict\n",
    "\n",
    "res = defaultdict(bool)\n",
    "\n",
    "for p in top.points:\n",
    "    res[(p.x, p.y, p.t)] = True"
   ],
   "metadata": {
    "collapsed": false,
    "ExecuteTime": {
     "start_time": "2023-04-04T11:33:08.238476Z",
     "end_time": "2023-04-04T11:33:08.258923Z"
    }
   }
  },
  {
   "cell_type": "code",
   "execution_count": 19,
   "outputs": [
    {
     "data": {
      "text/plain": "defaultdict(bool,\n            {(97.0, 102.0, 3.0111582112530177): True,\n             (102.0, 101.0, 2.995553596041531): True,\n             (121.0, 123.0, 2.9290470910290187): True,\n             (90.0, 112.0, 3.0186002683857387): True,\n             (111.0, 101.0, 2.9729366731861537): True,\n             (114.0, 130.0, 2.9414269757488674): True,\n             (95.0, 129.0, 2.9976776671627468): True,\n             (123.0, 121.0, 2.928905589602322): True,\n             (120.0, 107.0, 2.945155007860989): True,\n             (92.0, 125.0, 3.0067029428699916): True,\n             (100.0, 131.0, 2.976909739992947): True,\n             (90.0, 122.0, 3.0134345722416347): True,\n             (108.0, 133.0, 2.9584206176022): True,\n             (105.0, 100.0, 2.988505287192196): True,\n             (99.0, 131.0, 2.9819956255176967): True,\n             (122.0, 123.0, 2.9298044872501796): True,\n             (91.0, 122.0, 3.0084791016796535): True,\n             (92.0, 126.0, 3.0050706100681728): True,\n             (114.0, 103.0, 2.9609144163349574): True,\n             (89.0, 118.0, 3.019530577681393): True,\n             (99.0, 130.0, 2.9824160766819423): True,\n             (106.0, 132.0, 2.960796399138302): True,\n             (121.0, 123.0, 2.927979750655026): True,\n             (101.0, 104.0, 2.9918780160168117): True,\n             (99.0, 102.0, 3.002193195841641): True,\n             (90.0, 113.0, 3.01977954628262): True,\n             (108.0, 101.0, 2.981025917551846): True,\n             (98.0, 131.0, 2.984796209357113): True,\n             (105.0, 100.0, 2.990781409762234): True,\n             (106.0, 133.0, 2.961571617148251): True,\n             (119.0, 126.0, 2.9311836791256374): True,\n             (119.0, 106.0, 2.947699887774319): True,\n             (224.0, 86.0, 2.663058239249162): True,\n             (123.0, 114.0, 2.932088716051907): True,\n             (119.0, 127.0, 2.9314986896732753): True})"
     },
     "execution_count": 19,
     "metadata": {},
     "output_type": "execute_result"
    }
   ],
   "source": [
    "res"
   ],
   "metadata": {
    "collapsed": false,
    "ExecuteTime": {
     "start_time": "2023-04-04T11:33:08.926018Z",
     "end_time": "2023-04-04T11:33:08.954298Z"
    }
   }
  },
  {
   "cell_type": "code",
   "execution_count": 20,
   "outputs": [],
   "source": [
    "df['preds'] = df.apply(lambda x: res[(x.x_c, x.y_c, x.t_c)], axis=1)"
   ],
   "metadata": {
    "collapsed": false,
    "ExecuteTime": {
     "start_time": "2023-04-04T11:33:09.706399Z",
     "end_time": "2023-04-04T11:33:09.727250Z"
    }
   }
  },
  {
   "cell_type": "code",
   "execution_count": 21,
   "outputs": [
    {
     "data": {
      "text/plain": "                x_c  y_c         z_c       t_c  signal  nhits       x_p  \\\nentry subentry                                                            \n5     0          19  236  201.050003  4.639383    True    118 -0.629396   \n      1          96   97  201.050003  3.122469    True    118 -0.629396   \n      2          90  112  201.050003  3.018600    True    118 -0.629396   \n      3          90  113  201.050003  3.019780    True    118 -0.629396   \n      4          89  118  201.050003  3.019531    True    118 -0.629396   \n...             ...  ...         ...       ...     ...    ...       ...   \n      113       159  156  201.050003  1.147197   False    118 -0.629396   \n      114       215  151  201.050003  1.368650   False    118 -0.629396   \n      115       105  185  201.050003  4.237696   False    118 -0.629396   \n      116        19  240  201.050003  5.164397   False    118 -0.629396   \n      117        81   63  201.050003  0.924208   False    118 -0.629396   \n\n                     y_p  z_p      nx_p      ny_p      nz_p      beta  \\\nentry subentry                                                          \n5     0        -0.204372  0.0 -0.209877 -0.060654  0.975845  0.994887   \n      1        -0.204372  0.0 -0.209877 -0.060654  0.975845  0.994887   \n      2        -0.204372  0.0 -0.209877 -0.060654  0.975845  0.994887   \n      3        -0.204372  0.0 -0.209877 -0.060654  0.975845  0.994887   \n      4        -0.204372  0.0 -0.209877 -0.060654  0.975845  0.994887   \n...                  ...  ...       ...       ...       ...       ...   \n      113      -0.204372  0.0 -0.209877 -0.060654  0.975845  0.994887   \n      114      -0.204372  0.0 -0.209877 -0.060654  0.975845  0.994887   \n      115      -0.204372  0.0 -0.209877 -0.060654  0.975845  0.994887   \n      116      -0.204372  0.0 -0.209877 -0.060654  0.975845  0.994887   \n      117      -0.204372  0.0 -0.209877 -0.060654  0.975845  0.994887   \n\n                 theta_p     phi_p     momentum  preds  \nentry subentry                                          \n5     0         0.220242  3.422925  1374.893921  False  \n      1         0.220242  3.422925  1374.893921  False  \n      2         0.220242  3.422925  1374.893921   True  \n      3         0.220242  3.422925  1374.893921   True  \n      4         0.220242  3.422925  1374.893921   True  \n...                  ...       ...          ...    ...  \n      113       0.220242  3.422925  1374.893921  False  \n      114       0.220242  3.422925  1374.893921  False  \n      115       0.220242  3.422925  1374.893921  False  \n      116       0.220242  3.422925  1374.893921  False  \n      117       0.220242  3.422925  1374.893921  False  \n\n[118 rows x 17 columns]",
      "text/html": "<div>\n<style scoped>\n    .dataframe tbody tr th:only-of-type {\n        vertical-align: middle;\n    }\n\n    .dataframe tbody tr th {\n        vertical-align: top;\n    }\n\n    .dataframe thead th {\n        text-align: right;\n    }\n</style>\n<table border=\"1\" class=\"dataframe\">\n  <thead>\n    <tr style=\"text-align: right;\">\n      <th></th>\n      <th></th>\n      <th>x_c</th>\n      <th>y_c</th>\n      <th>z_c</th>\n      <th>t_c</th>\n      <th>signal</th>\n      <th>nhits</th>\n      <th>x_p</th>\n      <th>y_p</th>\n      <th>z_p</th>\n      <th>nx_p</th>\n      <th>ny_p</th>\n      <th>nz_p</th>\n      <th>beta</th>\n      <th>theta_p</th>\n      <th>phi_p</th>\n      <th>momentum</th>\n      <th>preds</th>\n    </tr>\n    <tr>\n      <th>entry</th>\n      <th>subentry</th>\n      <th></th>\n      <th></th>\n      <th></th>\n      <th></th>\n      <th></th>\n      <th></th>\n      <th></th>\n      <th></th>\n      <th></th>\n      <th></th>\n      <th></th>\n      <th></th>\n      <th></th>\n      <th></th>\n      <th></th>\n      <th></th>\n      <th></th>\n    </tr>\n  </thead>\n  <tbody>\n    <tr>\n      <th rowspan=\"11\" valign=\"top\">5</th>\n      <th>0</th>\n      <td>19</td>\n      <td>236</td>\n      <td>201.050003</td>\n      <td>4.639383</td>\n      <td>True</td>\n      <td>118</td>\n      <td>-0.629396</td>\n      <td>-0.204372</td>\n      <td>0.0</td>\n      <td>-0.209877</td>\n      <td>-0.060654</td>\n      <td>0.975845</td>\n      <td>0.994887</td>\n      <td>0.220242</td>\n      <td>3.422925</td>\n      <td>1374.893921</td>\n      <td>False</td>\n    </tr>\n    <tr>\n      <th>1</th>\n      <td>96</td>\n      <td>97</td>\n      <td>201.050003</td>\n      <td>3.122469</td>\n      <td>True</td>\n      <td>118</td>\n      <td>-0.629396</td>\n      <td>-0.204372</td>\n      <td>0.0</td>\n      <td>-0.209877</td>\n      <td>-0.060654</td>\n      <td>0.975845</td>\n      <td>0.994887</td>\n      <td>0.220242</td>\n      <td>3.422925</td>\n      <td>1374.893921</td>\n      <td>False</td>\n    </tr>\n    <tr>\n      <th>2</th>\n      <td>90</td>\n      <td>112</td>\n      <td>201.050003</td>\n      <td>3.018600</td>\n      <td>True</td>\n      <td>118</td>\n      <td>-0.629396</td>\n      <td>-0.204372</td>\n      <td>0.0</td>\n      <td>-0.209877</td>\n      <td>-0.060654</td>\n      <td>0.975845</td>\n      <td>0.994887</td>\n      <td>0.220242</td>\n      <td>3.422925</td>\n      <td>1374.893921</td>\n      <td>True</td>\n    </tr>\n    <tr>\n      <th>3</th>\n      <td>90</td>\n      <td>113</td>\n      <td>201.050003</td>\n      <td>3.019780</td>\n      <td>True</td>\n      <td>118</td>\n      <td>-0.629396</td>\n      <td>-0.204372</td>\n      <td>0.0</td>\n      <td>-0.209877</td>\n      <td>-0.060654</td>\n      <td>0.975845</td>\n      <td>0.994887</td>\n      <td>0.220242</td>\n      <td>3.422925</td>\n      <td>1374.893921</td>\n      <td>True</td>\n    </tr>\n    <tr>\n      <th>4</th>\n      <td>89</td>\n      <td>118</td>\n      <td>201.050003</td>\n      <td>3.019531</td>\n      <td>True</td>\n      <td>118</td>\n      <td>-0.629396</td>\n      <td>-0.204372</td>\n      <td>0.0</td>\n      <td>-0.209877</td>\n      <td>-0.060654</td>\n      <td>0.975845</td>\n      <td>0.994887</td>\n      <td>0.220242</td>\n      <td>3.422925</td>\n      <td>1374.893921</td>\n      <td>True</td>\n    </tr>\n    <tr>\n      <th>...</th>\n      <td>...</td>\n      <td>...</td>\n      <td>...</td>\n      <td>...</td>\n      <td>...</td>\n      <td>...</td>\n      <td>...</td>\n      <td>...</td>\n      <td>...</td>\n      <td>...</td>\n      <td>...</td>\n      <td>...</td>\n      <td>...</td>\n      <td>...</td>\n      <td>...</td>\n      <td>...</td>\n      <td>...</td>\n    </tr>\n    <tr>\n      <th>113</th>\n      <td>159</td>\n      <td>156</td>\n      <td>201.050003</td>\n      <td>1.147197</td>\n      <td>False</td>\n      <td>118</td>\n      <td>-0.629396</td>\n      <td>-0.204372</td>\n      <td>0.0</td>\n      <td>-0.209877</td>\n      <td>-0.060654</td>\n      <td>0.975845</td>\n      <td>0.994887</td>\n      <td>0.220242</td>\n      <td>3.422925</td>\n      <td>1374.893921</td>\n      <td>False</td>\n    </tr>\n    <tr>\n      <th>114</th>\n      <td>215</td>\n      <td>151</td>\n      <td>201.050003</td>\n      <td>1.368650</td>\n      <td>False</td>\n      <td>118</td>\n      <td>-0.629396</td>\n      <td>-0.204372</td>\n      <td>0.0</td>\n      <td>-0.209877</td>\n      <td>-0.060654</td>\n      <td>0.975845</td>\n      <td>0.994887</td>\n      <td>0.220242</td>\n      <td>3.422925</td>\n      <td>1374.893921</td>\n      <td>False</td>\n    </tr>\n    <tr>\n      <th>115</th>\n      <td>105</td>\n      <td>185</td>\n      <td>201.050003</td>\n      <td>4.237696</td>\n      <td>False</td>\n      <td>118</td>\n      <td>-0.629396</td>\n      <td>-0.204372</td>\n      <td>0.0</td>\n      <td>-0.209877</td>\n      <td>-0.060654</td>\n      <td>0.975845</td>\n      <td>0.994887</td>\n      <td>0.220242</td>\n      <td>3.422925</td>\n      <td>1374.893921</td>\n      <td>False</td>\n    </tr>\n    <tr>\n      <th>116</th>\n      <td>19</td>\n      <td>240</td>\n      <td>201.050003</td>\n      <td>5.164397</td>\n      <td>False</td>\n      <td>118</td>\n      <td>-0.629396</td>\n      <td>-0.204372</td>\n      <td>0.0</td>\n      <td>-0.209877</td>\n      <td>-0.060654</td>\n      <td>0.975845</td>\n      <td>0.994887</td>\n      <td>0.220242</td>\n      <td>3.422925</td>\n      <td>1374.893921</td>\n      <td>False</td>\n    </tr>\n    <tr>\n      <th>117</th>\n      <td>81</td>\n      <td>63</td>\n      <td>201.050003</td>\n      <td>0.924208</td>\n      <td>False</td>\n      <td>118</td>\n      <td>-0.629396</td>\n      <td>-0.204372</td>\n      <td>0.0</td>\n      <td>-0.209877</td>\n      <td>-0.060654</td>\n      <td>0.975845</td>\n      <td>0.994887</td>\n      <td>0.220242</td>\n      <td>3.422925</td>\n      <td>1374.893921</td>\n      <td>False</td>\n    </tr>\n  </tbody>\n</table>\n<p>118 rows × 17 columns</p>\n</div>"
     },
     "execution_count": 21,
     "metadata": {},
     "output_type": "execute_result"
    }
   ],
   "source": [
    "df"
   ],
   "metadata": {
    "collapsed": false,
    "ExecuteTime": {
     "start_time": "2023-04-04T11:33:10.605281Z",
     "end_time": "2023-04-04T11:33:10.657659Z"
    }
   }
  },
  {
   "cell_type": "code",
   "execution_count": 22,
   "outputs": [
    {
     "data": {
      "text/plain": "0.6938775510204082"
     },
     "execution_count": 22,
     "metadata": {},
     "output_type": "execute_result"
    }
   ],
   "source": [
    "df[df.preds & df.signal]['x_c'].count() / df[df.signal]['x_c'].count()"
   ],
   "metadata": {
    "collapsed": false,
    "ExecuteTime": {
     "start_time": "2023-04-04T11:33:11.496553Z",
     "end_time": "2023-04-04T11:33:11.526388Z"
    }
   }
  },
  {
   "cell_type": "code",
   "execution_count": 23,
   "outputs": [
    {
     "data": {
      "application/vnd.plotly.v1+json": {
       "data": [
        {
         "mode": "markers",
         "name": "DF",
         "x": [
          19,
          96,
          90,
          90,
          89,
          92,
          91,
          90,
          92,
          95,
          100,
          102,
          99,
          97,
          101,
          104,
          99,
          98,
          99,
          100,
          99,
          108,
          105,
          111,
          105,
          108,
          106,
          106,
          117,
          114,
          120,
          119,
          119,
          119,
          114,
          123,
          123,
          121,
          122,
          121,
          125,
          134,
          133,
          131,
          129,
          156,
          168,
          165,
          175
         ],
         "y": [
          236,
          97,
          112,
          113,
          118,
          125,
          122,
          122,
          126,
          129,
          69,
          101,
          102,
          102,
          104,
          127,
          130,
          131,
          131,
          131,
          184,
          101,
          100,
          101,
          100,
          133,
          133,
          132,
          61,
          103,
          107,
          106,
          127,
          126,
          130,
          114,
          121,
          123,
          123,
          123,
          146,
          89,
          102,
          104,
          144,
          103,
          56,
          114,
          99
         ],
         "z": [
          4.639383299372525,
          3.1224694085339015,
          3.0186002683857387,
          3.01977954628262,
          3.019530577681393,
          3.0067029428699916,
          3.0084791016796535,
          3.0134345722416347,
          3.0050706100681728,
          2.9976776671627468,
          3.4417036605099147,
          2.995553596041531,
          3.002193195841641,
          3.0111582112530177,
          2.9918780160168117,
          3.3868083787182277,
          2.9824160766819423,
          2.984796209357113,
          2.9819956255176967,
          2.976909739992947,
          3.8320845198849147,
          2.981025917551846,
          2.988505287192196,
          2.9729366731861537,
          2.990781409762234,
          2.9584206176022,
          2.961571617148251,
          2.960796399138302,
          3.4141226840237087,
          2.9609144163349574,
          2.945155007860989,
          2.947699887774319,
          2.9314986896732753,
          2.9311836791256374,
          2.9414269757488674,
          2.932088716051907,
          2.928905589602322,
          2.9290470910290187,
          2.9298044872501796,
          2.927979750655026,
          3.084088547251553,
          3.05469028475079,
          2.9877579045513576,
          2.990143997691006,
          3.1382872891643947,
          3.1183572840908473,
          3.706921799204678,
          3.1541589331844753,
          3.225559217951626
         ],
         "type": "scatter3d"
        },
        {
         "mode": "markers",
         "name": "NOISE",
         "x": [
          27,
          106,
          117,
          165,
          144,
          73,
          200,
          145,
          239,
          123,
          227,
          64,
          31,
          117,
          89,
          215,
          17,
          168,
          57,
          232,
          148,
          167,
          74,
          3,
          98,
          36,
          165,
          92,
          19,
          142,
          219,
          64,
          221,
          84,
          10,
          187,
          3,
          46,
          196,
          210,
          35,
          131,
          234,
          218,
          228,
          28,
          20,
          38,
          210,
          232,
          158,
          224,
          119,
          151,
          81,
          222,
          107,
          83,
          131,
          30,
          234,
          175,
          37,
          37,
          159,
          215,
          105,
          19,
          81
         ],
         "y": [
          86,
          136,
          214,
          215,
          146,
          217,
          181,
          105,
          159,
          239,
          41,
          69,
          175,
          54,
          113,
          148,
          27,
          142,
          198,
          125,
          234,
          74,
          89,
          105,
          167,
          132,
          154,
          7,
          73,
          16,
          159,
          10,
          148,
          202,
          187,
          149,
          194,
          76,
          157,
          138,
          109,
          211,
          114,
          24,
          120,
          48,
          227,
          80,
          171,
          110,
          8,
          86,
          227,
          204,
          141,
          131,
          87,
          19,
          221,
          64,
          19,
          122,
          22,
          183,
          156,
          151,
          185,
          240,
          63
         ],
         "z": [
          4.3393969328108355,
          6.714612748983863,
          3.13313030070066,
          1.12747267059767,
          1.6084470530215262,
          2.8197117566792986,
          0.8730515667579745,
          3.3260620548347317,
          6.79012809963734,
          6.147533409210569,
          4.173584634605147,
          6.5588699493324505,
          4.40001467066064,
          0.5648297650526451,
          4.5815182270577175,
          4.118617110099658,
          4.518980277139917,
          1.81591646959384,
          5.129189335349725,
          3.7357977482840505,
          6.7691476056606374,
          0.8991138790811948,
          3.678410022560972,
          5.970038750056232,
          1.1701967449927944,
          5.403582682178272,
          6.541946554701152,
          5.165634097602588,
          4.5728817341937935,
          1.514426766025165,
          6.498402293698915,
          0.5763762841283273,
          2.560166472813101,
          0.3901921623235498,
          3.270407415547173,
          5.157948460874057,
          3.513194457060501,
          1.637851123738897,
          4.416390884834038,
          5.1690644160014205,
          1.7755050179616725,
          2.2977828883833675,
          1.4444234560010067,
          3.1733864646078054,
          0.4121054328662418,
          2.917295937585549,
          0.5914895882240963,
          1.8239245102634207,
          6.9375407915719745,
          0.4853722604479356,
          2.0656553949968255,
          2.663058239249162,
          5.814105542685925,
          0.7946584180478484,
          6.494660259299399,
          5.052354678681163,
          6.290236116386439,
          5.737457629300352,
          4.113903506063469,
          0.3711837978982131,
          6.32456661076033,
          4.083289125573172,
          1.1862559773819228,
          6.670512582598793,
          1.1471970053769134,
          1.3686500166802023,
          4.237696203132936,
          5.164397134006461,
          0.9242078286570453
         ],
         "type": "scatter3d"
        },
        {
         "mode": "markers",
         "name": "Predict",
         "x": [
          97.0,
          102.0,
          121.0,
          90.0,
          111.0,
          114.0,
          95.0,
          123.0,
          120.0,
          92.0,
          100.0,
          90.0,
          108.0,
          105.0,
          99.0,
          122.0,
          91.0,
          92.0,
          114.0,
          89.0,
          99.0,
          106.0,
          121.0,
          101.0,
          99.0,
          90.0,
          108.0,
          98.0,
          105.0,
          106.0,
          119.0,
          119.0,
          224.0,
          123.0,
          119.0
         ],
         "y": [
          102.0,
          101.0,
          123.0,
          112.0,
          101.0,
          130.0,
          129.0,
          121.0,
          107.0,
          125.0,
          131.0,
          122.0,
          133.0,
          100.0,
          131.0,
          123.0,
          122.0,
          126.0,
          103.0,
          118.0,
          130.0,
          132.0,
          123.0,
          104.0,
          102.0,
          113.0,
          101.0,
          131.0,
          100.0,
          133.0,
          126.0,
          106.0,
          86.0,
          114.0,
          127.0
         ],
         "z": [
          3.0111582112530177,
          2.995553596041531,
          2.9290470910290187,
          3.0186002683857387,
          2.9729366731861537,
          2.9414269757488674,
          2.9976776671627468,
          2.928905589602322,
          2.945155007860989,
          3.0067029428699916,
          2.976909739992947,
          3.0134345722416347,
          2.9584206176022,
          2.988505287192196,
          2.9819956255176967,
          2.9298044872501796,
          3.0084791016796535,
          3.0050706100681728,
          2.9609144163349574,
          3.019530577681393,
          2.9824160766819423,
          2.960796399138302,
          2.927979750655026,
          2.9918780160168117,
          3.002193195841641,
          3.01977954628262,
          2.981025917551846,
          2.984796209357113,
          2.990781409762234,
          2.961571617148251,
          2.9311836791256374,
          2.947699887774319,
          2.663058239249162,
          2.932088716051907,
          2.9314986896732753
         ],
         "type": "scatter3d"
        }
       ],
       "layout": {
        "template": {
         "data": {
          "histogram2dcontour": [
           {
            "type": "histogram2dcontour",
            "colorbar": {
             "outlinewidth": 0,
             "ticks": ""
            },
            "colorscale": [
             [
              0.0,
              "#0d0887"
             ],
             [
              0.1111111111111111,
              "#46039f"
             ],
             [
              0.2222222222222222,
              "#7201a8"
             ],
             [
              0.3333333333333333,
              "#9c179e"
             ],
             [
              0.4444444444444444,
              "#bd3786"
             ],
             [
              0.5555555555555556,
              "#d8576b"
             ],
             [
              0.6666666666666666,
              "#ed7953"
             ],
             [
              0.7777777777777778,
              "#fb9f3a"
             ],
             [
              0.8888888888888888,
              "#fdca26"
             ],
             [
              1.0,
              "#f0f921"
             ]
            ]
           }
          ],
          "choropleth": [
           {
            "type": "choropleth",
            "colorbar": {
             "outlinewidth": 0,
             "ticks": ""
            }
           }
          ],
          "histogram2d": [
           {
            "type": "histogram2d",
            "colorbar": {
             "outlinewidth": 0,
             "ticks": ""
            },
            "colorscale": [
             [
              0.0,
              "#0d0887"
             ],
             [
              0.1111111111111111,
              "#46039f"
             ],
             [
              0.2222222222222222,
              "#7201a8"
             ],
             [
              0.3333333333333333,
              "#9c179e"
             ],
             [
              0.4444444444444444,
              "#bd3786"
             ],
             [
              0.5555555555555556,
              "#d8576b"
             ],
             [
              0.6666666666666666,
              "#ed7953"
             ],
             [
              0.7777777777777778,
              "#fb9f3a"
             ],
             [
              0.8888888888888888,
              "#fdca26"
             ],
             [
              1.0,
              "#f0f921"
             ]
            ]
           }
          ],
          "heatmap": [
           {
            "type": "heatmap",
            "colorbar": {
             "outlinewidth": 0,
             "ticks": ""
            },
            "colorscale": [
             [
              0.0,
              "#0d0887"
             ],
             [
              0.1111111111111111,
              "#46039f"
             ],
             [
              0.2222222222222222,
              "#7201a8"
             ],
             [
              0.3333333333333333,
              "#9c179e"
             ],
             [
              0.4444444444444444,
              "#bd3786"
             ],
             [
              0.5555555555555556,
              "#d8576b"
             ],
             [
              0.6666666666666666,
              "#ed7953"
             ],
             [
              0.7777777777777778,
              "#fb9f3a"
             ],
             [
              0.8888888888888888,
              "#fdca26"
             ],
             [
              1.0,
              "#f0f921"
             ]
            ]
           }
          ],
          "heatmapgl": [
           {
            "type": "heatmapgl",
            "colorbar": {
             "outlinewidth": 0,
             "ticks": ""
            },
            "colorscale": [
             [
              0.0,
              "#0d0887"
             ],
             [
              0.1111111111111111,
              "#46039f"
             ],
             [
              0.2222222222222222,
              "#7201a8"
             ],
             [
              0.3333333333333333,
              "#9c179e"
             ],
             [
              0.4444444444444444,
              "#bd3786"
             ],
             [
              0.5555555555555556,
              "#d8576b"
             ],
             [
              0.6666666666666666,
              "#ed7953"
             ],
             [
              0.7777777777777778,
              "#fb9f3a"
             ],
             [
              0.8888888888888888,
              "#fdca26"
             ],
             [
              1.0,
              "#f0f921"
             ]
            ]
           }
          ],
          "contourcarpet": [
           {
            "type": "contourcarpet",
            "colorbar": {
             "outlinewidth": 0,
             "ticks": ""
            }
           }
          ],
          "contour": [
           {
            "type": "contour",
            "colorbar": {
             "outlinewidth": 0,
             "ticks": ""
            },
            "colorscale": [
             [
              0.0,
              "#0d0887"
             ],
             [
              0.1111111111111111,
              "#46039f"
             ],
             [
              0.2222222222222222,
              "#7201a8"
             ],
             [
              0.3333333333333333,
              "#9c179e"
             ],
             [
              0.4444444444444444,
              "#bd3786"
             ],
             [
              0.5555555555555556,
              "#d8576b"
             ],
             [
              0.6666666666666666,
              "#ed7953"
             ],
             [
              0.7777777777777778,
              "#fb9f3a"
             ],
             [
              0.8888888888888888,
              "#fdca26"
             ],
             [
              1.0,
              "#f0f921"
             ]
            ]
           }
          ],
          "surface": [
           {
            "type": "surface",
            "colorbar": {
             "outlinewidth": 0,
             "ticks": ""
            },
            "colorscale": [
             [
              0.0,
              "#0d0887"
             ],
             [
              0.1111111111111111,
              "#46039f"
             ],
             [
              0.2222222222222222,
              "#7201a8"
             ],
             [
              0.3333333333333333,
              "#9c179e"
             ],
             [
              0.4444444444444444,
              "#bd3786"
             ],
             [
              0.5555555555555556,
              "#d8576b"
             ],
             [
              0.6666666666666666,
              "#ed7953"
             ],
             [
              0.7777777777777778,
              "#fb9f3a"
             ],
             [
              0.8888888888888888,
              "#fdca26"
             ],
             [
              1.0,
              "#f0f921"
             ]
            ]
           }
          ],
          "mesh3d": [
           {
            "type": "mesh3d",
            "colorbar": {
             "outlinewidth": 0,
             "ticks": ""
            }
           }
          ],
          "scatter": [
           {
            "marker": {
             "line": {
              "color": "#283442"
             }
            },
            "type": "scatter"
           }
          ],
          "parcoords": [
           {
            "type": "parcoords",
            "line": {
             "colorbar": {
              "outlinewidth": 0,
              "ticks": ""
             }
            }
           }
          ],
          "scatterpolargl": [
           {
            "type": "scatterpolargl",
            "marker": {
             "colorbar": {
              "outlinewidth": 0,
              "ticks": ""
             }
            }
           }
          ],
          "bar": [
           {
            "error_x": {
             "color": "#f2f5fa"
            },
            "error_y": {
             "color": "#f2f5fa"
            },
            "marker": {
             "line": {
              "color": "rgb(17,17,17)",
              "width": 0.5
             },
             "pattern": {
              "fillmode": "overlay",
              "size": 10,
              "solidity": 0.2
             }
            },
            "type": "bar"
           }
          ],
          "scattergeo": [
           {
            "type": "scattergeo",
            "marker": {
             "colorbar": {
              "outlinewidth": 0,
              "ticks": ""
             }
            }
           }
          ],
          "scatterpolar": [
           {
            "type": "scatterpolar",
            "marker": {
             "colorbar": {
              "outlinewidth": 0,
              "ticks": ""
             }
            }
           }
          ],
          "histogram": [
           {
            "marker": {
             "pattern": {
              "fillmode": "overlay",
              "size": 10,
              "solidity": 0.2
             }
            },
            "type": "histogram"
           }
          ],
          "scattergl": [
           {
            "marker": {
             "line": {
              "color": "#283442"
             }
            },
            "type": "scattergl"
           }
          ],
          "scatter3d": [
           {
            "type": "scatter3d",
            "line": {
             "colorbar": {
              "outlinewidth": 0,
              "ticks": ""
             }
            },
            "marker": {
             "colorbar": {
              "outlinewidth": 0,
              "ticks": ""
             }
            }
           }
          ],
          "scattermapbox": [
           {
            "type": "scattermapbox",
            "marker": {
             "colorbar": {
              "outlinewidth": 0,
              "ticks": ""
             }
            }
           }
          ],
          "scatterternary": [
           {
            "type": "scatterternary",
            "marker": {
             "colorbar": {
              "outlinewidth": 0,
              "ticks": ""
             }
            }
           }
          ],
          "scattercarpet": [
           {
            "type": "scattercarpet",
            "marker": {
             "colorbar": {
              "outlinewidth": 0,
              "ticks": ""
             }
            }
           }
          ],
          "carpet": [
           {
            "aaxis": {
             "endlinecolor": "#A2B1C6",
             "gridcolor": "#506784",
             "linecolor": "#506784",
             "minorgridcolor": "#506784",
             "startlinecolor": "#A2B1C6"
            },
            "baxis": {
             "endlinecolor": "#A2B1C6",
             "gridcolor": "#506784",
             "linecolor": "#506784",
             "minorgridcolor": "#506784",
             "startlinecolor": "#A2B1C6"
            },
            "type": "carpet"
           }
          ],
          "table": [
           {
            "cells": {
             "fill": {
              "color": "#506784"
             },
             "line": {
              "color": "rgb(17,17,17)"
             }
            },
            "header": {
             "fill": {
              "color": "#2a3f5f"
             },
             "line": {
              "color": "rgb(17,17,17)"
             }
            },
            "type": "table"
           }
          ],
          "barpolar": [
           {
            "marker": {
             "line": {
              "color": "rgb(17,17,17)",
              "width": 0.5
             },
             "pattern": {
              "fillmode": "overlay",
              "size": 10,
              "solidity": 0.2
             }
            },
            "type": "barpolar"
           }
          ],
          "pie": [
           {
            "automargin": true,
            "type": "pie"
           }
          ]
         },
         "layout": {
          "autotypenumbers": "strict",
          "colorway": [
           "#636efa",
           "#EF553B",
           "#00cc96",
           "#ab63fa",
           "#FFA15A",
           "#19d3f3",
           "#FF6692",
           "#B6E880",
           "#FF97FF",
           "#FECB52"
          ],
          "font": {
           "color": "#f2f5fa"
          },
          "hovermode": "closest",
          "hoverlabel": {
           "align": "left"
          },
          "paper_bgcolor": "rgb(17,17,17)",
          "plot_bgcolor": "rgb(17,17,17)",
          "polar": {
           "bgcolor": "rgb(17,17,17)",
           "angularaxis": {
            "gridcolor": "#506784",
            "linecolor": "#506784",
            "ticks": ""
           },
           "radialaxis": {
            "gridcolor": "#506784",
            "linecolor": "#506784",
            "ticks": ""
           }
          },
          "ternary": {
           "bgcolor": "rgb(17,17,17)",
           "aaxis": {
            "gridcolor": "#506784",
            "linecolor": "#506784",
            "ticks": ""
           },
           "baxis": {
            "gridcolor": "#506784",
            "linecolor": "#506784",
            "ticks": ""
           },
           "caxis": {
            "gridcolor": "#506784",
            "linecolor": "#506784",
            "ticks": ""
           }
          },
          "coloraxis": {
           "colorbar": {
            "outlinewidth": 0,
            "ticks": ""
           }
          },
          "colorscale": {
           "sequential": [
            [
             0.0,
             "#0d0887"
            ],
            [
             0.1111111111111111,
             "#46039f"
            ],
            [
             0.2222222222222222,
             "#7201a8"
            ],
            [
             0.3333333333333333,
             "#9c179e"
            ],
            [
             0.4444444444444444,
             "#bd3786"
            ],
            [
             0.5555555555555556,
             "#d8576b"
            ],
            [
             0.6666666666666666,
             "#ed7953"
            ],
            [
             0.7777777777777778,
             "#fb9f3a"
            ],
            [
             0.8888888888888888,
             "#fdca26"
            ],
            [
             1.0,
             "#f0f921"
            ]
           ],
           "sequentialminus": [
            [
             0.0,
             "#0d0887"
            ],
            [
             0.1111111111111111,
             "#46039f"
            ],
            [
             0.2222222222222222,
             "#7201a8"
            ],
            [
             0.3333333333333333,
             "#9c179e"
            ],
            [
             0.4444444444444444,
             "#bd3786"
            ],
            [
             0.5555555555555556,
             "#d8576b"
            ],
            [
             0.6666666666666666,
             "#ed7953"
            ],
            [
             0.7777777777777778,
             "#fb9f3a"
            ],
            [
             0.8888888888888888,
             "#fdca26"
            ],
            [
             1.0,
             "#f0f921"
            ]
           ],
           "diverging": [
            [
             0,
             "#8e0152"
            ],
            [
             0.1,
             "#c51b7d"
            ],
            [
             0.2,
             "#de77ae"
            ],
            [
             0.3,
             "#f1b6da"
            ],
            [
             0.4,
             "#fde0ef"
            ],
            [
             0.5,
             "#f7f7f7"
            ],
            [
             0.6,
             "#e6f5d0"
            ],
            [
             0.7,
             "#b8e186"
            ],
            [
             0.8,
             "#7fbc41"
            ],
            [
             0.9,
             "#4d9221"
            ],
            [
             1,
             "#276419"
            ]
           ]
          },
          "xaxis": {
           "gridcolor": "#283442",
           "linecolor": "#506784",
           "ticks": "",
           "title": {
            "standoff": 15
           },
           "zerolinecolor": "#283442",
           "automargin": true,
           "zerolinewidth": 2
          },
          "yaxis": {
           "gridcolor": "#283442",
           "linecolor": "#506784",
           "ticks": "",
           "title": {
            "standoff": 15
           },
           "zerolinecolor": "#283442",
           "automargin": true,
           "zerolinewidth": 2
          },
          "scene": {
           "xaxis": {
            "backgroundcolor": "rgb(17,17,17)",
            "gridcolor": "#506784",
            "linecolor": "#506784",
            "showbackground": true,
            "ticks": "",
            "zerolinecolor": "#C8D4E3",
            "gridwidth": 2
           },
           "yaxis": {
            "backgroundcolor": "rgb(17,17,17)",
            "gridcolor": "#506784",
            "linecolor": "#506784",
            "showbackground": true,
            "ticks": "",
            "zerolinecolor": "#C8D4E3",
            "gridwidth": 2
           },
           "zaxis": {
            "backgroundcolor": "rgb(17,17,17)",
            "gridcolor": "#506784",
            "linecolor": "#506784",
            "showbackground": true,
            "ticks": "",
            "zerolinecolor": "#C8D4E3",
            "gridwidth": 2
           }
          },
          "shapedefaults": {
           "line": {
            "color": "#f2f5fa"
           }
          },
          "annotationdefaults": {
           "arrowcolor": "#f2f5fa",
           "arrowhead": 0,
           "arrowwidth": 1
          },
          "geo": {
           "bgcolor": "rgb(17,17,17)",
           "landcolor": "rgb(17,17,17)",
           "subunitcolor": "#506784",
           "showland": true,
           "showlakes": true,
           "lakecolor": "rgb(17,17,17)"
          },
          "title": {
           "x": 0.05
          },
          "updatemenudefaults": {
           "bgcolor": "#506784",
           "borderwidth": 0
          },
          "sliderdefaults": {
           "bgcolor": "#C8D4E3",
           "borderwidth": 1,
           "bordercolor": "rgb(17,17,17)",
           "tickwidth": 0
          },
          "mapbox": {
           "style": "dark"
          }
         }
        },
        "scene": {
         "xaxis": {
          "title": {
           "text": "X"
          }
         },
         "yaxis": {
          "title": {
           "text": "Y"
          }
         },
         "zaxis": {
          "title": {
           "text": "T"
          }
         }
        }
       },
       "config": {
        "plotlyServerURL": "https://plot.ly"
       }
      },
      "text/html": "<div>                            <div id=\"5b8ddc72-83eb-4855-9442-301a53b5ab52\" class=\"plotly-graph-div\" style=\"height:525px; width:100%;\"></div>            <script type=\"text/javascript\">                require([\"plotly\"], function(Plotly) {                    window.PLOTLYENV=window.PLOTLYENV || {};                                    if (document.getElementById(\"5b8ddc72-83eb-4855-9442-301a53b5ab52\")) {                    Plotly.newPlot(                        \"5b8ddc72-83eb-4855-9442-301a53b5ab52\",                        [{\"mode\":\"markers\",\"name\":\"DF\",\"x\":[19,96,90,90,89,92,91,90,92,95,100,102,99,97,101,104,99,98,99,100,99,108,105,111,105,108,106,106,117,114,120,119,119,119,114,123,123,121,122,121,125,134,133,131,129,156,168,165,175],\"y\":[236,97,112,113,118,125,122,122,126,129,69,101,102,102,104,127,130,131,131,131,184,101,100,101,100,133,133,132,61,103,107,106,127,126,130,114,121,123,123,123,146,89,102,104,144,103,56,114,99],\"z\":[4.639383299372525,3.1224694085339015,3.0186002683857387,3.01977954628262,3.019530577681393,3.0067029428699916,3.0084791016796535,3.0134345722416347,3.0050706100681728,2.9976776671627468,3.4417036605099147,2.995553596041531,3.002193195841641,3.0111582112530177,2.9918780160168117,3.3868083787182277,2.9824160766819423,2.984796209357113,2.9819956255176967,2.976909739992947,3.8320845198849147,2.981025917551846,2.988505287192196,2.9729366731861537,2.990781409762234,2.9584206176022,2.961571617148251,2.960796399138302,3.4141226840237087,2.9609144163349574,2.945155007860989,2.947699887774319,2.9314986896732753,2.9311836791256374,2.9414269757488674,2.932088716051907,2.928905589602322,2.9290470910290187,2.9298044872501796,2.927979750655026,3.084088547251553,3.05469028475079,2.9877579045513576,2.990143997691006,3.1382872891643947,3.1183572840908473,3.706921799204678,3.1541589331844753,3.225559217951626],\"type\":\"scatter3d\"},{\"mode\":\"markers\",\"name\":\"NOISE\",\"x\":[27,106,117,165,144,73,200,145,239,123,227,64,31,117,89,215,17,168,57,232,148,167,74,3,98,36,165,92,19,142,219,64,221,84,10,187,3,46,196,210,35,131,234,218,228,28,20,38,210,232,158,224,119,151,81,222,107,83,131,30,234,175,37,37,159,215,105,19,81],\"y\":[86,136,214,215,146,217,181,105,159,239,41,69,175,54,113,148,27,142,198,125,234,74,89,105,167,132,154,7,73,16,159,10,148,202,187,149,194,76,157,138,109,211,114,24,120,48,227,80,171,110,8,86,227,204,141,131,87,19,221,64,19,122,22,183,156,151,185,240,63],\"z\":[4.3393969328108355,6.714612748983863,3.13313030070066,1.12747267059767,1.6084470530215262,2.8197117566792986,0.8730515667579745,3.3260620548347317,6.79012809963734,6.147533409210569,4.173584634605147,6.5588699493324505,4.40001467066064,0.5648297650526451,4.5815182270577175,4.118617110099658,4.518980277139917,1.81591646959384,5.129189335349725,3.7357977482840505,6.7691476056606374,0.8991138790811948,3.678410022560972,5.970038750056232,1.1701967449927944,5.403582682178272,6.541946554701152,5.165634097602588,4.5728817341937935,1.514426766025165,6.498402293698915,0.5763762841283273,2.560166472813101,0.3901921623235498,3.270407415547173,5.157948460874057,3.513194457060501,1.637851123738897,4.416390884834038,5.1690644160014205,1.7755050179616725,2.2977828883833675,1.4444234560010067,3.1733864646078054,0.4121054328662418,2.917295937585549,0.5914895882240963,1.8239245102634207,6.9375407915719745,0.4853722604479356,2.0656553949968255,2.663058239249162,5.814105542685925,0.7946584180478484,6.494660259299399,5.052354678681163,6.290236116386439,5.737457629300352,4.113903506063469,0.3711837978982131,6.32456661076033,4.083289125573172,1.1862559773819228,6.670512582598793,1.1471970053769134,1.3686500166802023,4.237696203132936,5.164397134006461,0.9242078286570453],\"type\":\"scatter3d\"},{\"mode\":\"markers\",\"name\":\"Predict\",\"x\":[97.0,102.0,121.0,90.0,111.0,114.0,95.0,123.0,120.0,92.0,100.0,90.0,108.0,105.0,99.0,122.0,91.0,92.0,114.0,89.0,99.0,106.0,121.0,101.0,99.0,90.0,108.0,98.0,105.0,106.0,119.0,119.0,224.0,123.0,119.0],\"y\":[102.0,101.0,123.0,112.0,101.0,130.0,129.0,121.0,107.0,125.0,131.0,122.0,133.0,100.0,131.0,123.0,122.0,126.0,103.0,118.0,130.0,132.0,123.0,104.0,102.0,113.0,101.0,131.0,100.0,133.0,126.0,106.0,86.0,114.0,127.0],\"z\":[3.0111582112530177,2.995553596041531,2.9290470910290187,3.0186002683857387,2.9729366731861537,2.9414269757488674,2.9976776671627468,2.928905589602322,2.945155007860989,3.0067029428699916,2.976909739992947,3.0134345722416347,2.9584206176022,2.988505287192196,2.9819956255176967,2.9298044872501796,3.0084791016796535,3.0050706100681728,2.9609144163349574,3.019530577681393,2.9824160766819423,2.960796399138302,2.927979750655026,2.9918780160168117,3.002193195841641,3.01977954628262,2.981025917551846,2.984796209357113,2.990781409762234,2.961571617148251,2.9311836791256374,2.947699887774319,2.663058239249162,2.932088716051907,2.9314986896732753],\"type\":\"scatter3d\"}],                        {\"template\":{\"data\":{\"histogram2dcontour\":[{\"type\":\"histogram2dcontour\",\"colorbar\":{\"outlinewidth\":0,\"ticks\":\"\"},\"colorscale\":[[0.0,\"#0d0887\"],[0.1111111111111111,\"#46039f\"],[0.2222222222222222,\"#7201a8\"],[0.3333333333333333,\"#9c179e\"],[0.4444444444444444,\"#bd3786\"],[0.5555555555555556,\"#d8576b\"],[0.6666666666666666,\"#ed7953\"],[0.7777777777777778,\"#fb9f3a\"],[0.8888888888888888,\"#fdca26\"],[1.0,\"#f0f921\"]]}],\"choropleth\":[{\"type\":\"choropleth\",\"colorbar\":{\"outlinewidth\":0,\"ticks\":\"\"}}],\"histogram2d\":[{\"type\":\"histogram2d\",\"colorbar\":{\"outlinewidth\":0,\"ticks\":\"\"},\"colorscale\":[[0.0,\"#0d0887\"],[0.1111111111111111,\"#46039f\"],[0.2222222222222222,\"#7201a8\"],[0.3333333333333333,\"#9c179e\"],[0.4444444444444444,\"#bd3786\"],[0.5555555555555556,\"#d8576b\"],[0.6666666666666666,\"#ed7953\"],[0.7777777777777778,\"#fb9f3a\"],[0.8888888888888888,\"#fdca26\"],[1.0,\"#f0f921\"]]}],\"heatmap\":[{\"type\":\"heatmap\",\"colorbar\":{\"outlinewidth\":0,\"ticks\":\"\"},\"colorscale\":[[0.0,\"#0d0887\"],[0.1111111111111111,\"#46039f\"],[0.2222222222222222,\"#7201a8\"],[0.3333333333333333,\"#9c179e\"],[0.4444444444444444,\"#bd3786\"],[0.5555555555555556,\"#d8576b\"],[0.6666666666666666,\"#ed7953\"],[0.7777777777777778,\"#fb9f3a\"],[0.8888888888888888,\"#fdca26\"],[1.0,\"#f0f921\"]]}],\"heatmapgl\":[{\"type\":\"heatmapgl\",\"colorbar\":{\"outlinewidth\":0,\"ticks\":\"\"},\"colorscale\":[[0.0,\"#0d0887\"],[0.1111111111111111,\"#46039f\"],[0.2222222222222222,\"#7201a8\"],[0.3333333333333333,\"#9c179e\"],[0.4444444444444444,\"#bd3786\"],[0.5555555555555556,\"#d8576b\"],[0.6666666666666666,\"#ed7953\"],[0.7777777777777778,\"#fb9f3a\"],[0.8888888888888888,\"#fdca26\"],[1.0,\"#f0f921\"]]}],\"contourcarpet\":[{\"type\":\"contourcarpet\",\"colorbar\":{\"outlinewidth\":0,\"ticks\":\"\"}}],\"contour\":[{\"type\":\"contour\",\"colorbar\":{\"outlinewidth\":0,\"ticks\":\"\"},\"colorscale\":[[0.0,\"#0d0887\"],[0.1111111111111111,\"#46039f\"],[0.2222222222222222,\"#7201a8\"],[0.3333333333333333,\"#9c179e\"],[0.4444444444444444,\"#bd3786\"],[0.5555555555555556,\"#d8576b\"],[0.6666666666666666,\"#ed7953\"],[0.7777777777777778,\"#fb9f3a\"],[0.8888888888888888,\"#fdca26\"],[1.0,\"#f0f921\"]]}],\"surface\":[{\"type\":\"surface\",\"colorbar\":{\"outlinewidth\":0,\"ticks\":\"\"},\"colorscale\":[[0.0,\"#0d0887\"],[0.1111111111111111,\"#46039f\"],[0.2222222222222222,\"#7201a8\"],[0.3333333333333333,\"#9c179e\"],[0.4444444444444444,\"#bd3786\"],[0.5555555555555556,\"#d8576b\"],[0.6666666666666666,\"#ed7953\"],[0.7777777777777778,\"#fb9f3a\"],[0.8888888888888888,\"#fdca26\"],[1.0,\"#f0f921\"]]}],\"mesh3d\":[{\"type\":\"mesh3d\",\"colorbar\":{\"outlinewidth\":0,\"ticks\":\"\"}}],\"scatter\":[{\"marker\":{\"line\":{\"color\":\"#283442\"}},\"type\":\"scatter\"}],\"parcoords\":[{\"type\":\"parcoords\",\"line\":{\"colorbar\":{\"outlinewidth\":0,\"ticks\":\"\"}}}],\"scatterpolargl\":[{\"type\":\"scatterpolargl\",\"marker\":{\"colorbar\":{\"outlinewidth\":0,\"ticks\":\"\"}}}],\"bar\":[{\"error_x\":{\"color\":\"#f2f5fa\"},\"error_y\":{\"color\":\"#f2f5fa\"},\"marker\":{\"line\":{\"color\":\"rgb(17,17,17)\",\"width\":0.5},\"pattern\":{\"fillmode\":\"overlay\",\"size\":10,\"solidity\":0.2}},\"type\":\"bar\"}],\"scattergeo\":[{\"type\":\"scattergeo\",\"marker\":{\"colorbar\":{\"outlinewidth\":0,\"ticks\":\"\"}}}],\"scatterpolar\":[{\"type\":\"scatterpolar\",\"marker\":{\"colorbar\":{\"outlinewidth\":0,\"ticks\":\"\"}}}],\"histogram\":[{\"marker\":{\"pattern\":{\"fillmode\":\"overlay\",\"size\":10,\"solidity\":0.2}},\"type\":\"histogram\"}],\"scattergl\":[{\"marker\":{\"line\":{\"color\":\"#283442\"}},\"type\":\"scattergl\"}],\"scatter3d\":[{\"type\":\"scatter3d\",\"line\":{\"colorbar\":{\"outlinewidth\":0,\"ticks\":\"\"}},\"marker\":{\"colorbar\":{\"outlinewidth\":0,\"ticks\":\"\"}}}],\"scattermapbox\":[{\"type\":\"scattermapbox\",\"marker\":{\"colorbar\":{\"outlinewidth\":0,\"ticks\":\"\"}}}],\"scatterternary\":[{\"type\":\"scatterternary\",\"marker\":{\"colorbar\":{\"outlinewidth\":0,\"ticks\":\"\"}}}],\"scattercarpet\":[{\"type\":\"scattercarpet\",\"marker\":{\"colorbar\":{\"outlinewidth\":0,\"ticks\":\"\"}}}],\"carpet\":[{\"aaxis\":{\"endlinecolor\":\"#A2B1C6\",\"gridcolor\":\"#506784\",\"linecolor\":\"#506784\",\"minorgridcolor\":\"#506784\",\"startlinecolor\":\"#A2B1C6\"},\"baxis\":{\"endlinecolor\":\"#A2B1C6\",\"gridcolor\":\"#506784\",\"linecolor\":\"#506784\",\"minorgridcolor\":\"#506784\",\"startlinecolor\":\"#A2B1C6\"},\"type\":\"carpet\"}],\"table\":[{\"cells\":{\"fill\":{\"color\":\"#506784\"},\"line\":{\"color\":\"rgb(17,17,17)\"}},\"header\":{\"fill\":{\"color\":\"#2a3f5f\"},\"line\":{\"color\":\"rgb(17,17,17)\"}},\"type\":\"table\"}],\"barpolar\":[{\"marker\":{\"line\":{\"color\":\"rgb(17,17,17)\",\"width\":0.5},\"pattern\":{\"fillmode\":\"overlay\",\"size\":10,\"solidity\":0.2}},\"type\":\"barpolar\"}],\"pie\":[{\"automargin\":true,\"type\":\"pie\"}]},\"layout\":{\"autotypenumbers\":\"strict\",\"colorway\":[\"#636efa\",\"#EF553B\",\"#00cc96\",\"#ab63fa\",\"#FFA15A\",\"#19d3f3\",\"#FF6692\",\"#B6E880\",\"#FF97FF\",\"#FECB52\"],\"font\":{\"color\":\"#f2f5fa\"},\"hovermode\":\"closest\",\"hoverlabel\":{\"align\":\"left\"},\"paper_bgcolor\":\"rgb(17,17,17)\",\"plot_bgcolor\":\"rgb(17,17,17)\",\"polar\":{\"bgcolor\":\"rgb(17,17,17)\",\"angularaxis\":{\"gridcolor\":\"#506784\",\"linecolor\":\"#506784\",\"ticks\":\"\"},\"radialaxis\":{\"gridcolor\":\"#506784\",\"linecolor\":\"#506784\",\"ticks\":\"\"}},\"ternary\":{\"bgcolor\":\"rgb(17,17,17)\",\"aaxis\":{\"gridcolor\":\"#506784\",\"linecolor\":\"#506784\",\"ticks\":\"\"},\"baxis\":{\"gridcolor\":\"#506784\",\"linecolor\":\"#506784\",\"ticks\":\"\"},\"caxis\":{\"gridcolor\":\"#506784\",\"linecolor\":\"#506784\",\"ticks\":\"\"}},\"coloraxis\":{\"colorbar\":{\"outlinewidth\":0,\"ticks\":\"\"}},\"colorscale\":{\"sequential\":[[0.0,\"#0d0887\"],[0.1111111111111111,\"#46039f\"],[0.2222222222222222,\"#7201a8\"],[0.3333333333333333,\"#9c179e\"],[0.4444444444444444,\"#bd3786\"],[0.5555555555555556,\"#d8576b\"],[0.6666666666666666,\"#ed7953\"],[0.7777777777777778,\"#fb9f3a\"],[0.8888888888888888,\"#fdca26\"],[1.0,\"#f0f921\"]],\"sequentialminus\":[[0.0,\"#0d0887\"],[0.1111111111111111,\"#46039f\"],[0.2222222222222222,\"#7201a8\"],[0.3333333333333333,\"#9c179e\"],[0.4444444444444444,\"#bd3786\"],[0.5555555555555556,\"#d8576b\"],[0.6666666666666666,\"#ed7953\"],[0.7777777777777778,\"#fb9f3a\"],[0.8888888888888888,\"#fdca26\"],[1.0,\"#f0f921\"]],\"diverging\":[[0,\"#8e0152\"],[0.1,\"#c51b7d\"],[0.2,\"#de77ae\"],[0.3,\"#f1b6da\"],[0.4,\"#fde0ef\"],[0.5,\"#f7f7f7\"],[0.6,\"#e6f5d0\"],[0.7,\"#b8e186\"],[0.8,\"#7fbc41\"],[0.9,\"#4d9221\"],[1,\"#276419\"]]},\"xaxis\":{\"gridcolor\":\"#283442\",\"linecolor\":\"#506784\",\"ticks\":\"\",\"title\":{\"standoff\":15},\"zerolinecolor\":\"#283442\",\"automargin\":true,\"zerolinewidth\":2},\"yaxis\":{\"gridcolor\":\"#283442\",\"linecolor\":\"#506784\",\"ticks\":\"\",\"title\":{\"standoff\":15},\"zerolinecolor\":\"#283442\",\"automargin\":true,\"zerolinewidth\":2},\"scene\":{\"xaxis\":{\"backgroundcolor\":\"rgb(17,17,17)\",\"gridcolor\":\"#506784\",\"linecolor\":\"#506784\",\"showbackground\":true,\"ticks\":\"\",\"zerolinecolor\":\"#C8D4E3\",\"gridwidth\":2},\"yaxis\":{\"backgroundcolor\":\"rgb(17,17,17)\",\"gridcolor\":\"#506784\",\"linecolor\":\"#506784\",\"showbackground\":true,\"ticks\":\"\",\"zerolinecolor\":\"#C8D4E3\",\"gridwidth\":2},\"zaxis\":{\"backgroundcolor\":\"rgb(17,17,17)\",\"gridcolor\":\"#506784\",\"linecolor\":\"#506784\",\"showbackground\":true,\"ticks\":\"\",\"zerolinecolor\":\"#C8D4E3\",\"gridwidth\":2}},\"shapedefaults\":{\"line\":{\"color\":\"#f2f5fa\"}},\"annotationdefaults\":{\"arrowcolor\":\"#f2f5fa\",\"arrowhead\":0,\"arrowwidth\":1},\"geo\":{\"bgcolor\":\"rgb(17,17,17)\",\"landcolor\":\"rgb(17,17,17)\",\"subunitcolor\":\"#506784\",\"showland\":true,\"showlakes\":true,\"lakecolor\":\"rgb(17,17,17)\"},\"title\":{\"x\":0.05},\"updatemenudefaults\":{\"bgcolor\":\"#506784\",\"borderwidth\":0},\"sliderdefaults\":{\"bgcolor\":\"#C8D4E3\",\"borderwidth\":1,\"bordercolor\":\"rgb(17,17,17)\",\"tickwidth\":0},\"mapbox\":{\"style\":\"dark\"}}},\"scene\":{\"xaxis\":{\"title\":{\"text\":\"X\"}},\"yaxis\":{\"title\":{\"text\":\"Y\"}},\"zaxis\":{\"title\":{\"text\":\"T\"}}}},                        {\"responsive\": true}                    ).then(function(){\n                            \nvar gd = document.getElementById('5b8ddc72-83eb-4855-9442-301a53b5ab52');\nvar x = new MutationObserver(function (mutations, observer) {{\n        var display = window.getComputedStyle(gd).display;\n        if (!display || display === 'none') {{\n            console.log([gd, 'removed!']);\n            Plotly.purge(gd);\n            observer.disconnect();\n        }}\n}});\n\n// Listen for the removal of the full notebook cells\nvar notebookContainer = gd.closest('#notebook-container');\nif (notebookContainer) {{\n    x.observe(notebookContainer, {childList: true});\n}}\n\n// Listen for the clearing of the current output cell\nvar outputEl = gd.closest('.output');\nif (outputEl) {{\n    x.observe(outputEl, {childList: true});\n}}\n\n                        })                };                });            </script>        </div>"
     },
     "metadata": {},
     "output_type": "display_data"
    }
   ],
   "source": [
    "points = np.array([p.to_numpy() for p in top.points])\n",
    "fig = go.Figure(\n",
    "    data=[\n",
    "        go.Scatter3d(z=df[df.signal]['t_c'], x=df[df.signal]['x_c'], y=df[df.signal]['y_c'],\n",
    "                     mode='markers', name='DF'),\n",
    "        go.Scatter3d(z=df[~df.signal]['t_c'], x=df[~df.signal]['x_c'], y=df[~df.signal]['y_c'],\n",
    "                     mode='markers', name='NOISE'),\n",
    "        # go.Scatter3d(z=[center[2]], x=[center[0]], y=[center[1]],\n",
    "        #              mode='markers', name='Center'),\n",
    "        go.Scatter3d(z=points[:, 2], x=points[:, 0], y=points[:, 1],\n",
    "                     mode='markers', name='Predict'),\n",
    "\n",
    "    ]\n",
    ")\n",
    "fig.update_layout(\n",
    "    scene={\n",
    "        \"xaxis_title\": \"X\",\n",
    "        \"yaxis_title\": \"Y\",\n",
    "        \"zaxis_title\": \"T\",\n",
    "    },\n",
    ")\n",
    "fig.show()"
   ],
   "metadata": {
    "collapsed": false,
    "ExecuteTime": {
     "start_time": "2023-04-04T11:33:14.915974Z",
     "end_time": "2023-04-04T11:33:14.953487Z"
    }
   }
  },
  {
   "cell_type": "code",
   "execution_count": 24,
   "outputs": [],
   "source": [
    "fig.write_html(\"results.html\")"
   ],
   "metadata": {
    "collapsed": false,
    "ExecuteTime": {
     "start_time": "2023-04-04T11:34:30.283394Z",
     "end_time": "2023-04-04T11:34:30.335360Z"
    }
   }
  },
  {
   "cell_type": "code",
   "execution_count": 29,
   "outputs": [
    {
     "data": {
      "text/plain": "<matplotlib.legend.Legend at 0x5a011e2b0>"
     },
     "execution_count": 29,
     "metadata": {},
     "output_type": "execute_result"
    },
    {
     "data": {
      "text/plain": "<Figure size 960x600 with 1 Axes>",
      "image/png": "[encoded data removed]"
     },
     "metadata": {},
     "output_type": "display_data"
    }
   ],
   "source": [
    "ax = IDataloader.plot_xy_solution(df)\n",
    "ax.scatter(points[:, 0], points[:, 1], label='Predict')\n",
    "plt.legend()"
   ],
   "metadata": {
    "collapsed": false,
    "ExecuteTime": {
     "start_time": "2023-04-04T11:37:57.092883Z",
     "end_time": "2023-04-04T11:37:57.233701Z"
    }
   }
  },
  {
   "cell_type": "code",
   "execution_count": null,
   "outputs": [],
   "source": [],
   "metadata": {
    "collapsed": false
   }
  }
 ],
 "metadata": {
  "kernelspec": {
   "display_name": "Python 3",
   "language": "python",
   "name": "python3"
  },
  "language_info": {
   "codemirror_mode": {
    "name": "ipython",
    "version": 2
   },
   "file_extension": ".py",
   "mimetype": "text/x-python",
   "name": "python",
   "nbconvert_exporter": "python",
   "pygments_lexer": "ipython2",
   "version": "2.7.6"
  }
 },
 "nbformat": 4,
 "nbformat_minor": 0
}
