{
 "cells": [
  {
   "cell_type": "code",
   "execution_count": 1,
   "metadata": {
    "collapsed": true
   },
   "outputs": [],
   "source": [
    "from pathlib import Path\n",
    "import numpy as np\n",
    "import pandas as pd\n",
    "from matplotlib import pyplot as plt\n",
    "from src.dataloaders import PointOnlyDataloader\n",
    "from src.solutions import EllipseDataFitting\n",
    "\n",
    "dataset_dir = Path('../dataset')\n",
    "root_file = \"farichsim_pi-pi-_45-360deg_1200.0k_ideal_2020-12-24_rndm.root\"\n",
    "root_path = dataset_dir / root_file"
   ]
  },
  {
   "cell_type": "code",
   "execution_count": 2,
   "outputs": [],
   "source": [
    "dl = PointOnlyDataloader(root_path, verbose=False)\n",
    "alg = EllipseDataFitting(save_graphics=True)\n",
    "for idx, df in enumerate(dl):\n",
    "    if idx == 5:\n",
    "        # plt.savefig(f'tmp/example_{idx}.png')\n",
    "        break\n",
    "        if idx > 10:\n",
    "            break"
   ],
   "metadata": {
    "collapsed": false
   }
  },
  {
   "cell_type": "code",
   "execution_count": 4,
   "outputs": [
    {
     "data": {
      "text/plain": "                       x_c         y_c         z_c       t_c\nentry subentry                                              \n5     0        -351.040009  399.679993  201.050003  2.387565\n      1         -85.120003  -80.959999  201.050003  0.870651\n      2        -105.279999  -29.760000  201.050003  0.766782\n      3        -105.279999  -25.600000  201.050003  0.767961\n      4        -108.639999   -8.800000  201.050003  0.767712\n      5         -98.559998   15.520000  201.050003  0.754884\n      6        -101.919998    5.440000  201.050003  0.756660\n      7        -105.279999    5.440000  201.050003  0.761616\n      8         -98.559998   18.879999  201.050003  0.753252\n      9         -88.480003   29.760000  201.050003  0.745859\n      10        -70.879997 -178.240005  201.050003  1.189885\n      11        -64.160004  -67.519997  201.050003  0.743735\n      12        -74.239998  -64.160004  201.050003  0.750375\n      13        -80.959999  -64.160004  201.050003  0.759340\n      14        -67.519997  -57.439999  201.050003  0.740059\n      15        -57.439999   22.240000  201.050003  1.134990\n      16        -74.239998   33.119999  201.050003  0.730597\n      17        -77.599998   36.480000  201.050003  0.732978\n      18        -74.239998   36.480000  201.050003  0.730177\n      19        -70.879997   36.480000  201.050003  0.725091\n      20        -74.239998  219.360001  201.050003  1.580266\n      21        -43.200001  -67.519997  201.050003  0.729207\n      22        -53.279999  -70.879997  201.050003  0.736687\n      23        -33.119999  -67.519997  201.050003  0.721118\n      24        -53.279999  -70.879997  201.050003  0.738963\n      25        -43.200001   43.200001  201.050003  0.706602\n      26        -49.919998   43.200001  201.050003  0.709753\n      27        -49.919998   39.840000  201.050003  0.708978\n      28        -12.160000 -205.919998  201.050003  1.162304\n      29        -22.240000  -60.799999  201.050003  0.709096\n      30         -2.080000  -46.560001  201.050003  0.693336\n      31         -5.440000  -49.919998  201.050003  0.695881\n      32         -5.440000   22.240000  201.050003  0.679680\n      33         -5.440000   18.879999  201.050003  0.679365\n      34        -22.240000   33.119999  201.050003  0.689608\n      35          8.800000  -22.240000  201.050003  0.680270\n      36          8.800000    2.080000  201.050003  0.677087\n      37          2.080000    8.800000  201.050003  0.677228\n      38          5.440000    8.800000  201.050003  0.677986\n      39          2.080000    8.800000  201.050003  0.676161\n      40         15.520000   88.480003  201.050003  0.832270\n      41         46.560001 -108.639999  201.050003  0.802872\n      42         43.200001  -64.160004  201.050003  0.735939\n      43         36.480000  -57.439999  201.050003  0.738325\n      44         29.760000   80.959999  201.050003  0.886469\n      45        122.879997  -60.799999  201.050003  0.866539\n      46        164.000000 -223.520004  201.050003  1.455103\n      47        153.919998  -22.240000  201.050003  0.902340\n      48        188.320007  -74.239998  201.050003  0.973741",
      "text/html": "<div>\n<style scoped>\n    .dataframe tbody tr th:only-of-type {\n        vertical-align: middle;\n    }\n\n    .dataframe tbody tr th {\n        vertical-align: top;\n    }\n\n    .dataframe thead th {\n        text-align: right;\n    }\n</style>\n<table border=\"1\" class=\"dataframe\">\n  <thead>\n    <tr style=\"text-align: right;\">\n      <th></th>\n      <th></th>\n      <th>x_c</th>\n      <th>y_c</th>\n      <th>z_c</th>\n      <th>t_c</th>\n    </tr>\n    <tr>\n      <th>entry</th>\n      <th>subentry</th>\n      <th></th>\n      <th></th>\n      <th></th>\n      <th></th>\n    </tr>\n  </thead>\n  <tbody>\n    <tr>\n      <th rowspan=\"49\" valign=\"top\">5</th>\n      <th>0</th>\n      <td>-351.040009</td>\n      <td>399.679993</td>\n      <td>201.050003</td>\n      <td>2.387565</td>\n    </tr>\n    <tr>\n      <th>1</th>\n      <td>-85.120003</td>\n      <td>-80.959999</td>\n      <td>201.050003</td>\n      <td>0.870651</td>\n    </tr>\n    <tr>\n      <th>2</th>\n      <td>-105.279999</td>\n      <td>-29.760000</td>\n      <td>201.050003</td>\n      <td>0.766782</td>\n    </tr>\n    <tr>\n      <th>3</th>\n      <td>-105.279999</td>\n      <td>-25.600000</td>\n      <td>201.050003</td>\n      <td>0.767961</td>\n    </tr>\n    <tr>\n      <th>4</th>\n      <td>-108.639999</td>\n      <td>-8.800000</td>\n      <td>201.050003</td>\n      <td>0.767712</td>\n    </tr>\n    <tr>\n      <th>5</th>\n      <td>-98.559998</td>\n      <td>15.520000</td>\n      <td>201.050003</td>\n      <td>0.754884</td>\n    </tr>\n    <tr>\n      <th>6</th>\n      <td>-101.919998</td>\n      <td>5.440000</td>\n      <td>201.050003</td>\n      <td>0.756660</td>\n    </tr>\n    <tr>\n      <th>7</th>\n      <td>-105.279999</td>\n      <td>5.440000</td>\n      <td>201.050003</td>\n      <td>0.761616</td>\n    </tr>\n    <tr>\n      <th>8</th>\n      <td>-98.559998</td>\n      <td>18.879999</td>\n      <td>201.050003</td>\n      <td>0.753252</td>\n    </tr>\n    <tr>\n      <th>9</th>\n      <td>-88.480003</td>\n      <td>29.760000</td>\n      <td>201.050003</td>\n      <td>0.745859</td>\n    </tr>\n    <tr>\n      <th>10</th>\n      <td>-70.879997</td>\n      <td>-178.240005</td>\n      <td>201.050003</td>\n      <td>1.189885</td>\n    </tr>\n    <tr>\n      <th>11</th>\n      <td>-64.160004</td>\n      <td>-67.519997</td>\n      <td>201.050003</td>\n      <td>0.743735</td>\n    </tr>\n    <tr>\n      <th>12</th>\n      <td>-74.239998</td>\n      <td>-64.160004</td>\n      <td>201.050003</td>\n      <td>0.750375</td>\n    </tr>\n    <tr>\n      <th>13</th>\n      <td>-80.959999</td>\n      <td>-64.160004</td>\n      <td>201.050003</td>\n      <td>0.759340</td>\n    </tr>\n    <tr>\n      <th>14</th>\n      <td>-67.519997</td>\n      <td>-57.439999</td>\n      <td>201.050003</td>\n      <td>0.740059</td>\n    </tr>\n    <tr>\n      <th>15</th>\n      <td>-57.439999</td>\n      <td>22.240000</td>\n      <td>201.050003</td>\n      <td>1.134990</td>\n    </tr>\n    <tr>\n      <th>16</th>\n      <td>-74.239998</td>\n      <td>33.119999</td>\n      <td>201.050003</td>\n      <td>0.730597</td>\n    </tr>\n    <tr>\n      <th>17</th>\n      <td>-77.599998</td>\n      <td>36.480000</td>\n      <td>201.050003</td>\n      <td>0.732978</td>\n    </tr>\n    <tr>\n      <th>18</th>\n      <td>-74.239998</td>\n      <td>36.480000</td>\n      <td>201.050003</td>\n      <td>0.730177</td>\n    </tr>\n    <tr>\n      <th>19</th>\n      <td>-70.879997</td>\n      <td>36.480000</td>\n      <td>201.050003</td>\n      <td>0.725091</td>\n    </tr>\n    <tr>\n      <th>20</th>\n      <td>-74.239998</td>\n      <td>219.360001</td>\n      <td>201.050003</td>\n      <td>1.580266</td>\n    </tr>\n    <tr>\n      <th>21</th>\n      <td>-43.200001</td>\n      <td>-67.519997</td>\n      <td>201.050003</td>\n      <td>0.729207</td>\n    </tr>\n    <tr>\n      <th>22</th>\n      <td>-53.279999</td>\n      <td>-70.879997</td>\n      <td>201.050003</td>\n      <td>0.736687</td>\n    </tr>\n    <tr>\n      <th>23</th>\n      <td>-33.119999</td>\n      <td>-67.519997</td>\n      <td>201.050003</td>\n      <td>0.721118</td>\n    </tr>\n    <tr>\n      <th>24</th>\n      <td>-53.279999</td>\n      <td>-70.879997</td>\n      <td>201.050003</td>\n      <td>0.738963</td>\n    </tr>\n    <tr>\n      <th>25</th>\n      <td>-43.200001</td>\n      <td>43.200001</td>\n      <td>201.050003</td>\n      <td>0.706602</td>\n    </tr>\n    <tr>\n      <th>26</th>\n      <td>-49.919998</td>\n      <td>43.200001</td>\n      <td>201.050003</td>\n      <td>0.709753</td>\n    </tr>\n    <tr>\n      <th>27</th>\n      <td>-49.919998</td>\n      <td>39.840000</td>\n      <td>201.050003</td>\n      <td>0.708978</td>\n    </tr>\n    <tr>\n      <th>28</th>\n      <td>-12.160000</td>\n      <td>-205.919998</td>\n      <td>201.050003</td>\n      <td>1.162304</td>\n    </tr>\n    <tr>\n      <th>29</th>\n      <td>-22.240000</td>\n      <td>-60.799999</td>\n      <td>201.050003</td>\n      <td>0.709096</td>\n    </tr>\n    <tr>\n      <th>30</th>\n      <td>-2.080000</td>\n      <td>-46.560001</td>\n      <td>201.050003</td>\n      <td>0.693336</td>\n    </tr>\n    <tr>\n      <th>31</th>\n      <td>-5.440000</td>\n      <td>-49.919998</td>\n      <td>201.050003</td>\n      <td>0.695881</td>\n    </tr>\n    <tr>\n      <th>32</th>\n      <td>-5.440000</td>\n      <td>22.240000</td>\n      <td>201.050003</td>\n      <td>0.679680</td>\n    </tr>\n    <tr>\n      <th>33</th>\n      <td>-5.440000</td>\n      <td>18.879999</td>\n      <td>201.050003</td>\n      <td>0.679365</td>\n    </tr>\n    <tr>\n      <th>34</th>\n      <td>-22.240000</td>\n      <td>33.119999</td>\n      <td>201.050003</td>\n      <td>0.689608</td>\n    </tr>\n    <tr>\n      <th>35</th>\n      <td>8.800000</td>\n      <td>-22.240000</td>\n      <td>201.050003</td>\n      <td>0.680270</td>\n    </tr>\n    <tr>\n      <th>36</th>\n      <td>8.800000</td>\n      <td>2.080000</td>\n      <td>201.050003</td>\n      <td>0.677087</td>\n    </tr>\n    <tr>\n      <th>37</th>\n      <td>2.080000</td>\n      <td>8.800000</td>\n      <td>201.050003</td>\n      <td>0.677228</td>\n    </tr>\n    <tr>\n      <th>38</th>\n      <td>5.440000</td>\n      <td>8.800000</td>\n      <td>201.050003</td>\n      <td>0.677986</td>\n    </tr>\n    <tr>\n      <th>39</th>\n      <td>2.080000</td>\n      <td>8.800000</td>\n      <td>201.050003</td>\n      <td>0.676161</td>\n    </tr>\n    <tr>\n      <th>40</th>\n      <td>15.520000</td>\n      <td>88.480003</td>\n      <td>201.050003</td>\n      <td>0.832270</td>\n    </tr>\n    <tr>\n      <th>41</th>\n      <td>46.560001</td>\n      <td>-108.639999</td>\n      <td>201.050003</td>\n      <td>0.802872</td>\n    </tr>\n    <tr>\n      <th>42</th>\n      <td>43.200001</td>\n      <td>-64.160004</td>\n      <td>201.050003</td>\n      <td>0.735939</td>\n    </tr>\n    <tr>\n      <th>43</th>\n      <td>36.480000</td>\n      <td>-57.439999</td>\n      <td>201.050003</td>\n      <td>0.738325</td>\n    </tr>\n    <tr>\n      <th>44</th>\n      <td>29.760000</td>\n      <td>80.959999</td>\n      <td>201.050003</td>\n      <td>0.886469</td>\n    </tr>\n    <tr>\n      <th>45</th>\n      <td>122.879997</td>\n      <td>-60.799999</td>\n      <td>201.050003</td>\n      <td>0.866539</td>\n    </tr>\n    <tr>\n      <th>46</th>\n      <td>164.000000</td>\n      <td>-223.520004</td>\n      <td>201.050003</td>\n      <td>1.455103</td>\n    </tr>\n    <tr>\n      <th>47</th>\n      <td>153.919998</td>\n      <td>-22.240000</td>\n      <td>201.050003</td>\n      <td>0.902340</td>\n    </tr>\n    <tr>\n      <th>48</th>\n      <td>188.320007</td>\n      <td>-74.239998</td>\n      <td>201.050003</td>\n      <td>0.973741</td>\n    </tr>\n  </tbody>\n</table>\n</div>"
     },
     "execution_count": 4,
     "metadata": {},
     "output_type": "execute_result"
    }
   ],
   "source": [
    "df"
   ],
   "metadata": {
    "collapsed": false
   }
  },
  {
   "cell_type": "code",
   "execution_count": 3,
   "outputs": [
    {
     "name": "stderr",
     "output_type": "stream",
     "text": [
      "  4%|▍         | 2/47 [00:38<14:24, 19.22s/it]\n"
     ]
    }
   ],
   "source": [
    "centers, vectors, normals, point1, point2, point3 = alg.run(df)\n"
   ],
   "metadata": {
    "collapsed": false
   }
  },
  {
   "cell_type": "code",
   "execution_count": 4,
   "outputs": [],
   "source": [
    "centers = pd.DataFrame(np.array(centers), columns=['x_center','y_center', 't_center'])"
   ],
   "metadata": {
    "collapsed": false
   }
  },
  {
   "cell_type": "code",
   "execution_count": 5,
   "outputs": [
    {
     "data": {
      "text/plain": "    x_center   y_center  t_center\n0 -50.042775 -14.714778  0.721234",
      "text/html": "<div>\n<style scoped>\n    .dataframe tbody tr th:only-of-type {\n        vertical-align: middle;\n    }\n\n    .dataframe tbody tr th {\n        vertical-align: top;\n    }\n\n    .dataframe thead th {\n        text-align: right;\n    }\n</style>\n<table border=\"1\" class=\"dataframe\">\n  <thead>\n    <tr style=\"text-align: right;\">\n      <th></th>\n      <th>x_center</th>\n      <th>y_center</th>\n      <th>t_center</th>\n    </tr>\n  </thead>\n  <tbody>\n    <tr>\n      <th>0</th>\n      <td>-50.042775</td>\n      <td>-14.714778</td>\n      <td>0.721234</td>\n    </tr>\n  </tbody>\n</table>\n</div>"
     },
     "execution_count": 5,
     "metadata": {},
     "output_type": "execute_result"
    }
   ],
   "source": [
    "centers"
   ],
   "metadata": {
    "collapsed": false
   }
  },
  {
   "cell_type": "code",
   "execution_count": 8,
   "outputs": [],
   "source": [
    "normals = pd.DataFrame(np.array(normals), columns=['x_normal','y_normal', 't_normal'])"
   ],
   "metadata": {
    "collapsed": false
   }
  },
  {
   "cell_type": "code",
   "execution_count": 9,
   "outputs": [],
   "source": [
    "points1 = pd.DataFrame(np.array(point1), columns=['x_p1','y_p1', 't_p1'])"
   ],
   "metadata": {
    "collapsed": false
   }
  },
  {
   "cell_type": "code",
   "execution_count": 10,
   "outputs": [
    {
     "data": {
      "text/plain": "         x_p1   y_p1      t_p1\n0 -105.279999 -29.76  0.766782",
      "text/html": "<div>\n<style scoped>\n    .dataframe tbody tr th:only-of-type {\n        vertical-align: middle;\n    }\n\n    .dataframe tbody tr th {\n        vertical-align: top;\n    }\n\n    .dataframe thead th {\n        text-align: right;\n    }\n</style>\n<table border=\"1\" class=\"dataframe\">\n  <thead>\n    <tr style=\"text-align: right;\">\n      <th></th>\n      <th>x_p1</th>\n      <th>y_p1</th>\n      <th>t_p1</th>\n    </tr>\n  </thead>\n  <tbody>\n    <tr>\n      <th>0</th>\n      <td>-105.279999</td>\n      <td>-29.76</td>\n      <td>0.766782</td>\n    </tr>\n  </tbody>\n</table>\n</div>"
     },
     "execution_count": 10,
     "metadata": {},
     "output_type": "execute_result"
    }
   ],
   "source": [
    "points1"
   ],
   "metadata": {
    "collapsed": false
   }
  },
  {
   "cell_type": "code",
   "execution_count": 11,
   "outputs": [
    {
     "data": {
      "text/plain": "                       x_c         y_c         z_c       t_c\nentry subentry                                              \n5     0        -351.040009  399.679993  201.050003  2.387565\n      1         -85.120003  -80.959999  201.050003  0.870651\n      2        -105.279999  -29.760000  201.050003  0.766782\n      3        -105.279999  -25.600000  201.050003  0.767961\n      4        -108.639999   -8.800000  201.050003  0.767712\n      5         -98.559998   15.520000  201.050003  0.754884\n      6        -101.919998    5.440000  201.050003  0.756660\n      7        -105.279999    5.440000  201.050003  0.761616\n      8         -98.559998   18.879999  201.050003  0.753252\n      9         -88.480003   29.760000  201.050003  0.745859\n      10        -70.879997 -178.240005  201.050003  1.189885\n      11        -64.160004  -67.519997  201.050003  0.743735\n      12        -74.239998  -64.160004  201.050003  0.750375\n      13        -80.959999  -64.160004  201.050003  0.759340\n      14        -67.519997  -57.439999  201.050003  0.740059\n      15        -57.439999   22.240000  201.050003  1.134990\n      16        -74.239998   33.119999  201.050003  0.730597\n      17        -77.599998   36.480000  201.050003  0.732978\n      18        -74.239998   36.480000  201.050003  0.730177\n      19        -70.879997   36.480000  201.050003  0.725091\n      20        -74.239998  219.360001  201.050003  1.580266\n      21        -43.200001  -67.519997  201.050003  0.729207\n      22        -53.279999  -70.879997  201.050003  0.736687\n      23        -33.119999  -67.519997  201.050003  0.721118\n      24        -53.279999  -70.879997  201.050003  0.738963\n      25        -43.200001   43.200001  201.050003  0.706602\n      26        -49.919998   43.200001  201.050003  0.709753\n      27        -49.919998   39.840000  201.050003  0.708978\n      28        -12.160000 -205.919998  201.050003  1.162304\n      29        -22.240000  -60.799999  201.050003  0.709096\n      30         -2.080000  -46.560001  201.050003  0.693336\n      31         -5.440000  -49.919998  201.050003  0.695881\n      32         -5.440000   22.240000  201.050003  0.679680\n      33         -5.440000   18.879999  201.050003  0.679365\n      34        -22.240000   33.119999  201.050003  0.689608\n      35          8.800000  -22.240000  201.050003  0.680270\n      36          8.800000    2.080000  201.050003  0.677087\n      37          2.080000    8.800000  201.050003  0.677228\n      38          5.440000    8.800000  201.050003  0.677986\n      39          2.080000    8.800000  201.050003  0.676161\n      40         15.520000   88.480003  201.050003  0.832270\n      41         46.560001 -108.639999  201.050003  0.802872\n      42         43.200001  -64.160004  201.050003  0.735939\n      43         36.480000  -57.439999  201.050003  0.738325\n      44         29.760000   80.959999  201.050003  0.886469\n      45        122.879997  -60.799999  201.050003  0.866539\n      46        164.000000 -223.520004  201.050003  1.455103\n      47        153.919998  -22.240000  201.050003  0.902340\n      48        188.320007  -74.239998  201.050003  0.973741",
      "text/html": "<div>\n<style scoped>\n    .dataframe tbody tr th:only-of-type {\n        vertical-align: middle;\n    }\n\n    .dataframe tbody tr th {\n        vertical-align: top;\n    }\n\n    .dataframe thead th {\n        text-align: right;\n    }\n</style>\n<table border=\"1\" class=\"dataframe\">\n  <thead>\n    <tr style=\"text-align: right;\">\n      <th></th>\n      <th></th>\n      <th>x_c</th>\n      <th>y_c</th>\n      <th>z_c</th>\n      <th>t_c</th>\n    </tr>\n    <tr>\n      <th>entry</th>\n      <th>subentry</th>\n      <th></th>\n      <th></th>\n      <th></th>\n      <th></th>\n    </tr>\n  </thead>\n  <tbody>\n    <tr>\n      <th rowspan=\"49\" valign=\"top\">5</th>\n      <th>0</th>\n      <td>-351.040009</td>\n      <td>399.679993</td>\n      <td>201.050003</td>\n      <td>2.387565</td>\n    </tr>\n    <tr>\n      <th>1</th>\n      <td>-85.120003</td>\n      <td>-80.959999</td>\n      <td>201.050003</td>\n      <td>0.870651</td>\n    </tr>\n    <tr>\n      <th>2</th>\n      <td>-105.279999</td>\n      <td>-29.760000</td>\n      <td>201.050003</td>\n      <td>0.766782</td>\n    </tr>\n    <tr>\n      <th>3</th>\n      <td>-105.279999</td>\n      <td>-25.600000</td>\n      <td>201.050003</td>\n      <td>0.767961</td>\n    </tr>\n    <tr>\n      <th>4</th>\n      <td>-108.639999</td>\n      <td>-8.800000</td>\n      <td>201.050003</td>\n      <td>0.767712</td>\n    </tr>\n    <tr>\n      <th>5</th>\n      <td>-98.559998</td>\n      <td>15.520000</td>\n      <td>201.050003</td>\n      <td>0.754884</td>\n    </tr>\n    <tr>\n      <th>6</th>\n      <td>-101.919998</td>\n      <td>5.440000</td>\n      <td>201.050003</td>\n      <td>0.756660</td>\n    </tr>\n    <tr>\n      <th>7</th>\n      <td>-105.279999</td>\n      <td>5.440000</td>\n      <td>201.050003</td>\n      <td>0.761616</td>\n    </tr>\n    <tr>\n      <th>8</th>\n      <td>-98.559998</td>\n      <td>18.879999</td>\n      <td>201.050003</td>\n      <td>0.753252</td>\n    </tr>\n    <tr>\n      <th>9</th>\n      <td>-88.480003</td>\n      <td>29.760000</td>\n      <td>201.050003</td>\n      <td>0.745859</td>\n    </tr>\n    <tr>\n      <th>10</th>\n      <td>-70.879997</td>\n      <td>-178.240005</td>\n      <td>201.050003</td>\n      <td>1.189885</td>\n    </tr>\n    <tr>\n      <th>11</th>\n      <td>-64.160004</td>\n      <td>-67.519997</td>\n      <td>201.050003</td>\n      <td>0.743735</td>\n    </tr>\n    <tr>\n      <th>12</th>\n      <td>-74.239998</td>\n      <td>-64.160004</td>\n      <td>201.050003</td>\n      <td>0.750375</td>\n    </tr>\n    <tr>\n      <th>13</th>\n      <td>-80.959999</td>\n      <td>-64.160004</td>\n      <td>201.050003</td>\n      <td>0.759340</td>\n    </tr>\n    <tr>\n      <th>14</th>\n      <td>-67.519997</td>\n      <td>-57.439999</td>\n      <td>201.050003</td>\n      <td>0.740059</td>\n    </tr>\n    <tr>\n      <th>15</th>\n      <td>-57.439999</td>\n      <td>22.240000</td>\n      <td>201.050003</td>\n      <td>1.134990</td>\n    </tr>\n    <tr>\n      <th>16</th>\n      <td>-74.239998</td>\n      <td>33.119999</td>\n      <td>201.050003</td>\n      <td>0.730597</td>\n    </tr>\n    <tr>\n      <th>17</th>\n      <td>-77.599998</td>\n      <td>36.480000</td>\n      <td>201.050003</td>\n      <td>0.732978</td>\n    </tr>\n    <tr>\n      <th>18</th>\n      <td>-74.239998</td>\n      <td>36.480000</td>\n      <td>201.050003</td>\n      <td>0.730177</td>\n    </tr>\n    <tr>\n      <th>19</th>\n      <td>-70.879997</td>\n      <td>36.480000</td>\n      <td>201.050003</td>\n      <td>0.725091</td>\n    </tr>\n    <tr>\n      <th>20</th>\n      <td>-74.239998</td>\n      <td>219.360001</td>\n      <td>201.050003</td>\n      <td>1.580266</td>\n    </tr>\n    <tr>\n      <th>21</th>\n      <td>-43.200001</td>\n      <td>-67.519997</td>\n      <td>201.050003</td>\n      <td>0.729207</td>\n    </tr>\n    <tr>\n      <th>22</th>\n      <td>-53.279999</td>\n      <td>-70.879997</td>\n      <td>201.050003</td>\n      <td>0.736687</td>\n    </tr>\n    <tr>\n      <th>23</th>\n      <td>-33.119999</td>\n      <td>-67.519997</td>\n      <td>201.050003</td>\n      <td>0.721118</td>\n    </tr>\n    <tr>\n      <th>24</th>\n      <td>-53.279999</td>\n      <td>-70.879997</td>\n      <td>201.050003</td>\n      <td>0.738963</td>\n    </tr>\n    <tr>\n      <th>25</th>\n      <td>-43.200001</td>\n      <td>43.200001</td>\n      <td>201.050003</td>\n      <td>0.706602</td>\n    </tr>\n    <tr>\n      <th>26</th>\n      <td>-49.919998</td>\n      <td>43.200001</td>\n      <td>201.050003</td>\n      <td>0.709753</td>\n    </tr>\n    <tr>\n      <th>27</th>\n      <td>-49.919998</td>\n      <td>39.840000</td>\n      <td>201.050003</td>\n      <td>0.708978</td>\n    </tr>\n    <tr>\n      <th>28</th>\n      <td>-12.160000</td>\n      <td>-205.919998</td>\n      <td>201.050003</td>\n      <td>1.162304</td>\n    </tr>\n    <tr>\n      <th>29</th>\n      <td>-22.240000</td>\n      <td>-60.799999</td>\n      <td>201.050003</td>\n      <td>0.709096</td>\n    </tr>\n    <tr>\n      <th>30</th>\n      <td>-2.080000</td>\n      <td>-46.560001</td>\n      <td>201.050003</td>\n      <td>0.693336</td>\n    </tr>\n    <tr>\n      <th>31</th>\n      <td>-5.440000</td>\n      <td>-49.919998</td>\n      <td>201.050003</td>\n      <td>0.695881</td>\n    </tr>\n    <tr>\n      <th>32</th>\n      <td>-5.440000</td>\n      <td>22.240000</td>\n      <td>201.050003</td>\n      <td>0.679680</td>\n    </tr>\n    <tr>\n      <th>33</th>\n      <td>-5.440000</td>\n      <td>18.879999</td>\n      <td>201.050003</td>\n      <td>0.679365</td>\n    </tr>\n    <tr>\n      <th>34</th>\n      <td>-22.240000</td>\n      <td>33.119999</td>\n      <td>201.050003</td>\n      <td>0.689608</td>\n    </tr>\n    <tr>\n      <th>35</th>\n      <td>8.800000</td>\n      <td>-22.240000</td>\n      <td>201.050003</td>\n      <td>0.680270</td>\n    </tr>\n    <tr>\n      <th>36</th>\n      <td>8.800000</td>\n      <td>2.080000</td>\n      <td>201.050003</td>\n      <td>0.677087</td>\n    </tr>\n    <tr>\n      <th>37</th>\n      <td>2.080000</td>\n      <td>8.800000</td>\n      <td>201.050003</td>\n      <td>0.677228</td>\n    </tr>\n    <tr>\n      <th>38</th>\n      <td>5.440000</td>\n      <td>8.800000</td>\n      <td>201.050003</td>\n      <td>0.677986</td>\n    </tr>\n    <tr>\n      <th>39</th>\n      <td>2.080000</td>\n      <td>8.800000</td>\n      <td>201.050003</td>\n      <td>0.676161</td>\n    </tr>\n    <tr>\n      <th>40</th>\n      <td>15.520000</td>\n      <td>88.480003</td>\n      <td>201.050003</td>\n      <td>0.832270</td>\n    </tr>\n    <tr>\n      <th>41</th>\n      <td>46.560001</td>\n      <td>-108.639999</td>\n      <td>201.050003</td>\n      <td>0.802872</td>\n    </tr>\n    <tr>\n      <th>42</th>\n      <td>43.200001</td>\n      <td>-64.160004</td>\n      <td>201.050003</td>\n      <td>0.735939</td>\n    </tr>\n    <tr>\n      <th>43</th>\n      <td>36.480000</td>\n      <td>-57.439999</td>\n      <td>201.050003</td>\n      <td>0.738325</td>\n    </tr>\n    <tr>\n      <th>44</th>\n      <td>29.760000</td>\n      <td>80.959999</td>\n      <td>201.050003</td>\n      <td>0.886469</td>\n    </tr>\n    <tr>\n      <th>45</th>\n      <td>122.879997</td>\n      <td>-60.799999</td>\n      <td>201.050003</td>\n      <td>0.866539</td>\n    </tr>\n    <tr>\n      <th>46</th>\n      <td>164.000000</td>\n      <td>-223.520004</td>\n      <td>201.050003</td>\n      <td>1.455103</td>\n    </tr>\n    <tr>\n      <th>47</th>\n      <td>153.919998</td>\n      <td>-22.240000</td>\n      <td>201.050003</td>\n      <td>0.902340</td>\n    </tr>\n    <tr>\n      <th>48</th>\n      <td>188.320007</td>\n      <td>-74.239998</td>\n      <td>201.050003</td>\n      <td>0.973741</td>\n    </tr>\n  </tbody>\n</table>\n</div>"
     },
     "execution_count": 11,
     "metadata": {},
     "output_type": "execute_result"
    }
   ],
   "source": [
    "df"
   ],
   "metadata": {
    "collapsed": false
   }
  },
  {
   "cell_type": "code",
   "execution_count": 6,
   "outputs": [],
   "source": [
    "vec_1 = pd.DataFrame(np.array([i[0] for i in vectors]), columns=['x_v_1','y_v_1', 't_v_1'])"
   ],
   "metadata": {
    "collapsed": false
   }
  },
  {
   "cell_type": "code",
   "execution_count": 7,
   "outputs": [
    {
     "data": {
      "text/plain": "        x_v_1      y_v_1     t_v_1\n0 -105.870569 -27.304654  0.766708",
      "text/html": "<div>\n<style scoped>\n    .dataframe tbody tr th:only-of-type {\n        vertical-align: middle;\n    }\n\n    .dataframe tbody tr th {\n        vertical-align: top;\n    }\n\n    .dataframe thead th {\n        text-align: right;\n    }\n</style>\n<table border=\"1\" class=\"dataframe\">\n  <thead>\n    <tr style=\"text-align: right;\">\n      <th></th>\n      <th>x_v_1</th>\n      <th>y_v_1</th>\n      <th>t_v_1</th>\n    </tr>\n  </thead>\n  <tbody>\n    <tr>\n      <th>0</th>\n      <td>-105.870569</td>\n      <td>-27.304654</td>\n      <td>0.766708</td>\n    </tr>\n  </tbody>\n</table>\n</div>"
     },
     "execution_count": 7,
     "metadata": {},
     "output_type": "execute_result"
    }
   ],
   "source": [
    "vec_1"
   ],
   "metadata": {
    "collapsed": false
   }
  },
  {
   "cell_type": "code",
   "execution_count": 14,
   "outputs": [
    {
     "data": {
      "text/plain": "[Point([-105.28     ,  -29.76     ,    0.7667816], dtype=float32)]"
     },
     "execution_count": 14,
     "metadata": {},
     "output_type": "execute_result"
    }
   ],
   "source": [
    "point1"
   ],
   "metadata": {
    "collapsed": false
   }
  },
  {
   "cell_type": "code",
   "execution_count": 1,
   "outputs": [
    {
     "ename": "NameError",
     "evalue": "name 'dl' is not defined",
     "output_type": "error",
     "traceback": [
      "\u001B[0;31m---------------------------------------------------------------------------\u001B[0m",
      "\u001B[0;31mNameError\u001B[0m                                 Traceback (most recent call last)",
      "Cell \u001B[0;32mIn [1], line 1\u001B[0m\n\u001B[0;32m----> 1\u001B[0m ax \u001B[38;5;241m=\u001B[39m \u001B[43mdl\u001B[49m\u001B[38;5;241m.\u001B[39mplot_solution(df)\n\u001B[1;32m      3\u001B[0m \u001B[38;5;28;01mfor\u001B[39;00m norm, point11, point22, point33 \u001B[38;5;129;01min\u001B[39;00m \u001B[38;5;28mzip\u001B[39m(normals, point1, point2, point3):\n\u001B[1;32m      4\u001B[0m     \u001B[38;5;66;03m# print(norm, point)\u001B[39;00m\n\u001B[1;32m      5\u001B[0m     \u001B[38;5;66;03m# norm = norm / np.linalg.norm(norm)\u001B[39;00m\n\u001B[1;32m      6\u001B[0m     ax\u001B[38;5;241m.\u001B[39mplot([vec_1[\u001B[38;5;124m'\u001B[39m\u001B[38;5;124mt_v_1\u001B[39m\u001B[38;5;124m'\u001B[39m][\u001B[38;5;241m0\u001B[39m], centers[\u001B[38;5;124m'\u001B[39m\u001B[38;5;124mt_center\u001B[39m\u001B[38;5;124m'\u001B[39m][\u001B[38;5;241m0\u001B[39m]],\n\u001B[1;32m      7\u001B[0m              [ vec_1[\u001B[38;5;124m'\u001B[39m\u001B[38;5;124mx_v_1\u001B[39m\u001B[38;5;124m'\u001B[39m][\u001B[38;5;241m0\u001B[39m], centers[\u001B[38;5;124m'\u001B[39m\u001B[38;5;124mx_center\u001B[39m\u001B[38;5;124m'\u001B[39m][\u001B[38;5;241m0\u001B[39m]],\n\u001B[1;32m      8\u001B[0m              [vec_1[\u001B[38;5;124m'\u001B[39m\u001B[38;5;124mx_v_1\u001B[39m\u001B[38;5;124m'\u001B[39m][\u001B[38;5;241m0\u001B[39m], centers[\u001B[38;5;124m'\u001B[39m\u001B[38;5;124my_center\u001B[39m\u001B[38;5;124m'\u001B[39m][\u001B[38;5;241m0\u001B[39m]],\n\u001B[1;32m      9\u001B[0m              label\u001B[38;5;241m=\u001B[39m\u001B[38;5;124m'\u001B[39m\u001B[38;5;124mVec_1\u001B[39m\u001B[38;5;124m'\u001B[39m)\n",
      "\u001B[0;31mNameError\u001B[0m: name 'dl' is not defined"
     ]
    }
   ],
   "source": [
    "ax = dl.plot_solution(df)\n",
    "\n",
    "for norm, point11, point22, point33 in zip(normals, point1, point2, point3):\n",
    "    # print(norm, point)\n",
    "    # norm = norm / np.linalg.norm(norm)\n",
    "    ax.plot([vec_1['t_v_1'][0], centers['t_center'][0]],\n",
    "             [ vec_1['x_v_1'][0], centers['x_center'][0]],\n",
    "             [vec_1['x_v_1'][0], centers['y_center'][0]],\n",
    "             label='Vec_1')\n",
    "    ax.scatter3D(centers['t_center'][0], centers['x_center'][0], centers['y_center'][0], 'g.', label='Centers')\n",
    "    ax.scatter3D(point11[2], point11[0], point11[1], 'y.', label='Point1')\n",
    "    break\n",
    "\n",
    "plt.legend()\n",
    "plt.show()\n",
    "# plt.savefig(\"tmp/exampl.png\")"
   ],
   "metadata": {
    "collapsed": false
   }
  },
  {
   "cell_type": "code",
   "execution_count": 8,
   "outputs": [],
   "source": [
    "x = np.array([0.00000, 45.77594, -0.00000, -5.24599, 5.89959])\n",
    "y = np.array([0.00000, 0.00000, 55.82716, 43.18748, 69.42272])"
   ],
   "metadata": {
    "collapsed": false
   }
  },
  {
   "cell_type": "code",
   "execution_count": 9,
   "outputs": [
    {
     "ename": "LinAlgError",
     "evalue": "Singular matrix",
     "output_type": "error",
     "traceback": [
      "\u001B[0;31m---------------------------------------------------------------------------\u001B[0m",
      "\u001B[0;31mLinAlgError\u001B[0m                               Traceback (most recent call last)",
      "Cell \u001B[0;32mIn [9], line 2\u001B[0m\n\u001B[1;32m      1\u001B[0m \u001B[38;5;28;01mfrom\u001B[39;00m \u001B[38;5;21;01msrc\u001B[39;00m\u001B[38;5;21;01m.\u001B[39;00m\u001B[38;5;21;01mutils\u001B[39;00m\u001B[38;5;21;01m.\u001B[39;00m\u001B[38;5;21;01mgeometry\u001B[39;00m \u001B[38;5;28;01mimport\u001B[39;00m get_ellipse_from_points\n\u001B[0;32m----> 2\u001B[0m centr, params, vectors \u001B[38;5;241m=\u001B[39m \u001B[43mget_ellipse_from_points\u001B[49m\u001B[43m(\u001B[49m\u001B[43mx\u001B[49m\u001B[43m,\u001B[49m\u001B[43m \u001B[49m\u001B[43my\u001B[49m\u001B[43m)\u001B[49m\n",
      "File \u001B[0;32m~/projects/NSU/Farich/src/utils/geometry/ellipse.py:14\u001B[0m, in \u001B[0;36mget_ellipse_from_points\u001B[0;34m(x, y)\u001B[0m\n\u001B[1;32m     13\u001B[0m \u001B[38;5;28;01mdef\u001B[39;00m \u001B[38;5;21mget_ellipse_from_points\u001B[39m(x, y):\n\u001B[0;32m---> 14\u001B[0m     A, B, C, D, E \u001B[38;5;241m=\u001B[39m \u001B[43mfit_ellipse_v2\u001B[49m\u001B[43m(\u001B[49m\u001B[43mx\u001B[49m\u001B[43m,\u001B[49m\u001B[43m \u001B[49m\u001B[43my\u001B[49m\u001B[43m)\u001B[49m\n\u001B[1;32m     15\u001B[0m     \u001B[38;5;28;01mif\u001B[39;00m B \u001B[38;5;241m*\u001B[39m\u001B[38;5;241m*\u001B[39m \u001B[38;5;241m2\u001B[39m \u001B[38;5;241m-\u001B[39m \u001B[38;5;241m4\u001B[39m \u001B[38;5;241m*\u001B[39m A \u001B[38;5;241m*\u001B[39m C \u001B[38;5;241m>\u001B[39m\u001B[38;5;241m=\u001B[39m \u001B[38;5;241m0\u001B[39m:\n\u001B[1;32m     16\u001B[0m         \u001B[38;5;28;01mraise\u001B[39;00m \u001B[38;5;167;01mValueError\u001B[39;00m(\u001B[38;5;124m\"\u001B[39m\u001B[38;5;124mNot elipse\u001B[39m\u001B[38;5;124m\"\u001B[39m)\n",
      "File \u001B[0;32m~/projects/NSU/Farich/src/utils/geometry/ellipse.py:8\u001B[0m, in \u001B[0;36mfit_ellipse_v2\u001B[0;34m(x, y)\u001B[0m\n\u001B[1;32m      6\u001B[0m C \u001B[38;5;241m=\u001B[39m np\u001B[38;5;241m.\u001B[39mones_like(x)\n\u001B[1;32m      7\u001B[0m \u001B[38;5;28;01mif\u001B[39;00m \u001B[38;5;28mlen\u001B[39m(x) \u001B[38;5;241m==\u001B[39m \u001B[38;5;241m5\u001B[39m:\n\u001B[0;32m----> 8\u001B[0m     \u001B[38;5;28;01mreturn\u001B[39;00m \u001B[43mnp\u001B[49m\u001B[38;5;241;43m.\u001B[39;49m\u001B[43mlinalg\u001B[49m\u001B[38;5;241;43m.\u001B[39;49m\u001B[43minv\u001B[49m\u001B[43m(\u001B[49m\u001B[43mD\u001B[49m\u001B[43m)\u001B[49m\u001B[38;5;241m.\u001B[39mdot(C)\n\u001B[1;32m      9\u001B[0m \u001B[38;5;28;01mreturn\u001B[39;00m np\u001B[38;5;241m.\u001B[39mlinalg\u001B[38;5;241m.\u001B[39minv(D\u001B[38;5;241m.\u001B[39mT\u001B[38;5;241m.\u001B[39mdot(D))\u001B[38;5;241m.\u001B[39mdot(D\u001B[38;5;241m.\u001B[39mT)\u001B[38;5;241m.\u001B[39mdot(\n\u001B[1;32m     10\u001B[0m     C)\n",
      "File \u001B[0;32m<__array_function__ internals>:180\u001B[0m, in \u001B[0;36minv\u001B[0;34m(*args, **kwargs)\u001B[0m\n",
      "File \u001B[0;32m~/projects/NSU/Farich/.venv/lib/python3.8/site-packages/numpy/linalg/linalg.py:552\u001B[0m, in \u001B[0;36minv\u001B[0;34m(a)\u001B[0m\n\u001B[1;32m    550\u001B[0m signature \u001B[38;5;241m=\u001B[39m \u001B[38;5;124m'\u001B[39m\u001B[38;5;124mD->D\u001B[39m\u001B[38;5;124m'\u001B[39m \u001B[38;5;28;01mif\u001B[39;00m isComplexType(t) \u001B[38;5;28;01melse\u001B[39;00m \u001B[38;5;124m'\u001B[39m\u001B[38;5;124md->d\u001B[39m\u001B[38;5;124m'\u001B[39m\n\u001B[1;32m    551\u001B[0m extobj \u001B[38;5;241m=\u001B[39m get_linalg_error_extobj(_raise_linalgerror_singular)\n\u001B[0;32m--> 552\u001B[0m ainv \u001B[38;5;241m=\u001B[39m \u001B[43m_umath_linalg\u001B[49m\u001B[38;5;241;43m.\u001B[39;49m\u001B[43minv\u001B[49m\u001B[43m(\u001B[49m\u001B[43ma\u001B[49m\u001B[43m,\u001B[49m\u001B[43m \u001B[49m\u001B[43msignature\u001B[49m\u001B[38;5;241;43m=\u001B[39;49m\u001B[43msignature\u001B[49m\u001B[43m,\u001B[49m\u001B[43m \u001B[49m\u001B[43mextobj\u001B[49m\u001B[38;5;241;43m=\u001B[39;49m\u001B[43mextobj\u001B[49m\u001B[43m)\u001B[49m\n\u001B[1;32m    553\u001B[0m \u001B[38;5;28;01mreturn\u001B[39;00m wrap(ainv\u001B[38;5;241m.\u001B[39mastype(result_t, copy\u001B[38;5;241m=\u001B[39m\u001B[38;5;28;01mFalse\u001B[39;00m))\n",
      "File \u001B[0;32m~/projects/NSU/Farich/.venv/lib/python3.8/site-packages/numpy/linalg/linalg.py:89\u001B[0m, in \u001B[0;36m_raise_linalgerror_singular\u001B[0;34m(err, flag)\u001B[0m\n\u001B[1;32m     88\u001B[0m \u001B[38;5;28;01mdef\u001B[39;00m \u001B[38;5;21m_raise_linalgerror_singular\u001B[39m(err, flag):\n\u001B[0;32m---> 89\u001B[0m     \u001B[38;5;28;01mraise\u001B[39;00m LinAlgError(\u001B[38;5;124m\"\u001B[39m\u001B[38;5;124mSingular matrix\u001B[39m\u001B[38;5;124m\"\u001B[39m)\n",
      "\u001B[0;31mLinAlgError\u001B[0m: Singular matrix"
     ]
    }
   ],
   "source": [
    "from src.utils.geometry import get_ellipse_from_points\n",
    "centr, params, vectors = get_ellipse_from_points(x, y)"
   ],
   "metadata": {
    "collapsed": false
   }
  },
  {
   "cell_type": "code",
   "execution_count": 10,
   "outputs": [],
   "source": [
    "D = np.column_stack((x ** 2, x * y, y ** 2, x, y))"
   ],
   "metadata": {
    "collapsed": false
   }
  },
  {
   "cell_type": "code",
   "execution_count": 11,
   "outputs": [
    {
     "data": {
      "text/plain": "array([[   0.        ,    0.        ,    0.        ,    0.        ,\n           0.        ],\n       [2095.43668288,    0.        ,    0.        ,   45.77594   ,\n           0.        ],\n       [   0.        ,   -0.        , 3116.67179367,   -0.        ,\n          55.82716   ],\n       [  27.52041108, -226.56108821, 1865.15842875,   -5.24599   ,\n          43.18748   ],\n       [  34.80516217,  409.56558468, 4819.5140522 ,    5.89959   ,\n          69.42272   ]])"
     },
     "execution_count": 11,
     "metadata": {},
     "output_type": "execute_result"
    }
   ],
   "source": [
    "D"
   ],
   "metadata": {
    "collapsed": false
   }
  },
  {
   "cell_type": "code",
   "execution_count": null,
   "outputs": [],
   "source": [],
   "metadata": {
    "collapsed": false
   }
  }
 ],
 "metadata": {
  "kernelspec": {
   "display_name": "Python 3",
   "language": "python",
   "name": "python3"
  },
  "language_info": {
   "codemirror_mode": {
    "name": "ipython",
    "version": 2
   },
   "file_extension": ".py",
   "mimetype": "text/x-python",
   "name": "python",
   "nbconvert_exporter": "python",
   "pygments_lexer": "ipython2",
   "version": "2.7.6"
  }
 },
 "nbformat": 4,
 "nbformat_minor": 0
}
